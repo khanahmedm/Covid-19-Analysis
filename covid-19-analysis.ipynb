{
 "cells": [
  {
   "cell_type": "markdown",
   "id": "4fe764df-035b-421e-b654-f3ed8793282f",
   "metadata": {},
   "source": [
    "# COVID-19 Interactive Analysis Dashboard"
   ]
  },
  {
   "cell_type": "code",
   "execution_count": 2,
   "id": "b3cd6ee0-45a6-4296-9bec-eff524df1919",
   "metadata": {},
   "outputs": [],
   "source": [
    "from __future__ import print_function\n",
    "from ipywidgets import interact, interactive, fixed, interact_manual\n",
    "from IPython.display import display, HTML\n",
    "\n",
    "import numpy as np\n",
    "import pandas as pd\n",
    "import matplotlib.pyplot as plt\n",
    "import plotly.express as px\n",
    "import folium\n",
    "import plotly.graph_objects as go\n",
    "import seaborn as sns\n",
    "import ipywidgets as widgets\n",
    "\n"
   ]
  },
  {
   "cell_type": "code",
   "execution_count": 3,
   "id": "25006897-5bc4-48b1-8917-17f56fd3de59",
   "metadata": {},
   "outputs": [],
   "source": [
    "# loading data right from the source:\n",
    "death_df = pd.read_csv('https://raw.githubusercontent.com/CSSEGISandData/COVID-19/master/csse_covid_19_data/csse_covid_19_time_series/time_series_covid19_deaths_global.csv')\n",
    "confirmed_df = pd.read_csv('https://raw.githubusercontent.com/CSSEGISandData/COVID-19/master/csse_covid_19_data/csse_covid_19_time_series/time_series_covid19_confirmed_global.csv')\n",
    "recovered_df = pd.read_csv('https://raw.githubusercontent.com/CSSEGISandData/COVID-19/master/csse_covid_19_data/csse_covid_19_time_series/time_series_covid19_recovered_global.csv')\n",
    "country_df = pd.read_csv('https://raw.githubusercontent.com/CSSEGISandData/COVID-19/web-data/data/cases_country.csv')"
   ]
  },
  {
   "cell_type": "code",
   "execution_count": 4,
   "id": "5299ead4-cede-48f9-8a92-8cfc0594c4ae",
   "metadata": {},
   "outputs": [],
   "source": [
    "# confirmed_df.head()"
   ]
  },
  {
   "cell_type": "code",
   "execution_count": 5,
   "id": "7a0a3cd0-4d68-492f-819b-799560395381",
   "metadata": {},
   "outputs": [],
   "source": [
    "# recovered_df.head()"
   ]
  },
  {
   "cell_type": "code",
   "execution_count": 6,
   "id": "9ce3bca8-633c-4340-8a69-0e4f92544a18",
   "metadata": {},
   "outputs": [],
   "source": [
    "# death_df.head()"
   ]
  },
  {
   "cell_type": "code",
   "execution_count": 7,
   "id": "291d2b79-c449-479d-ab59-9947a62f3007",
   "metadata": {},
   "outputs": [],
   "source": [
    "# country_df.head()"
   ]
  },
  {
   "cell_type": "code",
   "execution_count": 8,
   "id": "ec7b8eba-209d-4f7c-9f73-bb468fdfb211",
   "metadata": {},
   "outputs": [],
   "source": [
    "# data cleaning\n",
    "\n",
    "# renaming the df column names to lowercase\n",
    "country_df.columns = map(str.lower, country_df.columns)\n",
    "confirmed_df.columns = map(str.lower, confirmed_df.columns)\n",
    "death_df.columns = map(str.lower, death_df.columns)\n",
    "recovered_df.columns = map(str.lower, recovered_df.columns)\n",
    "\n",
    "# changing province/state to state and country/region to country\n",
    "confirmed_df = confirmed_df.rename(columns={'province/state': 'state', 'country/region': 'country'})\n",
    "recovered_df = confirmed_df.rename(columns={'province/state': 'state', 'country/region': 'country'})\n",
    "death_df = death_df.rename(columns={'province/state': 'state', 'country/region': 'country'})\n",
    "country_df = country_df.rename(columns={'country_region': 'country'})\n",
    "# country_df.head()"
   ]
  },
  {
   "cell_type": "code",
   "execution_count": 9,
   "id": "ff8ce7ba-a51c-4a45-b526-ffbad4ab1fd5",
   "metadata": {},
   "outputs": [],
   "source": [
    "# total number of confirmed, death and recovered cases\n",
    "confirmed_total = int(country_df['confirmed'].sum())\n",
    "deaths_total = int(country_df['deaths'].sum())\n",
    "recovered_total = int(country_df['recovered'].sum())\n",
    "active_total = int(country_df['active'].sum())"
   ]
  },
  {
   "cell_type": "code",
   "execution_count": 10,
   "id": "d3092f02-274d-4690-9dde-0c0543a23f1d",
   "metadata": {},
   "outputs": [
    {
     "data": {
      "text/html": [
       "<div style = 'background-color: #504e4e; padding: 30px '><span style='color: #fff; font-size:30px;'> Confirmed: 676609955</span><span style='color: red; font-size:30px;margin-left:20px;'> Deaths: 6881955</span><span style='color: lightgreen; font-size:30px; margin-left:20px;'> Recovered: 0</span></div>"
      ],
      "text/plain": [
       "<IPython.core.display.HTML object>"
      ]
     },
     "metadata": {},
     "output_type": "display_data"
    }
   ],
   "source": [
    "# displaying the total stats\n",
    "\n",
    "display(HTML(\"<div style = 'background-color: #504e4e; padding: 30px '>\" +\n",
    "             \"<span style='color: #fff; font-size:30px;'> Confirmed: \"  + str(confirmed_total) +\"</span>\" +\n",
    "             \"<span style='color: red; font-size:30px;margin-left:20px;'> Deaths: \" + str(deaths_total) + \"</span>\"+\n",
    "             \"<span style='color: lightgreen; font-size:30px; margin-left:20px;'> Recovered: \" + str(recovered_total) + \"</span>\"+\n",
    "             \"</div>\")\n",
    "       )"
   ]
  },
  {
   "cell_type": "markdown",
   "id": "6f2e38e2-840e-4451-a92f-95daa497987b",
   "metadata": {},
   "source": [
    "# COVID-19 Confirmed/Death/Recovered cases by countries\n",
    "\n",
    "## Enter number of countries you want the data for"
   ]
  },
  {
   "cell_type": "code",
   "execution_count": 11,
   "id": "e82f2aed-6535-4d9c-b912-b693337b750a",
   "metadata": {},
   "outputs": [
    {
     "data": {
      "application/vnd.jupyter.widget-view+json": {
       "model_id": "bb7f2f07762c46d3be23ea0eea8a93aa",
       "version_major": 2,
       "version_minor": 0
      },
      "text/plain": [
       "interactive(children=(Text(value='10', description='n'), Output()), _dom_classes=('widget-interact',))"
      ]
     },
     "metadata": {},
     "output_type": "display_data"
    },
    {
     "data": {
      "application/vnd.jupyter.widget-view+json": {
       "model_id": "58a72323ae7d4d3f8d4cbbb9c1b06a9e",
       "version_major": 2,
       "version_minor": 0
      },
      "text/plain": [
       "VBox(children=(FigureWidget({\n",
       "    'data': [], 'layout': {'template': '...'}\n",
       "}),), layout=Layout(border_bottom=…"
      ]
     },
     "execution_count": 11,
     "metadata": {},
     "output_type": "execute_result"
    }
   ],
   "source": [
    "fig = go.FigureWidget( layout=go.Layout() )\n",
    "def highlight_col(x):\n",
    "    r = 'background-color: red'\n",
    "    y = 'background-color: purple'\n",
    "    g = 'background-color: grey'\n",
    "    df1 = pd.DataFrame('', index=x.index, columns=x.columns)\n",
    "    df1.iloc[:, 4] = y\n",
    "    df1.iloc[:, 5] = r\n",
    "    df1.iloc[:, 6] = g\n",
    "    \n",
    "    return df1\n",
    "\n",
    "def show_latest_cases(n):\n",
    "    n = int(n)\n",
    "    return country_df.sort_values('confirmed', ascending= False).head(n).style.apply(highlight_col, axis=None)\n",
    "\n",
    "interact(show_latest_cases, n='10')\n",
    "\n",
    "ipywLayout = widgets.Layout(border='solid 2px green')\n",
    "ipywLayout.display='none' # uncomment this, run cell again - then the graph/figure disappears\n",
    "widgets.VBox([fig], layout=ipywLayout)"
   ]
  },
  {
   "cell_type": "code",
   "execution_count": 12,
   "id": "2be6a405-ae15-4ab7-b997-a596a5b184c8",
   "metadata": {},
   "outputs": [],
   "source": [
    "sorted_country_df = country_df.sort_values('confirmed', ascending= False)"
   ]
  },
  {
   "cell_type": "markdown",
   "id": "41e0f3be-1282-4601-aab1-e69199a73e31",
   "metadata": {},
   "source": [
    "# Slide to check for the worst hit countries"
   ]
  },
  {
   "cell_type": "code",
   "execution_count": 14,
   "id": "5cd02916-5201-473a-ad75-c0ddeaaaafc9",
   "metadata": {},
   "outputs": [
    {
     "data": {
      "application/vnd.jupyter.widget-view+json": {
       "model_id": "732b3965fc5c489e8029e8f026d3bf20",
       "version_major": 2,
       "version_minor": 0
      },
      "text/plain": [
       "interactive(children=(IntSlider(value=10, description='n', max=30, min=-10), Output()), _dom_classes=('widget-…"
      ]
     },
     "metadata": {},
     "output_type": "display_data"
    },
    {
     "data": {
      "application/vnd.jupyter.widget-view+json": {
       "model_id": "e82f0063247342ed9e23838c411f651c",
       "version_major": 2,
       "version_minor": 0
      },
      "text/plain": [
       "VBox(children=(FigureWidget({\n",
       "    'data': [], 'layout': {'autosize': True, 'template': '...'}\n",
       "}),), layout=Lay…"
      ]
     },
     "execution_count": 14,
     "metadata": {},
     "output_type": "execute_result"
    }
   ],
   "source": [
    "# # plotting the 20 worst hit countries\n",
    "\n",
    "def bubble_chart(n):\n",
    "    fig = px.scatter(sorted_country_df.head(n), x=\"country\", y=\"confirmed\", size=\"confirmed\", color=\"country\",\n",
    "               hover_name=\"country\", size_max=60)\n",
    "    fig.update_layout(\n",
    "    title=str(n) +\" Worst hit countries\",\n",
    "    xaxis_title=\"Countries\",\n",
    "    yaxis_title=\"Confirmed Cases\",\n",
    "    width = 700\n",
    "    )\n",
    "    fig.show();\n",
    "\n",
    "interact(bubble_chart, n=10)\n",
    "\n",
    "ipywLayout = widgets.Layout(border='solid 2px green')\n",
    "ipywLayout.display='none'\n",
    "widgets.VBox([fig], layout=ipywLayout)"
   ]
  },
  {
   "cell_type": "code",
   "execution_count": 15,
   "id": "4b2a9ba5-106a-41c5-aae2-3a3e66cc5839",
   "metadata": {},
   "outputs": [],
   "source": [
    "def plot_cases_of_a_country(country):\n",
    "    labels = ['confirmed', 'deaths']\n",
    "    colors = ['blue', 'red']\n",
    "    mode_size = [6, 8]\n",
    "    line_size = [4, 5]\n",
    "    \n",
    "    df_list = [confirmed_df, death_df]\n",
    "    \n",
    "    fig = go.Figure();\n",
    "    \n",
    "    for i, df in enumerate(df_list):\n",
    "        if country == 'World' or country == 'world':\n",
    "            x_data = np.array(list(df.iloc[:, 20:].columns))\n",
    "            y_data = np.sum(np.asarray(df.iloc[:,4:]),axis = 0)\n",
    "            \n",
    "        else:    \n",
    "            x_data = np.array(list(df.iloc[:, 20:].columns))\n",
    "            y_data = np.sum(np.asarray(df[df['country'] == country].iloc[:,20:]),axis = 0)\n",
    "        #print(i)\n",
    "        fig.add_trace(go.Scatter(x=x_data, y=y_data, mode='lines+markers',\n",
    "        name=labels[i],\n",
    "        line=dict(color=colors[i], width=line_size[i]),\n",
    "        connectgaps=True,\n",
    "        text = \"Total \" + str(labels[i]) +\": \"+ str(y_data[-1])\n",
    "        ));\n",
    "    \n",
    "    fig.update_layout(\n",
    "        title=\"COVID 19 cases of \" + country,\n",
    "        xaxis_title='Date',\n",
    "        yaxis_title='No. of Confirmed Cases',\n",
    "        margin=dict(l=20, r=20, t=40, b=20),\n",
    "        paper_bgcolor=\"lightgrey\",\n",
    "        width = 800,\n",
    "        \n",
    "    );\n",
    "    \n",
    "    fig.update_yaxes(type=\"linear\")\n",
    "    \n",
    "    fig.show();"
   ]
  },
  {
   "cell_type": "code",
   "execution_count": 16,
   "id": "c5115f4e-c740-4749-8c0f-5b64e2e2da7c",
   "metadata": {},
   "outputs": [],
   "source": [
    "#plot_cases_of_a_country('US')"
   ]
  },
  {
   "cell_type": "code",
   "execution_count": 18,
   "id": "e8e29917-bc07-4864-92e3-9ce24fb984ae",
   "metadata": {},
   "outputs": [
    {
     "data": {
      "application/vnd.jupyter.widget-view+json": {
       "model_id": "1d35a22a031d4d1a8cdb8549efa36c32",
       "version_major": 2,
       "version_minor": 0
      },
      "text/plain": [
       "interactive(children=(Text(value='World', description='country'), Output()), _dom_classes=('widget-interact',)…"
      ]
     },
     "metadata": {},
     "output_type": "display_data"
    },
    {
     "data": {
      "application/vnd.jupyter.widget-view+json": {
       "model_id": "4a4a15bb5f034151a8753fa213f7a968",
       "version_major": 2,
       "version_minor": 0
      },
      "text/plain": [
       "VBox(children=(FigureWidget({\n",
       "    'data': [], 'layout': {'autosize': True, 'template': '...'}\n",
       "}),), layout=Lay…"
      ]
     },
     "execution_count": 18,
     "metadata": {},
     "output_type": "execute_result"
    }
   ],
   "source": [
    "interact(plot_cases_of_a_country, country='World')\n",
    "\n",
    "ipywLayout = widgets.Layout(border='solid 2px green')\n",
    "ipywLayout.display='none' # uncomment this, run cell again - then the graph/figure disappears\n",
    "widgets.VBox([fig], layout=ipywLayout)"
   ]
  },
  {
   "cell_type": "code",
   "execution_count": 19,
   "id": "2f8d2ca9-ee9e-4c53-a36e-5a6ce6b32e03",
   "metadata": {},
   "outputs": [
    {
     "data": {
      "application/vnd.plotly.v1+json": {
       "config": {
        "plotlyServerURL": "https://plot.ly"
       },
       "data": [
        {
         "alignmentgroup": "True",
         "hovertemplate": "country=%{x}<br>confirmed=%{y}<extra></extra>",
         "legendgroup": "",
         "marker": {
          "color": "pink",
          "pattern": {
           "shape": ""
          }
         },
         "name": "",
         "offsetgroup": "",
         "orientation": "v",
         "showlegend": false,
         "textposition": "auto",
         "type": "bar",
         "x": [
          "US",
          "India",
          "France",
          "Germany",
          "Brazil",
          "Japan",
          "Korea, South",
          "Italy",
          "United Kingdom",
          "Russia"
         ],
         "xaxis": "x",
         "y": [
          103804263,
          44690738,
          39866718,
          38249060,
          37085675,
          33329551,
          30615522,
          25603510,
          24658705,
          22086064
         ],
         "yaxis": "y"
        }
       ],
       "layout": {
        "barmode": "relative",
        "height": 500,
        "legend": {
         "tracegroupgap": 0
        },
        "template": {
         "data": {
          "bar": [
           {
            "error_x": {
             "color": "#2a3f5f"
            },
            "error_y": {
             "color": "#2a3f5f"
            },
            "marker": {
             "line": {
              "color": "#E5ECF6",
              "width": 0.5
             },
             "pattern": {
              "fillmode": "overlay",
              "size": 10,
              "solidity": 0.2
             }
            },
            "type": "bar"
           }
          ],
          "barpolar": [
           {
            "marker": {
             "line": {
              "color": "#E5ECF6",
              "width": 0.5
             },
             "pattern": {
              "fillmode": "overlay",
              "size": 10,
              "solidity": 0.2
             }
            },
            "type": "barpolar"
           }
          ],
          "carpet": [
           {
            "aaxis": {
             "endlinecolor": "#2a3f5f",
             "gridcolor": "white",
             "linecolor": "white",
             "minorgridcolor": "white",
             "startlinecolor": "#2a3f5f"
            },
            "baxis": {
             "endlinecolor": "#2a3f5f",
             "gridcolor": "white",
             "linecolor": "white",
             "minorgridcolor": "white",
             "startlinecolor": "#2a3f5f"
            },
            "type": "carpet"
           }
          ],
          "choropleth": [
           {
            "colorbar": {
             "outlinewidth": 0,
             "ticks": ""
            },
            "type": "choropleth"
           }
          ],
          "contour": [
           {
            "colorbar": {
             "outlinewidth": 0,
             "ticks": ""
            },
            "colorscale": [
             [
              0,
              "#0d0887"
             ],
             [
              0.1111111111111111,
              "#46039f"
             ],
             [
              0.2222222222222222,
              "#7201a8"
             ],
             [
              0.3333333333333333,
              "#9c179e"
             ],
             [
              0.4444444444444444,
              "#bd3786"
             ],
             [
              0.5555555555555556,
              "#d8576b"
             ],
             [
              0.6666666666666666,
              "#ed7953"
             ],
             [
              0.7777777777777778,
              "#fb9f3a"
             ],
             [
              0.8888888888888888,
              "#fdca26"
             ],
             [
              1,
              "#f0f921"
             ]
            ],
            "type": "contour"
           }
          ],
          "contourcarpet": [
           {
            "colorbar": {
             "outlinewidth": 0,
             "ticks": ""
            },
            "type": "contourcarpet"
           }
          ],
          "heatmap": [
           {
            "colorbar": {
             "outlinewidth": 0,
             "ticks": ""
            },
            "colorscale": [
             [
              0,
              "#0d0887"
             ],
             [
              0.1111111111111111,
              "#46039f"
             ],
             [
              0.2222222222222222,
              "#7201a8"
             ],
             [
              0.3333333333333333,
              "#9c179e"
             ],
             [
              0.4444444444444444,
              "#bd3786"
             ],
             [
              0.5555555555555556,
              "#d8576b"
             ],
             [
              0.6666666666666666,
              "#ed7953"
             ],
             [
              0.7777777777777778,
              "#fb9f3a"
             ],
             [
              0.8888888888888888,
              "#fdca26"
             ],
             [
              1,
              "#f0f921"
             ]
            ],
            "type": "heatmap"
           }
          ],
          "heatmapgl": [
           {
            "colorbar": {
             "outlinewidth": 0,
             "ticks": ""
            },
            "colorscale": [
             [
              0,
              "#0d0887"
             ],
             [
              0.1111111111111111,
              "#46039f"
             ],
             [
              0.2222222222222222,
              "#7201a8"
             ],
             [
              0.3333333333333333,
              "#9c179e"
             ],
             [
              0.4444444444444444,
              "#bd3786"
             ],
             [
              0.5555555555555556,
              "#d8576b"
             ],
             [
              0.6666666666666666,
              "#ed7953"
             ],
             [
              0.7777777777777778,
              "#fb9f3a"
             ],
             [
              0.8888888888888888,
              "#fdca26"
             ],
             [
              1,
              "#f0f921"
             ]
            ],
            "type": "heatmapgl"
           }
          ],
          "histogram": [
           {
            "marker": {
             "pattern": {
              "fillmode": "overlay",
              "size": 10,
              "solidity": 0.2
             }
            },
            "type": "histogram"
           }
          ],
          "histogram2d": [
           {
            "colorbar": {
             "outlinewidth": 0,
             "ticks": ""
            },
            "colorscale": [
             [
              0,
              "#0d0887"
             ],
             [
              0.1111111111111111,
              "#46039f"
             ],
             [
              0.2222222222222222,
              "#7201a8"
             ],
             [
              0.3333333333333333,
              "#9c179e"
             ],
             [
              0.4444444444444444,
              "#bd3786"
             ],
             [
              0.5555555555555556,
              "#d8576b"
             ],
             [
              0.6666666666666666,
              "#ed7953"
             ],
             [
              0.7777777777777778,
              "#fb9f3a"
             ],
             [
              0.8888888888888888,
              "#fdca26"
             ],
             [
              1,
              "#f0f921"
             ]
            ],
            "type": "histogram2d"
           }
          ],
          "histogram2dcontour": [
           {
            "colorbar": {
             "outlinewidth": 0,
             "ticks": ""
            },
            "colorscale": [
             [
              0,
              "#0d0887"
             ],
             [
              0.1111111111111111,
              "#46039f"
             ],
             [
              0.2222222222222222,
              "#7201a8"
             ],
             [
              0.3333333333333333,
              "#9c179e"
             ],
             [
              0.4444444444444444,
              "#bd3786"
             ],
             [
              0.5555555555555556,
              "#d8576b"
             ],
             [
              0.6666666666666666,
              "#ed7953"
             ],
             [
              0.7777777777777778,
              "#fb9f3a"
             ],
             [
              0.8888888888888888,
              "#fdca26"
             ],
             [
              1,
              "#f0f921"
             ]
            ],
            "type": "histogram2dcontour"
           }
          ],
          "mesh3d": [
           {
            "colorbar": {
             "outlinewidth": 0,
             "ticks": ""
            },
            "type": "mesh3d"
           }
          ],
          "parcoords": [
           {
            "line": {
             "colorbar": {
              "outlinewidth": 0,
              "ticks": ""
             }
            },
            "type": "parcoords"
           }
          ],
          "pie": [
           {
            "automargin": true,
            "type": "pie"
           }
          ],
          "scatter": [
           {
            "fillpattern": {
             "fillmode": "overlay",
             "size": 10,
             "solidity": 0.2
            },
            "type": "scatter"
           }
          ],
          "scatter3d": [
           {
            "line": {
             "colorbar": {
              "outlinewidth": 0,
              "ticks": ""
             }
            },
            "marker": {
             "colorbar": {
              "outlinewidth": 0,
              "ticks": ""
             }
            },
            "type": "scatter3d"
           }
          ],
          "scattercarpet": [
           {
            "marker": {
             "colorbar": {
              "outlinewidth": 0,
              "ticks": ""
             }
            },
            "type": "scattercarpet"
           }
          ],
          "scattergeo": [
           {
            "marker": {
             "colorbar": {
              "outlinewidth": 0,
              "ticks": ""
             }
            },
            "type": "scattergeo"
           }
          ],
          "scattergl": [
           {
            "marker": {
             "colorbar": {
              "outlinewidth": 0,
              "ticks": ""
             }
            },
            "type": "scattergl"
           }
          ],
          "scattermapbox": [
           {
            "marker": {
             "colorbar": {
              "outlinewidth": 0,
              "ticks": ""
             }
            },
            "type": "scattermapbox"
           }
          ],
          "scatterpolar": [
           {
            "marker": {
             "colorbar": {
              "outlinewidth": 0,
              "ticks": ""
             }
            },
            "type": "scatterpolar"
           }
          ],
          "scatterpolargl": [
           {
            "marker": {
             "colorbar": {
              "outlinewidth": 0,
              "ticks": ""
             }
            },
            "type": "scatterpolargl"
           }
          ],
          "scatterternary": [
           {
            "marker": {
             "colorbar": {
              "outlinewidth": 0,
              "ticks": ""
             }
            },
            "type": "scatterternary"
           }
          ],
          "surface": [
           {
            "colorbar": {
             "outlinewidth": 0,
             "ticks": ""
            },
            "colorscale": [
             [
              0,
              "#0d0887"
             ],
             [
              0.1111111111111111,
              "#46039f"
             ],
             [
              0.2222222222222222,
              "#7201a8"
             ],
             [
              0.3333333333333333,
              "#9c179e"
             ],
             [
              0.4444444444444444,
              "#bd3786"
             ],
             [
              0.5555555555555556,
              "#d8576b"
             ],
             [
              0.6666666666666666,
              "#ed7953"
             ],
             [
              0.7777777777777778,
              "#fb9f3a"
             ],
             [
              0.8888888888888888,
              "#fdca26"
             ],
             [
              1,
              "#f0f921"
             ]
            ],
            "type": "surface"
           }
          ],
          "table": [
           {
            "cells": {
             "fill": {
              "color": "#EBF0F8"
             },
             "line": {
              "color": "white"
             }
            },
            "header": {
             "fill": {
              "color": "#C8D4E3"
             },
             "line": {
              "color": "white"
             }
            },
            "type": "table"
           }
          ]
         },
         "layout": {
          "annotationdefaults": {
           "arrowcolor": "#2a3f5f",
           "arrowhead": 0,
           "arrowwidth": 1
          },
          "autotypenumbers": "strict",
          "coloraxis": {
           "colorbar": {
            "outlinewidth": 0,
            "ticks": ""
           }
          },
          "colorscale": {
           "diverging": [
            [
             0,
             "#8e0152"
            ],
            [
             0.1,
             "#c51b7d"
            ],
            [
             0.2,
             "#de77ae"
            ],
            [
             0.3,
             "#f1b6da"
            ],
            [
             0.4,
             "#fde0ef"
            ],
            [
             0.5,
             "#f7f7f7"
            ],
            [
             0.6,
             "#e6f5d0"
            ],
            [
             0.7,
             "#b8e186"
            ],
            [
             0.8,
             "#7fbc41"
            ],
            [
             0.9,
             "#4d9221"
            ],
            [
             1,
             "#276419"
            ]
           ],
           "sequential": [
            [
             0,
             "#0d0887"
            ],
            [
             0.1111111111111111,
             "#46039f"
            ],
            [
             0.2222222222222222,
             "#7201a8"
            ],
            [
             0.3333333333333333,
             "#9c179e"
            ],
            [
             0.4444444444444444,
             "#bd3786"
            ],
            [
             0.5555555555555556,
             "#d8576b"
            ],
            [
             0.6666666666666666,
             "#ed7953"
            ],
            [
             0.7777777777777778,
             "#fb9f3a"
            ],
            [
             0.8888888888888888,
             "#fdca26"
            ],
            [
             1,
             "#f0f921"
            ]
           ],
           "sequentialminus": [
            [
             0,
             "#0d0887"
            ],
            [
             0.1111111111111111,
             "#46039f"
            ],
            [
             0.2222222222222222,
             "#7201a8"
            ],
            [
             0.3333333333333333,
             "#9c179e"
            ],
            [
             0.4444444444444444,
             "#bd3786"
            ],
            [
             0.5555555555555556,
             "#d8576b"
            ],
            [
             0.6666666666666666,
             "#ed7953"
            ],
            [
             0.7777777777777778,
             "#fb9f3a"
            ],
            [
             0.8888888888888888,
             "#fdca26"
            ],
            [
             1,
             "#f0f921"
            ]
           ]
          },
          "colorway": [
           "#636efa",
           "#EF553B",
           "#00cc96",
           "#ab63fa",
           "#FFA15A",
           "#19d3f3",
           "#FF6692",
           "#B6E880",
           "#FF97FF",
           "#FECB52"
          ],
          "font": {
           "color": "#2a3f5f"
          },
          "geo": {
           "bgcolor": "white",
           "lakecolor": "white",
           "landcolor": "#E5ECF6",
           "showlakes": true,
           "showland": true,
           "subunitcolor": "white"
          },
          "hoverlabel": {
           "align": "left"
          },
          "hovermode": "closest",
          "mapbox": {
           "style": "light"
          },
          "paper_bgcolor": "white",
          "plot_bgcolor": "#E5ECF6",
          "polar": {
           "angularaxis": {
            "gridcolor": "white",
            "linecolor": "white",
            "ticks": ""
           },
           "bgcolor": "#E5ECF6",
           "radialaxis": {
            "gridcolor": "white",
            "linecolor": "white",
            "ticks": ""
           }
          },
          "scene": {
           "xaxis": {
            "backgroundcolor": "#E5ECF6",
            "gridcolor": "white",
            "gridwidth": 2,
            "linecolor": "white",
            "showbackground": true,
            "ticks": "",
            "zerolinecolor": "white"
           },
           "yaxis": {
            "backgroundcolor": "#E5ECF6",
            "gridcolor": "white",
            "gridwidth": 2,
            "linecolor": "white",
            "showbackground": true,
            "ticks": "",
            "zerolinecolor": "white"
           },
           "zaxis": {
            "backgroundcolor": "#E5ECF6",
            "gridcolor": "white",
            "gridwidth": 2,
            "linecolor": "white",
            "showbackground": true,
            "ticks": "",
            "zerolinecolor": "white"
           }
          },
          "shapedefaults": {
           "line": {
            "color": "#2a3f5f"
           }
          },
          "ternary": {
           "aaxis": {
            "gridcolor": "white",
            "linecolor": "white",
            "ticks": ""
           },
           "baxis": {
            "gridcolor": "white",
            "linecolor": "white",
            "ticks": ""
           },
           "bgcolor": "#E5ECF6",
           "caxis": {
            "gridcolor": "white",
            "linecolor": "white",
            "ticks": ""
           }
          },
          "title": {
           "x": 0.05
          },
          "xaxis": {
           "automargin": true,
           "gridcolor": "white",
           "linecolor": "white",
           "ticks": "",
           "title": {
            "standoff": 15
           },
           "zerolinecolor": "white",
           "zerolinewidth": 2
          },
          "yaxis": {
           "automargin": true,
           "gridcolor": "white",
           "linecolor": "white",
           "ticks": "",
           "title": {
            "standoff": 15
           },
           "zerolinecolor": "white",
           "zerolinewidth": 2
          }
         }
        },
        "title": {
         "text": "Top 10 worst affected countries"
        },
        "width": 800,
        "xaxis": {
         "anchor": "y",
         "autorange": true,
         "domain": [
          0,
          1
         ],
         "range": [
          -0.5,
          9.5
         ],
         "title": {
          "text": "country"
         },
         "type": "category"
        },
        "yaxis": {
         "anchor": "x",
         "autorange": true,
         "domain": [
          0,
          1
         ],
         "range": [
          0,
          109267645.26315789
         ],
         "title": {
          "text": "confirmed"
         },
         "type": "linear"
        }
       }
      },
      "image/png": "[encoded data removed]",
      "text/html": [
       "<div>                            <div id=\"96f5a466-0c7b-4b7a-b91d-76faf01cf733\" class=\"plotly-graph-div\" style=\"height:500px; width:800px;\"></div>            <script type=\"text/javascript\">                require([\"plotly\"], function(Plotly) {                    window.PLOTLYENV=window.PLOTLYENV || {};                                    if (document.getElementById(\"96f5a466-0c7b-4b7a-b91d-76faf01cf733\")) {                    Plotly.newPlot(                        \"96f5a466-0c7b-4b7a-b91d-76faf01cf733\",                        [{\"alignmentgroup\":\"True\",\"hovertemplate\":\"country=%{x}\\u003cbr\\u003econfirmed=%{y}\\u003cextra\\u003e\\u003c\\u002fextra\\u003e\",\"legendgroup\":\"\",\"marker\":{\"color\":\"pink\",\"pattern\":{\"shape\":\"\"}},\"name\":\"\",\"offsetgroup\":\"\",\"orientation\":\"v\",\"showlegend\":false,\"textposition\":\"auto\",\"x\":[\"US\",\"India\",\"France\",\"Germany\",\"Brazil\",\"Japan\",\"Korea, South\",\"Italy\",\"United Kingdom\",\"Russia\"],\"xaxis\":\"x\",\"y\":[103804263,44690738,39866718,38249060,37085675,33329551,30615522,25603510,24658705,22086064],\"yaxis\":\"y\",\"type\":\"bar\"}],                        {\"template\":{\"data\":{\"histogram2dcontour\":[{\"type\":\"histogram2dcontour\",\"colorbar\":{\"outlinewidth\":0,\"ticks\":\"\"},\"colorscale\":[[0.0,\"#0d0887\"],[0.1111111111111111,\"#46039f\"],[0.2222222222222222,\"#7201a8\"],[0.3333333333333333,\"#9c179e\"],[0.4444444444444444,\"#bd3786\"],[0.5555555555555556,\"#d8576b\"],[0.6666666666666666,\"#ed7953\"],[0.7777777777777778,\"#fb9f3a\"],[0.8888888888888888,\"#fdca26\"],[1.0,\"#f0f921\"]]}],\"choropleth\":[{\"type\":\"choropleth\",\"colorbar\":{\"outlinewidth\":0,\"ticks\":\"\"}}],\"histogram2d\":[{\"type\":\"histogram2d\",\"colorbar\":{\"outlinewidth\":0,\"ticks\":\"\"},\"colorscale\":[[0.0,\"#0d0887\"],[0.1111111111111111,\"#46039f\"],[0.2222222222222222,\"#7201a8\"],[0.3333333333333333,\"#9c179e\"],[0.4444444444444444,\"#bd3786\"],[0.5555555555555556,\"#d8576b\"],[0.6666666666666666,\"#ed7953\"],[0.7777777777777778,\"#fb9f3a\"],[0.8888888888888888,\"#fdca26\"],[1.0,\"#f0f921\"]]}],\"heatmap\":[{\"type\":\"heatmap\",\"colorbar\":{\"outlinewidth\":0,\"ticks\":\"\"},\"colorscale\":[[0.0,\"#0d0887\"],[0.1111111111111111,\"#46039f\"],[0.2222222222222222,\"#7201a8\"],[0.3333333333333333,\"#9c179e\"],[0.4444444444444444,\"#bd3786\"],[0.5555555555555556,\"#d8576b\"],[0.6666666666666666,\"#ed7953\"],[0.7777777777777778,\"#fb9f3a\"],[0.8888888888888888,\"#fdca26\"],[1.0,\"#f0f921\"]]}],\"heatmapgl\":[{\"type\":\"heatmapgl\",\"colorbar\":{\"outlinewidth\":0,\"ticks\":\"\"},\"colorscale\":[[0.0,\"#0d0887\"],[0.1111111111111111,\"#46039f\"],[0.2222222222222222,\"#7201a8\"],[0.3333333333333333,\"#9c179e\"],[0.4444444444444444,\"#bd3786\"],[0.5555555555555556,\"#d8576b\"],[0.6666666666666666,\"#ed7953\"],[0.7777777777777778,\"#fb9f3a\"],[0.8888888888888888,\"#fdca26\"],[1.0,\"#f0f921\"]]}],\"contourcarpet\":[{\"type\":\"contourcarpet\",\"colorbar\":{\"outlinewidth\":0,\"ticks\":\"\"}}],\"contour\":[{\"type\":\"contour\",\"colorbar\":{\"outlinewidth\":0,\"ticks\":\"\"},\"colorscale\":[[0.0,\"#0d0887\"],[0.1111111111111111,\"#46039f\"],[0.2222222222222222,\"#7201a8\"],[0.3333333333333333,\"#9c179e\"],[0.4444444444444444,\"#bd3786\"],[0.5555555555555556,\"#d8576b\"],[0.6666666666666666,\"#ed7953\"],[0.7777777777777778,\"#fb9f3a\"],[0.8888888888888888,\"#fdca26\"],[1.0,\"#f0f921\"]]}],\"surface\":[{\"type\":\"surface\",\"colorbar\":{\"outlinewidth\":0,\"ticks\":\"\"},\"colorscale\":[[0.0,\"#0d0887\"],[0.1111111111111111,\"#46039f\"],[0.2222222222222222,\"#7201a8\"],[0.3333333333333333,\"#9c179e\"],[0.4444444444444444,\"#bd3786\"],[0.5555555555555556,\"#d8576b\"],[0.6666666666666666,\"#ed7953\"],[0.7777777777777778,\"#fb9f3a\"],[0.8888888888888888,\"#fdca26\"],[1.0,\"#f0f921\"]]}],\"mesh3d\":[{\"type\":\"mesh3d\",\"colorbar\":{\"outlinewidth\":0,\"ticks\":\"\"}}],\"scatter\":[{\"fillpattern\":{\"fillmode\":\"overlay\",\"size\":10,\"solidity\":0.2},\"type\":\"scatter\"}],\"parcoords\":[{\"type\":\"parcoords\",\"line\":{\"colorbar\":{\"outlinewidth\":0,\"ticks\":\"\"}}}],\"scatterpolargl\":[{\"type\":\"scatterpolargl\",\"marker\":{\"colorbar\":{\"outlinewidth\":0,\"ticks\":\"\"}}}],\"bar\":[{\"error_x\":{\"color\":\"#2a3f5f\"},\"error_y\":{\"color\":\"#2a3f5f\"},\"marker\":{\"line\":{\"color\":\"#E5ECF6\",\"width\":0.5},\"pattern\":{\"fillmode\":\"overlay\",\"size\":10,\"solidity\":0.2}},\"type\":\"bar\"}],\"scattergeo\":[{\"type\":\"scattergeo\",\"marker\":{\"colorbar\":{\"outlinewidth\":0,\"ticks\":\"\"}}}],\"scatterpolar\":[{\"type\":\"scatterpolar\",\"marker\":{\"colorbar\":{\"outlinewidth\":0,\"ticks\":\"\"}}}],\"histogram\":[{\"marker\":{\"pattern\":{\"fillmode\":\"overlay\",\"size\":10,\"solidity\":0.2}},\"type\":\"histogram\"}],\"scattergl\":[{\"type\":\"scattergl\",\"marker\":{\"colorbar\":{\"outlinewidth\":0,\"ticks\":\"\"}}}],\"scatter3d\":[{\"type\":\"scatter3d\",\"line\":{\"colorbar\":{\"outlinewidth\":0,\"ticks\":\"\"}},\"marker\":{\"colorbar\":{\"outlinewidth\":0,\"ticks\":\"\"}}}],\"scattermapbox\":[{\"type\":\"scattermapbox\",\"marker\":{\"colorbar\":{\"outlinewidth\":0,\"ticks\":\"\"}}}],\"scatterternary\":[{\"type\":\"scatterternary\",\"marker\":{\"colorbar\":{\"outlinewidth\":0,\"ticks\":\"\"}}}],\"scattercarpet\":[{\"type\":\"scattercarpet\",\"marker\":{\"colorbar\":{\"outlinewidth\":0,\"ticks\":\"\"}}}],\"carpet\":[{\"aaxis\":{\"endlinecolor\":\"#2a3f5f\",\"gridcolor\":\"white\",\"linecolor\":\"white\",\"minorgridcolor\":\"white\",\"startlinecolor\":\"#2a3f5f\"},\"baxis\":{\"endlinecolor\":\"#2a3f5f\",\"gridcolor\":\"white\",\"linecolor\":\"white\",\"minorgridcolor\":\"white\",\"startlinecolor\":\"#2a3f5f\"},\"type\":\"carpet\"}],\"table\":[{\"cells\":{\"fill\":{\"color\":\"#EBF0F8\"},\"line\":{\"color\":\"white\"}},\"header\":{\"fill\":{\"color\":\"#C8D4E3\"},\"line\":{\"color\":\"white\"}},\"type\":\"table\"}],\"barpolar\":[{\"marker\":{\"line\":{\"color\":\"#E5ECF6\",\"width\":0.5},\"pattern\":{\"fillmode\":\"overlay\",\"size\":10,\"solidity\":0.2}},\"type\":\"barpolar\"}],\"pie\":[{\"automargin\":true,\"type\":\"pie\"}]},\"layout\":{\"autotypenumbers\":\"strict\",\"colorway\":[\"#636efa\",\"#EF553B\",\"#00cc96\",\"#ab63fa\",\"#FFA15A\",\"#19d3f3\",\"#FF6692\",\"#B6E880\",\"#FF97FF\",\"#FECB52\"],\"font\":{\"color\":\"#2a3f5f\"},\"hovermode\":\"closest\",\"hoverlabel\":{\"align\":\"left\"},\"paper_bgcolor\":\"white\",\"plot_bgcolor\":\"#E5ECF6\",\"polar\":{\"bgcolor\":\"#E5ECF6\",\"angularaxis\":{\"gridcolor\":\"white\",\"linecolor\":\"white\",\"ticks\":\"\"},\"radialaxis\":{\"gridcolor\":\"white\",\"linecolor\":\"white\",\"ticks\":\"\"}},\"ternary\":{\"bgcolor\":\"#E5ECF6\",\"aaxis\":{\"gridcolor\":\"white\",\"linecolor\":\"white\",\"ticks\":\"\"},\"baxis\":{\"gridcolor\":\"white\",\"linecolor\":\"white\",\"ticks\":\"\"},\"caxis\":{\"gridcolor\":\"white\",\"linecolor\":\"white\",\"ticks\":\"\"}},\"coloraxis\":{\"colorbar\":{\"outlinewidth\":0,\"ticks\":\"\"}},\"colorscale\":{\"sequential\":[[0.0,\"#0d0887\"],[0.1111111111111111,\"#46039f\"],[0.2222222222222222,\"#7201a8\"],[0.3333333333333333,\"#9c179e\"],[0.4444444444444444,\"#bd3786\"],[0.5555555555555556,\"#d8576b\"],[0.6666666666666666,\"#ed7953\"],[0.7777777777777778,\"#fb9f3a\"],[0.8888888888888888,\"#fdca26\"],[1.0,\"#f0f921\"]],\"sequentialminus\":[[0.0,\"#0d0887\"],[0.1111111111111111,\"#46039f\"],[0.2222222222222222,\"#7201a8\"],[0.3333333333333333,\"#9c179e\"],[0.4444444444444444,\"#bd3786\"],[0.5555555555555556,\"#d8576b\"],[0.6666666666666666,\"#ed7953\"],[0.7777777777777778,\"#fb9f3a\"],[0.8888888888888888,\"#fdca26\"],[1.0,\"#f0f921\"]],\"diverging\":[[0,\"#8e0152\"],[0.1,\"#c51b7d\"],[0.2,\"#de77ae\"],[0.3,\"#f1b6da\"],[0.4,\"#fde0ef\"],[0.5,\"#f7f7f7\"],[0.6,\"#e6f5d0\"],[0.7,\"#b8e186\"],[0.8,\"#7fbc41\"],[0.9,\"#4d9221\"],[1,\"#276419\"]]},\"xaxis\":{\"gridcolor\":\"white\",\"linecolor\":\"white\",\"ticks\":\"\",\"title\":{\"standoff\":15},\"zerolinecolor\":\"white\",\"automargin\":true,\"zerolinewidth\":2},\"yaxis\":{\"gridcolor\":\"white\",\"linecolor\":\"white\",\"ticks\":\"\",\"title\":{\"standoff\":15},\"zerolinecolor\":\"white\",\"automargin\":true,\"zerolinewidth\":2},\"scene\":{\"xaxis\":{\"backgroundcolor\":\"#E5ECF6\",\"gridcolor\":\"white\",\"linecolor\":\"white\",\"showbackground\":true,\"ticks\":\"\",\"zerolinecolor\":\"white\",\"gridwidth\":2},\"yaxis\":{\"backgroundcolor\":\"#E5ECF6\",\"gridcolor\":\"white\",\"linecolor\":\"white\",\"showbackground\":true,\"ticks\":\"\",\"zerolinecolor\":\"white\",\"gridwidth\":2},\"zaxis\":{\"backgroundcolor\":\"#E5ECF6\",\"gridcolor\":\"white\",\"linecolor\":\"white\",\"showbackground\":true,\"ticks\":\"\",\"zerolinecolor\":\"white\",\"gridwidth\":2}},\"shapedefaults\":{\"line\":{\"color\":\"#2a3f5f\"}},\"annotationdefaults\":{\"arrowcolor\":\"#2a3f5f\",\"arrowhead\":0,\"arrowwidth\":1},\"geo\":{\"bgcolor\":\"white\",\"landcolor\":\"#E5ECF6\",\"subunitcolor\":\"white\",\"showland\":true,\"showlakes\":true,\"lakecolor\":\"white\"},\"title\":{\"x\":0.05},\"mapbox\":{\"style\":\"light\"}}},\"xaxis\":{\"anchor\":\"y\",\"domain\":[0.0,1.0],\"title\":{\"text\":\"country\"}},\"yaxis\":{\"anchor\":\"x\",\"domain\":[0.0,1.0],\"title\":{\"text\":\"confirmed\"}},\"legend\":{\"tracegroupgap\":0},\"title\":{\"text\":\"Top 10 worst affected countries\"},\"barmode\":\"relative\",\"height\":500,\"width\":800},                        {\"responsive\": true}                    ).then(function(){\n",
       "                            \n",
       "var gd = document.getElementById('96f5a466-0c7b-4b7a-b91d-76faf01cf733');\n",
       "var x = new MutationObserver(function (mutations, observer) {{\n",
       "        var display = window.getComputedStyle(gd).display;\n",
       "        if (!display || display === 'none') {{\n",
       "            console.log([gd, 'removed!']);\n",
       "            Plotly.purge(gd);\n",
       "            observer.disconnect();\n",
       "        }}\n",
       "}});\n",
       "\n",
       "// Listen for the removal of the full notebook cells\n",
       "var notebookContainer = gd.closest('#notebook-container');\n",
       "if (notebookContainer) {{\n",
       "    x.observe(notebookContainer, {childList: true});\n",
       "}}\n",
       "\n",
       "// Listen for the clearing of the current output cell\n",
       "var outputEl = gd.closest('.output');\n",
       "if (outputEl) {{\n",
       "    x.observe(outputEl, {childList: true});\n",
       "}}\n",
       "\n",
       "                        })                };                });            </script>        </div>"
      ]
     },
     "metadata": {},
     "output_type": "display_data"
    }
   ],
   "source": [
    "px.bar(\n",
    "    sorted_country_df.head(10),\n",
    "    x = \"country\",\n",
    "    y = \"confirmed\",\n",
    "    title= \"Top 10 worst affected countries\", # the axis names\n",
    "    color_discrete_sequence=[\"pink\"], \n",
    "    height=500,\n",
    "    width=800\n",
    ")"
   ]
  },
  {
   "cell_type": "code",
   "execution_count": 20,
   "id": "cd196a05-5836-4f58-b1bb-8e4117427ebd",
   "metadata": {},
   "outputs": [
    {
     "data": {
      "application/vnd.plotly.v1+json": {
       "config": {
        "plotlyServerURL": "https://plot.ly"
       },
       "data": [
        {
         "alignmentgroup": "True",
         "hovertemplate": "country=%{x}<br>deaths=%{y}<extra></extra>",
         "legendgroup": "",
         "marker": {
          "color": "pink",
          "pattern": {
           "shape": ""
          }
         },
         "name": "",
         "offsetgroup": "",
         "orientation": "v",
         "showlegend": false,
         "textposition": "auto",
         "type": "bar",
         "x": [
          "US",
          "India",
          "France",
          "Germany",
          "Brazil",
          "Japan",
          "Korea, South",
          "Italy",
          "United Kingdom",
          "Russia"
         ],
         "xaxis": "x",
         "y": [
          1123836,
          530779,
          166176,
          168935,
          699310,
          73046,
          34093,
          188322,
          220721,
          388521
         ],
         "yaxis": "y"
        }
       ],
       "layout": {
        "barmode": "relative",
        "height": 500,
        "legend": {
         "tracegroupgap": 0
        },
        "template": {
         "data": {
          "bar": [
           {
            "error_x": {
             "color": "#2a3f5f"
            },
            "error_y": {
             "color": "#2a3f5f"
            },
            "marker": {
             "line": {
              "color": "#E5ECF6",
              "width": 0.5
             },
             "pattern": {
              "fillmode": "overlay",
              "size": 10,
              "solidity": 0.2
             }
            },
            "type": "bar"
           }
          ],
          "barpolar": [
           {
            "marker": {
             "line": {
              "color": "#E5ECF6",
              "width": 0.5
             },
             "pattern": {
              "fillmode": "overlay",
              "size": 10,
              "solidity": 0.2
             }
            },
            "type": "barpolar"
           }
          ],
          "carpet": [
           {
            "aaxis": {
             "endlinecolor": "#2a3f5f",
             "gridcolor": "white",
             "linecolor": "white",
             "minorgridcolor": "white",
             "startlinecolor": "#2a3f5f"
            },
            "baxis": {
             "endlinecolor": "#2a3f5f",
             "gridcolor": "white",
             "linecolor": "white",
             "minorgridcolor": "white",
             "startlinecolor": "#2a3f5f"
            },
            "type": "carpet"
           }
          ],
          "choropleth": [
           {
            "colorbar": {
             "outlinewidth": 0,
             "ticks": ""
            },
            "type": "choropleth"
           }
          ],
          "contour": [
           {
            "colorbar": {
             "outlinewidth": 0,
             "ticks": ""
            },
            "colorscale": [
             [
              0,
              "#0d0887"
             ],
             [
              0.1111111111111111,
              "#46039f"
             ],
             [
              0.2222222222222222,
              "#7201a8"
             ],
             [
              0.3333333333333333,
              "#9c179e"
             ],
             [
              0.4444444444444444,
              "#bd3786"
             ],
             [
              0.5555555555555556,
              "#d8576b"
             ],
             [
              0.6666666666666666,
              "#ed7953"
             ],
             [
              0.7777777777777778,
              "#fb9f3a"
             ],
             [
              0.8888888888888888,
              "#fdca26"
             ],
             [
              1,
              "#f0f921"
             ]
            ],
            "type": "contour"
           }
          ],
          "contourcarpet": [
           {
            "colorbar": {
             "outlinewidth": 0,
             "ticks": ""
            },
            "type": "contourcarpet"
           }
          ],
          "heatmap": [
           {
            "colorbar": {
             "outlinewidth": 0,
             "ticks": ""
            },
            "colorscale": [
             [
              0,
              "#0d0887"
             ],
             [
              0.1111111111111111,
              "#46039f"
             ],
             [
              0.2222222222222222,
              "#7201a8"
             ],
             [
              0.3333333333333333,
              "#9c179e"
             ],
             [
              0.4444444444444444,
              "#bd3786"
             ],
             [
              0.5555555555555556,
              "#d8576b"
             ],
             [
              0.6666666666666666,
              "#ed7953"
             ],
             [
              0.7777777777777778,
              "#fb9f3a"
             ],
             [
              0.8888888888888888,
              "#fdca26"
             ],
             [
              1,
              "#f0f921"
             ]
            ],
            "type": "heatmap"
           }
          ],
          "heatmapgl": [
           {
            "colorbar": {
             "outlinewidth": 0,
             "ticks": ""
            },
            "colorscale": [
             [
              0,
              "#0d0887"
             ],
             [
              0.1111111111111111,
              "#46039f"
             ],
             [
              0.2222222222222222,
              "#7201a8"
             ],
             [
              0.3333333333333333,
              "#9c179e"
             ],
             [
              0.4444444444444444,
              "#bd3786"
             ],
             [
              0.5555555555555556,
              "#d8576b"
             ],
             [
              0.6666666666666666,
              "#ed7953"
             ],
             [
              0.7777777777777778,
              "#fb9f3a"
             ],
             [
              0.8888888888888888,
              "#fdca26"
             ],
             [
              1,
              "#f0f921"
             ]
            ],
            "type": "heatmapgl"
           }
          ],
          "histogram": [
           {
            "marker": {
             "pattern": {
              "fillmode": "overlay",
              "size": 10,
              "solidity": 0.2
             }
            },
            "type": "histogram"
           }
          ],
          "histogram2d": [
           {
            "colorbar": {
             "outlinewidth": 0,
             "ticks": ""
            },
            "colorscale": [
             [
              0,
              "#0d0887"
             ],
             [
              0.1111111111111111,
              "#46039f"
             ],
             [
              0.2222222222222222,
              "#7201a8"
             ],
             [
              0.3333333333333333,
              "#9c179e"
             ],
             [
              0.4444444444444444,
              "#bd3786"
             ],
             [
              0.5555555555555556,
              "#d8576b"
             ],
             [
              0.6666666666666666,
              "#ed7953"
             ],
             [
              0.7777777777777778,
              "#fb9f3a"
             ],
             [
              0.8888888888888888,
              "#fdca26"
             ],
             [
              1,
              "#f0f921"
             ]
            ],
            "type": "histogram2d"
           }
          ],
          "histogram2dcontour": [
           {
            "colorbar": {
             "outlinewidth": 0,
             "ticks": ""
            },
            "colorscale": [
             [
              0,
              "#0d0887"
             ],
             [
              0.1111111111111111,
              "#46039f"
             ],
             [
              0.2222222222222222,
              "#7201a8"
             ],
             [
              0.3333333333333333,
              "#9c179e"
             ],
             [
              0.4444444444444444,
              "#bd3786"
             ],
             [
              0.5555555555555556,
              "#d8576b"
             ],
             [
              0.6666666666666666,
              "#ed7953"
             ],
             [
              0.7777777777777778,
              "#fb9f3a"
             ],
             [
              0.8888888888888888,
              "#fdca26"
             ],
             [
              1,
              "#f0f921"
             ]
            ],
            "type": "histogram2dcontour"
           }
          ],
          "mesh3d": [
           {
            "colorbar": {
             "outlinewidth": 0,
             "ticks": ""
            },
            "type": "mesh3d"
           }
          ],
          "parcoords": [
           {
            "line": {
             "colorbar": {
              "outlinewidth": 0,
              "ticks": ""
             }
            },
            "type": "parcoords"
           }
          ],
          "pie": [
           {
            "automargin": true,
            "type": "pie"
           }
          ],
          "scatter": [
           {
            "fillpattern": {
             "fillmode": "overlay",
             "size": 10,
             "solidity": 0.2
            },
            "type": "scatter"
           }
          ],
          "scatter3d": [
           {
            "line": {
             "colorbar": {
              "outlinewidth": 0,
              "ticks": ""
             }
            },
            "marker": {
             "colorbar": {
              "outlinewidth": 0,
              "ticks": ""
             }
            },
            "type": "scatter3d"
           }
          ],
          "scattercarpet": [
           {
            "marker": {
             "colorbar": {
              "outlinewidth": 0,
              "ticks": ""
             }
            },
            "type": "scattercarpet"
           }
          ],
          "scattergeo": [
           {
            "marker": {
             "colorbar": {
              "outlinewidth": 0,
              "ticks": ""
             }
            },
            "type": "scattergeo"
           }
          ],
          "scattergl": [
           {
            "marker": {
             "colorbar": {
              "outlinewidth": 0,
              "ticks": ""
             }
            },
            "type": "scattergl"
           }
          ],
          "scattermapbox": [
           {
            "marker": {
             "colorbar": {
              "outlinewidth": 0,
              "ticks": ""
             }
            },
            "type": "scattermapbox"
           }
          ],
          "scatterpolar": [
           {
            "marker": {
             "colorbar": {
              "outlinewidth": 0,
              "ticks": ""
             }
            },
            "type": "scatterpolar"
           }
          ],
          "scatterpolargl": [
           {
            "marker": {
             "colorbar": {
              "outlinewidth": 0,
              "ticks": ""
             }
            },
            "type": "scatterpolargl"
           }
          ],
          "scatterternary": [
           {
            "marker": {
             "colorbar": {
              "outlinewidth": 0,
              "ticks": ""
             }
            },
            "type": "scatterternary"
           }
          ],
          "surface": [
           {
            "colorbar": {
             "outlinewidth": 0,
             "ticks": ""
            },
            "colorscale": [
             [
              0,
              "#0d0887"
             ],
             [
              0.1111111111111111,
              "#46039f"
             ],
             [
              0.2222222222222222,
              "#7201a8"
             ],
             [
              0.3333333333333333,
              "#9c179e"
             ],
             [
              0.4444444444444444,
              "#bd3786"
             ],
             [
              0.5555555555555556,
              "#d8576b"
             ],
             [
              0.6666666666666666,
              "#ed7953"
             ],
             [
              0.7777777777777778,
              "#fb9f3a"
             ],
             [
              0.8888888888888888,
              "#fdca26"
             ],
             [
              1,
              "#f0f921"
             ]
            ],
            "type": "surface"
           }
          ],
          "table": [
           {
            "cells": {
             "fill": {
              "color": "#EBF0F8"
             },
             "line": {
              "color": "white"
             }
            },
            "header": {
             "fill": {
              "color": "#C8D4E3"
             },
             "line": {
              "color": "white"
             }
            },
            "type": "table"
           }
          ]
         },
         "layout": {
          "annotationdefaults": {
           "arrowcolor": "#2a3f5f",
           "arrowhead": 0,
           "arrowwidth": 1
          },
          "autotypenumbers": "strict",
          "coloraxis": {
           "colorbar": {
            "outlinewidth": 0,
            "ticks": ""
           }
          },
          "colorscale": {
           "diverging": [
            [
             0,
             "#8e0152"
            ],
            [
             0.1,
             "#c51b7d"
            ],
            [
             0.2,
             "#de77ae"
            ],
            [
             0.3,
             "#f1b6da"
            ],
            [
             0.4,
             "#fde0ef"
            ],
            [
             0.5,
             "#f7f7f7"
            ],
            [
             0.6,
             "#e6f5d0"
            ],
            [
             0.7,
             "#b8e186"
            ],
            [
             0.8,
             "#7fbc41"
            ],
            [
             0.9,
             "#4d9221"
            ],
            [
             1,
             "#276419"
            ]
           ],
           "sequential": [
            [
             0,
             "#0d0887"
            ],
            [
             0.1111111111111111,
             "#46039f"
            ],
            [
             0.2222222222222222,
             "#7201a8"
            ],
            [
             0.3333333333333333,
             "#9c179e"
            ],
            [
             0.4444444444444444,
             "#bd3786"
            ],
            [
             0.5555555555555556,
             "#d8576b"
            ],
            [
             0.6666666666666666,
             "#ed7953"
            ],
            [
             0.7777777777777778,
             "#fb9f3a"
            ],
            [
             0.8888888888888888,
             "#fdca26"
            ],
            [
             1,
             "#f0f921"
            ]
           ],
           "sequentialminus": [
            [
             0,
             "#0d0887"
            ],
            [
             0.1111111111111111,
             "#46039f"
            ],
            [
             0.2222222222222222,
             "#7201a8"
            ],
            [
             0.3333333333333333,
             "#9c179e"
            ],
            [
             0.4444444444444444,
             "#bd3786"
            ],
            [
             0.5555555555555556,
             "#d8576b"
            ],
            [
             0.6666666666666666,
             "#ed7953"
            ],
            [
             0.7777777777777778,
             "#fb9f3a"
            ],
            [
             0.8888888888888888,
             "#fdca26"
            ],
            [
             1,
             "#f0f921"
            ]
           ]
          },
          "colorway": [
           "#636efa",
           "#EF553B",
           "#00cc96",
           "#ab63fa",
           "#FFA15A",
           "#19d3f3",
           "#FF6692",
           "#B6E880",
           "#FF97FF",
           "#FECB52"
          ],
          "font": {
           "color": "#2a3f5f"
          },
          "geo": {
           "bgcolor": "white",
           "lakecolor": "white",
           "landcolor": "#E5ECF6",
           "showlakes": true,
           "showland": true,
           "subunitcolor": "white"
          },
          "hoverlabel": {
           "align": "left"
          },
          "hovermode": "closest",
          "mapbox": {
           "style": "light"
          },
          "paper_bgcolor": "white",
          "plot_bgcolor": "#E5ECF6",
          "polar": {
           "angularaxis": {
            "gridcolor": "white",
            "linecolor": "white",
            "ticks": ""
           },
           "bgcolor": "#E5ECF6",
           "radialaxis": {
            "gridcolor": "white",
            "linecolor": "white",
            "ticks": ""
           }
          },
          "scene": {
           "xaxis": {
            "backgroundcolor": "#E5ECF6",
            "gridcolor": "white",
            "gridwidth": 2,
            "linecolor": "white",
            "showbackground": true,
            "ticks": "",
            "zerolinecolor": "white"
           },
           "yaxis": {
            "backgroundcolor": "#E5ECF6",
            "gridcolor": "white",
            "gridwidth": 2,
            "linecolor": "white",
            "showbackground": true,
            "ticks": "",
            "zerolinecolor": "white"
           },
           "zaxis": {
            "backgroundcolor": "#E5ECF6",
            "gridcolor": "white",
            "gridwidth": 2,
            "linecolor": "white",
            "showbackground": true,
            "ticks": "",
            "zerolinecolor": "white"
           }
          },
          "shapedefaults": {
           "line": {
            "color": "#2a3f5f"
           }
          },
          "ternary": {
           "aaxis": {
            "gridcolor": "white",
            "linecolor": "white",
            "ticks": ""
           },
           "baxis": {
            "gridcolor": "white",
            "linecolor": "white",
            "ticks": ""
           },
           "bgcolor": "#E5ECF6",
           "caxis": {
            "gridcolor": "white",
            "linecolor": "white",
            "ticks": ""
           }
          },
          "title": {
           "x": 0.05
          },
          "xaxis": {
           "automargin": true,
           "gridcolor": "white",
           "linecolor": "white",
           "ticks": "",
           "title": {
            "standoff": 15
           },
           "zerolinecolor": "white",
           "zerolinewidth": 2
          },
          "yaxis": {
           "automargin": true,
           "gridcolor": "white",
           "linecolor": "white",
           "ticks": "",
           "title": {
            "standoff": 15
           },
           "zerolinecolor": "white",
           "zerolinewidth": 2
          }
         }
        },
        "title": {
         "text": "Top 10 worst affected countries"
        },
        "width": 800,
        "xaxis": {
         "anchor": "y",
         "autorange": true,
         "domain": [
          0,
          1
         ],
         "range": [
          -0.5,
          9.5
         ],
         "title": {
          "text": "country"
         },
         "type": "category"
        },
        "yaxis": {
         "anchor": "x",
         "autorange": true,
         "domain": [
          0,
          1
         ],
         "range": [
          0,
          1182985.2631578948
         ],
         "title": {
          "text": "deaths"
         },
         "type": "linear"
        }
       }
      },
      "image/png": "[encoded data removed]",
      "text/html": [
       "<div>                            <div id=\"eb88eb65-67ed-404b-b2cb-2747a6c26770\" class=\"plotly-graph-div\" style=\"height:500px; width:800px;\"></div>            <script type=\"text/javascript\">                require([\"plotly\"], function(Plotly) {                    window.PLOTLYENV=window.PLOTLYENV || {};                                    if (document.getElementById(\"eb88eb65-67ed-404b-b2cb-2747a6c26770\")) {                    Plotly.newPlot(                        \"eb88eb65-67ed-404b-b2cb-2747a6c26770\",                        [{\"alignmentgroup\":\"True\",\"hovertemplate\":\"country=%{x}\\u003cbr\\u003edeaths=%{y}\\u003cextra\\u003e\\u003c\\u002fextra\\u003e\",\"legendgroup\":\"\",\"marker\":{\"color\":\"pink\",\"pattern\":{\"shape\":\"\"}},\"name\":\"\",\"offsetgroup\":\"\",\"orientation\":\"v\",\"showlegend\":false,\"textposition\":\"auto\",\"x\":[\"US\",\"India\",\"France\",\"Germany\",\"Brazil\",\"Japan\",\"Korea, South\",\"Italy\",\"United Kingdom\",\"Russia\"],\"xaxis\":\"x\",\"y\":[1123836,530779,166176,168935,699310,73046,34093,188322,220721,388521],\"yaxis\":\"y\",\"type\":\"bar\"}],                        {\"template\":{\"data\":{\"histogram2dcontour\":[{\"type\":\"histogram2dcontour\",\"colorbar\":{\"outlinewidth\":0,\"ticks\":\"\"},\"colorscale\":[[0.0,\"#0d0887\"],[0.1111111111111111,\"#46039f\"],[0.2222222222222222,\"#7201a8\"],[0.3333333333333333,\"#9c179e\"],[0.4444444444444444,\"#bd3786\"],[0.5555555555555556,\"#d8576b\"],[0.6666666666666666,\"#ed7953\"],[0.7777777777777778,\"#fb9f3a\"],[0.8888888888888888,\"#fdca26\"],[1.0,\"#f0f921\"]]}],\"choropleth\":[{\"type\":\"choropleth\",\"colorbar\":{\"outlinewidth\":0,\"ticks\":\"\"}}],\"histogram2d\":[{\"type\":\"histogram2d\",\"colorbar\":{\"outlinewidth\":0,\"ticks\":\"\"},\"colorscale\":[[0.0,\"#0d0887\"],[0.1111111111111111,\"#46039f\"],[0.2222222222222222,\"#7201a8\"],[0.3333333333333333,\"#9c179e\"],[0.4444444444444444,\"#bd3786\"],[0.5555555555555556,\"#d8576b\"],[0.6666666666666666,\"#ed7953\"],[0.7777777777777778,\"#fb9f3a\"],[0.8888888888888888,\"#fdca26\"],[1.0,\"#f0f921\"]]}],\"heatmap\":[{\"type\":\"heatmap\",\"colorbar\":{\"outlinewidth\":0,\"ticks\":\"\"},\"colorscale\":[[0.0,\"#0d0887\"],[0.1111111111111111,\"#46039f\"],[0.2222222222222222,\"#7201a8\"],[0.3333333333333333,\"#9c179e\"],[0.4444444444444444,\"#bd3786\"],[0.5555555555555556,\"#d8576b\"],[0.6666666666666666,\"#ed7953\"],[0.7777777777777778,\"#fb9f3a\"],[0.8888888888888888,\"#fdca26\"],[1.0,\"#f0f921\"]]}],\"heatmapgl\":[{\"type\":\"heatmapgl\",\"colorbar\":{\"outlinewidth\":0,\"ticks\":\"\"},\"colorscale\":[[0.0,\"#0d0887\"],[0.1111111111111111,\"#46039f\"],[0.2222222222222222,\"#7201a8\"],[0.3333333333333333,\"#9c179e\"],[0.4444444444444444,\"#bd3786\"],[0.5555555555555556,\"#d8576b\"],[0.6666666666666666,\"#ed7953\"],[0.7777777777777778,\"#fb9f3a\"],[0.8888888888888888,\"#fdca26\"],[1.0,\"#f0f921\"]]}],\"contourcarpet\":[{\"type\":\"contourcarpet\",\"colorbar\":{\"outlinewidth\":0,\"ticks\":\"\"}}],\"contour\":[{\"type\":\"contour\",\"colorbar\":{\"outlinewidth\":0,\"ticks\":\"\"},\"colorscale\":[[0.0,\"#0d0887\"],[0.1111111111111111,\"#46039f\"],[0.2222222222222222,\"#7201a8\"],[0.3333333333333333,\"#9c179e\"],[0.4444444444444444,\"#bd3786\"],[0.5555555555555556,\"#d8576b\"],[0.6666666666666666,\"#ed7953\"],[0.7777777777777778,\"#fb9f3a\"],[0.8888888888888888,\"#fdca26\"],[1.0,\"#f0f921\"]]}],\"surface\":[{\"type\":\"surface\",\"colorbar\":{\"outlinewidth\":0,\"ticks\":\"\"},\"colorscale\":[[0.0,\"#0d0887\"],[0.1111111111111111,\"#46039f\"],[0.2222222222222222,\"#7201a8\"],[0.3333333333333333,\"#9c179e\"],[0.4444444444444444,\"#bd3786\"],[0.5555555555555556,\"#d8576b\"],[0.6666666666666666,\"#ed7953\"],[0.7777777777777778,\"#fb9f3a\"],[0.8888888888888888,\"#fdca26\"],[1.0,\"#f0f921\"]]}],\"mesh3d\":[{\"type\":\"mesh3d\",\"colorbar\":{\"outlinewidth\":0,\"ticks\":\"\"}}],\"scatter\":[{\"fillpattern\":{\"fillmode\":\"overlay\",\"size\":10,\"solidity\":0.2},\"type\":\"scatter\"}],\"parcoords\":[{\"type\":\"parcoords\",\"line\":{\"colorbar\":{\"outlinewidth\":0,\"ticks\":\"\"}}}],\"scatterpolargl\":[{\"type\":\"scatterpolargl\",\"marker\":{\"colorbar\":{\"outlinewidth\":0,\"ticks\":\"\"}}}],\"bar\":[{\"error_x\":{\"color\":\"#2a3f5f\"},\"error_y\":{\"color\":\"#2a3f5f\"},\"marker\":{\"line\":{\"color\":\"#E5ECF6\",\"width\":0.5},\"pattern\":{\"fillmode\":\"overlay\",\"size\":10,\"solidity\":0.2}},\"type\":\"bar\"}],\"scattergeo\":[{\"type\":\"scattergeo\",\"marker\":{\"colorbar\":{\"outlinewidth\":0,\"ticks\":\"\"}}}],\"scatterpolar\":[{\"type\":\"scatterpolar\",\"marker\":{\"colorbar\":{\"outlinewidth\":0,\"ticks\":\"\"}}}],\"histogram\":[{\"marker\":{\"pattern\":{\"fillmode\":\"overlay\",\"size\":10,\"solidity\":0.2}},\"type\":\"histogram\"}],\"scattergl\":[{\"type\":\"scattergl\",\"marker\":{\"colorbar\":{\"outlinewidth\":0,\"ticks\":\"\"}}}],\"scatter3d\":[{\"type\":\"scatter3d\",\"line\":{\"colorbar\":{\"outlinewidth\":0,\"ticks\":\"\"}},\"marker\":{\"colorbar\":{\"outlinewidth\":0,\"ticks\":\"\"}}}],\"scattermapbox\":[{\"type\":\"scattermapbox\",\"marker\":{\"colorbar\":{\"outlinewidth\":0,\"ticks\":\"\"}}}],\"scatterternary\":[{\"type\":\"scatterternary\",\"marker\":{\"colorbar\":{\"outlinewidth\":0,\"ticks\":\"\"}}}],\"scattercarpet\":[{\"type\":\"scattercarpet\",\"marker\":{\"colorbar\":{\"outlinewidth\":0,\"ticks\":\"\"}}}],\"carpet\":[{\"aaxis\":{\"endlinecolor\":\"#2a3f5f\",\"gridcolor\":\"white\",\"linecolor\":\"white\",\"minorgridcolor\":\"white\",\"startlinecolor\":\"#2a3f5f\"},\"baxis\":{\"endlinecolor\":\"#2a3f5f\",\"gridcolor\":\"white\",\"linecolor\":\"white\",\"minorgridcolor\":\"white\",\"startlinecolor\":\"#2a3f5f\"},\"type\":\"carpet\"}],\"table\":[{\"cells\":{\"fill\":{\"color\":\"#EBF0F8\"},\"line\":{\"color\":\"white\"}},\"header\":{\"fill\":{\"color\":\"#C8D4E3\"},\"line\":{\"color\":\"white\"}},\"type\":\"table\"}],\"barpolar\":[{\"marker\":{\"line\":{\"color\":\"#E5ECF6\",\"width\":0.5},\"pattern\":{\"fillmode\":\"overlay\",\"size\":10,\"solidity\":0.2}},\"type\":\"barpolar\"}],\"pie\":[{\"automargin\":true,\"type\":\"pie\"}]},\"layout\":{\"autotypenumbers\":\"strict\",\"colorway\":[\"#636efa\",\"#EF553B\",\"#00cc96\",\"#ab63fa\",\"#FFA15A\",\"#19d3f3\",\"#FF6692\",\"#B6E880\",\"#FF97FF\",\"#FECB52\"],\"font\":{\"color\":\"#2a3f5f\"},\"hovermode\":\"closest\",\"hoverlabel\":{\"align\":\"left\"},\"paper_bgcolor\":\"white\",\"plot_bgcolor\":\"#E5ECF6\",\"polar\":{\"bgcolor\":\"#E5ECF6\",\"angularaxis\":{\"gridcolor\":\"white\",\"linecolor\":\"white\",\"ticks\":\"\"},\"radialaxis\":{\"gridcolor\":\"white\",\"linecolor\":\"white\",\"ticks\":\"\"}},\"ternary\":{\"bgcolor\":\"#E5ECF6\",\"aaxis\":{\"gridcolor\":\"white\",\"linecolor\":\"white\",\"ticks\":\"\"},\"baxis\":{\"gridcolor\":\"white\",\"linecolor\":\"white\",\"ticks\":\"\"},\"caxis\":{\"gridcolor\":\"white\",\"linecolor\":\"white\",\"ticks\":\"\"}},\"coloraxis\":{\"colorbar\":{\"outlinewidth\":0,\"ticks\":\"\"}},\"colorscale\":{\"sequential\":[[0.0,\"#0d0887\"],[0.1111111111111111,\"#46039f\"],[0.2222222222222222,\"#7201a8\"],[0.3333333333333333,\"#9c179e\"],[0.4444444444444444,\"#bd3786\"],[0.5555555555555556,\"#d8576b\"],[0.6666666666666666,\"#ed7953\"],[0.7777777777777778,\"#fb9f3a\"],[0.8888888888888888,\"#fdca26\"],[1.0,\"#f0f921\"]],\"sequentialminus\":[[0.0,\"#0d0887\"],[0.1111111111111111,\"#46039f\"],[0.2222222222222222,\"#7201a8\"],[0.3333333333333333,\"#9c179e\"],[0.4444444444444444,\"#bd3786\"],[0.5555555555555556,\"#d8576b\"],[0.6666666666666666,\"#ed7953\"],[0.7777777777777778,\"#fb9f3a\"],[0.8888888888888888,\"#fdca26\"],[1.0,\"#f0f921\"]],\"diverging\":[[0,\"#8e0152\"],[0.1,\"#c51b7d\"],[0.2,\"#de77ae\"],[0.3,\"#f1b6da\"],[0.4,\"#fde0ef\"],[0.5,\"#f7f7f7\"],[0.6,\"#e6f5d0\"],[0.7,\"#b8e186\"],[0.8,\"#7fbc41\"],[0.9,\"#4d9221\"],[1,\"#276419\"]]},\"xaxis\":{\"gridcolor\":\"white\",\"linecolor\":\"white\",\"ticks\":\"\",\"title\":{\"standoff\":15},\"zerolinecolor\":\"white\",\"automargin\":true,\"zerolinewidth\":2},\"yaxis\":{\"gridcolor\":\"white\",\"linecolor\":\"white\",\"ticks\":\"\",\"title\":{\"standoff\":15},\"zerolinecolor\":\"white\",\"automargin\":true,\"zerolinewidth\":2},\"scene\":{\"xaxis\":{\"backgroundcolor\":\"#E5ECF6\",\"gridcolor\":\"white\",\"linecolor\":\"white\",\"showbackground\":true,\"ticks\":\"\",\"zerolinecolor\":\"white\",\"gridwidth\":2},\"yaxis\":{\"backgroundcolor\":\"#E5ECF6\",\"gridcolor\":\"white\",\"linecolor\":\"white\",\"showbackground\":true,\"ticks\":\"\",\"zerolinecolor\":\"white\",\"gridwidth\":2},\"zaxis\":{\"backgroundcolor\":\"#E5ECF6\",\"gridcolor\":\"white\",\"linecolor\":\"white\",\"showbackground\":true,\"ticks\":\"\",\"zerolinecolor\":\"white\",\"gridwidth\":2}},\"shapedefaults\":{\"line\":{\"color\":\"#2a3f5f\"}},\"annotationdefaults\":{\"arrowcolor\":\"#2a3f5f\",\"arrowhead\":0,\"arrowwidth\":1},\"geo\":{\"bgcolor\":\"white\",\"landcolor\":\"#E5ECF6\",\"subunitcolor\":\"white\",\"showland\":true,\"showlakes\":true,\"lakecolor\":\"white\"},\"title\":{\"x\":0.05},\"mapbox\":{\"style\":\"light\"}}},\"xaxis\":{\"anchor\":\"y\",\"domain\":[0.0,1.0],\"title\":{\"text\":\"country\"}},\"yaxis\":{\"anchor\":\"x\",\"domain\":[0.0,1.0],\"title\":{\"text\":\"deaths\"}},\"legend\":{\"tracegroupgap\":0},\"title\":{\"text\":\"Top 10 worst affected countries\"},\"barmode\":\"relative\",\"height\":500,\"width\":800},                        {\"responsive\": true}                    ).then(function(){\n",
       "                            \n",
       "var gd = document.getElementById('eb88eb65-67ed-404b-b2cb-2747a6c26770');\n",
       "var x = new MutationObserver(function (mutations, observer) {{\n",
       "        var display = window.getComputedStyle(gd).display;\n",
       "        if (!display || display === 'none') {{\n",
       "            console.log([gd, 'removed!']);\n",
       "            Plotly.purge(gd);\n",
       "            observer.disconnect();\n",
       "        }}\n",
       "}});\n",
       "\n",
       "// Listen for the removal of the full notebook cells\n",
       "var notebookContainer = gd.closest('#notebook-container');\n",
       "if (notebookContainer) {{\n",
       "    x.observe(notebookContainer, {childList: true});\n",
       "}}\n",
       "\n",
       "// Listen for the clearing of the current output cell\n",
       "var outputEl = gd.closest('.output');\n",
       "if (outputEl) {{\n",
       "    x.observe(outputEl, {childList: true});\n",
       "}}\n",
       "\n",
       "                        })                };                });            </script>        </div>"
      ]
     },
     "metadata": {},
     "output_type": "display_data"
    }
   ],
   "source": [
    "px.bar(\n",
    "    sorted_country_df.head(10),\n",
    "    x = \"country\",\n",
    "    y = \"deaths\",\n",
    "    title= \"Top 10 worst affected countries\", # the axis names\n",
    "    color_discrete_sequence=[\"pink\"], \n",
    "    height=500,\n",
    "    width=800\n",
    ")"
   ]
  },
  {
   "cell_type": "code",
   "execution_count": 21,
   "id": "1232da1f-9898-4373-8b94-a2adbb78c9a1",
   "metadata": {},
   "outputs": [
    {
     "data": {
      "application/vnd.plotly.v1+json": {
       "config": {
        "plotlyServerURL": "https://plot.ly"
       },
       "data": [
        {
         "alignmentgroup": "True",
         "hovertemplate": "country=%{x}<br>recovered=%{y}<extra></extra>",
         "legendgroup": "",
         "marker": {
          "color": "pink",
          "pattern": {
           "shape": ""
          }
         },
         "name": "",
         "offsetgroup": "",
         "orientation": "v",
         "showlegend": false,
         "textposition": "auto",
         "type": "bar",
         "x": [
          "US",
          "India",
          "France",
          "Germany",
          "Brazil",
          "Japan",
          "Korea, South",
          "Italy",
          "United Kingdom",
          "Russia"
         ],
         "xaxis": "x",
         "y": [
          null,
          null,
          null,
          null,
          null,
          null,
          null,
          null,
          null,
          null
         ],
         "yaxis": "y"
        }
       ],
       "layout": {
        "barmode": "relative",
        "height": 500,
        "legend": {
         "tracegroupgap": 0
        },
        "template": {
         "data": {
          "bar": [
           {
            "error_x": {
             "color": "#2a3f5f"
            },
            "error_y": {
             "color": "#2a3f5f"
            },
            "marker": {
             "line": {
              "color": "#E5ECF6",
              "width": 0.5
             },
             "pattern": {
              "fillmode": "overlay",
              "size": 10,
              "solidity": 0.2
             }
            },
            "type": "bar"
           }
          ],
          "barpolar": [
           {
            "marker": {
             "line": {
              "color": "#E5ECF6",
              "width": 0.5
             },
             "pattern": {
              "fillmode": "overlay",
              "size": 10,
              "solidity": 0.2
             }
            },
            "type": "barpolar"
           }
          ],
          "carpet": [
           {
            "aaxis": {
             "endlinecolor": "#2a3f5f",
             "gridcolor": "white",
             "linecolor": "white",
             "minorgridcolor": "white",
             "startlinecolor": "#2a3f5f"
            },
            "baxis": {
             "endlinecolor": "#2a3f5f",
             "gridcolor": "white",
             "linecolor": "white",
             "minorgridcolor": "white",
             "startlinecolor": "#2a3f5f"
            },
            "type": "carpet"
           }
          ],
          "choropleth": [
           {
            "colorbar": {
             "outlinewidth": 0,
             "ticks": ""
            },
            "type": "choropleth"
           }
          ],
          "contour": [
           {
            "colorbar": {
             "outlinewidth": 0,
             "ticks": ""
            },
            "colorscale": [
             [
              0,
              "#0d0887"
             ],
             [
              0.1111111111111111,
              "#46039f"
             ],
             [
              0.2222222222222222,
              "#7201a8"
             ],
             [
              0.3333333333333333,
              "#9c179e"
             ],
             [
              0.4444444444444444,
              "#bd3786"
             ],
             [
              0.5555555555555556,
              "#d8576b"
             ],
             [
              0.6666666666666666,
              "#ed7953"
             ],
             [
              0.7777777777777778,
              "#fb9f3a"
             ],
             [
              0.8888888888888888,
              "#fdca26"
             ],
             [
              1,
              "#f0f921"
             ]
            ],
            "type": "contour"
           }
          ],
          "contourcarpet": [
           {
            "colorbar": {
             "outlinewidth": 0,
             "ticks": ""
            },
            "type": "contourcarpet"
           }
          ],
          "heatmap": [
           {
            "colorbar": {
             "outlinewidth": 0,
             "ticks": ""
            },
            "colorscale": [
             [
              0,
              "#0d0887"
             ],
             [
              0.1111111111111111,
              "#46039f"
             ],
             [
              0.2222222222222222,
              "#7201a8"
             ],
             [
              0.3333333333333333,
              "#9c179e"
             ],
             [
              0.4444444444444444,
              "#bd3786"
             ],
             [
              0.5555555555555556,
              "#d8576b"
             ],
             [
              0.6666666666666666,
              "#ed7953"
             ],
             [
              0.7777777777777778,
              "#fb9f3a"
             ],
             [
              0.8888888888888888,
              "#fdca26"
             ],
             [
              1,
              "#f0f921"
             ]
            ],
            "type": "heatmap"
           }
          ],
          "heatmapgl": [
           {
            "colorbar": {
             "outlinewidth": 0,
             "ticks": ""
            },
            "colorscale": [
             [
              0,
              "#0d0887"
             ],
             [
              0.1111111111111111,
              "#46039f"
             ],
             [
              0.2222222222222222,
              "#7201a8"
             ],
             [
              0.3333333333333333,
              "#9c179e"
             ],
             [
              0.4444444444444444,
              "#bd3786"
             ],
             [
              0.5555555555555556,
              "#d8576b"
             ],
             [
              0.6666666666666666,
              "#ed7953"
             ],
             [
              0.7777777777777778,
              "#fb9f3a"
             ],
             [
              0.8888888888888888,
              "#fdca26"
             ],
             [
              1,
              "#f0f921"
             ]
            ],
            "type": "heatmapgl"
           }
          ],
          "histogram": [
           {
            "marker": {
             "pattern": {
              "fillmode": "overlay",
              "size": 10,
              "solidity": 0.2
             }
            },
            "type": "histogram"
           }
          ],
          "histogram2d": [
           {
            "colorbar": {
             "outlinewidth": 0,
             "ticks": ""
            },
            "colorscale": [
             [
              0,
              "#0d0887"
             ],
             [
              0.1111111111111111,
              "#46039f"
             ],
             [
              0.2222222222222222,
              "#7201a8"
             ],
             [
              0.3333333333333333,
              "#9c179e"
             ],
             [
              0.4444444444444444,
              "#bd3786"
             ],
             [
              0.5555555555555556,
              "#d8576b"
             ],
             [
              0.6666666666666666,
              "#ed7953"
             ],
             [
              0.7777777777777778,
              "#fb9f3a"
             ],
             [
              0.8888888888888888,
              "#fdca26"
             ],
             [
              1,
              "#f0f921"
             ]
            ],
            "type": "histogram2d"
           }
          ],
          "histogram2dcontour": [
           {
            "colorbar": {
             "outlinewidth": 0,
             "ticks": ""
            },
            "colorscale": [
             [
              0,
              "#0d0887"
             ],
             [
              0.1111111111111111,
              "#46039f"
             ],
             [
              0.2222222222222222,
              "#7201a8"
             ],
             [
              0.3333333333333333,
              "#9c179e"
             ],
             [
              0.4444444444444444,
              "#bd3786"
             ],
             [
              0.5555555555555556,
              "#d8576b"
             ],
             [
              0.6666666666666666,
              "#ed7953"
             ],
             [
              0.7777777777777778,
              "#fb9f3a"
             ],
             [
              0.8888888888888888,
              "#fdca26"
             ],
             [
              1,
              "#f0f921"
             ]
            ],
            "type": "histogram2dcontour"
           }
          ],
          "mesh3d": [
           {
            "colorbar": {
             "outlinewidth": 0,
             "ticks": ""
            },
            "type": "mesh3d"
           }
          ],
          "parcoords": [
           {
            "line": {
             "colorbar": {
              "outlinewidth": 0,
              "ticks": ""
             }
            },
            "type": "parcoords"
           }
          ],
          "pie": [
           {
            "automargin": true,
            "type": "pie"
           }
          ],
          "scatter": [
           {
            "fillpattern": {
             "fillmode": "overlay",
             "size": 10,
             "solidity": 0.2
            },
            "type": "scatter"
           }
          ],
          "scatter3d": [
           {
            "line": {
             "colorbar": {
              "outlinewidth": 0,
              "ticks": ""
             }
            },
            "marker": {
             "colorbar": {
              "outlinewidth": 0,
              "ticks": ""
             }
            },
            "type": "scatter3d"
           }
          ],
          "scattercarpet": [
           {
            "marker": {
             "colorbar": {
              "outlinewidth": 0,
              "ticks": ""
             }
            },
            "type": "scattercarpet"
           }
          ],
          "scattergeo": [
           {
            "marker": {
             "colorbar": {
              "outlinewidth": 0,
              "ticks": ""
             }
            },
            "type": "scattergeo"
           }
          ],
          "scattergl": [
           {
            "marker": {
             "colorbar": {
              "outlinewidth": 0,
              "ticks": ""
             }
            },
            "type": "scattergl"
           }
          ],
          "scattermapbox": [
           {
            "marker": {
             "colorbar": {
              "outlinewidth": 0,
              "ticks": ""
             }
            },
            "type": "scattermapbox"
           }
          ],
          "scatterpolar": [
           {
            "marker": {
             "colorbar": {
              "outlinewidth": 0,
              "ticks": ""
             }
            },
            "type": "scatterpolar"
           }
          ],
          "scatterpolargl": [
           {
            "marker": {
             "colorbar": {
              "outlinewidth": 0,
              "ticks": ""
             }
            },
            "type": "scatterpolargl"
           }
          ],
          "scatterternary": [
           {
            "marker": {
             "colorbar": {
              "outlinewidth": 0,
              "ticks": ""
             }
            },
            "type": "scatterternary"
           }
          ],
          "surface": [
           {
            "colorbar": {
             "outlinewidth": 0,
             "ticks": ""
            },
            "colorscale": [
             [
              0,
              "#0d0887"
             ],
             [
              0.1111111111111111,
              "#46039f"
             ],
             [
              0.2222222222222222,
              "#7201a8"
             ],
             [
              0.3333333333333333,
              "#9c179e"
             ],
             [
              0.4444444444444444,
              "#bd3786"
             ],
             [
              0.5555555555555556,
              "#d8576b"
             ],
             [
              0.6666666666666666,
              "#ed7953"
             ],
             [
              0.7777777777777778,
              "#fb9f3a"
             ],
             [
              0.8888888888888888,
              "#fdca26"
             ],
             [
              1,
              "#f0f921"
             ]
            ],
            "type": "surface"
           }
          ],
          "table": [
           {
            "cells": {
             "fill": {
              "color": "#EBF0F8"
             },
             "line": {
              "color": "white"
             }
            },
            "header": {
             "fill": {
              "color": "#C8D4E3"
             },
             "line": {
              "color": "white"
             }
            },
            "type": "table"
           }
          ]
         },
         "layout": {
          "annotationdefaults": {
           "arrowcolor": "#2a3f5f",
           "arrowhead": 0,
           "arrowwidth": 1
          },
          "autotypenumbers": "strict",
          "coloraxis": {
           "colorbar": {
            "outlinewidth": 0,
            "ticks": ""
           }
          },
          "colorscale": {
           "diverging": [
            [
             0,
             "#8e0152"
            ],
            [
             0.1,
             "#c51b7d"
            ],
            [
             0.2,
             "#de77ae"
            ],
            [
             0.3,
             "#f1b6da"
            ],
            [
             0.4,
             "#fde0ef"
            ],
            [
             0.5,
             "#f7f7f7"
            ],
            [
             0.6,
             "#e6f5d0"
            ],
            [
             0.7,
             "#b8e186"
            ],
            [
             0.8,
             "#7fbc41"
            ],
            [
             0.9,
             "#4d9221"
            ],
            [
             1,
             "#276419"
            ]
           ],
           "sequential": [
            [
             0,
             "#0d0887"
            ],
            [
             0.1111111111111111,
             "#46039f"
            ],
            [
             0.2222222222222222,
             "#7201a8"
            ],
            [
             0.3333333333333333,
             "#9c179e"
            ],
            [
             0.4444444444444444,
             "#bd3786"
            ],
            [
             0.5555555555555556,
             "#d8576b"
            ],
            [
             0.6666666666666666,
             "#ed7953"
            ],
            [
             0.7777777777777778,
             "#fb9f3a"
            ],
            [
             0.8888888888888888,
             "#fdca26"
            ],
            [
             1,
             "#f0f921"
            ]
           ],
           "sequentialminus": [
            [
             0,
             "#0d0887"
            ],
            [
             0.1111111111111111,
             "#46039f"
            ],
            [
             0.2222222222222222,
             "#7201a8"
            ],
            [
             0.3333333333333333,
             "#9c179e"
            ],
            [
             0.4444444444444444,
             "#bd3786"
            ],
            [
             0.5555555555555556,
             "#d8576b"
            ],
            [
             0.6666666666666666,
             "#ed7953"
            ],
            [
             0.7777777777777778,
             "#fb9f3a"
            ],
            [
             0.8888888888888888,
             "#fdca26"
            ],
            [
             1,
             "#f0f921"
            ]
           ]
          },
          "colorway": [
           "#636efa",
           "#EF553B",
           "#00cc96",
           "#ab63fa",
           "#FFA15A",
           "#19d3f3",
           "#FF6692",
           "#B6E880",
           "#FF97FF",
           "#FECB52"
          ],
          "font": {
           "color": "#2a3f5f"
          },
          "geo": {
           "bgcolor": "white",
           "lakecolor": "white",
           "landcolor": "#E5ECF6",
           "showlakes": true,
           "showland": true,
           "subunitcolor": "white"
          },
          "hoverlabel": {
           "align": "left"
          },
          "hovermode": "closest",
          "mapbox": {
           "style": "light"
          },
          "paper_bgcolor": "white",
          "plot_bgcolor": "#E5ECF6",
          "polar": {
           "angularaxis": {
            "gridcolor": "white",
            "linecolor": "white",
            "ticks": ""
           },
           "bgcolor": "#E5ECF6",
           "radialaxis": {
            "gridcolor": "white",
            "linecolor": "white",
            "ticks": ""
           }
          },
          "scene": {
           "xaxis": {
            "backgroundcolor": "#E5ECF6",
            "gridcolor": "white",
            "gridwidth": 2,
            "linecolor": "white",
            "showbackground": true,
            "ticks": "",
            "zerolinecolor": "white"
           },
           "yaxis": {
            "backgroundcolor": "#E5ECF6",
            "gridcolor": "white",
            "gridwidth": 2,
            "linecolor": "white",
            "showbackground": true,
            "ticks": "",
            "zerolinecolor": "white"
           },
           "zaxis": {
            "backgroundcolor": "#E5ECF6",
            "gridcolor": "white",
            "gridwidth": 2,
            "linecolor": "white",
            "showbackground": true,
            "ticks": "",
            "zerolinecolor": "white"
           }
          },
          "shapedefaults": {
           "line": {
            "color": "#2a3f5f"
           }
          },
          "ternary": {
           "aaxis": {
            "gridcolor": "white",
            "linecolor": "white",
            "ticks": ""
           },
           "baxis": {
            "gridcolor": "white",
            "linecolor": "white",
            "ticks": ""
           },
           "bgcolor": "#E5ECF6",
           "caxis": {
            "gridcolor": "white",
            "linecolor": "white",
            "ticks": ""
           }
          },
          "title": {
           "x": 0.05
          },
          "xaxis": {
           "automargin": true,
           "gridcolor": "white",
           "linecolor": "white",
           "ticks": "",
           "title": {
            "standoff": 15
           },
           "zerolinecolor": "white",
           "zerolinewidth": 2
          },
          "yaxis": {
           "automargin": true,
           "gridcolor": "white",
           "linecolor": "white",
           "ticks": "",
           "title": {
            "standoff": 15
           },
           "zerolinecolor": "white",
           "zerolinewidth": 2
          }
         }
        },
        "title": {
         "text": "Top 10 worst affected countries"
        },
        "width": 800,
        "xaxis": {
         "anchor": "y",
         "autorange": true,
         "domain": [
          0,
          1
         ],
         "range": [
          -0.5,
          9.5
         ],
         "title": {
          "text": "country"
         },
         "type": "category"
        },
        "yaxis": {
         "anchor": "x",
         "autorange": true,
         "domain": [
          0,
          1
         ],
         "range": [
          -1,
          4
         ],
         "title": {
          "text": "recovered"
         }
        }
       }
      },
      "image/png": "[encoded data removed]",
      "text/html": [
       "<div>                            <div id=\"e7f9bc49-8b52-42b1-9714-28a01473f399\" class=\"plotly-graph-div\" style=\"height:500px; width:800px;\"></div>            <script type=\"text/javascript\">                require([\"plotly\"], function(Plotly) {                    window.PLOTLYENV=window.PLOTLYENV || {};                                    if (document.getElementById(\"e7f9bc49-8b52-42b1-9714-28a01473f399\")) {                    Plotly.newPlot(                        \"e7f9bc49-8b52-42b1-9714-28a01473f399\",                        [{\"alignmentgroup\":\"True\",\"hovertemplate\":\"country=%{x}\\u003cbr\\u003erecovered=%{y}\\u003cextra\\u003e\\u003c\\u002fextra\\u003e\",\"legendgroup\":\"\",\"marker\":{\"color\":\"pink\",\"pattern\":{\"shape\":\"\"}},\"name\":\"\",\"offsetgroup\":\"\",\"orientation\":\"v\",\"showlegend\":false,\"textposition\":\"auto\",\"x\":[\"US\",\"India\",\"France\",\"Germany\",\"Brazil\",\"Japan\",\"Korea, South\",\"Italy\",\"United Kingdom\",\"Russia\"],\"xaxis\":\"x\",\"y\":[null,null,null,null,null,null,null,null,null,null],\"yaxis\":\"y\",\"type\":\"bar\"}],                        {\"template\":{\"data\":{\"histogram2dcontour\":[{\"type\":\"histogram2dcontour\",\"colorbar\":{\"outlinewidth\":0,\"ticks\":\"\"},\"colorscale\":[[0.0,\"#0d0887\"],[0.1111111111111111,\"#46039f\"],[0.2222222222222222,\"#7201a8\"],[0.3333333333333333,\"#9c179e\"],[0.4444444444444444,\"#bd3786\"],[0.5555555555555556,\"#d8576b\"],[0.6666666666666666,\"#ed7953\"],[0.7777777777777778,\"#fb9f3a\"],[0.8888888888888888,\"#fdca26\"],[1.0,\"#f0f921\"]]}],\"choropleth\":[{\"type\":\"choropleth\",\"colorbar\":{\"outlinewidth\":0,\"ticks\":\"\"}}],\"histogram2d\":[{\"type\":\"histogram2d\",\"colorbar\":{\"outlinewidth\":0,\"ticks\":\"\"},\"colorscale\":[[0.0,\"#0d0887\"],[0.1111111111111111,\"#46039f\"],[0.2222222222222222,\"#7201a8\"],[0.3333333333333333,\"#9c179e\"],[0.4444444444444444,\"#bd3786\"],[0.5555555555555556,\"#d8576b\"],[0.6666666666666666,\"#ed7953\"],[0.7777777777777778,\"#fb9f3a\"],[0.8888888888888888,\"#fdca26\"],[1.0,\"#f0f921\"]]}],\"heatmap\":[{\"type\":\"heatmap\",\"colorbar\":{\"outlinewidth\":0,\"ticks\":\"\"},\"colorscale\":[[0.0,\"#0d0887\"],[0.1111111111111111,\"#46039f\"],[0.2222222222222222,\"#7201a8\"],[0.3333333333333333,\"#9c179e\"],[0.4444444444444444,\"#bd3786\"],[0.5555555555555556,\"#d8576b\"],[0.6666666666666666,\"#ed7953\"],[0.7777777777777778,\"#fb9f3a\"],[0.8888888888888888,\"#fdca26\"],[1.0,\"#f0f921\"]]}],\"heatmapgl\":[{\"type\":\"heatmapgl\",\"colorbar\":{\"outlinewidth\":0,\"ticks\":\"\"},\"colorscale\":[[0.0,\"#0d0887\"],[0.1111111111111111,\"#46039f\"],[0.2222222222222222,\"#7201a8\"],[0.3333333333333333,\"#9c179e\"],[0.4444444444444444,\"#bd3786\"],[0.5555555555555556,\"#d8576b\"],[0.6666666666666666,\"#ed7953\"],[0.7777777777777778,\"#fb9f3a\"],[0.8888888888888888,\"#fdca26\"],[1.0,\"#f0f921\"]]}],\"contourcarpet\":[{\"type\":\"contourcarpet\",\"colorbar\":{\"outlinewidth\":0,\"ticks\":\"\"}}],\"contour\":[{\"type\":\"contour\",\"colorbar\":{\"outlinewidth\":0,\"ticks\":\"\"},\"colorscale\":[[0.0,\"#0d0887\"],[0.1111111111111111,\"#46039f\"],[0.2222222222222222,\"#7201a8\"],[0.3333333333333333,\"#9c179e\"],[0.4444444444444444,\"#bd3786\"],[0.5555555555555556,\"#d8576b\"],[0.6666666666666666,\"#ed7953\"],[0.7777777777777778,\"#fb9f3a\"],[0.8888888888888888,\"#fdca26\"],[1.0,\"#f0f921\"]]}],\"surface\":[{\"type\":\"surface\",\"colorbar\":{\"outlinewidth\":0,\"ticks\":\"\"},\"colorscale\":[[0.0,\"#0d0887\"],[0.1111111111111111,\"#46039f\"],[0.2222222222222222,\"#7201a8\"],[0.3333333333333333,\"#9c179e\"],[0.4444444444444444,\"#bd3786\"],[0.5555555555555556,\"#d8576b\"],[0.6666666666666666,\"#ed7953\"],[0.7777777777777778,\"#fb9f3a\"],[0.8888888888888888,\"#fdca26\"],[1.0,\"#f0f921\"]]}],\"mesh3d\":[{\"type\":\"mesh3d\",\"colorbar\":{\"outlinewidth\":0,\"ticks\":\"\"}}],\"scatter\":[{\"fillpattern\":{\"fillmode\":\"overlay\",\"size\":10,\"solidity\":0.2},\"type\":\"scatter\"}],\"parcoords\":[{\"type\":\"parcoords\",\"line\":{\"colorbar\":{\"outlinewidth\":0,\"ticks\":\"\"}}}],\"scatterpolargl\":[{\"type\":\"scatterpolargl\",\"marker\":{\"colorbar\":{\"outlinewidth\":0,\"ticks\":\"\"}}}],\"bar\":[{\"error_x\":{\"color\":\"#2a3f5f\"},\"error_y\":{\"color\":\"#2a3f5f\"},\"marker\":{\"line\":{\"color\":\"#E5ECF6\",\"width\":0.5},\"pattern\":{\"fillmode\":\"overlay\",\"size\":10,\"solidity\":0.2}},\"type\":\"bar\"}],\"scattergeo\":[{\"type\":\"scattergeo\",\"marker\":{\"colorbar\":{\"outlinewidth\":0,\"ticks\":\"\"}}}],\"scatterpolar\":[{\"type\":\"scatterpolar\",\"marker\":{\"colorbar\":{\"outlinewidth\":0,\"ticks\":\"\"}}}],\"histogram\":[{\"marker\":{\"pattern\":{\"fillmode\":\"overlay\",\"size\":10,\"solidity\":0.2}},\"type\":\"histogram\"}],\"scattergl\":[{\"type\":\"scattergl\",\"marker\":{\"colorbar\":{\"outlinewidth\":0,\"ticks\":\"\"}}}],\"scatter3d\":[{\"type\":\"scatter3d\",\"line\":{\"colorbar\":{\"outlinewidth\":0,\"ticks\":\"\"}},\"marker\":{\"colorbar\":{\"outlinewidth\":0,\"ticks\":\"\"}}}],\"scattermapbox\":[{\"type\":\"scattermapbox\",\"marker\":{\"colorbar\":{\"outlinewidth\":0,\"ticks\":\"\"}}}],\"scatterternary\":[{\"type\":\"scatterternary\",\"marker\":{\"colorbar\":{\"outlinewidth\":0,\"ticks\":\"\"}}}],\"scattercarpet\":[{\"type\":\"scattercarpet\",\"marker\":{\"colorbar\":{\"outlinewidth\":0,\"ticks\":\"\"}}}],\"carpet\":[{\"aaxis\":{\"endlinecolor\":\"#2a3f5f\",\"gridcolor\":\"white\",\"linecolor\":\"white\",\"minorgridcolor\":\"white\",\"startlinecolor\":\"#2a3f5f\"},\"baxis\":{\"endlinecolor\":\"#2a3f5f\",\"gridcolor\":\"white\",\"linecolor\":\"white\",\"minorgridcolor\":\"white\",\"startlinecolor\":\"#2a3f5f\"},\"type\":\"carpet\"}],\"table\":[{\"cells\":{\"fill\":{\"color\":\"#EBF0F8\"},\"line\":{\"color\":\"white\"}},\"header\":{\"fill\":{\"color\":\"#C8D4E3\"},\"line\":{\"color\":\"white\"}},\"type\":\"table\"}],\"barpolar\":[{\"marker\":{\"line\":{\"color\":\"#E5ECF6\",\"width\":0.5},\"pattern\":{\"fillmode\":\"overlay\",\"size\":10,\"solidity\":0.2}},\"type\":\"barpolar\"}],\"pie\":[{\"automargin\":true,\"type\":\"pie\"}]},\"layout\":{\"autotypenumbers\":\"strict\",\"colorway\":[\"#636efa\",\"#EF553B\",\"#00cc96\",\"#ab63fa\",\"#FFA15A\",\"#19d3f3\",\"#FF6692\",\"#B6E880\",\"#FF97FF\",\"#FECB52\"],\"font\":{\"color\":\"#2a3f5f\"},\"hovermode\":\"closest\",\"hoverlabel\":{\"align\":\"left\"},\"paper_bgcolor\":\"white\",\"plot_bgcolor\":\"#E5ECF6\",\"polar\":{\"bgcolor\":\"#E5ECF6\",\"angularaxis\":{\"gridcolor\":\"white\",\"linecolor\":\"white\",\"ticks\":\"\"},\"radialaxis\":{\"gridcolor\":\"white\",\"linecolor\":\"white\",\"ticks\":\"\"}},\"ternary\":{\"bgcolor\":\"#E5ECF6\",\"aaxis\":{\"gridcolor\":\"white\",\"linecolor\":\"white\",\"ticks\":\"\"},\"baxis\":{\"gridcolor\":\"white\",\"linecolor\":\"white\",\"ticks\":\"\"},\"caxis\":{\"gridcolor\":\"white\",\"linecolor\":\"white\",\"ticks\":\"\"}},\"coloraxis\":{\"colorbar\":{\"outlinewidth\":0,\"ticks\":\"\"}},\"colorscale\":{\"sequential\":[[0.0,\"#0d0887\"],[0.1111111111111111,\"#46039f\"],[0.2222222222222222,\"#7201a8\"],[0.3333333333333333,\"#9c179e\"],[0.4444444444444444,\"#bd3786\"],[0.5555555555555556,\"#d8576b\"],[0.6666666666666666,\"#ed7953\"],[0.7777777777777778,\"#fb9f3a\"],[0.8888888888888888,\"#fdca26\"],[1.0,\"#f0f921\"]],\"sequentialminus\":[[0.0,\"#0d0887\"],[0.1111111111111111,\"#46039f\"],[0.2222222222222222,\"#7201a8\"],[0.3333333333333333,\"#9c179e\"],[0.4444444444444444,\"#bd3786\"],[0.5555555555555556,\"#d8576b\"],[0.6666666666666666,\"#ed7953\"],[0.7777777777777778,\"#fb9f3a\"],[0.8888888888888888,\"#fdca26\"],[1.0,\"#f0f921\"]],\"diverging\":[[0,\"#8e0152\"],[0.1,\"#c51b7d\"],[0.2,\"#de77ae\"],[0.3,\"#f1b6da\"],[0.4,\"#fde0ef\"],[0.5,\"#f7f7f7\"],[0.6,\"#e6f5d0\"],[0.7,\"#b8e186\"],[0.8,\"#7fbc41\"],[0.9,\"#4d9221\"],[1,\"#276419\"]]},\"xaxis\":{\"gridcolor\":\"white\",\"linecolor\":\"white\",\"ticks\":\"\",\"title\":{\"standoff\":15},\"zerolinecolor\":\"white\",\"automargin\":true,\"zerolinewidth\":2},\"yaxis\":{\"gridcolor\":\"white\",\"linecolor\":\"white\",\"ticks\":\"\",\"title\":{\"standoff\":15},\"zerolinecolor\":\"white\",\"automargin\":true,\"zerolinewidth\":2},\"scene\":{\"xaxis\":{\"backgroundcolor\":\"#E5ECF6\",\"gridcolor\":\"white\",\"linecolor\":\"white\",\"showbackground\":true,\"ticks\":\"\",\"zerolinecolor\":\"white\",\"gridwidth\":2},\"yaxis\":{\"backgroundcolor\":\"#E5ECF6\",\"gridcolor\":\"white\",\"linecolor\":\"white\",\"showbackground\":true,\"ticks\":\"\",\"zerolinecolor\":\"white\",\"gridwidth\":2},\"zaxis\":{\"backgroundcolor\":\"#E5ECF6\",\"gridcolor\":\"white\",\"linecolor\":\"white\",\"showbackground\":true,\"ticks\":\"\",\"zerolinecolor\":\"white\",\"gridwidth\":2}},\"shapedefaults\":{\"line\":{\"color\":\"#2a3f5f\"}},\"annotationdefaults\":{\"arrowcolor\":\"#2a3f5f\",\"arrowhead\":0,\"arrowwidth\":1},\"geo\":{\"bgcolor\":\"white\",\"landcolor\":\"#E5ECF6\",\"subunitcolor\":\"white\",\"showland\":true,\"showlakes\":true,\"lakecolor\":\"white\"},\"title\":{\"x\":0.05},\"mapbox\":{\"style\":\"light\"}}},\"xaxis\":{\"anchor\":\"y\",\"domain\":[0.0,1.0],\"title\":{\"text\":\"country\"}},\"yaxis\":{\"anchor\":\"x\",\"domain\":[0.0,1.0],\"title\":{\"text\":\"recovered\"}},\"legend\":{\"tracegroupgap\":0},\"title\":{\"text\":\"Top 10 worst affected countries\"},\"barmode\":\"relative\",\"height\":500,\"width\":800},                        {\"responsive\": true}                    ).then(function(){\n",
       "                            \n",
       "var gd = document.getElementById('e7f9bc49-8b52-42b1-9714-28a01473f399');\n",
       "var x = new MutationObserver(function (mutations, observer) {{\n",
       "        var display = window.getComputedStyle(gd).display;\n",
       "        if (!display || display === 'none') {{\n",
       "            console.log([gd, 'removed!']);\n",
       "            Plotly.purge(gd);\n",
       "            observer.disconnect();\n",
       "        }}\n",
       "}});\n",
       "\n",
       "// Listen for the removal of the full notebook cells\n",
       "var notebookContainer = gd.closest('#notebook-container');\n",
       "if (notebookContainer) {{\n",
       "    x.observe(notebookContainer, {childList: true});\n",
       "}}\n",
       "\n",
       "// Listen for the clearing of the current output cell\n",
       "var outputEl = gd.closest('.output');\n",
       "if (outputEl) {{\n",
       "    x.observe(outputEl, {childList: true});\n",
       "}}\n",
       "\n",
       "                        })                };                });            </script>        </div>"
      ]
     },
     "metadata": {},
     "output_type": "display_data"
    }
   ],
   "source": [
    "px.bar(\n",
    "    sorted_country_df.head(10),\n",
    "    x = \"country\",\n",
    "    y = \"recovered\",\n",
    "    title= \"Top 10 worst affected countries\", # the axis names\n",
    "    color_discrete_sequence=[\"pink\"], \n",
    "    height=500,\n",
    "    width=800\n",
    ")"
   ]
  },
  {
   "cell_type": "code",
   "execution_count": 22,
   "id": "9735fb24-aa10-4d9a-b8ac-5fc178618097",
   "metadata": {},
   "outputs": [
    {
     "data": {
      "text/html": [
       "<div style=\"width:100%;\"><div style=\"position:relative;width:100%;height:0;padding-bottom:60%;\"><span style=\"color:#565656\">Make this Notebook Trusted to load map: File -> Trust Notebook</span><iframe srcdoc=\"&lt;!DOCTYPE html&gt;\n",
       "&lt;html&gt;\n",
       "&lt;head&gt;\n",
       "    \n",
       "    &lt;meta http-equiv=&quot;content-type&quot; content=&quot;text/html; charset=UTF-8&quot; /&gt;\n",
       "    \n",
       "        &lt;script&gt;\n",
       "            L_NO_TOUCH = false;\n",
       "            L_DISABLE_3D = false;\n",
       "        &lt;/script&gt;\n",
       "    \n",
       "    &lt;style&gt;html, body {width: 100%;height: 100%;margin: 0;padding: 0;}&lt;/style&gt;\n",
       "    &lt;style&gt;#map {position:absolute;top:0;bottom:0;right:0;left:0;}&lt;/style&gt;\n",
       "    &lt;script src=&quot;https://cdn.jsdelivr.net/npm/leaflet@1.9.3/dist/leaflet.js&quot;&gt;&lt;/script&gt;\n",
       "    &lt;script src=&quot;https://code.jquery.com/jquery-3.7.1.min.js&quot;&gt;&lt;/script&gt;\n",
       "    &lt;script src=&quot;https://cdn.jsdelivr.net/npm/bootstrap@5.2.2/dist/js/bootstrap.bundle.min.js&quot;&gt;&lt;/script&gt;\n",
       "    &lt;script src=&quot;https://cdnjs.cloudflare.com/ajax/libs/Leaflet.awesome-markers/2.0.2/leaflet.awesome-markers.js&quot;&gt;&lt;/script&gt;\n",
       "    &lt;link rel=&quot;stylesheet&quot; href=&quot;https://cdn.jsdelivr.net/npm/leaflet@1.9.3/dist/leaflet.css&quot;/&gt;\n",
       "    &lt;link rel=&quot;stylesheet&quot; href=&quot;https://cdn.jsdelivr.net/npm/bootstrap@5.2.2/dist/css/bootstrap.min.css&quot;/&gt;\n",
       "    &lt;link rel=&quot;stylesheet&quot; href=&quot;https://netdna.bootstrapcdn.com/bootstrap/3.0.0/css/bootstrap-glyphicons.css&quot;/&gt;\n",
       "    &lt;link rel=&quot;stylesheet&quot; href=&quot;https://cdn.jsdelivr.net/npm/@fortawesome/fontawesome-free@6.2.0/css/all.min.css&quot;/&gt;\n",
       "    &lt;link rel=&quot;stylesheet&quot; href=&quot;https://cdnjs.cloudflare.com/ajax/libs/Leaflet.awesome-markers/2.0.2/leaflet.awesome-markers.css&quot;/&gt;\n",
       "    &lt;link rel=&quot;stylesheet&quot; href=&quot;https://cdn.jsdelivr.net/gh/python-visualization/folium/folium/templates/leaflet.awesome.rotate.min.css&quot;/&gt;\n",
       "    \n",
       "            &lt;meta name=&quot;viewport&quot; content=&quot;width=device-width,\n",
       "                initial-scale=1.0, maximum-scale=1.0, user-scalable=no&quot; /&gt;\n",
       "            &lt;style&gt;\n",
       "                #map_6d1e22dda92088ca39d2cd125c89418f {\n",
       "                    position: relative;\n",
       "                    width: 100.0%;\n",
       "                    height: 100.0%;\n",
       "                    left: 0.0%;\n",
       "                    top: 0.0%;\n",
       "                }\n",
       "                .leaflet-container { font-size: 1rem; }\n",
       "            &lt;/style&gt;\n",
       "        \n",
       "&lt;/head&gt;\n",
       "&lt;body&gt;\n",
       "    \n",
       "    \n",
       "            &lt;div class=&quot;folium-map&quot; id=&quot;map_6d1e22dda92088ca39d2cd125c89418f&quot; &gt;&lt;/div&gt;\n",
       "        \n",
       "&lt;/body&gt;\n",
       "&lt;script&gt;\n",
       "    \n",
       "    \n",
       "            var map_6d1e22dda92088ca39d2cd125c89418f = L.map(\n",
       "                &quot;map_6d1e22dda92088ca39d2cd125c89418f&quot;,\n",
       "                {\n",
       "                    center: [11.0, 0.0],\n",
       "                    crs: L.CRS.EPSG3857,\n",
       "                    zoom: 2,\n",
       "                    zoomControl: true,\n",
       "                    preferCanvas: false,\n",
       "                }\n",
       "            );\n",
       "\n",
       "            \n",
       "\n",
       "        \n",
       "    \n",
       "            var tile_layer_a6634250ae39b791f45d8c82a0711ebe = L.tileLayer(\n",
       "                &quot;https://{s}.basemaps.cartocdn.com/light_all/{z}/{x}/{y}{r}.png&quot;,\n",
       "                {&quot;attribution&quot;: &quot;\\u0026copy; \\u003ca href=\\&quot;https://www.openstreetmap.org/copyright\\&quot;\\u003eOpenStreetMap\\u003c/a\\u003e contributors \\u0026copy; \\u003ca href=\\&quot;https://carto.com/attributions\\&quot;\\u003eCARTO\\u003c/a\\u003e&quot;, &quot;detectRetina&quot;: false, &quot;maxNativeZoom&quot;: 20, &quot;maxZoom&quot;: 6, &quot;minZoom&quot;: 2, &quot;noWrap&quot;: false, &quot;opacity&quot;: 1, &quot;subdomains&quot;: &quot;abcd&quot;, &quot;tms&quot;: false}\n",
       "            );\n",
       "        \n",
       "    \n",
       "            tile_layer_a6634250ae39b791f45d8c82a0711ebe.addTo(map_6d1e22dda92088ca39d2cd125c89418f);\n",
       "        \n",
       "    \n",
       "            var circle_944157982622c2142223158ae57691dc = L.circle(\n",
       "                [33.93911, 67.709953],\n",
       "                {&quot;bubblingMouseEvents&quot;: true, &quot;color&quot;: &quot;red&quot;, &quot;dashArray&quot;: null, &quot;dashOffset&quot;: null, &quot;fill&quot;: true, &quot;fillColor&quot;: &quot;indigo&quot;, &quot;fillOpacity&quot;: 0.2, &quot;fillRule&quot;: &quot;evenodd&quot;, &quot;lineCap&quot;: &quot;round&quot;, &quot;lineJoin&quot;: &quot;round&quot;, &quot;opacity&quot;: 1.0, &quot;radius&quot;: 610000.0, &quot;stroke&quot;: true, &quot;weight&quot;: 3}\n",
       "            ).addTo(map_6d1e22dda92088ca39d2cd125c89418f);\n",
       "        \n",
       "    \n",
       "            circle_944157982622c2142223158ae57691dc.bindTooltip(\n",
       "                `&lt;div&gt;\n",
       "                     &lt;div style=&#x27;margin: 0; background-color: black; color: white;&#x27;&gt;&lt;h4 style=&#x27;text-align:center;font-weight: bold&#x27;&gt;Afghanistan&lt;/h4&gt;&lt;hr style=&#x27;margin:10px;color: white;&#x27;&gt;&lt;ul style=&#x27;color: white;;list-style-type:circle;align-item:left;padding-left:20px;padding-right:20px&#x27;&gt;&lt;li&gt;Confirmed: 209451&lt;/li&gt;&lt;li&gt;Deaths:   7896&lt;/li&gt;&lt;li&gt;Death Rate: 3.77&lt;/li&gt;&lt;/ul&gt;&lt;/div&gt;\n",
       "                 &lt;/div&gt;`,\n",
       "                {&quot;sticky&quot;: true}\n",
       "            );\n",
       "        \n",
       "    \n",
       "            var circle_0021b49bc6687cc2519fb41dd789eeca = L.circle(\n",
       "                [41.1533, 20.1683],\n",
       "                {&quot;bubblingMouseEvents&quot;: true, &quot;color&quot;: &quot;red&quot;, &quot;dashArray&quot;: null, &quot;dashOffset&quot;: null, &quot;fill&quot;: true, &quot;fillColor&quot;: &quot;indigo&quot;, &quot;fillOpacity&quot;: 0.2, &quot;fillRule&quot;: &quot;evenodd&quot;, &quot;lineCap&quot;: &quot;round&quot;, &quot;lineJoin&quot;: &quot;round&quot;, &quot;opacity&quot;: 1.0, &quot;radius&quot;: 610000.0, &quot;stroke&quot;: true, &quot;weight&quot;: 3}\n",
       "            ).addTo(map_6d1e22dda92088ca39d2cd125c89418f);\n",
       "        \n",
       "    \n",
       "            circle_0021b49bc6687cc2519fb41dd789eeca.bindTooltip(\n",
       "                `&lt;div&gt;\n",
       "                     &lt;div style=&#x27;margin: 0; background-color: black; color: white;&#x27;&gt;&lt;h4 style=&#x27;text-align:center;font-weight: bold&#x27;&gt;Albania&lt;/h4&gt;&lt;hr style=&#x27;margin:10px;color: white;&#x27;&gt;&lt;ul style=&#x27;color: white;;list-style-type:circle;align-item:left;padding-left:20px;padding-right:20px&#x27;&gt;&lt;li&gt;Confirmed: 334457&lt;/li&gt;&lt;li&gt;Deaths:   3598&lt;/li&gt;&lt;li&gt;Death Rate: 1.08&lt;/li&gt;&lt;/ul&gt;&lt;/div&gt;\n",
       "                 &lt;/div&gt;`,\n",
       "                {&quot;sticky&quot;: true}\n",
       "            );\n",
       "        \n",
       "    \n",
       "            var circle_b9d64f4839a2b8794dd81612951b2f3c = L.circle(\n",
       "                [28.0339, 1.6596],\n",
       "                {&quot;bubblingMouseEvents&quot;: true, &quot;color&quot;: &quot;red&quot;, &quot;dashArray&quot;: null, &quot;dashOffset&quot;: null, &quot;fill&quot;: true, &quot;fillColor&quot;: &quot;indigo&quot;, &quot;fillOpacity&quot;: 0.2, &quot;fillRule&quot;: &quot;evenodd&quot;, &quot;lineCap&quot;: &quot;round&quot;, &quot;lineJoin&quot;: &quot;round&quot;, &quot;opacity&quot;: 1.0, &quot;radius&quot;: 610000.0, &quot;stroke&quot;: true, &quot;weight&quot;: 3}\n",
       "            ).addTo(map_6d1e22dda92088ca39d2cd125c89418f);\n",
       "        \n",
       "    \n",
       "            circle_b9d64f4839a2b8794dd81612951b2f3c.bindTooltip(\n",
       "                `&lt;div&gt;\n",
       "                     &lt;div style=&#x27;margin: 0; background-color: black; color: white;&#x27;&gt;&lt;h4 style=&#x27;text-align:center;font-weight: bold&#x27;&gt;Algeria&lt;/h4&gt;&lt;hr style=&#x27;margin:10px;color: white;&#x27;&gt;&lt;ul style=&#x27;color: white;;list-style-type:circle;align-item:left;padding-left:20px;padding-right:20px&#x27;&gt;&lt;li&gt;Confirmed: 271496&lt;/li&gt;&lt;li&gt;Deaths:   6881&lt;/li&gt;&lt;li&gt;Death Rate: 2.53&lt;/li&gt;&lt;/ul&gt;&lt;/div&gt;\n",
       "                 &lt;/div&gt;`,\n",
       "                {&quot;sticky&quot;: true}\n",
       "            );\n",
       "        \n",
       "    \n",
       "            var circle_86fef5a3b35a490dffbd7226ae7c112a = L.circle(\n",
       "                [42.5063, 1.5218],\n",
       "                {&quot;bubblingMouseEvents&quot;: true, &quot;color&quot;: &quot;red&quot;, &quot;dashArray&quot;: null, &quot;dashOffset&quot;: null, &quot;fill&quot;: true, &quot;fillColor&quot;: &quot;indigo&quot;, &quot;fillOpacity&quot;: 0.2, &quot;fillRule&quot;: &quot;evenodd&quot;, &quot;lineCap&quot;: &quot;round&quot;, &quot;lineJoin&quot;: &quot;round&quot;, &quot;opacity&quot;: 1.0, &quot;radius&quot;: 509999.99999999994, &quot;stroke&quot;: true, &quot;weight&quot;: 3}\n",
       "            ).addTo(map_6d1e22dda92088ca39d2cd125c89418f);\n",
       "        \n",
       "    \n",
       "            circle_86fef5a3b35a490dffbd7226ae7c112a.bindTooltip(\n",
       "                `&lt;div&gt;\n",
       "                     &lt;div style=&#x27;margin: 0; background-color: black; color: white;&#x27;&gt;&lt;h4 style=&#x27;text-align:center;font-weight: bold&#x27;&gt;Andorra&lt;/h4&gt;&lt;hr style=&#x27;margin:10px;color: white;&#x27;&gt;&lt;ul style=&#x27;color: white;;list-style-type:circle;align-item:left;padding-left:20px;padding-right:20px&#x27;&gt;&lt;li&gt;Confirmed: 47890&lt;/li&gt;&lt;li&gt;Deaths:   165&lt;/li&gt;&lt;li&gt;Death Rate: 0.34&lt;/li&gt;&lt;/ul&gt;&lt;/div&gt;\n",
       "                 &lt;/div&gt;`,\n",
       "                {&quot;sticky&quot;: true}\n",
       "            );\n",
       "        \n",
       "    \n",
       "            var circle_dfc91f4bd33b58a43dec5c8ef1270e25 = L.circle(\n",
       "                [-11.2027, 17.8739],\n",
       "                {&quot;bubblingMouseEvents&quot;: true, &quot;color&quot;: &quot;red&quot;, &quot;dashArray&quot;: null, &quot;dashOffset&quot;: null, &quot;fill&quot;: true, &quot;fillColor&quot;: &quot;indigo&quot;, &quot;fillOpacity&quot;: 0.2, &quot;fillRule&quot;: &quot;evenodd&quot;, &quot;lineCap&quot;: &quot;round&quot;, &quot;lineJoin&quot;: &quot;round&quot;, &quot;opacity&quot;: 1.0, &quot;radius&quot;: 560000.0, &quot;stroke&quot;: true, &quot;weight&quot;: 3}\n",
       "            ).addTo(map_6d1e22dda92088ca39d2cd125c89418f);\n",
       "        \n",
       "    \n",
       "            circle_dfc91f4bd33b58a43dec5c8ef1270e25.bindTooltip(\n",
       "                `&lt;div&gt;\n",
       "                     &lt;div style=&#x27;margin: 0; background-color: black; color: white;&#x27;&gt;&lt;h4 style=&#x27;text-align:center;font-weight: bold&#x27;&gt;Angola&lt;/h4&gt;&lt;hr style=&#x27;margin:10px;color: white;&#x27;&gt;&lt;ul style=&#x27;color: white;;list-style-type:circle;align-item:left;padding-left:20px;padding-right:20px&#x27;&gt;&lt;li&gt;Confirmed: 105288&lt;/li&gt;&lt;li&gt;Deaths:   1933&lt;/li&gt;&lt;li&gt;Death Rate: 1.84&lt;/li&gt;&lt;/ul&gt;&lt;/div&gt;\n",
       "                 &lt;/div&gt;`,\n",
       "                {&quot;sticky&quot;: true}\n",
       "            );\n",
       "        \n",
       "    \n",
       "            var circle_a821a5d63cfac2db3cd7c31f4fc04038 = L.circle(\n",
       "                [-71.9499, 23.347],\n",
       "                {&quot;bubblingMouseEvents&quot;: true, &quot;color&quot;: &quot;red&quot;, &quot;dashArray&quot;: null, &quot;dashOffset&quot;: null, &quot;fill&quot;: true, &quot;fillColor&quot;: &quot;indigo&quot;, &quot;fillOpacity&quot;: 0.2, &quot;fillRule&quot;: &quot;evenodd&quot;, &quot;lineCap&quot;: &quot;round&quot;, &quot;lineJoin&quot;: &quot;round&quot;, &quot;opacity&quot;: 1.0, &quot;radius&quot;: 110000.00000000001, &quot;stroke&quot;: true, &quot;weight&quot;: 3}\n",
       "            ).addTo(map_6d1e22dda92088ca39d2cd125c89418f);\n",
       "        \n",
       "    \n",
       "            circle_a821a5d63cfac2db3cd7c31f4fc04038.bindTooltip(\n",
       "                `&lt;div&gt;\n",
       "                     &lt;div style=&#x27;margin: 0; background-color: black; color: white;&#x27;&gt;&lt;h4 style=&#x27;text-align:center;font-weight: bold&#x27;&gt;Antarctica&lt;/h4&gt;&lt;hr style=&#x27;margin:10px;color: white;&#x27;&gt;&lt;ul style=&#x27;color: white;;list-style-type:circle;align-item:left;padding-left:20px;padding-right:20px&#x27;&gt;&lt;li&gt;Confirmed: 11&lt;/li&gt;&lt;li&gt;Deaths:   0&lt;/li&gt;&lt;li&gt;Death Rate: 0.0&lt;/li&gt;&lt;/ul&gt;&lt;/div&gt;\n",
       "                 &lt;/div&gt;`,\n",
       "                {&quot;sticky&quot;: true}\n",
       "            );\n",
       "        \n",
       "    \n",
       "            var circle_07044261f8d4ad363e807409ec52c091 = L.circle(\n",
       "                [17.0608, -61.7964],\n",
       "                {&quot;bubblingMouseEvents&quot;: true, &quot;color&quot;: &quot;red&quot;, &quot;dashArray&quot;: null, &quot;dashOffset&quot;: null, &quot;fill&quot;: true, &quot;fillColor&quot;: &quot;indigo&quot;, &quot;fillOpacity&quot;: 0.2, &quot;fillRule&quot;: &quot;evenodd&quot;, &quot;lineCap&quot;: &quot;round&quot;, &quot;lineJoin&quot;: &quot;round&quot;, &quot;opacity&quot;: 1.0, &quot;radius&quot;: 459999.99999999994, &quot;stroke&quot;: true, &quot;weight&quot;: 3}\n",
       "            ).addTo(map_6d1e22dda92088ca39d2cd125c89418f);\n",
       "        \n",
       "    \n",
       "            circle_07044261f8d4ad363e807409ec52c091.bindTooltip(\n",
       "                `&lt;div&gt;\n",
       "                     &lt;div style=&#x27;margin: 0; background-color: black; color: white;&#x27;&gt;&lt;h4 style=&#x27;text-align:center;font-weight: bold&#x27;&gt;Antigua and Barbuda&lt;/h4&gt;&lt;hr style=&#x27;margin:10px;color: white;&#x27;&gt;&lt;ul style=&#x27;color: white;;list-style-type:circle;align-item:left;padding-left:20px;padding-right:20px&#x27;&gt;&lt;li&gt;Confirmed: 9106&lt;/li&gt;&lt;li&gt;Deaths:   146&lt;/li&gt;&lt;li&gt;Death Rate: 1.6&lt;/li&gt;&lt;/ul&gt;&lt;/div&gt;\n",
       "                 &lt;/div&gt;`,\n",
       "                {&quot;sticky&quot;: true}\n",
       "            );\n",
       "        \n",
       "    \n",
       "            var circle_1f23580c7fb48e9a9845841168376521 = L.circle(\n",
       "                [-38.4161, -63.6167],\n",
       "                {&quot;bubblingMouseEvents&quot;: true, &quot;color&quot;: &quot;red&quot;, &quot;dashArray&quot;: null, &quot;dashOffset&quot;: null, &quot;fill&quot;: true, &quot;fillColor&quot;: &quot;indigo&quot;, &quot;fillOpacity&quot;: 0.2, &quot;fillRule&quot;: &quot;evenodd&quot;, &quot;lineCap&quot;: &quot;round&quot;, &quot;lineJoin&quot;: &quot;round&quot;, &quot;opacity&quot;: 1.0, &quot;radius&quot;: 810000.0, &quot;stroke&quot;: true, &quot;weight&quot;: 3}\n",
       "            ).addTo(map_6d1e22dda92088ca39d2cd125c89418f);\n",
       "        \n",
       "    \n",
       "            circle_1f23580c7fb48e9a9845841168376521.bindTooltip(\n",
       "                `&lt;div&gt;\n",
       "                     &lt;div style=&#x27;margin: 0; background-color: black; color: white;&#x27;&gt;&lt;h4 style=&#x27;text-align:center;font-weight: bold&#x27;&gt;Argentina&lt;/h4&gt;&lt;hr style=&#x27;margin:10px;color: white;&#x27;&gt;&lt;ul style=&#x27;color: white;;list-style-type:circle;align-item:left;padding-left:20px;padding-right:20px&#x27;&gt;&lt;li&gt;Confirmed: 10044957&lt;/li&gt;&lt;li&gt;Deaths:   130472&lt;/li&gt;&lt;li&gt;Death Rate: 1.3&lt;/li&gt;&lt;/ul&gt;&lt;/div&gt;\n",
       "                 &lt;/div&gt;`,\n",
       "                {&quot;sticky&quot;: true}\n",
       "            );\n",
       "        \n",
       "    \n",
       "            var circle_3369a7a2b4d63bca4ebf66f122433172 = L.circle(\n",
       "                [40.0691, 45.0382],\n",
       "                {&quot;bubblingMouseEvents&quot;: true, &quot;color&quot;: &quot;red&quot;, &quot;dashArray&quot;: null, &quot;dashOffset&quot;: null, &quot;fill&quot;: true, &quot;fillColor&quot;: &quot;indigo&quot;, &quot;fillOpacity&quot;: 0.2, &quot;fillRule&quot;: &quot;evenodd&quot;, &quot;lineCap&quot;: &quot;round&quot;, &quot;lineJoin&quot;: &quot;round&quot;, &quot;opacity&quot;: 1.0, &quot;radius&quot;: 660000.0, &quot;stroke&quot;: true, &quot;weight&quot;: 3}\n",
       "            ).addTo(map_6d1e22dda92088ca39d2cd125c89418f);\n",
       "        \n",
       "    \n",
       "            circle_3369a7a2b4d63bca4ebf66f122433172.bindTooltip(\n",
       "                `&lt;div&gt;\n",
       "                     &lt;div style=&#x27;margin: 0; background-color: black; color: white;&#x27;&gt;&lt;h4 style=&#x27;text-align:center;font-weight: bold&#x27;&gt;Armenia&lt;/h4&gt;&lt;hr style=&#x27;margin:10px;color: white;&#x27;&gt;&lt;ul style=&#x27;color: white;;list-style-type:circle;align-item:left;padding-left:20px;padding-right:20px&#x27;&gt;&lt;li&gt;Confirmed: 447308&lt;/li&gt;&lt;li&gt;Deaths:   8727&lt;/li&gt;&lt;li&gt;Death Rate: 1.95&lt;/li&gt;&lt;/ul&gt;&lt;/div&gt;\n",
       "                 &lt;/div&gt;`,\n",
       "                {&quot;sticky&quot;: true}\n",
       "            );\n",
       "        \n",
       "    \n",
       "            var circle_c0e9512efc9a90909059bf8e800516e9 = L.circle(\n",
       "                [-35.4735, 149.0124],\n",
       "                {&quot;bubblingMouseEvents&quot;: true, &quot;color&quot;: &quot;red&quot;, &quot;dashArray&quot;: null, &quot;dashOffset&quot;: null, &quot;fill&quot;: true, &quot;fillColor&quot;: &quot;indigo&quot;, &quot;fillOpacity&quot;: 0.2, &quot;fillRule&quot;: &quot;evenodd&quot;, &quot;lineCap&quot;: &quot;round&quot;, &quot;lineJoin&quot;: &quot;round&quot;, &quot;opacity&quot;: 1.0, &quot;radius&quot;: 610000.0, &quot;stroke&quot;: true, &quot;weight&quot;: 3}\n",
       "            ).addTo(map_6d1e22dda92088ca39d2cd125c89418f);\n",
       "        \n",
       "    \n",
       "            circle_c0e9512efc9a90909059bf8e800516e9.bindTooltip(\n",
       "                `&lt;div&gt;\n",
       "                     &lt;div style=&#x27;margin: 0; background-color: black; color: white;&#x27;&gt;&lt;h4 style=&#x27;text-align:center;font-weight: bold&#x27;&gt;Australia&lt;/h4&gt;&lt;hr style=&#x27;margin:10px;color: white;&#x27;&gt;&lt;ul style=&#x27;color: white;;list-style-type:circle;align-item:left;padding-left:20px;padding-right:20px&#x27;&gt;&lt;li&gt;Confirmed: 232974&lt;/li&gt;&lt;li&gt;Deaths:   228&lt;/li&gt;&lt;li&gt;Death Rate: 0.1&lt;/li&gt;&lt;/ul&gt;&lt;/div&gt;\n",
       "                 &lt;/div&gt;`,\n",
       "                {&quot;sticky&quot;: true}\n",
       "            );\n",
       "        \n",
       "    \n",
       "            var circle_8fcd482f2728a757e02e436d35037f8d = L.circle(\n",
       "                [-33.8688, 151.2093],\n",
       "                {&quot;bubblingMouseEvents&quot;: true, &quot;color&quot;: &quot;red&quot;, &quot;dashArray&quot;: null, &quot;dashOffset&quot;: null, &quot;fill&quot;: true, &quot;fillColor&quot;: &quot;indigo&quot;, &quot;fillOpacity&quot;: 0.2, &quot;fillRule&quot;: &quot;evenodd&quot;, &quot;lineCap&quot;: &quot;round&quot;, &quot;lineJoin&quot;: &quot;round&quot;, &quot;opacity&quot;: 1.0, &quot;radius&quot;: 760000.0, &quot;stroke&quot;: true, &quot;weight&quot;: 3}\n",
       "            ).addTo(map_6d1e22dda92088ca39d2cd125c89418f);\n",
       "        \n",
       "    \n",
       "            circle_8fcd482f2728a757e02e436d35037f8d.bindTooltip(\n",
       "                `&lt;div&gt;\n",
       "                     &lt;div style=&#x27;margin: 0; background-color: black; color: white;&#x27;&gt;&lt;h4 style=&#x27;text-align:center;font-weight: bold&#x27;&gt;Australia&lt;/h4&gt;&lt;hr style=&#x27;margin:10px;color: white;&#x27;&gt;&lt;ul style=&#x27;color: white;;list-style-type:circle;align-item:left;padding-left:20px;padding-right:20px&#x27;&gt;&lt;li&gt;Confirmed: 3915992&lt;/li&gt;&lt;li&gt;Deaths:   6529&lt;/li&gt;&lt;li&gt;Death Rate: 0.17&lt;/li&gt;&lt;/ul&gt;&lt;/div&gt;\n",
       "                 &lt;/div&gt;`,\n",
       "                {&quot;sticky&quot;: true}\n",
       "            );\n",
       "        \n",
       "    \n",
       "            var circle_c4590d57196481c9c5db610e891d4101 = L.circle(\n",
       "                [-12.4634, 130.8456],\n",
       "                {&quot;bubblingMouseEvents&quot;: true, &quot;color&quot;: &quot;red&quot;, &quot;dashArray&quot;: null, &quot;dashOffset&quot;: null, &quot;fill&quot;: true, &quot;fillColor&quot;: &quot;indigo&quot;, &quot;fillOpacity&quot;: 0.2, &quot;fillRule&quot;: &quot;evenodd&quot;, &quot;lineCap&quot;: &quot;round&quot;, &quot;lineJoin&quot;: &quot;round&quot;, &quot;opacity&quot;: 1.0, &quot;radius&quot;: 560000.0, &quot;stroke&quot;: true, &quot;weight&quot;: 3}\n",
       "            ).addTo(map_6d1e22dda92088ca39d2cd125c89418f);\n",
       "        \n",
       "    \n",
       "            circle_c4590d57196481c9c5db610e891d4101.bindTooltip(\n",
       "                `&lt;div&gt;\n",
       "                     &lt;div style=&#x27;margin: 0; background-color: black; color: white;&#x27;&gt;&lt;h4 style=&#x27;text-align:center;font-weight: bold&#x27;&gt;Australia&lt;/h4&gt;&lt;hr style=&#x27;margin:10px;color: white;&#x27;&gt;&lt;ul style=&#x27;color: white;;list-style-type:circle;align-item:left;padding-left:20px;padding-right:20px&#x27;&gt;&lt;li&gt;Confirmed: 105111&lt;/li&gt;&lt;li&gt;Deaths:   91&lt;/li&gt;&lt;li&gt;Death Rate: 0.09&lt;/li&gt;&lt;/ul&gt;&lt;/div&gt;\n",
       "                 &lt;/div&gt;`,\n",
       "                {&quot;sticky&quot;: true}\n",
       "            );\n",
       "        \n",
       "    \n",
       "            var circle_a71448cd6e64042c8b456c9586c81840 = L.circle(\n",
       "                [-27.4698, 153.0251],\n",
       "                {&quot;bubblingMouseEvents&quot;: true, &quot;color&quot;: &quot;red&quot;, &quot;dashArray&quot;: null, &quot;dashOffset&quot;: null, &quot;fill&quot;: true, &quot;fillColor&quot;: &quot;indigo&quot;, &quot;fillOpacity&quot;: 0.2, &quot;fillRule&quot;: &quot;evenodd&quot;, &quot;lineCap&quot;: &quot;round&quot;, &quot;lineJoin&quot;: &quot;round&quot;, &quot;opacity&quot;: 1.0, &quot;radius&quot;: 710000.0, &quot;stroke&quot;: true, &quot;weight&quot;: 3}\n",
       "            ).addTo(map_6d1e22dda92088ca39d2cd125c89418f);\n",
       "        \n",
       "    \n",
       "            circle_a71448cd6e64042c8b456c9586c81840.bindTooltip(\n",
       "                `&lt;div&gt;\n",
       "                     &lt;div style=&#x27;margin: 0; background-color: black; color: white;&#x27;&gt;&lt;h4 style=&#x27;text-align:center;font-weight: bold&#x27;&gt;Australia&lt;/h4&gt;&lt;hr style=&#x27;margin:10px;color: white;&#x27;&gt;&lt;ul style=&#x27;color: white;;list-style-type:circle;align-item:left;padding-left:20px;padding-right:20px&#x27;&gt;&lt;li&gt;Confirmed: 1800236&lt;/li&gt;&lt;li&gt;Deaths:   2783&lt;/li&gt;&lt;li&gt;Death Rate: 0.15&lt;/li&gt;&lt;/ul&gt;&lt;/div&gt;\n",
       "                 &lt;/div&gt;`,\n",
       "                {&quot;sticky&quot;: true}\n",
       "            );\n",
       "        \n",
       "    \n",
       "            var circle_b26088b943094761490d471868bd07d7 = L.circle(\n",
       "                [-34.9285, 138.6007],\n",
       "                {&quot;bubblingMouseEvents&quot;: true, &quot;color&quot;: &quot;red&quot;, &quot;dashArray&quot;: null, &quot;dashOffset&quot;: null, &quot;fill&quot;: true, &quot;fillColor&quot;: &quot;indigo&quot;, &quot;fillOpacity&quot;: 0.2, &quot;fillRule&quot;: &quot;evenodd&quot;, &quot;lineCap&quot;: &quot;round&quot;, &quot;lineJoin&quot;: &quot;round&quot;, &quot;opacity&quot;: 1.0, &quot;radius&quot;: 660000.0, &quot;stroke&quot;: true, &quot;weight&quot;: 3}\n",
       "            ).addTo(map_6d1e22dda92088ca39d2cd125c89418f);\n",
       "        \n",
       "    \n",
       "            circle_b26088b943094761490d471868bd07d7.bindTooltip(\n",
       "                `&lt;div&gt;\n",
       "                     &lt;div style=&#x27;margin: 0; background-color: black; color: white;&#x27;&gt;&lt;h4 style=&#x27;text-align:center;font-weight: bold&#x27;&gt;Australia&lt;/h4&gt;&lt;hr style=&#x27;margin:10px;color: white;&#x27;&gt;&lt;ul style=&#x27;color: white;;list-style-type:circle;align-item:left;padding-left:20px;padding-right:20px&#x27;&gt;&lt;li&gt;Confirmed: 883620&lt;/li&gt;&lt;li&gt;Deaths:   1365&lt;/li&gt;&lt;li&gt;Death Rate: 0.15&lt;/li&gt;&lt;/ul&gt;&lt;/div&gt;\n",
       "                 &lt;/div&gt;`,\n",
       "                {&quot;sticky&quot;: true}\n",
       "            );\n",
       "        \n",
       "    \n",
       "            var circle_73a21511e245a333d67bc17a7b545890 = L.circle(\n",
       "                [-42.8821, 147.3272],\n",
       "                {&quot;bubblingMouseEvents&quot;: true, &quot;color&quot;: &quot;red&quot;, &quot;dashArray&quot;: null, &quot;dashOffset&quot;: null, &quot;fill&quot;: true, &quot;fillColor&quot;: &quot;indigo&quot;, &quot;fillOpacity&quot;: 0.2, &quot;fillRule&quot;: &quot;evenodd&quot;, &quot;lineCap&quot;: &quot;round&quot;, &quot;lineJoin&quot;: &quot;round&quot;, &quot;opacity&quot;: 1.0, &quot;radius&quot;: 610000.0, &quot;stroke&quot;: true, &quot;weight&quot;: 3}\n",
       "            ).addTo(map_6d1e22dda92088ca39d2cd125c89418f);\n",
       "        \n",
       "    \n",
       "            circle_73a21511e245a333d67bc17a7b545890.bindTooltip(\n",
       "                `&lt;div&gt;\n",
       "                     &lt;div style=&#x27;margin: 0; background-color: black; color: white;&#x27;&gt;&lt;h4 style=&#x27;text-align:center;font-weight: bold&#x27;&gt;Australia&lt;/h4&gt;&lt;hr style=&#x27;margin:10px;color: white;&#x27;&gt;&lt;ul style=&#x27;color: white;;list-style-type:circle;align-item:left;padding-left:20px;padding-right:20px&#x27;&gt;&lt;li&gt;Confirmed: 287507&lt;/li&gt;&lt;li&gt;Deaths:   256&lt;/li&gt;&lt;li&gt;Death Rate: 0.09&lt;/li&gt;&lt;/ul&gt;&lt;/div&gt;\n",
       "                 &lt;/div&gt;`,\n",
       "                {&quot;sticky&quot;: true}\n",
       "            );\n",
       "        \n",
       "    \n",
       "            var circle_9ecb069f9180940d01050e258afe2c62 = L.circle(\n",
       "                [-37.8136, 144.9631],\n",
       "                {&quot;bubblingMouseEvents&quot;: true, &quot;color&quot;: &quot;red&quot;, &quot;dashArray&quot;: null, &quot;dashOffset&quot;: null, &quot;fill&quot;: true, &quot;fillColor&quot;: &quot;indigo&quot;, &quot;fillOpacity&quot;: 0.2, &quot;fillRule&quot;: &quot;evenodd&quot;, &quot;lineCap&quot;: &quot;round&quot;, &quot;lineJoin&quot;: &quot;round&quot;, &quot;opacity&quot;: 1.0, &quot;radius&quot;: 710000.0, &quot;stroke&quot;: true, &quot;weight&quot;: 3}\n",
       "            ).addTo(map_6d1e22dda92088ca39d2cd125c89418f);\n",
       "        \n",
       "    \n",
       "            circle_9ecb069f9180940d01050e258afe2c62.bindTooltip(\n",
       "                `&lt;div&gt;\n",
       "                     &lt;div style=&#x27;margin: 0; background-color: black; color: white;&#x27;&gt;&lt;h4 style=&#x27;text-align:center;font-weight: bold&#x27;&gt;Australia&lt;/h4&gt;&lt;hr style=&#x27;margin:10px;color: white;&#x27;&gt;&lt;ul style=&#x27;color: white;;list-style-type:circle;align-item:left;padding-left:20px;padding-right:20px&#x27;&gt;&lt;li&gt;Confirmed: 2880559&lt;/li&gt;&lt;li&gt;Deaths:   7370&lt;/li&gt;&lt;li&gt;Death Rate: 0.26&lt;/li&gt;&lt;/ul&gt;&lt;/div&gt;\n",
       "                 &lt;/div&gt;`,\n",
       "                {&quot;sticky&quot;: true}\n",
       "            );\n",
       "        \n",
       "    \n",
       "            var circle_b0ab158f3a077fdfc254735debb58f08 = L.circle(\n",
       "                [-31.9505, 115.8605],\n",
       "                {&quot;bubblingMouseEvents&quot;: true, &quot;color&quot;: &quot;red&quot;, &quot;dashArray&quot;: null, &quot;dashOffset&quot;: null, &quot;fill&quot;: true, &quot;fillColor&quot;: &quot;indigo&quot;, &quot;fillOpacity&quot;: 0.2, &quot;fillRule&quot;: &quot;evenodd&quot;, &quot;lineCap&quot;: &quot;round&quot;, &quot;lineJoin&quot;: &quot;round&quot;, &quot;opacity&quot;: 1.0, &quot;radius&quot;: 710000.0, &quot;stroke&quot;: true, &quot;weight&quot;: 3}\n",
       "            ).addTo(map_6d1e22dda92088ca39d2cd125c89418f);\n",
       "        \n",
       "    \n",
       "            circle_b0ab158f3a077fdfc254735debb58f08.bindTooltip(\n",
       "                `&lt;div&gt;\n",
       "                     &lt;div style=&#x27;margin: 0; background-color: black; color: white;&#x27;&gt;&lt;h4 style=&#x27;text-align:center;font-weight: bold&#x27;&gt;Australia&lt;/h4&gt;&lt;hr style=&#x27;margin:10px;color: white;&#x27;&gt;&lt;ul style=&#x27;color: white;;list-style-type:circle;align-item:left;padding-left:20px;padding-right:20px&#x27;&gt;&lt;li&gt;Confirmed: 1293461&lt;/li&gt;&lt;li&gt;Deaths:   952&lt;/li&gt;&lt;li&gt;Death Rate: 0.07&lt;/li&gt;&lt;/ul&gt;&lt;/div&gt;\n",
       "                 &lt;/div&gt;`,\n",
       "                {&quot;sticky&quot;: true}\n",
       "            );\n",
       "        \n",
       "    \n",
       "            var circle_7138e77a85d27848b720ed38379326c0 = L.circle(\n",
       "                [47.5162, 14.5501],\n",
       "                {&quot;bubblingMouseEvents&quot;: true, &quot;color&quot;: &quot;red&quot;, &quot;dashArray&quot;: null, &quot;dashOffset&quot;: null, &quot;fill&quot;: true, &quot;fillColor&quot;: &quot;indigo&quot;, &quot;fillOpacity&quot;: 0.2, &quot;fillRule&quot;: &quot;evenodd&quot;, &quot;lineCap&quot;: &quot;round&quot;, &quot;lineJoin&quot;: &quot;round&quot;, &quot;opacity&quot;: 1.0, &quot;radius&quot;: 760000.0, &quot;stroke&quot;: true, &quot;weight&quot;: 3}\n",
       "            ).addTo(map_6d1e22dda92088ca39d2cd125c89418f);\n",
       "        \n",
       "    \n",
       "            circle_7138e77a85d27848b720ed38379326c0.bindTooltip(\n",
       "                `&lt;div&gt;\n",
       "                     &lt;div style=&#x27;margin: 0; background-color: black; color: white;&#x27;&gt;&lt;h4 style=&#x27;text-align:center;font-weight: bold&#x27;&gt;Austria&lt;/h4&gt;&lt;hr style=&#x27;margin:10px;color: white;&#x27;&gt;&lt;ul style=&#x27;color: white;;list-style-type:circle;align-item:left;padding-left:20px;padding-right:20px&#x27;&gt;&lt;li&gt;Confirmed: 5961143&lt;/li&gt;&lt;li&gt;Deaths:   21970&lt;/li&gt;&lt;li&gt;Death Rate: 0.37&lt;/li&gt;&lt;/ul&gt;&lt;/div&gt;\n",
       "                 &lt;/div&gt;`,\n",
       "                {&quot;sticky&quot;: true}\n",
       "            );\n",
       "        \n",
       "    \n",
       "            var circle_6e8430399040d356a9a2bb577b2c5429 = L.circle(\n",
       "                [40.1431, 47.5769],\n",
       "                {&quot;bubblingMouseEvents&quot;: true, &quot;color&quot;: &quot;red&quot;, &quot;dashArray&quot;: null, &quot;dashOffset&quot;: null, &quot;fill&quot;: true, &quot;fillColor&quot;: &quot;indigo&quot;, &quot;fillOpacity&quot;: 0.2, &quot;fillRule&quot;: &quot;evenodd&quot;, &quot;lineCap&quot;: &quot;round&quot;, &quot;lineJoin&quot;: &quot;round&quot;, &quot;opacity&quot;: 1.0, &quot;radius&quot;: 660000.0, &quot;stroke&quot;: true, &quot;weight&quot;: 3}\n",
       "            ).addTo(map_6d1e22dda92088ca39d2cd125c89418f);\n",
       "        \n",
       "    \n",
       "            circle_6e8430399040d356a9a2bb577b2c5429.bindTooltip(\n",
       "                `&lt;div&gt;\n",
       "                     &lt;div style=&#x27;margin: 0; background-color: black; color: white;&#x27;&gt;&lt;h4 style=&#x27;text-align:center;font-weight: bold&#x27;&gt;Azerbaijan&lt;/h4&gt;&lt;hr style=&#x27;margin:10px;color: white;&#x27;&gt;&lt;ul style=&#x27;color: white;;list-style-type:circle;align-item:left;padding-left:20px;padding-right:20px&#x27;&gt;&lt;li&gt;Confirmed: 828825&lt;/li&gt;&lt;li&gt;Deaths:   10138&lt;/li&gt;&lt;li&gt;Death Rate: 1.22&lt;/li&gt;&lt;/ul&gt;&lt;/div&gt;\n",
       "                 &lt;/div&gt;`,\n",
       "                {&quot;sticky&quot;: true}\n",
       "            );\n",
       "        \n",
       "    \n",
       "            var circle_2ad8ef6f27bbdbed4c20912c07e80bf6 = L.circle(\n",
       "                [25.025885, -78.035889],\n",
       "                {&quot;bubblingMouseEvents&quot;: true, &quot;color&quot;: &quot;red&quot;, &quot;dashArray&quot;: null, &quot;dashOffset&quot;: null, &quot;fill&quot;: true, &quot;fillColor&quot;: &quot;indigo&quot;, &quot;fillOpacity&quot;: 0.2, &quot;fillRule&quot;: &quot;evenodd&quot;, &quot;lineCap&quot;: &quot;round&quot;, &quot;lineJoin&quot;: &quot;round&quot;, &quot;opacity&quot;: 1.0, &quot;radius&quot;: 509999.99999999994, &quot;stroke&quot;: true, &quot;weight&quot;: 3}\n",
       "            ).addTo(map_6d1e22dda92088ca39d2cd125c89418f);\n",
       "        \n",
       "    \n",
       "            circle_2ad8ef6f27bbdbed4c20912c07e80bf6.bindTooltip(\n",
       "                `&lt;div&gt;\n",
       "                     &lt;div style=&#x27;margin: 0; background-color: black; color: white;&#x27;&gt;&lt;h4 style=&#x27;text-align:center;font-weight: bold&#x27;&gt;Bahamas&lt;/h4&gt;&lt;hr style=&#x27;margin:10px;color: white;&#x27;&gt;&lt;ul style=&#x27;color: white;;list-style-type:circle;align-item:left;padding-left:20px;padding-right:20px&#x27;&gt;&lt;li&gt;Confirmed: 37491&lt;/li&gt;&lt;li&gt;Deaths:   833&lt;/li&gt;&lt;li&gt;Death Rate: 2.22&lt;/li&gt;&lt;/ul&gt;&lt;/div&gt;\n",
       "                 &lt;/div&gt;`,\n",
       "                {&quot;sticky&quot;: true}\n",
       "            );\n",
       "        \n",
       "    \n",
       "            var circle_ab15600ff781e8bdac64cd68592a2ff9 = L.circle(\n",
       "                [26.0275, 50.55],\n",
       "                {&quot;bubblingMouseEvents&quot;: true, &quot;color&quot;: &quot;red&quot;, &quot;dashArray&quot;: null, &quot;dashOffset&quot;: null, &quot;fill&quot;: true, &quot;fillColor&quot;: &quot;indigo&quot;, &quot;fillOpacity&quot;: 0.2, &quot;fillRule&quot;: &quot;evenodd&quot;, &quot;lineCap&quot;: &quot;round&quot;, &quot;lineJoin&quot;: &quot;round&quot;, &quot;opacity&quot;: 1.0, &quot;radius&quot;: 660000.0, &quot;stroke&quot;: true, &quot;weight&quot;: 3}\n",
       "            ).addTo(map_6d1e22dda92088ca39d2cd125c89418f);\n",
       "        \n",
       "    \n",
       "            circle_ab15600ff781e8bdac64cd68592a2ff9.bindTooltip(\n",
       "                `&lt;div&gt;\n",
       "                     &lt;div style=&#x27;margin: 0; background-color: black; color: white;&#x27;&gt;&lt;h4 style=&#x27;text-align:center;font-weight: bold&#x27;&gt;Bahrain&lt;/h4&gt;&lt;hr style=&#x27;margin:10px;color: white;&#x27;&gt;&lt;ul style=&#x27;color: white;;list-style-type:circle;align-item:left;padding-left:20px;padding-right:20px&#x27;&gt;&lt;li&gt;Confirmed: 710693&lt;/li&gt;&lt;li&gt;Deaths:   1553&lt;/li&gt;&lt;li&gt;Death Rate: 0.22&lt;/li&gt;&lt;/ul&gt;&lt;/div&gt;\n",
       "                 &lt;/div&gt;`,\n",
       "                {&quot;sticky&quot;: true}\n",
       "            );\n",
       "        \n",
       "    \n",
       "            var circle_079f4c65d3abd52dabe8963e25d5ca61 = L.circle(\n",
       "                [23.685, 90.3563],\n",
       "                {&quot;bubblingMouseEvents&quot;: true, &quot;color&quot;: &quot;red&quot;, &quot;dashArray&quot;: null, &quot;dashOffset&quot;: null, &quot;fill&quot;: true, &quot;fillColor&quot;: &quot;indigo&quot;, &quot;fillOpacity&quot;: 0.2, &quot;fillRule&quot;: &quot;evenodd&quot;, &quot;lineCap&quot;: &quot;round&quot;, &quot;lineJoin&quot;: &quot;round&quot;, &quot;opacity&quot;: 1.0, &quot;radius&quot;: 710000.0, &quot;stroke&quot;: true, &quot;weight&quot;: 3}\n",
       "            ).addTo(map_6d1e22dda92088ca39d2cd125c89418f);\n",
       "        \n",
       "    \n",
       "            circle_079f4c65d3abd52dabe8963e25d5ca61.bindTooltip(\n",
       "                `&lt;div&gt;\n",
       "                     &lt;div style=&#x27;margin: 0; background-color: black; color: white;&#x27;&gt;&lt;h4 style=&#x27;text-align:center;font-weight: bold&#x27;&gt;Bangladesh&lt;/h4&gt;&lt;hr style=&#x27;margin:10px;color: white;&#x27;&gt;&lt;ul style=&#x27;color: white;;list-style-type:circle;align-item:left;padding-left:20px;padding-right:20px&#x27;&gt;&lt;li&gt;Confirmed: 2037871&lt;/li&gt;&lt;li&gt;Deaths:   29445&lt;/li&gt;&lt;li&gt;Death Rate: 1.44&lt;/li&gt;&lt;/ul&gt;&lt;/div&gt;\n",
       "                 &lt;/div&gt;`,\n",
       "                {&quot;sticky&quot;: true}\n",
       "            );\n",
       "        \n",
       "    \n",
       "            var circle_4a6eebc9d9d652d2abaec47cf4f43589 = L.circle(\n",
       "                [13.1939, -59.5432],\n",
       "                {&quot;bubblingMouseEvents&quot;: true, &quot;color&quot;: &quot;red&quot;, &quot;dashArray&quot;: null, &quot;dashOffset&quot;: null, &quot;fill&quot;: true, &quot;fillColor&quot;: &quot;indigo&quot;, &quot;fillOpacity&quot;: 0.2, &quot;fillRule&quot;: &quot;evenodd&quot;, &quot;lineCap&quot;: &quot;round&quot;, &quot;lineJoin&quot;: &quot;round&quot;, &quot;opacity&quot;: 1.0, &quot;radius&quot;: 560000.0, &quot;stroke&quot;: true, &quot;weight&quot;: 3}\n",
       "            ).addTo(map_6d1e22dda92088ca39d2cd125c89418f);\n",
       "        \n",
       "    \n",
       "            circle_4a6eebc9d9d652d2abaec47cf4f43589.bindTooltip(\n",
       "                `&lt;div&gt;\n",
       "                     &lt;div style=&#x27;margin: 0; background-color: black; color: white;&#x27;&gt;&lt;h4 style=&#x27;text-align:center;font-weight: bold&#x27;&gt;Barbados&lt;/h4&gt;&lt;hr style=&#x27;margin:10px;color: white;&#x27;&gt;&lt;ul style=&#x27;color: white;;list-style-type:circle;align-item:left;padding-left:20px;padding-right:20px&#x27;&gt;&lt;li&gt;Confirmed: 106798&lt;/li&gt;&lt;li&gt;Deaths:   579&lt;/li&gt;&lt;li&gt;Death Rate: 0.54&lt;/li&gt;&lt;/ul&gt;&lt;/div&gt;\n",
       "                 &lt;/div&gt;`,\n",
       "                {&quot;sticky&quot;: true}\n",
       "            );\n",
       "        \n",
       "    \n",
       "            var circle_f206dd7d275c19b8f25b0ca725394a2c = L.circle(\n",
       "                [53.7098, 27.9534],\n",
       "                {&quot;bubblingMouseEvents&quot;: true, &quot;color&quot;: &quot;red&quot;, &quot;dashArray&quot;: null, &quot;dashOffset&quot;: null, &quot;fill&quot;: true, &quot;fillColor&quot;: &quot;indigo&quot;, &quot;fillOpacity&quot;: 0.2, &quot;fillRule&quot;: &quot;evenodd&quot;, &quot;lineCap&quot;: &quot;round&quot;, &quot;lineJoin&quot;: &quot;round&quot;, &quot;opacity&quot;: 1.0, &quot;radius&quot;: 660000.0, &quot;stroke&quot;: true, &quot;weight&quot;: 3}\n",
       "            ).addTo(map_6d1e22dda92088ca39d2cd125c89418f);\n",
       "        \n",
       "    \n",
       "            circle_f206dd7d275c19b8f25b0ca725394a2c.bindTooltip(\n",
       "                `&lt;div&gt;\n",
       "                     &lt;div style=&#x27;margin: 0; background-color: black; color: white;&#x27;&gt;&lt;h4 style=&#x27;text-align:center;font-weight: bold&#x27;&gt;Belarus&lt;/h4&gt;&lt;hr style=&#x27;margin:10px;color: white;&#x27;&gt;&lt;ul style=&#x27;color: white;;list-style-type:circle;align-item:left;padding-left:20px;padding-right:20px&#x27;&gt;&lt;li&gt;Confirmed: 994037&lt;/li&gt;&lt;li&gt;Deaths:   7118&lt;/li&gt;&lt;li&gt;Death Rate: 0.72&lt;/li&gt;&lt;/ul&gt;&lt;/div&gt;\n",
       "                 &lt;/div&gt;`,\n",
       "                {&quot;sticky&quot;: true}\n",
       "            );\n",
       "        \n",
       "    \n",
       "            var circle_b302e4616ddc008134066089e13c1909 = L.circle(\n",
       "                [50.8333, 4.469936],\n",
       "                {&quot;bubblingMouseEvents&quot;: true, &quot;color&quot;: &quot;red&quot;, &quot;dashArray&quot;: null, &quot;dashOffset&quot;: null, &quot;fill&quot;: true, &quot;fillColor&quot;: &quot;indigo&quot;, &quot;fillOpacity&quot;: 0.2, &quot;fillRule&quot;: &quot;evenodd&quot;, &quot;lineCap&quot;: &quot;round&quot;, &quot;lineJoin&quot;: &quot;round&quot;, &quot;opacity&quot;: 1.0, &quot;radius&quot;: 760000.0, &quot;stroke&quot;: true, &quot;weight&quot;: 3}\n",
       "            ).addTo(map_6d1e22dda92088ca39d2cd125c89418f);\n",
       "        \n",
       "    \n",
       "            circle_b302e4616ddc008134066089e13c1909.bindTooltip(\n",
       "                `&lt;div&gt;\n",
       "                     &lt;div style=&#x27;margin: 0; background-color: black; color: white;&#x27;&gt;&lt;h4 style=&#x27;text-align:center;font-weight: bold&#x27;&gt;Belgium&lt;/h4&gt;&lt;hr style=&#x27;margin:10px;color: white;&#x27;&gt;&lt;ul style=&#x27;color: white;;list-style-type:circle;align-item:left;padding-left:20px;padding-right:20px&#x27;&gt;&lt;li&gt;Confirmed: 4739365&lt;/li&gt;&lt;li&gt;Deaths:   33814&lt;/li&gt;&lt;li&gt;Death Rate: 0.71&lt;/li&gt;&lt;/ul&gt;&lt;/div&gt;\n",
       "                 &lt;/div&gt;`,\n",
       "                {&quot;sticky&quot;: true}\n",
       "            );\n",
       "        \n",
       "    \n",
       "            var circle_6ef51cdbbbe091cc2a4bba134fd07a54 = L.circle(\n",
       "                [17.1899, -88.4976],\n",
       "                {&quot;bubblingMouseEvents&quot;: true, &quot;color&quot;: &quot;red&quot;, &quot;dashArray&quot;: null, &quot;dashOffset&quot;: null, &quot;fill&quot;: true, &quot;fillColor&quot;: &quot;indigo&quot;, &quot;fillOpacity&quot;: 0.2, &quot;fillRule&quot;: &quot;evenodd&quot;, &quot;lineCap&quot;: &quot;round&quot;, &quot;lineJoin&quot;: &quot;round&quot;, &quot;opacity&quot;: 1.0, &quot;radius&quot;: 560000.0, &quot;stroke&quot;: true, &quot;weight&quot;: 3}\n",
       "            ).addTo(map_6d1e22dda92088ca39d2cd125c89418f);\n",
       "        \n",
       "    \n",
       "            circle_6ef51cdbbbe091cc2a4bba134fd07a54.bindTooltip(\n",
       "                `&lt;div&gt;\n",
       "                     &lt;div style=&#x27;margin: 0; background-color: black; color: white;&#x27;&gt;&lt;h4 style=&#x27;text-align:center;font-weight: bold&#x27;&gt;Belize&lt;/h4&gt;&lt;hr style=&#x27;margin:10px;color: white;&#x27;&gt;&lt;ul style=&#x27;color: white;;list-style-type:circle;align-item:left;padding-left:20px;padding-right:20px&#x27;&gt;&lt;li&gt;Confirmed: 70757&lt;/li&gt;&lt;li&gt;Deaths:   688&lt;/li&gt;&lt;li&gt;Death Rate: 0.97&lt;/li&gt;&lt;/ul&gt;&lt;/div&gt;\n",
       "                 &lt;/div&gt;`,\n",
       "                {&quot;sticky&quot;: true}\n",
       "            );\n",
       "        \n",
       "    \n",
       "            var circle_bbbdefacee578bb97c2bb8bbb58d5739 = L.circle(\n",
       "                [9.3077, 2.3158],\n",
       "                {&quot;bubblingMouseEvents&quot;: true, &quot;color&quot;: &quot;red&quot;, &quot;dashArray&quot;: null, &quot;dashOffset&quot;: null, &quot;fill&quot;: true, &quot;fillColor&quot;: &quot;indigo&quot;, &quot;fillOpacity&quot;: 0.2, &quot;fillRule&quot;: &quot;evenodd&quot;, &quot;lineCap&quot;: &quot;round&quot;, &quot;lineJoin&quot;: &quot;round&quot;, &quot;opacity&quot;: 1.0, &quot;radius&quot;: 509999.99999999994, &quot;stroke&quot;: true, &quot;weight&quot;: 3}\n",
       "            ).addTo(map_6d1e22dda92088ca39d2cd125c89418f);\n",
       "        \n",
       "    \n",
       "            circle_bbbdefacee578bb97c2bb8bbb58d5739.bindTooltip(\n",
       "                `&lt;div&gt;\n",
       "                     &lt;div style=&#x27;margin: 0; background-color: black; color: white;&#x27;&gt;&lt;h4 style=&#x27;text-align:center;font-weight: bold&#x27;&gt;Benin&lt;/h4&gt;&lt;hr style=&#x27;margin:10px;color: white;&#x27;&gt;&lt;ul style=&#x27;color: white;;list-style-type:circle;align-item:left;padding-left:20px;padding-right:20px&#x27;&gt;&lt;li&gt;Confirmed: 27999&lt;/li&gt;&lt;li&gt;Deaths:   163&lt;/li&gt;&lt;li&gt;Death Rate: 0.58&lt;/li&gt;&lt;/ul&gt;&lt;/div&gt;\n",
       "                 &lt;/div&gt;`,\n",
       "                {&quot;sticky&quot;: true}\n",
       "            );\n",
       "        \n",
       "    \n",
       "            var circle_c84492f3728643cd4ad75bfbbd67d383 = L.circle(\n",
       "                [27.5142, 90.4336],\n",
       "                {&quot;bubblingMouseEvents&quot;: true, &quot;color&quot;: &quot;red&quot;, &quot;dashArray&quot;: null, &quot;dashOffset&quot;: null, &quot;fill&quot;: true, &quot;fillColor&quot;: &quot;indigo&quot;, &quot;fillOpacity&quot;: 0.2, &quot;fillRule&quot;: &quot;evenodd&quot;, &quot;lineCap&quot;: &quot;round&quot;, &quot;lineJoin&quot;: &quot;round&quot;, &quot;opacity&quot;: 1.0, &quot;radius&quot;: 560000.0, &quot;stroke&quot;: true, &quot;weight&quot;: 3}\n",
       "            ).addTo(map_6d1e22dda92088ca39d2cd125c89418f);\n",
       "        \n",
       "    \n",
       "            circle_c84492f3728643cd4ad75bfbbd67d383.bindTooltip(\n",
       "                `&lt;div&gt;\n",
       "                     &lt;div style=&#x27;margin: 0; background-color: black; color: white;&#x27;&gt;&lt;h4 style=&#x27;text-align:center;font-weight: bold&#x27;&gt;Bhutan&lt;/h4&gt;&lt;hr style=&#x27;margin:10px;color: white;&#x27;&gt;&lt;ul style=&#x27;color: white;;list-style-type:circle;align-item:left;padding-left:20px;padding-right:20px&#x27;&gt;&lt;li&gt;Confirmed: 62627&lt;/li&gt;&lt;li&gt;Deaths:   21&lt;/li&gt;&lt;li&gt;Death Rate: 0.03&lt;/li&gt;&lt;/ul&gt;&lt;/div&gt;\n",
       "                 &lt;/div&gt;`,\n",
       "                {&quot;sticky&quot;: true}\n",
       "            );\n",
       "        \n",
       "    \n",
       "            var circle_5fa81cb4bdf8b16d4dd2bcba119bdd6a = L.circle(\n",
       "                [-16.2902, -63.5887],\n",
       "                {&quot;bubblingMouseEvents&quot;: true, &quot;color&quot;: &quot;red&quot;, &quot;dashArray&quot;: null, &quot;dashOffset&quot;: null, &quot;fill&quot;: true, &quot;fillColor&quot;: &quot;indigo&quot;, &quot;fillOpacity&quot;: 0.2, &quot;fillRule&quot;: &quot;evenodd&quot;, &quot;lineCap&quot;: &quot;round&quot;, &quot;lineJoin&quot;: &quot;round&quot;, &quot;opacity&quot;: 1.0, &quot;radius&quot;: 660000.0, &quot;stroke&quot;: true, &quot;weight&quot;: 3}\n",
       "            ).addTo(map_6d1e22dda92088ca39d2cd125c89418f);\n",
       "        \n",
       "    \n",
       "            circle_5fa81cb4bdf8b16d4dd2bcba119bdd6a.bindTooltip(\n",
       "                `&lt;div&gt;\n",
       "                     &lt;div style=&#x27;margin: 0; background-color: black; color: white;&#x27;&gt;&lt;h4 style=&#x27;text-align:center;font-weight: bold&#x27;&gt;Bolivia&lt;/h4&gt;&lt;hr style=&#x27;margin:10px;color: white;&#x27;&gt;&lt;ul style=&#x27;color: white;;list-style-type:circle;align-item:left;padding-left:20px;padding-right:20px&#x27;&gt;&lt;li&gt;Confirmed: 1194277&lt;/li&gt;&lt;li&gt;Deaths:   22365&lt;/li&gt;&lt;li&gt;Death Rate: 1.87&lt;/li&gt;&lt;/ul&gt;&lt;/div&gt;\n",
       "                 &lt;/div&gt;`,\n",
       "                {&quot;sticky&quot;: true}\n",
       "            );\n",
       "        \n",
       "    \n",
       "            var circle_34de8b66bf1d269a7595511cfdcb3784 = L.circle(\n",
       "                [43.9159, 17.6791],\n",
       "                {&quot;bubblingMouseEvents&quot;: true, &quot;color&quot;: &quot;red&quot;, &quot;dashArray&quot;: null, &quot;dashOffset&quot;: null, &quot;fill&quot;: true, &quot;fillColor&quot;: &quot;indigo&quot;, &quot;fillOpacity&quot;: 0.2, &quot;fillRule&quot;: &quot;evenodd&quot;, &quot;lineCap&quot;: &quot;round&quot;, &quot;lineJoin&quot;: &quot;round&quot;, &quot;opacity&quot;: 1.0, &quot;radius&quot;: 610000.0, &quot;stroke&quot;: true, &quot;weight&quot;: 3}\n",
       "            ).addTo(map_6d1e22dda92088ca39d2cd125c89418f);\n",
       "        \n",
       "    \n",
       "            circle_34de8b66bf1d269a7595511cfdcb3784.bindTooltip(\n",
       "                `&lt;div&gt;\n",
       "                     &lt;div style=&#x27;margin: 0; background-color: black; color: white;&#x27;&gt;&lt;h4 style=&#x27;text-align:center;font-weight: bold&#x27;&gt;Bosnia and Herzegovina&lt;/h4&gt;&lt;hr style=&#x27;margin:10px;color: white;&#x27;&gt;&lt;ul style=&#x27;color: white;;list-style-type:circle;align-item:left;padding-left:20px;padding-right:20px&#x27;&gt;&lt;li&gt;Confirmed: 401729&lt;/li&gt;&lt;li&gt;Deaths:   16280&lt;/li&gt;&lt;li&gt;Death Rate: 4.05&lt;/li&gt;&lt;/ul&gt;&lt;/div&gt;\n",
       "                 &lt;/div&gt;`,\n",
       "                {&quot;sticky&quot;: true}\n",
       "            );\n",
       "        \n",
       "    \n",
       "            var circle_50fba6ecebdcdb8351e446f431c9b0b2 = L.circle(\n",
       "                [-22.3285, 24.6849],\n",
       "                {&quot;bubblingMouseEvents&quot;: true, &quot;color&quot;: &quot;red&quot;, &quot;dashArray&quot;: null, &quot;dashOffset&quot;: null, &quot;fill&quot;: true, &quot;fillColor&quot;: &quot;indigo&quot;, &quot;fillOpacity&quot;: 0.2, &quot;fillRule&quot;: &quot;evenodd&quot;, &quot;lineCap&quot;: &quot;round&quot;, &quot;lineJoin&quot;: &quot;round&quot;, &quot;opacity&quot;: 1.0, &quot;radius&quot;: 610000.0, &quot;stroke&quot;: true, &quot;weight&quot;: 3}\n",
       "            ).addTo(map_6d1e22dda92088ca39d2cd125c89418f);\n",
       "        \n",
       "    \n",
       "            circle_50fba6ecebdcdb8351e446f431c9b0b2.bindTooltip(\n",
       "                `&lt;div&gt;\n",
       "                     &lt;div style=&#x27;margin: 0; background-color: black; color: white;&#x27;&gt;&lt;h4 style=&#x27;text-align:center;font-weight: bold&#x27;&gt;Botswana&lt;/h4&gt;&lt;hr style=&#x27;margin:10px;color: white;&#x27;&gt;&lt;ul style=&#x27;color: white;;list-style-type:circle;align-item:left;padding-left:20px;padding-right:20px&#x27;&gt;&lt;li&gt;Confirmed: 329758&lt;/li&gt;&lt;li&gt;Deaths:   2801&lt;/li&gt;&lt;li&gt;Death Rate: 0.85&lt;/li&gt;&lt;/ul&gt;&lt;/div&gt;\n",
       "                 &lt;/div&gt;`,\n",
       "                {&quot;sticky&quot;: true}\n",
       "            );\n",
       "        \n",
       "    \n",
       "            var circle_93db134a7363a8fdb1f74977ce6c734c = L.circle(\n",
       "                [-14.235, -51.9253],\n",
       "                {&quot;bubblingMouseEvents&quot;: true, &quot;color&quot;: &quot;red&quot;, &quot;dashArray&quot;: null, &quot;dashOffset&quot;: null, &quot;fill&quot;: true, &quot;fillColor&quot;: &quot;indigo&quot;, &quot;fillOpacity&quot;: 0.2, &quot;fillRule&quot;: &quot;evenodd&quot;, &quot;lineCap&quot;: &quot;round&quot;, &quot;lineJoin&quot;: &quot;round&quot;, &quot;opacity&quot;: 1.0, &quot;radius&quot;: 860000.0, &quot;stroke&quot;: true, &quot;weight&quot;: 3}\n",
       "            ).addTo(map_6d1e22dda92088ca39d2cd125c89418f);\n",
       "        \n",
       "    \n",
       "            circle_93db134a7363a8fdb1f74977ce6c734c.bindTooltip(\n",
       "                `&lt;div&gt;\n",
       "                     &lt;div style=&#x27;margin: 0; background-color: black; color: white;&#x27;&gt;&lt;h4 style=&#x27;text-align:center;font-weight: bold&#x27;&gt;Brazil&lt;/h4&gt;&lt;hr style=&#x27;margin:10px;color: white;&#x27;&gt;&lt;ul style=&#x27;color: white;;list-style-type:circle;align-item:left;padding-left:20px;padding-right:20px&#x27;&gt;&lt;li&gt;Confirmed: 37076053&lt;/li&gt;&lt;li&gt;Deaths:   699276&lt;/li&gt;&lt;li&gt;Death Rate: 1.89&lt;/li&gt;&lt;/ul&gt;&lt;/div&gt;\n",
       "                 &lt;/div&gt;`,\n",
       "                {&quot;sticky&quot;: true}\n",
       "            );\n",
       "        \n",
       "    \n",
       "            var circle_927fe14a9a9bea998b4c252337a25382 = L.circle(\n",
       "                [4.5353, 114.7277],\n",
       "                {&quot;bubblingMouseEvents&quot;: true, &quot;color&quot;: &quot;red&quot;, &quot;dashArray&quot;: null, &quot;dashOffset&quot;: null, &quot;fill&quot;: true, &quot;fillColor&quot;: &quot;indigo&quot;, &quot;fillOpacity&quot;: 0.2, &quot;fillRule&quot;: &quot;evenodd&quot;, &quot;lineCap&quot;: &quot;round&quot;, &quot;lineJoin&quot;: &quot;round&quot;, &quot;opacity&quot;: 1.0, &quot;radius&quot;: 610000.0, &quot;stroke&quot;: true, &quot;weight&quot;: 3}\n",
       "            ).addTo(map_6d1e22dda92088ca39d2cd125c89418f);\n",
       "        \n",
       "    \n",
       "            circle_927fe14a9a9bea998b4c252337a25382.bindTooltip(\n",
       "                `&lt;div&gt;\n",
       "                     &lt;div style=&#x27;margin: 0; background-color: black; color: white;&#x27;&gt;&lt;h4 style=&#x27;text-align:center;font-weight: bold&#x27;&gt;Brunei&lt;/h4&gt;&lt;hr style=&#x27;margin:10px;color: white;&#x27;&gt;&lt;ul style=&#x27;color: white;;list-style-type:circle;align-item:left;padding-left:20px;padding-right:20px&#x27;&gt;&lt;li&gt;Confirmed: 279661&lt;/li&gt;&lt;li&gt;Deaths:   225&lt;/li&gt;&lt;li&gt;Death Rate: 0.08&lt;/li&gt;&lt;/ul&gt;&lt;/div&gt;\n",
       "                 &lt;/div&gt;`,\n",
       "                {&quot;sticky&quot;: true}\n",
       "            );\n",
       "        \n",
       "    \n",
       "            var circle_6ba64930f118e91dcd5f0868121b61bf = L.circle(\n",
       "                [42.7339, 25.4858],\n",
       "                {&quot;bubblingMouseEvents&quot;: true, &quot;color&quot;: &quot;red&quot;, &quot;dashArray&quot;: null, &quot;dashOffset&quot;: null, &quot;fill&quot;: true, &quot;fillColor&quot;: &quot;indigo&quot;, &quot;fillOpacity&quot;: 0.2, &quot;fillRule&quot;: &quot;evenodd&quot;, &quot;lineCap&quot;: &quot;round&quot;, &quot;lineJoin&quot;: &quot;round&quot;, &quot;opacity&quot;: 1.0, &quot;radius&quot;: 710000.0, &quot;stroke&quot;: true, &quot;weight&quot;: 3}\n",
       "            ).addTo(map_6d1e22dda92088ca39d2cd125c89418f);\n",
       "        \n",
       "    \n",
       "            circle_6ba64930f118e91dcd5f0868121b61bf.bindTooltip(\n",
       "                `&lt;div&gt;\n",
       "                     &lt;div style=&#x27;margin: 0; background-color: black; color: white;&#x27;&gt;&lt;h4 style=&#x27;text-align:center;font-weight: bold&#x27;&gt;Bulgaria&lt;/h4&gt;&lt;hr style=&#x27;margin:10px;color: white;&#x27;&gt;&lt;ul style=&#x27;color: white;;list-style-type:circle;align-item:left;padding-left:20px;padding-right:20px&#x27;&gt;&lt;li&gt;Confirmed: 1297523&lt;/li&gt;&lt;li&gt;Deaths:   38228&lt;/li&gt;&lt;li&gt;Death Rate: 2.95&lt;/li&gt;&lt;/ul&gt;&lt;/div&gt;\n",
       "                 &lt;/div&gt;`,\n",
       "                {&quot;sticky&quot;: true}\n",
       "            );\n",
       "        \n",
       "    \n",
       "            var circle_a9297cfa6b8eb9e379726165a184b1ed = L.circle(\n",
       "                [12.2383, -1.5616],\n",
       "                {&quot;bubblingMouseEvents&quot;: true, &quot;color&quot;: &quot;red&quot;, &quot;dashArray&quot;: null, &quot;dashOffset&quot;: null, &quot;fill&quot;: true, &quot;fillColor&quot;: &quot;indigo&quot;, &quot;fillOpacity&quot;: 0.2, &quot;fillRule&quot;: &quot;evenodd&quot;, &quot;lineCap&quot;: &quot;round&quot;, &quot;lineJoin&quot;: &quot;round&quot;, &quot;opacity&quot;: 1.0, &quot;radius&quot;: 509999.99999999994, &quot;stroke&quot;: true, &quot;weight&quot;: 3}\n",
       "            ).addTo(map_6d1e22dda92088ca39d2cd125c89418f);\n",
       "        \n",
       "    \n",
       "            circle_a9297cfa6b8eb9e379726165a184b1ed.bindTooltip(\n",
       "                `&lt;div&gt;\n",
       "                     &lt;div style=&#x27;margin: 0; background-color: black; color: white;&#x27;&gt;&lt;h4 style=&#x27;text-align:center;font-weight: bold&#x27;&gt;Burkina Faso&lt;/h4&gt;&lt;hr style=&#x27;margin:10px;color: white;&#x27;&gt;&lt;ul style=&#x27;color: white;;list-style-type:circle;align-item:left;padding-left:20px;padding-right:20px&#x27;&gt;&lt;li&gt;Confirmed: 22056&lt;/li&gt;&lt;li&gt;Deaths:   396&lt;/li&gt;&lt;li&gt;Death Rate: 1.8&lt;/li&gt;&lt;/ul&gt;&lt;/div&gt;\n",
       "                 &lt;/div&gt;`,\n",
       "                {&quot;sticky&quot;: true}\n",
       "            );\n",
       "        \n",
       "    \n",
       "            var circle_986dc0e044d029ab4e69bbfd5d0a172a = L.circle(\n",
       "                [21.9162, 95.956],\n",
       "                {&quot;bubblingMouseEvents&quot;: true, &quot;color&quot;: &quot;red&quot;, &quot;dashArray&quot;: null, &quot;dashOffset&quot;: null, &quot;fill&quot;: true, &quot;fillColor&quot;: &quot;indigo&quot;, &quot;fillOpacity&quot;: 0.2, &quot;fillRule&quot;: &quot;evenodd&quot;, &quot;lineCap&quot;: &quot;round&quot;, &quot;lineJoin&quot;: &quot;round&quot;, &quot;opacity&quot;: 1.0, &quot;radius&quot;: 660000.0, &quot;stroke&quot;: true, &quot;weight&quot;: 3}\n",
       "            ).addTo(map_6d1e22dda92088ca39d2cd125c89418f);\n",
       "        \n",
       "    \n",
       "            circle_986dc0e044d029ab4e69bbfd5d0a172a.bindTooltip(\n",
       "                `&lt;div&gt;\n",
       "                     &lt;div style=&#x27;margin: 0; background-color: black; color: white;&#x27;&gt;&lt;h4 style=&#x27;text-align:center;font-weight: bold&#x27;&gt;Burma&lt;/h4&gt;&lt;hr style=&#x27;margin:10px;color: white;&#x27;&gt;&lt;ul style=&#x27;color: white;;list-style-type:circle;align-item:left;padding-left:20px;padding-right:20px&#x27;&gt;&lt;li&gt;Confirmed: 633950&lt;/li&gt;&lt;li&gt;Deaths:   19490&lt;/li&gt;&lt;li&gt;Death Rate: 3.07&lt;/li&gt;&lt;/ul&gt;&lt;/div&gt;\n",
       "                 &lt;/div&gt;`,\n",
       "                {&quot;sticky&quot;: true}\n",
       "            );\n",
       "        \n",
       "    \n",
       "            var circle_1a78a876d5e8dd68f59d315871acfe42 = L.circle(\n",
       "                [-3.3731, 29.9189],\n",
       "                {&quot;bubblingMouseEvents&quot;: true, &quot;color&quot;: &quot;red&quot;, &quot;dashArray&quot;: null, &quot;dashOffset&quot;: null, &quot;fill&quot;: true, &quot;fillColor&quot;: &quot;indigo&quot;, &quot;fillOpacity&quot;: 0.2, &quot;fillRule&quot;: &quot;evenodd&quot;, &quot;lineCap&quot;: &quot;round&quot;, &quot;lineJoin&quot;: &quot;round&quot;, &quot;opacity&quot;: 1.0, &quot;radius&quot;: 509999.99999999994, &quot;stroke&quot;: true, &quot;weight&quot;: 3}\n",
       "            ).addTo(map_6d1e22dda92088ca39d2cd125c89418f);\n",
       "        \n",
       "    \n",
       "            circle_1a78a876d5e8dd68f59d315871acfe42.bindTooltip(\n",
       "                `&lt;div&gt;\n",
       "                     &lt;div style=&#x27;margin: 0; background-color: black; color: white;&#x27;&gt;&lt;h4 style=&#x27;text-align:center;font-weight: bold&#x27;&gt;Burundi&lt;/h4&gt;&lt;hr style=&#x27;margin:10px;color: white;&#x27;&gt;&lt;ul style=&#x27;color: white;;list-style-type:circle;align-item:left;padding-left:20px;padding-right:20px&#x27;&gt;&lt;li&gt;Confirmed: 53631&lt;/li&gt;&lt;li&gt;Deaths:   38&lt;/li&gt;&lt;li&gt;Death Rate: 0.07&lt;/li&gt;&lt;/ul&gt;&lt;/div&gt;\n",
       "                 &lt;/div&gt;`,\n",
       "                {&quot;sticky&quot;: true}\n",
       "            );\n",
       "        \n",
       "    \n",
       "            var circle_c5f575d283b60bb1491358e4fe69929f = L.circle(\n",
       "                [16.5388, -23.0418],\n",
       "                {&quot;bubblingMouseEvents&quot;: true, &quot;color&quot;: &quot;red&quot;, &quot;dashArray&quot;: null, &quot;dashOffset&quot;: null, &quot;fill&quot;: true, &quot;fillColor&quot;: &quot;indigo&quot;, &quot;fillOpacity&quot;: 0.2, &quot;fillRule&quot;: &quot;evenodd&quot;, &quot;lineCap&quot;: &quot;round&quot;, &quot;lineJoin&quot;: &quot;round&quot;, &quot;opacity&quot;: 1.0, &quot;radius&quot;: 560000.0, &quot;stroke&quot;: true, &quot;weight&quot;: 3}\n",
       "            ).addTo(map_6d1e22dda92088ca39d2cd125c89418f);\n",
       "        \n",
       "    \n",
       "            circle_c5f575d283b60bb1491358e4fe69929f.bindTooltip(\n",
       "                `&lt;div&gt;\n",
       "                     &lt;div style=&#x27;margin: 0; background-color: black; color: white;&#x27;&gt;&lt;h4 style=&#x27;text-align:center;font-weight: bold&#x27;&gt;Cabo Verde&lt;/h4&gt;&lt;hr style=&#x27;margin:10px;color: white;&#x27;&gt;&lt;ul style=&#x27;color: white;;list-style-type:circle;align-item:left;padding-left:20px;padding-right:20px&#x27;&gt;&lt;li&gt;Confirmed: 63244&lt;/li&gt;&lt;li&gt;Deaths:   413&lt;/li&gt;&lt;li&gt;Death Rate: 0.65&lt;/li&gt;&lt;/ul&gt;&lt;/div&gt;\n",
       "                 &lt;/div&gt;`,\n",
       "                {&quot;sticky&quot;: true}\n",
       "            );\n",
       "        \n",
       "    \n",
       "            var circle_178f65d5a5b216a3515392bd0fdc9beb = L.circle(\n",
       "                [11.55, 104.9167],\n",
       "                {&quot;bubblingMouseEvents&quot;: true, &quot;color&quot;: &quot;red&quot;, &quot;dashArray&quot;: null, &quot;dashOffset&quot;: null, &quot;fill&quot;: true, &quot;fillColor&quot;: &quot;indigo&quot;, &quot;fillOpacity&quot;: 0.2, &quot;fillRule&quot;: &quot;evenodd&quot;, &quot;lineCap&quot;: &quot;round&quot;, &quot;lineJoin&quot;: &quot;round&quot;, &quot;opacity&quot;: 1.0, &quot;radius&quot;: 560000.0, &quot;stroke&quot;: true, &quot;weight&quot;: 3}\n",
       "            ).addTo(map_6d1e22dda92088ca39d2cd125c89418f);\n",
       "        \n",
       "    \n",
       "            circle_178f65d5a5b216a3515392bd0fdc9beb.bindTooltip(\n",
       "                `&lt;div&gt;\n",
       "                     &lt;div style=&#x27;margin: 0; background-color: black; color: white;&#x27;&gt;&lt;h4 style=&#x27;text-align:center;font-weight: bold&#x27;&gt;Cambodia&lt;/h4&gt;&lt;hr style=&#x27;margin:10px;color: white;&#x27;&gt;&lt;ul style=&#x27;color: white;;list-style-type:circle;align-item:left;padding-left:20px;padding-right:20px&#x27;&gt;&lt;li&gt;Confirmed: 138719&lt;/li&gt;&lt;li&gt;Deaths:   3056&lt;/li&gt;&lt;li&gt;Death Rate: 2.2&lt;/li&gt;&lt;/ul&gt;&lt;/div&gt;\n",
       "                 &lt;/div&gt;`,\n",
       "                {&quot;sticky&quot;: true}\n",
       "            );\n",
       "        \n",
       "    \n",
       "            var circle_386a609b7e51639cc10b210fdcca9fcd = L.circle(\n",
       "                [3.848, 11.5021],\n",
       "                {&quot;bubblingMouseEvents&quot;: true, &quot;color&quot;: &quot;red&quot;, &quot;dashArray&quot;: null, &quot;dashOffset&quot;: null, &quot;fill&quot;: true, &quot;fillColor&quot;: &quot;indigo&quot;, &quot;fillOpacity&quot;: 0.2, &quot;fillRule&quot;: &quot;evenodd&quot;, &quot;lineCap&quot;: &quot;round&quot;, &quot;lineJoin&quot;: &quot;round&quot;, &quot;opacity&quot;: 1.0, &quot;radius&quot;: 560000.0, &quot;stroke&quot;: true, &quot;weight&quot;: 3}\n",
       "            ).addTo(map_6d1e22dda92088ca39d2cd125c89418f);\n",
       "        \n",
       "    \n",
       "            circle_386a609b7e51639cc10b210fdcca9fcd.bindTooltip(\n",
       "                `&lt;div&gt;\n",
       "                     &lt;div style=&#x27;margin: 0; background-color: black; color: white;&#x27;&gt;&lt;h4 style=&#x27;text-align:center;font-weight: bold&#x27;&gt;Cameroon&lt;/h4&gt;&lt;hr style=&#x27;margin:10px;color: white;&#x27;&gt;&lt;ul style=&#x27;color: white;;list-style-type:circle;align-item:left;padding-left:20px;padding-right:20px&#x27;&gt;&lt;li&gt;Confirmed: 124392&lt;/li&gt;&lt;li&gt;Deaths:   1965&lt;/li&gt;&lt;li&gt;Death Rate: 1.58&lt;/li&gt;&lt;/ul&gt;&lt;/div&gt;\n",
       "                 &lt;/div&gt;`,\n",
       "                {&quot;sticky&quot;: true}\n",
       "            );\n",
       "        \n",
       "    \n",
       "            var circle_464a4243c54768ad185cdffb6b22cfd1 = L.circle(\n",
       "                [53.9333, -116.5765],\n",
       "                {&quot;bubblingMouseEvents&quot;: true, &quot;color&quot;: &quot;red&quot;, &quot;dashArray&quot;: null, &quot;dashOffset&quot;: null, &quot;fill&quot;: true, &quot;fillColor&quot;: &quot;indigo&quot;, &quot;fillOpacity&quot;: 0.2, &quot;fillRule&quot;: &quot;evenodd&quot;, &quot;lineCap&quot;: &quot;round&quot;, &quot;lineJoin&quot;: &quot;round&quot;, &quot;opacity&quot;: 1.0, &quot;radius&quot;: 660000.0, &quot;stroke&quot;: true, &quot;weight&quot;: 3}\n",
       "            ).addTo(map_6d1e22dda92088ca39d2cd125c89418f);\n",
       "        \n",
       "    \n",
       "            circle_464a4243c54768ad185cdffb6b22cfd1.bindTooltip(\n",
       "                `&lt;div&gt;\n",
       "                     &lt;div style=&#x27;margin: 0; background-color: black; color: white;&#x27;&gt;&lt;h4 style=&#x27;text-align:center;font-weight: bold&#x27;&gt;Canada&lt;/h4&gt;&lt;hr style=&#x27;margin:10px;color: white;&#x27;&gt;&lt;ul style=&#x27;color: white;;list-style-type:circle;align-item:left;padding-left:20px;padding-right:20px&#x27;&gt;&lt;li&gt;Confirmed: 629269&lt;/li&gt;&lt;li&gt;Deaths:   5622&lt;/li&gt;&lt;li&gt;Death Rate: 0.89&lt;/li&gt;&lt;/ul&gt;&lt;/div&gt;\n",
       "                 &lt;/div&gt;`,\n",
       "                {&quot;sticky&quot;: true}\n",
       "            );\n",
       "        \n",
       "    \n",
       "            var circle_4983a2e25b9f1530881547220cf99b85 = L.circle(\n",
       "                [53.7267, -127.6476],\n",
       "                {&quot;bubblingMouseEvents&quot;: true, &quot;color&quot;: &quot;red&quot;, &quot;dashArray&quot;: null, &quot;dashOffset&quot;: null, &quot;fill&quot;: true, &quot;fillColor&quot;: &quot;indigo&quot;, &quot;fillOpacity&quot;: 0.2, &quot;fillRule&quot;: &quot;evenodd&quot;, &quot;lineCap&quot;: &quot;round&quot;, &quot;lineJoin&quot;: &quot;round&quot;, &quot;opacity&quot;: 1.0, &quot;radius&quot;: 610000.0, &quot;stroke&quot;: true, &quot;weight&quot;: 3}\n",
       "            ).addTo(map_6d1e22dda92088ca39d2cd125c89418f);\n",
       "        \n",
       "    \n",
       "            circle_4983a2e25b9f1530881547220cf99b85.bindTooltip(\n",
       "                `&lt;div&gt;\n",
       "                     &lt;div style=&#x27;margin: 0; background-color: black; color: white;&#x27;&gt;&lt;h4 style=&#x27;text-align:center;font-weight: bold&#x27;&gt;Canada&lt;/h4&gt;&lt;hr style=&#x27;margin:10px;color: white;&#x27;&gt;&lt;ul style=&#x27;color: white;;list-style-type:circle;align-item:left;padding-left:20px;padding-right:20px&#x27;&gt;&lt;li&gt;Confirmed: 396817&lt;/li&gt;&lt;li&gt;Deaths:   5249&lt;/li&gt;&lt;li&gt;Death Rate: 1.32&lt;/li&gt;&lt;/ul&gt;&lt;/div&gt;\n",
       "                 &lt;/div&gt;`,\n",
       "                {&quot;sticky&quot;: true}\n",
       "            );\n",
       "        \n",
       "    \n",
       "            var circle_08e7617eb7e41828a5e204df513038b1 = L.circle(\n",
       "                [0.0, 0.0],\n",
       "                {&quot;bubblingMouseEvents&quot;: true, &quot;color&quot;: &quot;red&quot;, &quot;dashArray&quot;: null, &quot;dashOffset&quot;: null, &quot;fill&quot;: true, &quot;fillColor&quot;: &quot;indigo&quot;, &quot;fillOpacity&quot;: 0.2, &quot;fillRule&quot;: &quot;evenodd&quot;, &quot;lineCap&quot;: &quot;round&quot;, &quot;lineJoin&quot;: &quot;round&quot;, &quot;opacity&quot;: 1.0, &quot;radius&quot;: 10000.0, &quot;stroke&quot;: true, &quot;weight&quot;: 3}\n",
       "            ).addTo(map_6d1e22dda92088ca39d2cd125c89418f);\n",
       "        \n",
       "    \n",
       "            circle_08e7617eb7e41828a5e204df513038b1.bindTooltip(\n",
       "                `&lt;div&gt;\n",
       "                     &lt;div style=&#x27;margin: 0; background-color: black; color: white;&#x27;&gt;&lt;h4 style=&#x27;text-align:center;font-weight: bold&#x27;&gt;Canada&lt;/h4&gt;&lt;hr style=&#x27;margin:10px;color: white;&#x27;&gt;&lt;ul style=&#x27;color: white;;list-style-type:circle;align-item:left;padding-left:20px;padding-right:20px&#x27;&gt;&lt;li&gt;Confirmed: 0&lt;/li&gt;&lt;li&gt;Deaths:   1&lt;/li&gt;&lt;li&gt;Death Rate: 100.0&lt;/li&gt;&lt;/ul&gt;&lt;/div&gt;\n",
       "                 &lt;/div&gt;`,\n",
       "                {&quot;sticky&quot;: true}\n",
       "            );\n",
       "        \n",
       "    \n",
       "            var circle_82a301f3a323a77a01f02248807b6785 = L.circle(\n",
       "                [0.0, 0.0],\n",
       "                {&quot;bubblingMouseEvents&quot;: true, &quot;color&quot;: &quot;red&quot;, &quot;dashArray&quot;: null, &quot;dashOffset&quot;: null, &quot;fill&quot;: true, &quot;fillColor&quot;: &quot;indigo&quot;, &quot;fillOpacity&quot;: 0.2, &quot;fillRule&quot;: &quot;evenodd&quot;, &quot;lineCap&quot;: &quot;round&quot;, &quot;lineJoin&quot;: &quot;round&quot;, &quot;opacity&quot;: 1.0, &quot;radius&quot;: 110000.00000000001, &quot;stroke&quot;: true, &quot;weight&quot;: 3}\n",
       "            ).addTo(map_6d1e22dda92088ca39d2cd125c89418f);\n",
       "        \n",
       "    \n",
       "            circle_82a301f3a323a77a01f02248807b6785.bindTooltip(\n",
       "                `&lt;div&gt;\n",
       "                     &lt;div style=&#x27;margin: 0; background-color: black; color: white;&#x27;&gt;&lt;h4 style=&#x27;text-align:center;font-weight: bold&#x27;&gt;Canada&lt;/h4&gt;&lt;hr style=&#x27;margin:10px;color: white;&#x27;&gt;&lt;ul style=&#x27;color: white;;list-style-type:circle;align-item:left;padding-left:20px;padding-right:20px&#x27;&gt;&lt;li&gt;Confirmed: 13&lt;/li&gt;&lt;li&gt;Deaths:   0&lt;/li&gt;&lt;li&gt;Death Rate: 0.0&lt;/li&gt;&lt;/ul&gt;&lt;/div&gt;\n",
       "                 &lt;/div&gt;`,\n",
       "                {&quot;sticky&quot;: true}\n",
       "            );\n",
       "        \n",
       "    \n",
       "            var circle_921c47cca961d2390b3546d620518cda = L.circle(\n",
       "                [53.7609, -98.8139],\n",
       "                {&quot;bubblingMouseEvents&quot;: true, &quot;color&quot;: &quot;red&quot;, &quot;dashArray&quot;: null, &quot;dashOffset&quot;: null, &quot;fill&quot;: true, &quot;fillColor&quot;: &quot;indigo&quot;, &quot;fillOpacity&quot;: 0.2, &quot;fillRule&quot;: &quot;evenodd&quot;, &quot;lineCap&quot;: &quot;round&quot;, &quot;lineJoin&quot;: &quot;round&quot;, &quot;opacity&quot;: 1.0, &quot;radius&quot;: 560000.0, &quot;stroke&quot;: true, &quot;weight&quot;: 3}\n",
       "            ).addTo(map_6d1e22dda92088ca39d2cd125c89418f);\n",
       "        \n",
       "    \n",
       "            circle_921c47cca961d2390b3546d620518cda.bindTooltip(\n",
       "                `&lt;div&gt;\n",
       "                     &lt;div style=&#x27;margin: 0; background-color: black; color: white;&#x27;&gt;&lt;h4 style=&#x27;text-align:center;font-weight: bold&#x27;&gt;Canada&lt;/h4&gt;&lt;hr style=&#x27;margin:10px;color: white;&#x27;&gt;&lt;ul style=&#x27;color: white;;list-style-type:circle;align-item:left;padding-left:20px;padding-right:20px&#x27;&gt;&lt;li&gt;Confirmed: 154712&lt;/li&gt;&lt;li&gt;Deaths:   2464&lt;/li&gt;&lt;li&gt;Death Rate: 1.59&lt;/li&gt;&lt;/ul&gt;&lt;/div&gt;\n",
       "                 &lt;/div&gt;`,\n",
       "                {&quot;sticky&quot;: true}\n",
       "            );\n",
       "        \n",
       "    \n",
       "            var circle_f2230f27f87dd13257b2169f85781a9c = L.circle(\n",
       "                [46.5653, -66.4619],\n",
       "                {&quot;bubblingMouseEvents&quot;: true, &quot;color&quot;: &quot;red&quot;, &quot;dashArray&quot;: null, &quot;dashOffset&quot;: null, &quot;fill&quot;: true, &quot;fillColor&quot;: &quot;indigo&quot;, &quot;fillOpacity&quot;: 0.2, &quot;fillRule&quot;: &quot;evenodd&quot;, &quot;lineCap&quot;: &quot;round&quot;, &quot;lineJoin&quot;: &quot;round&quot;, &quot;opacity&quot;: 1.0, &quot;radius&quot;: 560000.0, &quot;stroke&quot;: true, &quot;weight&quot;: 3}\n",
       "            ).addTo(map_6d1e22dda92088ca39d2cd125c89418f);\n",
       "        \n",
       "    \n",
       "            circle_f2230f27f87dd13257b2169f85781a9c.bindTooltip(\n",
       "                `&lt;div&gt;\n",
       "                     &lt;div style=&#x27;margin: 0; background-color: black; color: white;&#x27;&gt;&lt;h4 style=&#x27;text-align:center;font-weight: bold&#x27;&gt;Canada&lt;/h4&gt;&lt;hr style=&#x27;margin:10px;color: white;&#x27;&gt;&lt;ul style=&#x27;color: white;;list-style-type:circle;align-item:left;padding-left:20px;padding-right:20px&#x27;&gt;&lt;li&gt;Confirmed: 88866&lt;/li&gt;&lt;li&gt;Deaths:   834&lt;/li&gt;&lt;li&gt;Death Rate: 0.94&lt;/li&gt;&lt;/ul&gt;&lt;/div&gt;\n",
       "                 &lt;/div&gt;`,\n",
       "                {&quot;sticky&quot;: true}\n",
       "            );\n",
       "        \n",
       "    \n",
       "            var circle_4d1112eccbbcb4040753254eff05cf36 = L.circle(\n",
       "                [53.1355, -57.6604],\n",
       "                {&quot;bubblingMouseEvents&quot;: true, &quot;color&quot;: &quot;red&quot;, &quot;dashArray&quot;: null, &quot;dashOffset&quot;: null, &quot;fill&quot;: true, &quot;fillColor&quot;: &quot;indigo&quot;, &quot;fillOpacity&quot;: 0.2, &quot;fillRule&quot;: &quot;evenodd&quot;, &quot;lineCap&quot;: &quot;round&quot;, &quot;lineJoin&quot;: &quot;round&quot;, &quot;opacity&quot;: 1.0, &quot;radius&quot;: 509999.99999999994, &quot;stroke&quot;: true, &quot;weight&quot;: 3}\n",
       "            ).addTo(map_6d1e22dda92088ca39d2cd125c89418f);\n",
       "        \n",
       "    \n",
       "            circle_4d1112eccbbcb4040753254eff05cf36.bindTooltip(\n",
       "                `&lt;div&gt;\n",
       "                     &lt;div style=&#x27;margin: 0; background-color: black; color: white;&#x27;&gt;&lt;h4 style=&#x27;text-align:center;font-weight: bold&#x27;&gt;Canada&lt;/h4&gt;&lt;hr style=&#x27;margin:10px;color: white;&#x27;&gt;&lt;ul style=&#x27;color: white;;list-style-type:circle;align-item:left;padding-left:20px;padding-right:20px&#x27;&gt;&lt;li&gt;Confirmed: 54757&lt;/li&gt;&lt;li&gt;Deaths:   318&lt;/li&gt;&lt;li&gt;Death Rate: 0.58&lt;/li&gt;&lt;/ul&gt;&lt;/div&gt;\n",
       "                 &lt;/div&gt;`,\n",
       "                {&quot;sticky&quot;: true}\n",
       "            );\n",
       "        \n",
       "    \n",
       "            var circle_f5db4838ab08a8eff379061f72622e9e = L.circle(\n",
       "                [64.8255, -124.8457],\n",
       "                {&quot;bubblingMouseEvents&quot;: true, &quot;color&quot;: &quot;red&quot;, &quot;dashArray&quot;: null, &quot;dashOffset&quot;: null, &quot;fill&quot;: true, &quot;fillColor&quot;: &quot;indigo&quot;, &quot;fillOpacity&quot;: 0.2, &quot;fillRule&quot;: &quot;evenodd&quot;, &quot;lineCap&quot;: &quot;round&quot;, &quot;lineJoin&quot;: &quot;round&quot;, &quot;opacity&quot;: 1.0, &quot;radius&quot;: 459999.99999999994, &quot;stroke&quot;: true, &quot;weight&quot;: 3}\n",
       "            ).addTo(map_6d1e22dda92088ca39d2cd125c89418f);\n",
       "        \n",
       "    \n",
       "            circle_f5db4838ab08a8eff379061f72622e9e.bindTooltip(\n",
       "                `&lt;div&gt;\n",
       "                     &lt;div style=&#x27;margin: 0; background-color: black; color: white;&#x27;&gt;&lt;h4 style=&#x27;text-align:center;font-weight: bold&#x27;&gt;Canada&lt;/h4&gt;&lt;hr style=&#x27;margin:10px;color: white;&#x27;&gt;&lt;ul style=&#x27;color: white;;list-style-type:circle;align-item:left;padding-left:20px;padding-right:20px&#x27;&gt;&lt;li&gt;Confirmed: 11511&lt;/li&gt;&lt;li&gt;Deaths:   22&lt;/li&gt;&lt;li&gt;Death Rate: 0.19&lt;/li&gt;&lt;/ul&gt;&lt;/div&gt;\n",
       "                 &lt;/div&gt;`,\n",
       "                {&quot;sticky&quot;: true}\n",
       "            );\n",
       "        \n",
       "    \n",
       "            var circle_12fccaf0a8bfa158b0fee2f8c1b0d5b1 = L.circle(\n",
       "                [44.682, -63.7443],\n",
       "                {&quot;bubblingMouseEvents&quot;: true, &quot;color&quot;: &quot;red&quot;, &quot;dashArray&quot;: null, &quot;dashOffset&quot;: null, &quot;fill&quot;: true, &quot;fillColor&quot;: &quot;indigo&quot;, &quot;fillOpacity&quot;: 0.2, &quot;fillRule&quot;: &quot;evenodd&quot;, &quot;lineCap&quot;: &quot;round&quot;, &quot;lineJoin&quot;: &quot;round&quot;, &quot;opacity&quot;: 1.0, &quot;radius&quot;: 560000.0, &quot;stroke&quot;: true, &quot;weight&quot;: 3}\n",
       "            ).addTo(map_6d1e22dda92088ca39d2cd125c89418f);\n",
       "        \n",
       "    \n",
       "            circle_12fccaf0a8bfa158b0fee2f8c1b0d5b1.bindTooltip(\n",
       "                `&lt;div&gt;\n",
       "                     &lt;div style=&#x27;margin: 0; background-color: black; color: white;&#x27;&gt;&lt;h4 style=&#x27;text-align:center;font-weight: bold&#x27;&gt;Canada&lt;/h4&gt;&lt;hr style=&#x27;margin:10px;color: white;&#x27;&gt;&lt;ul style=&#x27;color: white;;list-style-type:circle;align-item:left;padding-left:20px;padding-right:20px&#x27;&gt;&lt;li&gt;Confirmed: 140793&lt;/li&gt;&lt;li&gt;Deaths:   794&lt;/li&gt;&lt;li&gt;Death Rate: 0.56&lt;/li&gt;&lt;/ul&gt;&lt;/div&gt;\n",
       "                 &lt;/div&gt;`,\n",
       "                {&quot;sticky&quot;: true}\n",
       "            );\n",
       "        \n",
       "    \n",
       "            var circle_8c70bf2655adcd0f234560b31607cf64 = L.circle(\n",
       "                [70.2998, -83.1076],\n",
       "                {&quot;bubblingMouseEvents&quot;: true, &quot;color&quot;: &quot;red&quot;, &quot;dashArray&quot;: null, &quot;dashOffset&quot;: null, &quot;fill&quot;: true, &quot;fillColor&quot;: &quot;indigo&quot;, &quot;fillOpacity&quot;: 0.2, &quot;fillRule&quot;: &quot;evenodd&quot;, &quot;lineCap&quot;: &quot;round&quot;, &quot;lineJoin&quot;: &quot;round&quot;, &quot;opacity&quot;: 1.0, &quot;radius&quot;: 409999.99999999994, &quot;stroke&quot;: true, &quot;weight&quot;: 3}\n",
       "            ).addTo(map_6d1e22dda92088ca39d2cd125c89418f);\n",
       "        \n",
       "    \n",
       "            circle_8c70bf2655adcd0f234560b31607cf64.bindTooltip(\n",
       "                `&lt;div&gt;\n",
       "                     &lt;div style=&#x27;margin: 0; background-color: black; color: white;&#x27;&gt;&lt;h4 style=&#x27;text-align:center;font-weight: bold&#x27;&gt;Canada&lt;/h4&gt;&lt;hr style=&#x27;margin:10px;color: white;&#x27;&gt;&lt;ul style=&#x27;color: white;;list-style-type:circle;align-item:left;padding-left:20px;padding-right:20px&#x27;&gt;&lt;li&gt;Confirmed: 3531&lt;/li&gt;&lt;li&gt;Deaths:   7&lt;/li&gt;&lt;li&gt;Death Rate: 0.2&lt;/li&gt;&lt;/ul&gt;&lt;/div&gt;\n",
       "                 &lt;/div&gt;`,\n",
       "                {&quot;sticky&quot;: true}\n",
       "            );\n",
       "        \n",
       "    \n",
       "            var circle_2cabc6c6609dabdbf1128c00fdee3285 = L.circle(\n",
       "                [51.2538, -85.3232],\n",
       "                {&quot;bubblingMouseEvents&quot;: true, &quot;color&quot;: &quot;red&quot;, &quot;dashArray&quot;: null, &quot;dashOffset&quot;: null, &quot;fill&quot;: true, &quot;fillColor&quot;: &quot;indigo&quot;, &quot;fillOpacity&quot;: 0.2, &quot;fillRule&quot;: &quot;evenodd&quot;, &quot;lineCap&quot;: &quot;round&quot;, &quot;lineJoin&quot;: &quot;round&quot;, &quot;opacity&quot;: 1.0, &quot;radius&quot;: 710000.0, &quot;stroke&quot;: true, &quot;weight&quot;: 3}\n",
       "            ).addTo(map_6d1e22dda92088ca39d2cd125c89418f);\n",
       "        \n",
       "    \n",
       "            circle_2cabc6c6609dabdbf1128c00fdee3285.bindTooltip(\n",
       "                `&lt;div&gt;\n",
       "                     &lt;div style=&#x27;margin: 0; background-color: black; color: white;&#x27;&gt;&lt;h4 style=&#x27;text-align:center;font-weight: bold&#x27;&gt;Canada&lt;/h4&gt;&lt;hr style=&#x27;margin:10px;color: white;&#x27;&gt;&lt;ul style=&#x27;color: white;;list-style-type:circle;align-item:left;padding-left:20px;padding-right:20px&#x27;&gt;&lt;li&gt;Confirmed: 1601325&lt;/li&gt;&lt;li&gt;Deaths:   16234&lt;/li&gt;&lt;li&gt;Death Rate: 1.01&lt;/li&gt;&lt;/ul&gt;&lt;/div&gt;\n",
       "                 &lt;/div&gt;`,\n",
       "                {&quot;sticky&quot;: true}\n",
       "            );\n",
       "        \n",
       "    \n",
       "            var circle_c511553a148a36910eabbc8e9e15c957 = L.circle(\n",
       "                [46.5107, -63.4168],\n",
       "                {&quot;bubblingMouseEvents&quot;: true, &quot;color&quot;: &quot;red&quot;, &quot;dashArray&quot;: null, &quot;dashOffset&quot;: null, &quot;fill&quot;: true, &quot;fillColor&quot;: &quot;indigo&quot;, &quot;fillOpacity&quot;: 0.2, &quot;fillRule&quot;: &quot;evenodd&quot;, &quot;lineCap&quot;: &quot;round&quot;, &quot;lineJoin&quot;: &quot;round&quot;, &quot;opacity&quot;: 1.0, &quot;radius&quot;: 509999.99999999994, &quot;stroke&quot;: true, &quot;weight&quot;: 3}\n",
       "            ).addTo(map_6d1e22dda92088ca39d2cd125c89418f);\n",
       "        \n",
       "    \n",
       "            circle_c511553a148a36910eabbc8e9e15c957.bindTooltip(\n",
       "                `&lt;div&gt;\n",
       "                     &lt;div style=&#x27;margin: 0; background-color: black; color: white;&#x27;&gt;&lt;h4 style=&#x27;text-align:center;font-weight: bold&#x27;&gt;Canada&lt;/h4&gt;&lt;hr style=&#x27;margin:10px;color: white;&#x27;&gt;&lt;ul style=&#x27;color: white;;list-style-type:circle;align-item:left;padding-left:20px;padding-right:20px&#x27;&gt;&lt;li&gt;Confirmed: 56523&lt;/li&gt;&lt;li&gt;Deaths:   93&lt;/li&gt;&lt;li&gt;Death Rate: 0.16&lt;/li&gt;&lt;/ul&gt;&lt;/div&gt;\n",
       "                 &lt;/div&gt;`,\n",
       "                {&quot;sticky&quot;: true}\n",
       "            );\n",
       "        \n",
       "    \n",
       "            var circle_3af8acf69cef2af8aed05c0fa0c6609a = L.circle(\n",
       "                [52.9399, -73.5491],\n",
       "                {&quot;bubblingMouseEvents&quot;: true, &quot;color&quot;: &quot;red&quot;, &quot;dashArray&quot;: null, &quot;dashOffset&quot;: null, &quot;fill&quot;: true, &quot;fillColor&quot;: &quot;indigo&quot;, &quot;fillOpacity&quot;: 0.2, &quot;fillRule&quot;: &quot;evenodd&quot;, &quot;lineCap&quot;: &quot;round&quot;, &quot;lineJoin&quot;: &quot;round&quot;, &quot;opacity&quot;: 1.0, &quot;radius&quot;: 710000.0, &quot;stroke&quot;: true, &quot;weight&quot;: 3}\n",
       "            ).addTo(map_6d1e22dda92088ca39d2cd125c89418f);\n",
       "        \n",
       "    \n",
       "            circle_3af8acf69cef2af8aed05c0fa0c6609a.bindTooltip(\n",
       "                `&lt;div&gt;\n",
       "                     &lt;div style=&#x27;margin: 0; background-color: black; color: white;&#x27;&gt;&lt;h4 style=&#x27;text-align:center;font-weight: bold&#x27;&gt;Canada&lt;/h4&gt;&lt;hr style=&#x27;margin:10px;color: white;&#x27;&gt;&lt;ul style=&#x27;color: white;;list-style-type:circle;align-item:left;padding-left:20px;padding-right:20px&#x27;&gt;&lt;li&gt;Confirmed: 1320325&lt;/li&gt;&lt;li&gt;Deaths:   18160&lt;/li&gt;&lt;li&gt;Death Rate: 1.38&lt;/li&gt;&lt;/ul&gt;&lt;/div&gt;\n",
       "                 &lt;/div&gt;`,\n",
       "                {&quot;sticky&quot;: true}\n",
       "            );\n",
       "        \n",
       "    \n",
       "            var circle_7223a2e8db6c34466e050b5325703601 = L.circle(\n",
       "                [52.9399, -106.4509],\n",
       "                {&quot;bubblingMouseEvents&quot;: true, &quot;color&quot;: &quot;red&quot;, &quot;dashArray&quot;: null, &quot;dashOffset&quot;: null, &quot;fill&quot;: true, &quot;fillColor&quot;: &quot;indigo&quot;, &quot;fillOpacity&quot;: 0.2, &quot;fillRule&quot;: &quot;evenodd&quot;, &quot;lineCap&quot;: &quot;round&quot;, &quot;lineJoin&quot;: &quot;round&quot;, &quot;opacity&quot;: 1.0, &quot;radius&quot;: 560000.0, &quot;stroke&quot;: true, &quot;weight&quot;: 3}\n",
       "            ).addTo(map_6d1e22dda92088ca39d2cd125c89418f);\n",
       "        \n",
       "    \n",
       "            circle_7223a2e8db6c34466e050b5325703601.bindTooltip(\n",
       "                `&lt;div&gt;\n",
       "                     &lt;div style=&#x27;margin: 0; background-color: black; color: white;&#x27;&gt;&lt;h4 style=&#x27;text-align:center;font-weight: bold&#x27;&gt;Canada&lt;/h4&gt;&lt;hr style=&#x27;margin:10px;color: white;&#x27;&gt;&lt;ul style=&#x27;color: white;;list-style-type:circle;align-item:left;padding-left:20px;padding-right:20px&#x27;&gt;&lt;li&gt;Confirmed: 153651&lt;/li&gt;&lt;li&gt;Deaths:   0&lt;/li&gt;&lt;li&gt;Death Rate: 0.0&lt;/li&gt;&lt;/ul&gt;&lt;/div&gt;\n",
       "                 &lt;/div&gt;`,\n",
       "                {&quot;sticky&quot;: true}\n",
       "            );\n",
       "        \n",
       "    \n",
       "            var circle_cca5ba43d735043400bc37669baf9d56 = L.circle(\n",
       "                [64.2823, -135.0],\n",
       "                {&quot;bubblingMouseEvents&quot;: true, &quot;color&quot;: &quot;red&quot;, &quot;dashArray&quot;: null, &quot;dashOffset&quot;: null, &quot;fill&quot;: true, &quot;fillColor&quot;: &quot;indigo&quot;, &quot;fillOpacity&quot;: 0.2, &quot;fillRule&quot;: &quot;evenodd&quot;, &quot;lineCap&quot;: &quot;round&quot;, &quot;lineJoin&quot;: &quot;round&quot;, &quot;opacity&quot;: 1.0, &quot;radius&quot;: 409999.99999999994, &quot;stroke&quot;: true, &quot;weight&quot;: 3}\n",
       "            ).addTo(map_6d1e22dda92088ca39d2cd125c89418f);\n",
       "        \n",
       "    \n",
       "            circle_cca5ba43d735043400bc37669baf9d56.bindTooltip(\n",
       "                `&lt;div&gt;\n",
       "                     &lt;div style=&#x27;margin: 0; background-color: black; color: white;&#x27;&gt;&lt;h4 style=&#x27;text-align:center;font-weight: bold&#x27;&gt;Canada&lt;/h4&gt;&lt;hr style=&#x27;margin:10px;color: white;&#x27;&gt;&lt;ul style=&#x27;color: white;;list-style-type:circle;align-item:left;padding-left:20px;padding-right:20px&#x27;&gt;&lt;li&gt;Confirmed: 4989&lt;/li&gt;&lt;li&gt;Deaths:   1890&lt;/li&gt;&lt;li&gt;Death Rate: 37.88&lt;/li&gt;&lt;/ul&gt;&lt;/div&gt;\n",
       "                 &lt;/div&gt;`,\n",
       "                {&quot;sticky&quot;: true}\n",
       "            );\n",
       "        \n",
       "    \n",
       "            var circle_dad11982cbf3cf8e7a479a80fea80f1b = L.circle(\n",
       "                [6.6111, 20.9394],\n",
       "                {&quot;bubblingMouseEvents&quot;: true, &quot;color&quot;: &quot;red&quot;, &quot;dashArray&quot;: null, &quot;dashOffset&quot;: null, &quot;fill&quot;: true, &quot;fillColor&quot;: &quot;indigo&quot;, &quot;fillOpacity&quot;: 0.2, &quot;fillRule&quot;: &quot;evenodd&quot;, &quot;lineCap&quot;: &quot;round&quot;, &quot;lineJoin&quot;: &quot;round&quot;, &quot;opacity&quot;: 1.0, &quot;radius&quot;: 459999.99999999994, &quot;stroke&quot;: true, &quot;weight&quot;: 3}\n",
       "            ).addTo(map_6d1e22dda92088ca39d2cd125c89418f);\n",
       "        \n",
       "    \n",
       "            circle_dad11982cbf3cf8e7a479a80fea80f1b.bindTooltip(\n",
       "                `&lt;div&gt;\n",
       "                     &lt;div style=&#x27;margin: 0; background-color: black; color: white;&#x27;&gt;&lt;h4 style=&#x27;text-align:center;font-weight: bold&#x27;&gt;Central African Republic&lt;/h4&gt;&lt;hr style=&#x27;margin:10px;color: white;&#x27;&gt;&lt;ul style=&#x27;color: white;;list-style-type:circle;align-item:left;padding-left:20px;padding-right:20px&#x27;&gt;&lt;li&gt;Confirmed: 15368&lt;/li&gt;&lt;li&gt;Deaths:   32&lt;/li&gt;&lt;li&gt;Death Rate: 0.21&lt;/li&gt;&lt;/ul&gt;&lt;/div&gt;\n",
       "                 &lt;/div&gt;`,\n",
       "                {&quot;sticky&quot;: true}\n",
       "            );\n",
       "        \n",
       "    \n",
       "            var circle_3badae4de4307ceebff68742002c74e4 = L.circle(\n",
       "                [15.4542, 18.7322],\n",
       "                {&quot;bubblingMouseEvents&quot;: true, &quot;color&quot;: &quot;red&quot;, &quot;dashArray&quot;: null, &quot;dashOffset&quot;: null, &quot;fill&quot;: true, &quot;fillColor&quot;: &quot;indigo&quot;, &quot;fillOpacity&quot;: 0.2, &quot;fillRule&quot;: &quot;evenodd&quot;, &quot;lineCap&quot;: &quot;round&quot;, &quot;lineJoin&quot;: &quot;round&quot;, &quot;opacity&quot;: 1.0, &quot;radius&quot;: 409999.99999999994, &quot;stroke&quot;: true, &quot;weight&quot;: 3}\n",
       "            ).addTo(map_6d1e22dda92088ca39d2cd125c89418f);\n",
       "        \n",
       "    \n",
       "            circle_3badae4de4307ceebff68742002c74e4.bindTooltip(\n",
       "                `&lt;div&gt;\n",
       "                     &lt;div style=&#x27;margin: 0; background-color: black; color: white;&#x27;&gt;&lt;h4 style=&#x27;text-align:center;font-weight: bold&#x27;&gt;Chad&lt;/h4&gt;&lt;hr style=&#x27;margin:10px;color: white;&#x27;&gt;&lt;ul style=&#x27;color: white;;list-style-type:circle;align-item:left;padding-left:20px;padding-right:20px&#x27;&gt;&lt;li&gt;Confirmed: 7679&lt;/li&gt;&lt;li&gt;Deaths:   113&lt;/li&gt;&lt;li&gt;Death Rate: 1.47&lt;/li&gt;&lt;/ul&gt;&lt;/div&gt;\n",
       "                 &lt;/div&gt;`,\n",
       "                {&quot;sticky&quot;: true}\n",
       "            );\n",
       "        \n",
       "    \n",
       "            var circle_0efdc06046f832aca798abd0c22d7a9b = L.circle(\n",
       "                [-35.6751, -71.543],\n",
       "                {&quot;bubblingMouseEvents&quot;: true, &quot;color&quot;: &quot;red&quot;, &quot;dashArray&quot;: null, &quot;dashOffset&quot;: null, &quot;fill&quot;: true, &quot;fillColor&quot;: &quot;indigo&quot;, &quot;fillOpacity&quot;: 0.2, &quot;fillRule&quot;: &quot;evenodd&quot;, &quot;lineCap&quot;: &quot;round&quot;, &quot;lineJoin&quot;: &quot;round&quot;, &quot;opacity&quot;: 1.0, &quot;radius&quot;: 760000.0, &quot;stroke&quot;: true, &quot;weight&quot;: 3}\n",
       "            ).addTo(map_6d1e22dda92088ca39d2cd125c89418f);\n",
       "        \n",
       "    \n",
       "            circle_0efdc06046f832aca798abd0c22d7a9b.bindTooltip(\n",
       "                `&lt;div&gt;\n",
       "                     &lt;div style=&#x27;margin: 0; background-color: black; color: white;&#x27;&gt;&lt;h4 style=&#x27;text-align:center;font-weight: bold&#x27;&gt;Chile&lt;/h4&gt;&lt;hr style=&#x27;margin:10px;color: white;&#x27;&gt;&lt;ul style=&#x27;color: white;;list-style-type:circle;align-item:left;padding-left:20px;padding-right:20px&#x27;&gt;&lt;li&gt;Confirmed: 5192286&lt;/li&gt;&lt;li&gt;Deaths:   194&lt;/li&gt;&lt;li&gt;Death Rate: 0.0&lt;/li&gt;&lt;/ul&gt;&lt;/div&gt;\n",
       "                 &lt;/div&gt;`,\n",
       "                {&quot;sticky&quot;: true}\n",
       "            );\n",
       "        \n",
       "    \n",
       "            var circle_1d1d81c52af37999862d311a24089e70 = L.circle(\n",
       "                [31.8257, 117.2264],\n",
       "                {&quot;bubblingMouseEvents&quot;: true, &quot;color&quot;: &quot;red&quot;, &quot;dashArray&quot;: null, &quot;dashOffset&quot;: null, &quot;fill&quot;: true, &quot;fillColor&quot;: &quot;indigo&quot;, &quot;fillOpacity&quot;: 0.2, &quot;fillRule&quot;: &quot;evenodd&quot;, &quot;lineCap&quot;: &quot;round&quot;, &quot;lineJoin&quot;: &quot;round&quot;, &quot;opacity&quot;: 1.0, &quot;radius&quot;: 360000.0, &quot;stroke&quot;: true, &quot;weight&quot;: 3}\n",
       "            ).addTo(map_6d1e22dda92088ca39d2cd125c89418f);\n",
       "        \n",
       "    \n",
       "            circle_1d1d81c52af37999862d311a24089e70.bindTooltip(\n",
       "                `&lt;div&gt;\n",
       "                     &lt;div style=&#x27;margin: 0; background-color: black; color: white;&#x27;&gt;&lt;h4 style=&#x27;text-align:center;font-weight: bold&#x27;&gt;China&lt;/h4&gt;&lt;hr style=&#x27;margin:10px;color: white;&#x27;&gt;&lt;ul style=&#x27;color: white;;list-style-type:circle;align-item:left;padding-left:20px;padding-right:20px&#x27;&gt;&lt;li&gt;Confirmed: 2275&lt;/li&gt;&lt;li&gt;Deaths:   64273&lt;/li&gt;&lt;li&gt;Death Rate: 2823.95&lt;/li&gt;&lt;/ul&gt;&lt;/div&gt;\n",
       "                 &lt;/div&gt;`,\n",
       "                {&quot;sticky&quot;: true}\n",
       "            );\n",
       "        \n",
       "    \n",
       "            var circle_a63bfb45259a5081344fb13ef11912c9 = L.circle(\n",
       "                [40.1824, 116.4142],\n",
       "                {&quot;bubblingMouseEvents&quot;: true, &quot;color&quot;: &quot;red&quot;, &quot;dashArray&quot;: null, &quot;dashOffset&quot;: null, &quot;fill&quot;: true, &quot;fillColor&quot;: &quot;indigo&quot;, &quot;fillOpacity&quot;: 0.2, &quot;fillRule&quot;: &quot;evenodd&quot;, &quot;lineCap&quot;: &quot;round&quot;, &quot;lineJoin&quot;: &quot;round&quot;, &quot;opacity&quot;: 1.0, &quot;radius&quot;: 509999.99999999994, &quot;stroke&quot;: true, &quot;weight&quot;: 3}\n",
       "            ).addTo(map_6d1e22dda92088ca39d2cd125c89418f);\n",
       "        \n",
       "    \n",
       "            circle_a63bfb45259a5081344fb13ef11912c9.bindTooltip(\n",
       "                `&lt;div&gt;\n",
       "                     &lt;div style=&#x27;margin: 0; background-color: black; color: white;&#x27;&gt;&lt;h4 style=&#x27;text-align:center;font-weight: bold&#x27;&gt;China&lt;/h4&gt;&lt;hr style=&#x27;margin:10px;color: white;&#x27;&gt;&lt;ul style=&#x27;color: white;;list-style-type:circle;align-item:left;padding-left:20px;padding-right:20px&#x27;&gt;&lt;li&gt;Confirmed: 40774&lt;/li&gt;&lt;li&gt;Deaths:   7&lt;/li&gt;&lt;li&gt;Death Rate: 0.02&lt;/li&gt;&lt;/ul&gt;&lt;/div&gt;\n",
       "                 &lt;/div&gt;`,\n",
       "                {&quot;sticky&quot;: true}\n",
       "            );\n",
       "        \n",
       "    \n",
       "            var circle_a8074310ebd5ec9d5d2f6fc08093b1e7 = L.circle(\n",
       "                [30.0572, 107.874],\n",
       "                {&quot;bubblingMouseEvents&quot;: true, &quot;color&quot;: &quot;red&quot;, &quot;dashArray&quot;: null, &quot;dashOffset&quot;: null, &quot;fill&quot;: true, &quot;fillColor&quot;: &quot;indigo&quot;, &quot;fillOpacity&quot;: 0.2, &quot;fillRule&quot;: &quot;evenodd&quot;, &quot;lineCap&quot;: &quot;round&quot;, &quot;lineJoin&quot;: &quot;round&quot;, &quot;opacity&quot;: 1.0, &quot;radius&quot;: 459999.99999999994, &quot;stroke&quot;: true, &quot;weight&quot;: 3}\n",
       "            ).addTo(map_6d1e22dda92088ca39d2cd125c89418f);\n",
       "        \n",
       "    \n",
       "            circle_a8074310ebd5ec9d5d2f6fc08093b1e7.bindTooltip(\n",
       "                `&lt;div&gt;\n",
       "                     &lt;div style=&#x27;margin: 0; background-color: black; color: white;&#x27;&gt;&lt;h4 style=&#x27;text-align:center;font-weight: bold&#x27;&gt;China&lt;/h4&gt;&lt;hr style=&#x27;margin:10px;color: white;&#x27;&gt;&lt;ul style=&#x27;color: white;;list-style-type:circle;align-item:left;padding-left:20px;padding-right:20px&#x27;&gt;&lt;li&gt;Confirmed: 14715&lt;/li&gt;&lt;li&gt;Deaths:   20&lt;/li&gt;&lt;li&gt;Death Rate: 0.14&lt;/li&gt;&lt;/ul&gt;&lt;/div&gt;\n",
       "                 &lt;/div&gt;`,\n",
       "                {&quot;sticky&quot;: true}\n",
       "            );\n",
       "        \n",
       "    \n",
       "            var circle_80704dd75c1d188b876b1ff912f79ba0 = L.circle(\n",
       "                [26.0789, 117.9874],\n",
       "                {&quot;bubblingMouseEvents&quot;: true, &quot;color&quot;: &quot;red&quot;, &quot;dashArray&quot;: null, &quot;dashOffset&quot;: null, &quot;fill&quot;: true, &quot;fillColor&quot;: &quot;indigo&quot;, &quot;fillOpacity&quot;: 0.2, &quot;fillRule&quot;: &quot;evenodd&quot;, &quot;lineCap&quot;: &quot;round&quot;, &quot;lineJoin&quot;: &quot;round&quot;, &quot;opacity&quot;: 1.0, &quot;radius&quot;: 459999.99999999994, &quot;stroke&quot;: true, &quot;weight&quot;: 3}\n",
       "            ).addTo(map_6d1e22dda92088ca39d2cd125c89418f);\n",
       "        \n",
       "    \n",
       "            circle_80704dd75c1d188b876b1ff912f79ba0.bindTooltip(\n",
       "                `&lt;div&gt;\n",
       "                     &lt;div style=&#x27;margin: 0; background-color: black; color: white;&#x27;&gt;&lt;h4 style=&#x27;text-align:center;font-weight: bold&#x27;&gt;China&lt;/h4&gt;&lt;hr style=&#x27;margin:10px;color: white;&#x27;&gt;&lt;ul style=&#x27;color: white;;list-style-type:circle;align-item:left;padding-left:20px;padding-right:20px&#x27;&gt;&lt;li&gt;Confirmed: 17122&lt;/li&gt;&lt;li&gt;Deaths:   11&lt;/li&gt;&lt;li&gt;Death Rate: 0.06&lt;/li&gt;&lt;/ul&gt;&lt;/div&gt;\n",
       "                 &lt;/div&gt;`,\n",
       "                {&quot;sticky&quot;: true}\n",
       "            );\n",
       "        \n",
       "    \n",
       "            var circle_680378de51edfa3fa4b17da3d3fc2e0f = L.circle(\n",
       "                [35.7518, 104.2861],\n",
       "                {&quot;bubblingMouseEvents&quot;: true, &quot;color&quot;: &quot;red&quot;, &quot;dashArray&quot;: null, &quot;dashOffset&quot;: null, &quot;fill&quot;: true, &quot;fillColor&quot;: &quot;indigo&quot;, &quot;fillOpacity&quot;: 0.2, &quot;fillRule&quot;: &quot;evenodd&quot;, &quot;lineCap&quot;: &quot;round&quot;, &quot;lineJoin&quot;: &quot;round&quot;, &quot;opacity&quot;: 1.0, &quot;radius&quot;: 360000.0, &quot;stroke&quot;: true, &quot;weight&quot;: 3}\n",
       "            ).addTo(map_6d1e22dda92088ca39d2cd125c89418f);\n",
       "        \n",
       "    \n",
       "            circle_680378de51edfa3fa4b17da3d3fc2e0f.bindTooltip(\n",
       "                `&lt;div&gt;\n",
       "                     &lt;div style=&#x27;margin: 0; background-color: black; color: white;&#x27;&gt;&lt;h4 style=&#x27;text-align:center;font-weight: bold&#x27;&gt;China&lt;/h4&gt;&lt;hr style=&#x27;margin:10px;color: white;&#x27;&gt;&lt;ul style=&#x27;color: white;;list-style-type:circle;align-item:left;padding-left:20px;padding-right:20px&#x27;&gt;&lt;li&gt;Confirmed: 1742&lt;/li&gt;&lt;li&gt;Deaths:   2&lt;/li&gt;&lt;li&gt;Death Rate: 0.11&lt;/li&gt;&lt;/ul&gt;&lt;/div&gt;\n",
       "                 &lt;/div&gt;`,\n",
       "                {&quot;sticky&quot;: true}\n",
       "            );\n",
       "        \n",
       "    \n",
       "            var circle_14ca7b25ae9c9d6feced8094f4221a4a = L.circle(\n",
       "                [23.3417, 113.4244],\n",
       "                {&quot;bubblingMouseEvents&quot;: true, &quot;color&quot;: &quot;red&quot;, &quot;dashArray&quot;: null, &quot;dashOffset&quot;: null, &quot;fill&quot;: true, &quot;fillColor&quot;: &quot;indigo&quot;, &quot;fillOpacity&quot;: 0.2, &quot;fillRule&quot;: &quot;evenodd&quot;, &quot;lineCap&quot;: &quot;round&quot;, &quot;lineJoin&quot;: &quot;round&quot;, &quot;opacity&quot;: 1.0, &quot;radius&quot;: 560000.0, &quot;stroke&quot;: true, &quot;weight&quot;: 3}\n",
       "            ).addTo(map_6d1e22dda92088ca39d2cd125c89418f);\n",
       "        \n",
       "    \n",
       "            circle_14ca7b25ae9c9d6feced8094f4221a4a.bindTooltip(\n",
       "                `&lt;div&gt;\n",
       "                     &lt;div style=&#x27;margin: 0; background-color: black; color: white;&#x27;&gt;&lt;h4 style=&#x27;text-align:center;font-weight: bold&#x27;&gt;China&lt;/h4&gt;&lt;hr style=&#x27;margin:10px;color: white;&#x27;&gt;&lt;ul style=&#x27;color: white;;list-style-type:circle;align-item:left;padding-left:20px;padding-right:20px&#x27;&gt;&lt;li&gt;Confirmed: 103248&lt;/li&gt;&lt;li&gt;Deaths:   2&lt;/li&gt;&lt;li&gt;Death Rate: 0.0&lt;/li&gt;&lt;/ul&gt;&lt;/div&gt;\n",
       "                 &lt;/div&gt;`,\n",
       "                {&quot;sticky&quot;: true}\n",
       "            );\n",
       "        \n",
       "    \n",
       "            var circle_3eed2b233c64b0c062913dce1aedf25d = L.circle(\n",
       "                [23.8298, 108.7881],\n",
       "                {&quot;bubblingMouseEvents&quot;: true, &quot;color&quot;: &quot;red&quot;, &quot;dashArray&quot;: null, &quot;dashOffset&quot;: null, &quot;fill&quot;: true, &quot;fillColor&quot;: &quot;indigo&quot;, &quot;fillOpacity&quot;: 0.2, &quot;fillRule&quot;: &quot;evenodd&quot;, &quot;lineCap&quot;: &quot;round&quot;, &quot;lineJoin&quot;: &quot;round&quot;, &quot;opacity&quot;: 1.0, &quot;radius&quot;: 459999.99999999994, &quot;stroke&quot;: true, &quot;weight&quot;: 3}\n",
       "            ).addTo(map_6d1e22dda92088ca39d2cd125c89418f);\n",
       "        \n",
       "    \n",
       "            circle_3eed2b233c64b0c062913dce1aedf25d.bindTooltip(\n",
       "                `&lt;div&gt;\n",
       "                     &lt;div style=&#x27;margin: 0; background-color: black; color: white;&#x27;&gt;&lt;h4 style=&#x27;text-align:center;font-weight: bold&#x27;&gt;China&lt;/h4&gt;&lt;hr style=&#x27;margin:10px;color: white;&#x27;&gt;&lt;ul style=&#x27;color: white;;list-style-type:circle;align-item:left;padding-left:20px;padding-right:20px&#x27;&gt;&lt;li&gt;Confirmed: 13371&lt;/li&gt;&lt;li&gt;Deaths:   10&lt;/li&gt;&lt;li&gt;Death Rate: 0.07&lt;/li&gt;&lt;/ul&gt;&lt;/div&gt;\n",
       "                 &lt;/div&gt;`,\n",
       "                {&quot;sticky&quot;: true}\n",
       "            );\n",
       "        \n",
       "    \n",
       "            var circle_b70c7c74a54fb340ae9e3aa3ef09755e = L.circle(\n",
       "                [26.8154, 106.8748],\n",
       "                {&quot;bubblingMouseEvents&quot;: true, &quot;color&quot;: &quot;red&quot;, &quot;dashArray&quot;: null, &quot;dashOffset&quot;: null, &quot;fill&quot;: true, &quot;fillColor&quot;: &quot;indigo&quot;, &quot;fillOpacity&quot;: 0.2, &quot;fillRule&quot;: &quot;evenodd&quot;, &quot;lineCap&quot;: &quot;round&quot;, &quot;lineJoin&quot;: &quot;round&quot;, &quot;opacity&quot;: 1.0, &quot;radius&quot;: 360000.0, &quot;stroke&quot;: true, &quot;weight&quot;: 3}\n",
       "            ).addTo(map_6d1e22dda92088ca39d2cd125c89418f);\n",
       "        \n",
       "    \n",
       "            circle_b70c7c74a54fb340ae9e3aa3ef09755e.bindTooltip(\n",
       "                `&lt;div&gt;\n",
       "                     &lt;div style=&#x27;margin: 0; background-color: black; color: white;&#x27;&gt;&lt;h4 style=&#x27;text-align:center;font-weight: bold&#x27;&gt;China&lt;/h4&gt;&lt;hr style=&#x27;margin:10px;color: white;&#x27;&gt;&lt;ul style=&#x27;color: white;;list-style-type:circle;align-item:left;padding-left:20px;padding-right:20px&#x27;&gt;&lt;li&gt;Confirmed: 2534&lt;/li&gt;&lt;li&gt;Deaths:   2&lt;/li&gt;&lt;li&gt;Death Rate: 0.08&lt;/li&gt;&lt;/ul&gt;&lt;/div&gt;\n",
       "                 &lt;/div&gt;`,\n",
       "                {&quot;sticky&quot;: true}\n",
       "            );\n",
       "        \n",
       "    \n",
       "            var circle_6a21ce9ba51359cf167af8385941d68f = L.circle(\n",
       "                [19.1959, 109.7453],\n",
       "                {&quot;bubblingMouseEvents&quot;: true, &quot;color&quot;: &quot;red&quot;, &quot;dashArray&quot;: null, &quot;dashOffset&quot;: null, &quot;fill&quot;: true, &quot;fillColor&quot;: &quot;indigo&quot;, &quot;fillOpacity&quot;: 0.2, &quot;fillRule&quot;: &quot;evenodd&quot;, &quot;lineCap&quot;: &quot;round&quot;, &quot;lineJoin&quot;: &quot;round&quot;, &quot;opacity&quot;: 1.0, &quot;radius&quot;: 459999.99999999994, &quot;stroke&quot;: true, &quot;weight&quot;: 3}\n",
       "            ).addTo(map_6d1e22dda92088ca39d2cd125c89418f);\n",
       "        \n",
       "    \n",
       "            circle_6a21ce9ba51359cf167af8385941d68f.bindTooltip(\n",
       "                `&lt;div&gt;\n",
       "                     &lt;div style=&#x27;margin: 0; background-color: black; color: white;&#x27;&gt;&lt;h4 style=&#x27;text-align:center;font-weight: bold&#x27;&gt;China&lt;/h4&gt;&lt;hr style=&#x27;margin:10px;color: white;&#x27;&gt;&lt;ul style=&#x27;color: white;;list-style-type:circle;align-item:left;padding-left:20px;padding-right:20px&#x27;&gt;&lt;li&gt;Confirmed: 10483&lt;/li&gt;&lt;li&gt;Deaths:   2&lt;/li&gt;&lt;li&gt;Death Rate: 0.02&lt;/li&gt;&lt;/ul&gt;&lt;/div&gt;\n",
       "                 &lt;/div&gt;`,\n",
       "                {&quot;sticky&quot;: true}\n",
       "            );\n",
       "        \n",
       "    \n",
       "            var circle_7a51f9310a6c9d85eefa63a815cdea75 = L.circle(\n",
       "                [39.549, 116.1306],\n",
       "                {&quot;bubblingMouseEvents&quot;: true, &quot;color&quot;: &quot;red&quot;, &quot;dashArray&quot;: null, &quot;dashOffset&quot;: null, &quot;fill&quot;: true, &quot;fillColor&quot;: &quot;indigo&quot;, &quot;fillOpacity&quot;: 0.2, &quot;fillRule&quot;: &quot;evenodd&quot;, &quot;lineCap&quot;: &quot;round&quot;, &quot;lineJoin&quot;: &quot;round&quot;, &quot;opacity&quot;: 1.0, &quot;radius&quot;: 409999.99999999994, &quot;stroke&quot;: true, &quot;weight&quot;: 3}\n",
       "            ).addTo(map_6d1e22dda92088ca39d2cd125c89418f);\n",
       "        \n",
       "    \n",
       "            circle_7a51f9310a6c9d85eefa63a815cdea75.bindTooltip(\n",
       "                `&lt;div&gt;\n",
       "                     &lt;div style=&#x27;margin: 0; background-color: black; color: white;&#x27;&gt;&lt;h4 style=&#x27;text-align:center;font-weight: bold&#x27;&gt;China&lt;/h4&gt;&lt;hr style=&#x27;margin:10px;color: white;&#x27;&gt;&lt;ul style=&#x27;color: white;;list-style-type:circle;align-item:left;padding-left:20px;padding-right:20px&#x27;&gt;&lt;li&gt;Confirmed: 3292&lt;/li&gt;&lt;li&gt;Deaths:   6&lt;/li&gt;&lt;li&gt;Death Rate: 0.18&lt;/li&gt;&lt;/ul&gt;&lt;/div&gt;\n",
       "                 &lt;/div&gt;`,\n",
       "                {&quot;sticky&quot;: true}\n",
       "            );\n",
       "        \n",
       "    \n",
       "            var circle_4eb8fa847c151b1e7dc2aea988035108 = L.circle(\n",
       "                [47.862, 127.7615],\n",
       "                {&quot;bubblingMouseEvents&quot;: true, &quot;color&quot;: &quot;red&quot;, &quot;dashArray&quot;: null, &quot;dashOffset&quot;: null, &quot;fill&quot;: true, &quot;fillColor&quot;: &quot;indigo&quot;, &quot;fillOpacity&quot;: 0.2, &quot;fillRule&quot;: &quot;evenodd&quot;, &quot;lineCap&quot;: &quot;round&quot;, &quot;lineJoin&quot;: &quot;round&quot;, &quot;opacity&quot;: 1.0, &quot;radius&quot;: 409999.99999999994, &quot;stroke&quot;: true, &quot;weight&quot;: 3}\n",
       "            ).addTo(map_6d1e22dda92088ca39d2cd125c89418f);\n",
       "        \n",
       "    \n",
       "            circle_4eb8fa847c151b1e7dc2aea988035108.bindTooltip(\n",
       "                `&lt;div&gt;\n",
       "                     &lt;div style=&#x27;margin: 0; background-color: black; color: white;&#x27;&gt;&lt;h4 style=&#x27;text-align:center;font-weight: bold&#x27;&gt;China&lt;/h4&gt;&lt;hr style=&#x27;margin:10px;color: white;&#x27;&gt;&lt;ul style=&#x27;color: white;;list-style-type:circle;align-item:left;padding-left:20px;padding-right:20px&#x27;&gt;&lt;li&gt;Confirmed: 6603&lt;/li&gt;&lt;li&gt;Deaths:   7&lt;/li&gt;&lt;li&gt;Death Rate: 0.11&lt;/li&gt;&lt;/ul&gt;&lt;/div&gt;\n",
       "                 &lt;/div&gt;`,\n",
       "                {&quot;sticky&quot;: true}\n",
       "            );\n",
       "        \n",
       "    \n",
       "            var circle_c95f41fcb910603b8a0cec311bbdada0 = L.circle(\n",
       "                [37.8957, 114.9042],\n",
       "                {&quot;bubblingMouseEvents&quot;: true, &quot;color&quot;: &quot;red&quot;, &quot;dashArray&quot;: null, &quot;dashOffset&quot;: null, &quot;fill&quot;: true, &quot;fillColor&quot;: &quot;indigo&quot;, &quot;fillOpacity&quot;: 0.2, &quot;fillRule&quot;: &quot;evenodd&quot;, &quot;lineCap&quot;: &quot;round&quot;, &quot;lineJoin&quot;: &quot;round&quot;, &quot;opacity&quot;: 1.0, &quot;radius&quot;: 459999.99999999994, &quot;stroke&quot;: true, &quot;weight&quot;: 3}\n",
       "            ).addTo(map_6d1e22dda92088ca39d2cd125c89418f);\n",
       "        \n",
       "    \n",
       "            circle_c95f41fcb910603b8a0cec311bbdada0.bindTooltip(\n",
       "                `&lt;div&gt;\n",
       "                     &lt;div style=&#x27;margin: 0; background-color: black; color: white;&#x27;&gt;&lt;h4 style=&#x27;text-align:center;font-weight: bold&#x27;&gt;China&lt;/h4&gt;&lt;hr style=&#x27;margin:10px;color: white;&#x27;&gt;&lt;ul style=&#x27;color: white;;list-style-type:circle;align-item:left;padding-left:20px;padding-right:20px&#x27;&gt;&lt;li&gt;Confirmed: 9948&lt;/li&gt;&lt;li&gt;Deaths:   18&lt;/li&gt;&lt;li&gt;Death Rate: 0.18&lt;/li&gt;&lt;/ul&gt;&lt;/div&gt;\n",
       "                 &lt;/div&gt;`,\n",
       "                {&quot;sticky&quot;: true}\n",
       "            );\n",
       "        \n",
       "    \n",
       "            var circle_4f3edd3d1658e9677513499e8aace546 = L.circle(\n",
       "                [22.3, 114.2],\n",
       "                {&quot;bubblingMouseEvents&quot;: true, &quot;color&quot;: &quot;red&quot;, &quot;dashArray&quot;: null, &quot;dashOffset&quot;: null, &quot;fill&quot;: true, &quot;fillColor&quot;: &quot;indigo&quot;, &quot;fillOpacity&quot;: 0.2, &quot;fillRule&quot;: &quot;evenodd&quot;, &quot;lineCap&quot;: &quot;round&quot;, &quot;lineJoin&quot;: &quot;round&quot;, &quot;opacity&quot;: 1.0, &quot;radius&quot;: 710000.0, &quot;stroke&quot;: true, &quot;weight&quot;: 3}\n",
       "            ).addTo(map_6d1e22dda92088ca39d2cd125c89418f);\n",
       "        \n",
       "    \n",
       "            circle_4f3edd3d1658e9677513499e8aace546.bindTooltip(\n",
       "                `&lt;div&gt;\n",
       "                     &lt;div style=&#x27;margin: 0; background-color: black; color: white;&#x27;&gt;&lt;h4 style=&#x27;text-align:center;font-weight: bold&#x27;&gt;China&lt;/h4&gt;&lt;hr style=&#x27;margin:10px;color: white;&#x27;&gt;&lt;ul style=&#x27;color: white;;list-style-type:circle;align-item:left;padding-left:20px;padding-right:20px&#x27;&gt;&lt;li&gt;Confirmed: 2876106&lt;/li&gt;&lt;li&gt;Deaths:   23&lt;/li&gt;&lt;li&gt;Death Rate: 0.0&lt;/li&gt;&lt;/ul&gt;&lt;/div&gt;\n",
       "                 &lt;/div&gt;`,\n",
       "                {&quot;sticky&quot;: true}\n",
       "            );\n",
       "        \n",
       "    \n",
       "            var circle_fc62f937d1b39dc0b5beb4697cecff93 = L.circle(\n",
       "                [30.9756, 112.2707],\n",
       "                {&quot;bubblingMouseEvents&quot;: true, &quot;color&quot;: &quot;red&quot;, &quot;dashArray&quot;: null, &quot;dashOffset&quot;: null, &quot;fill&quot;: true, &quot;fillColor&quot;: &quot;indigo&quot;, &quot;fillOpacity&quot;: 0.2, &quot;fillRule&quot;: &quot;evenodd&quot;, &quot;lineCap&quot;: &quot;round&quot;, &quot;lineJoin&quot;: &quot;round&quot;, &quot;opacity&quot;: 1.0, &quot;radius&quot;: 560000.0, &quot;stroke&quot;: true, &quot;weight&quot;: 3}\n",
       "            ).addTo(map_6d1e22dda92088ca39d2cd125c89418f);\n",
       "        \n",
       "    \n",
       "            circle_fc62f937d1b39dc0b5beb4697cecff93.bindTooltip(\n",
       "                `&lt;div&gt;\n",
       "                     &lt;div style=&#x27;margin: 0; background-color: black; color: white;&#x27;&gt;&lt;h4 style=&#x27;text-align:center;font-weight: bold&#x27;&gt;China&lt;/h4&gt;&lt;hr style=&#x27;margin:10px;color: white;&#x27;&gt;&lt;ul style=&#x27;color: white;;list-style-type:circle;align-item:left;padding-left:20px;padding-right:20px&#x27;&gt;&lt;li&gt;Confirmed: 72131&lt;/li&gt;&lt;li&gt;Deaths:   13467&lt;/li&gt;&lt;li&gt;Death Rate: 18.67&lt;/li&gt;&lt;/ul&gt;&lt;/div&gt;\n",
       "                 &lt;/div&gt;`,\n",
       "                {&quot;sticky&quot;: true}\n",
       "            );\n",
       "        \n",
       "    \n",
       "            var circle_192ab539b74cb17ebe501171c5394583 = L.circle(\n",
       "                [27.6104, 111.7088],\n",
       "                {&quot;bubblingMouseEvents&quot;: true, &quot;color&quot;: &quot;red&quot;, &quot;dashArray&quot;: null, &quot;dashOffset&quot;: null, &quot;fill&quot;: true, &quot;fillColor&quot;: &quot;indigo&quot;, &quot;fillOpacity&quot;: 0.2, &quot;fillRule&quot;: &quot;evenodd&quot;, &quot;lineCap&quot;: &quot;round&quot;, &quot;lineJoin&quot;: &quot;round&quot;, &quot;opacity&quot;: 1.0, &quot;radius&quot;: 409999.99999999994, &quot;stroke&quot;: true, &quot;weight&quot;: 3}\n",
       "            ).addTo(map_6d1e22dda92088ca39d2cd125c89418f);\n",
       "        \n",
       "    \n",
       "            circle_192ab539b74cb17ebe501171c5394583.bindTooltip(\n",
       "                `&lt;div&gt;\n",
       "                     &lt;div style=&#x27;margin: 0; background-color: black; color: white;&#x27;&gt;&lt;h4 style=&#x27;text-align:center;font-weight: bold&#x27;&gt;China&lt;/h4&gt;&lt;hr style=&#x27;margin:10px;color: white;&#x27;&gt;&lt;ul style=&#x27;color: white;;list-style-type:circle;align-item:left;padding-left:20px;padding-right:20px&#x27;&gt;&lt;li&gt;Confirmed: 7437&lt;/li&gt;&lt;li&gt;Deaths:   4515&lt;/li&gt;&lt;li&gt;Death Rate: 60.7&lt;/li&gt;&lt;/ul&gt;&lt;/div&gt;\n",
       "                 &lt;/div&gt;`,\n",
       "                {&quot;sticky&quot;: true}\n",
       "            );\n",
       "        \n",
       "    \n",
       "            var circle_156c92632f9363937c5ecf10154cd9b0 = L.circle(\n",
       "                [44.0935, 113.9448],\n",
       "                {&quot;bubblingMouseEvents&quot;: true, &quot;color&quot;: &quot;red&quot;, &quot;dashArray&quot;: null, &quot;dashOffset&quot;: null, &quot;fill&quot;: true, &quot;fillColor&quot;: &quot;indigo&quot;, &quot;fillOpacity&quot;: 0.2, &quot;fillRule&quot;: &quot;evenodd&quot;, &quot;lineCap&quot;: &quot;round&quot;, &quot;lineJoin&quot;: &quot;round&quot;, &quot;opacity&quot;: 1.0, &quot;radius&quot;: 459999.99999999994, &quot;stroke&quot;: true, &quot;weight&quot;: 3}\n",
       "            ).addTo(map_6d1e22dda92088ca39d2cd125c89418f);\n",
       "        \n",
       "    \n",
       "            circle_156c92632f9363937c5ecf10154cd9b0.bindTooltip(\n",
       "                `&lt;div&gt;\n",
       "                     &lt;div style=&#x27;margin: 0; background-color: black; color: white;&#x27;&gt;&lt;h4 style=&#x27;text-align:center;font-weight: bold&#x27;&gt;China&lt;/h4&gt;&lt;hr style=&#x27;margin:10px;color: white;&#x27;&gt;&lt;ul style=&#x27;color: white;;list-style-type:circle;align-item:left;padding-left:20px;padding-right:20px&#x27;&gt;&lt;li&gt;Confirmed: 8847&lt;/li&gt;&lt;li&gt;Deaths:   4&lt;/li&gt;&lt;li&gt;Death Rate: 0.05&lt;/li&gt;&lt;/ul&gt;&lt;/div&gt;\n",
       "                 &lt;/div&gt;`,\n",
       "                {&quot;sticky&quot;: true}\n",
       "            );\n",
       "        \n",
       "    \n",
       "            var circle_d8b7bd323ba92477606d7eea8731234f = L.circle(\n",
       "                [32.9711, 119.455],\n",
       "                {&quot;bubblingMouseEvents&quot;: true, &quot;color&quot;: &quot;red&quot;, &quot;dashArray&quot;: null, &quot;dashOffset&quot;: null, &quot;fill&quot;: true, &quot;fillColor&quot;: &quot;indigo&quot;, &quot;fillOpacity&quot;: 0.2, &quot;fillRule&quot;: &quot;evenodd&quot;, &quot;lineCap&quot;: &quot;round&quot;, &quot;lineJoin&quot;: &quot;round&quot;, &quot;opacity&quot;: 1.0, &quot;radius&quot;: 409999.99999999994, &quot;stroke&quot;: true, &quot;weight&quot;: 3}\n",
       "            ).addTo(map_6d1e22dda92088ca39d2cd125c89418f);\n",
       "        \n",
       "    \n",
       "            circle_d8b7bd323ba92477606d7eea8731234f.bindTooltip(\n",
       "                `&lt;div&gt;\n",
       "                     &lt;div style=&#x27;margin: 0; background-color: black; color: white;&#x27;&gt;&lt;h4 style=&#x27;text-align:center;font-weight: bold&#x27;&gt;China&lt;/h4&gt;&lt;hr style=&#x27;margin:10px;color: white;&#x27;&gt;&lt;ul style=&#x27;color: white;;list-style-type:circle;align-item:left;padding-left:20px;padding-right:20px&#x27;&gt;&lt;li&gt;Confirmed: 5075&lt;/li&gt;&lt;li&gt;Deaths:   1&lt;/li&gt;&lt;li&gt;Death Rate: 0.02&lt;/li&gt;&lt;/ul&gt;&lt;/div&gt;\n",
       "                 &lt;/div&gt;`,\n",
       "                {&quot;sticky&quot;: true}\n",
       "            );\n",
       "        \n",
       "    \n",
       "            var circle_38297e0e7eb445f06a21e59528d3d6bb = L.circle(\n",
       "                [27.614, 115.7221],\n",
       "                {&quot;bubblingMouseEvents&quot;: true, &quot;color&quot;: &quot;red&quot;, &quot;dashArray&quot;: null, &quot;dashOffset&quot;: null, &quot;fill&quot;: true, &quot;fillColor&quot;: &quot;indigo&quot;, &quot;fillOpacity&quot;: 0.2, &quot;fillRule&quot;: &quot;evenodd&quot;, &quot;lineCap&quot;: &quot;round&quot;, &quot;lineJoin&quot;: &quot;round&quot;, &quot;opacity&quot;: 1.0, &quot;radius&quot;: 409999.99999999994, &quot;stroke&quot;: true, &quot;weight&quot;: 3}\n",
       "            ).addTo(map_6d1e22dda92088ca39d2cd125c89418f);\n",
       "        \n",
       "    \n",
       "            circle_38297e0e7eb445f06a21e59528d3d6bb.bindTooltip(\n",
       "                `&lt;div&gt;\n",
       "                     &lt;div style=&#x27;margin: 0; background-color: black; color: white;&#x27;&gt;&lt;h4 style=&#x27;text-align:center;font-weight: bold&#x27;&gt;China&lt;/h4&gt;&lt;hr style=&#x27;margin:10px;color: white;&#x27;&gt;&lt;ul style=&#x27;color: white;;list-style-type:circle;align-item:left;padding-left:20px;padding-right:20px&#x27;&gt;&lt;li&gt;Confirmed: 3423&lt;/li&gt;&lt;li&gt;Deaths:   0&lt;/li&gt;&lt;li&gt;Death Rate: 0.0&lt;/li&gt;&lt;/ul&gt;&lt;/div&gt;\n",
       "                 &lt;/div&gt;`,\n",
       "                {&quot;sticky&quot;: true}\n",
       "            );\n",
       "        \n",
       "    \n",
       "            var circle_3591d140a7a670589c98a9346cfcdbde = L.circle(\n",
       "                [43.6661, 126.1923],\n",
       "                {&quot;bubblingMouseEvents&quot;: true, &quot;color&quot;: &quot;red&quot;, &quot;dashArray&quot;: null, &quot;dashOffset&quot;: null, &quot;fill&quot;: true, &quot;fillColor&quot;: &quot;indigo&quot;, &quot;fillOpacity&quot;: 0.2, &quot;fillRule&quot;: &quot;evenodd&quot;, &quot;lineCap&quot;: &quot;round&quot;, &quot;lineJoin&quot;: &quot;round&quot;, &quot;opacity&quot;: 1.0, &quot;radius&quot;: 509999.99999999994, &quot;stroke&quot;: true, &quot;weight&quot;: 3}\n",
       "            ).addTo(map_6d1e22dda92088ca39d2cd125c89418f);\n",
       "        \n",
       "    \n",
       "            circle_3591d140a7a670589c98a9346cfcdbde.bindTooltip(\n",
       "                `&lt;div&gt;\n",
       "                     &lt;div style=&#x27;margin: 0; background-color: black; color: white;&#x27;&gt;&lt;h4 style=&#x27;text-align:center;font-weight: bold&#x27;&gt;China&lt;/h4&gt;&lt;hr style=&#x27;margin:10px;color: white;&#x27;&gt;&lt;ul style=&#x27;color: white;;list-style-type:circle;align-item:left;padding-left:20px;padding-right:20px&#x27;&gt;&lt;li&gt;Confirmed: 40764&lt;/li&gt;&lt;li&gt;Deaths:   2&lt;/li&gt;&lt;li&gt;Death Rate: 0.0&lt;/li&gt;&lt;/ul&gt;&lt;/div&gt;\n",
       "                 &lt;/div&gt;`,\n",
       "                {&quot;sticky&quot;: true}\n",
       "            );\n",
       "        \n",
       "    \n",
       "            var circle_3526eed9b5cc26bb6e88a7378a73ed91 = L.circle(\n",
       "                [41.2956, 122.6085],\n",
       "                {&quot;bubblingMouseEvents&quot;: true, &quot;color&quot;: &quot;red&quot;, &quot;dashArray&quot;: null, &quot;dashOffset&quot;: null, &quot;fill&quot;: true, &quot;fillColor&quot;: &quot;indigo&quot;, &quot;fillOpacity&quot;: 0.2, &quot;fillRule&quot;: &quot;evenodd&quot;, &quot;lineCap&quot;: &quot;round&quot;, &quot;lineJoin&quot;: &quot;round&quot;, &quot;opacity&quot;: 1.0, &quot;radius&quot;: 409999.99999999994, &quot;stroke&quot;: true, &quot;weight&quot;: 3}\n",
       "            ).addTo(map_6d1e22dda92088ca39d2cd125c89418f);\n",
       "        \n",
       "    \n",
       "            circle_3526eed9b5cc26bb6e88a7378a73ed91.bindTooltip(\n",
       "                `&lt;div&gt;\n",
       "                     &lt;div style=&#x27;margin: 0; background-color: black; color: white;&#x27;&gt;&lt;h4 style=&#x27;text-align:center;font-weight: bold&#x27;&gt;China&lt;/h4&gt;&lt;hr style=&#x27;margin:10px;color: white;&#x27;&gt;&lt;ul style=&#x27;color: white;;list-style-type:circle;align-item:left;padding-left:20px;padding-right:20px&#x27;&gt;&lt;li&gt;Confirmed: 3547&lt;/li&gt;&lt;li&gt;Deaths:   5&lt;/li&gt;&lt;li&gt;Death Rate: 0.14&lt;/li&gt;&lt;/ul&gt;&lt;/div&gt;\n",
       "                 &lt;/div&gt;`,\n",
       "                {&quot;sticky&quot;: true}\n",
       "            );\n",
       "        \n",
       "    \n",
       "            var circle_3c505db8ef326e141a8ad7a5db32811c = L.circle(\n",
       "                [22.1667, 113.55],\n",
       "                {&quot;bubblingMouseEvents&quot;: true, &quot;color&quot;: &quot;red&quot;, &quot;dashArray&quot;: null, &quot;dashOffset&quot;: null, &quot;fill&quot;: true, &quot;fillColor&quot;: &quot;indigo&quot;, &quot;fillOpacity&quot;: 0.2, &quot;fillRule&quot;: &quot;evenodd&quot;, &quot;lineCap&quot;: &quot;round&quot;, &quot;lineJoin&quot;: &quot;round&quot;, &quot;opacity&quot;: 1.0, &quot;radius&quot;: 409999.99999999994, &quot;stroke&quot;: true, &quot;weight&quot;: 3}\n",
       "            ).addTo(map_6d1e22dda92088ca39d2cd125c89418f);\n",
       "        \n",
       "    \n",
       "            circle_3c505db8ef326e141a8ad7a5db32811c.bindTooltip(\n",
       "                `&lt;div&gt;\n",
       "                     &lt;div style=&#x27;margin: 0; background-color: black; color: white;&#x27;&gt;&lt;h4 style=&#x27;text-align:center;font-weight: bold&#x27;&gt;China&lt;/h4&gt;&lt;hr style=&#x27;margin:10px;color: white;&#x27;&gt;&lt;ul style=&#x27;color: white;;list-style-type:circle;align-item:left;padding-left:20px;padding-right:20px&#x27;&gt;&lt;li&gt;Confirmed: 3514&lt;/li&gt;&lt;li&gt;Deaths:   2&lt;/li&gt;&lt;li&gt;Death Rate: 0.06&lt;/li&gt;&lt;/ul&gt;&lt;/div&gt;\n",
       "                 &lt;/div&gt;`,\n",
       "                {&quot;sticky&quot;: true}\n",
       "            );\n",
       "        \n",
       "    \n",
       "            var circle_5eb1168dd784743c61ce824537a1e3b7 = L.circle(\n",
       "                [37.2692, 106.1655],\n",
       "                {&quot;bubblingMouseEvents&quot;: true, &quot;color&quot;: &quot;red&quot;, &quot;dashArray&quot;: null, &quot;dashOffset&quot;: null, &quot;fill&quot;: true, &quot;fillColor&quot;: &quot;indigo&quot;, &quot;fillOpacity&quot;: 0.2, &quot;fillRule&quot;: &quot;evenodd&quot;, &quot;lineCap&quot;: &quot;round&quot;, &quot;lineJoin&quot;: &quot;round&quot;, &quot;opacity&quot;: 1.0, &quot;radius&quot;: 360000.0, &quot;stroke&quot;: true, &quot;weight&quot;: 3}\n",
       "            ).addTo(map_6d1e22dda92088ca39d2cd125c89418f);\n",
       "        \n",
       "    \n",
       "            circle_5eb1168dd784743c61ce824537a1e3b7.bindTooltip(\n",
       "                `&lt;div&gt;\n",
       "                     &lt;div style=&#x27;margin: 0; background-color: black; color: white;&#x27;&gt;&lt;h4 style=&#x27;text-align:center;font-weight: bold&#x27;&gt;China&lt;/h4&gt;&lt;hr style=&#x27;margin:10px;color: white;&#x27;&gt;&lt;ul style=&#x27;color: white;;list-style-type:circle;align-item:left;padding-left:20px;padding-right:20px&#x27;&gt;&lt;li&gt;Confirmed: 1276&lt;/li&gt;&lt;li&gt;Deaths:   121&lt;/li&gt;&lt;li&gt;Death Rate: 9.48&lt;/li&gt;&lt;/ul&gt;&lt;/div&gt;\n",
       "                 &lt;/div&gt;`,\n",
       "                {&quot;sticky&quot;: true}\n",
       "            );\n",
       "        \n",
       "    \n",
       "            var circle_ec22e8ec874b3711639b41056b2b5e93 = L.circle(\n",
       "                [35.7452, 95.9956],\n",
       "                {&quot;bubblingMouseEvents&quot;: true, &quot;color&quot;: &quot;red&quot;, &quot;dashArray&quot;: null, &quot;dashOffset&quot;: null, &quot;fill&quot;: true, &quot;fillColor&quot;: &quot;indigo&quot;, &quot;fillOpacity&quot;: 0.2, &quot;fillRule&quot;: &quot;evenodd&quot;, &quot;lineCap&quot;: &quot;round&quot;, &quot;lineJoin&quot;: &quot;round&quot;, &quot;opacity&quot;: 1.0, &quot;radius&quot;: 310000.0, &quot;stroke&quot;: true, &quot;weight&quot;: 3}\n",
       "            ).addTo(map_6d1e22dda92088ca39d2cd125c89418f);\n",
       "        \n",
       "    \n",
       "            circle_ec22e8ec874b3711639b41056b2b5e93.bindTooltip(\n",
       "                `&lt;div&gt;\n",
       "                     &lt;div style=&#x27;margin: 0; background-color: black; color: white;&#x27;&gt;&lt;h4 style=&#x27;text-align:center;font-weight: bold&#x27;&gt;China&lt;/h4&gt;&lt;hr style=&#x27;margin:10px;color: white;&#x27;&gt;&lt;ul style=&#x27;color: white;;list-style-type:circle;align-item:left;padding-left:20px;padding-right:20px&#x27;&gt;&lt;li&gt;Confirmed: 782&lt;/li&gt;&lt;li&gt;Deaths:   0&lt;/li&gt;&lt;li&gt;Death Rate: 0.0&lt;/li&gt;&lt;/ul&gt;&lt;/div&gt;\n",
       "                 &lt;/div&gt;`,\n",
       "                {&quot;sticky&quot;: true}\n",
       "            );\n",
       "        \n",
       "    \n",
       "            var circle_3912609f4df103657c651f1c11c6e61d = L.circle(\n",
       "                [35.1917, 108.8701],\n",
       "                {&quot;bubblingMouseEvents&quot;: true, &quot;color&quot;: &quot;red&quot;, &quot;dashArray&quot;: null, &quot;dashOffset&quot;: null, &quot;fill&quot;: true, &quot;fillColor&quot;: &quot;indigo&quot;, &quot;fillOpacity&quot;: 0.2, &quot;fillRule&quot;: &quot;evenodd&quot;, &quot;lineCap&quot;: &quot;round&quot;, &quot;lineJoin&quot;: &quot;round&quot;, &quot;opacity&quot;: 1.0, &quot;radius&quot;: 409999.99999999994, &quot;stroke&quot;: true, &quot;weight&quot;: 3}\n",
       "            ).addTo(map_6d1e22dda92088ca39d2cd125c89418f);\n",
       "        \n",
       "    \n",
       "            circle_3912609f4df103657c651f1c11c6e61d.bindTooltip(\n",
       "                `&lt;div&gt;\n",
       "                     &lt;div style=&#x27;margin: 0; background-color: black; color: white;&#x27;&gt;&lt;h4 style=&#x27;text-align:center;font-weight: bold&#x27;&gt;China&lt;/h4&gt;&lt;hr style=&#x27;margin:10px;color: white;&#x27;&gt;&lt;ul style=&#x27;color: white;;list-style-type:circle;align-item:left;padding-left:20px;padding-right:20px&#x27;&gt;&lt;li&gt;Confirmed: 7326&lt;/li&gt;&lt;li&gt;Deaths:   0&lt;/li&gt;&lt;li&gt;Death Rate: 0.0&lt;/li&gt;&lt;/ul&gt;&lt;/div&gt;\n",
       "                 &lt;/div&gt;`,\n",
       "                {&quot;sticky&quot;: true}\n",
       "            );\n",
       "        \n",
       "    \n",
       "            var circle_4e21c3aef7cf5999f4d83ea6d27f0d9e = L.circle(\n",
       "                [36.3427, 118.1498],\n",
       "                {&quot;bubblingMouseEvents&quot;: true, &quot;color&quot;: &quot;red&quot;, &quot;dashArray&quot;: null, &quot;dashOffset&quot;: null, &quot;fill&quot;: true, &quot;fillColor&quot;: &quot;indigo&quot;, &quot;fillOpacity&quot;: 0.2, &quot;fillRule&quot;: &quot;evenodd&quot;, &quot;lineCap&quot;: &quot;round&quot;, &quot;lineJoin&quot;: &quot;round&quot;, &quot;opacity&quot;: 1.0, &quot;radius&quot;: 409999.99999999994, &quot;stroke&quot;: true, &quot;weight&quot;: 3}\n",
       "            ).addTo(map_6d1e22dda92088ca39d2cd125c89418f);\n",
       "        \n",
       "    \n",
       "            circle_4e21c3aef7cf5999f4d83ea6d27f0d9e.bindTooltip(\n",
       "                `&lt;div&gt;\n",
       "                     &lt;div style=&#x27;margin: 0; background-color: black; color: white;&#x27;&gt;&lt;h4 style=&#x27;text-align:center;font-weight: bold&#x27;&gt;China&lt;/h4&gt;&lt;hr style=&#x27;margin:10px;color: white;&#x27;&gt;&lt;ul style=&#x27;color: white;;list-style-type:circle;align-item:left;padding-left:20px;padding-right:20px&#x27;&gt;&lt;li&gt;Confirmed: 5880&lt;/li&gt;&lt;li&gt;Deaths:   5&lt;/li&gt;&lt;li&gt;Death Rate: 0.09&lt;/li&gt;&lt;/ul&gt;&lt;/div&gt;\n",
       "                 &lt;/div&gt;`,\n",
       "                {&quot;sticky&quot;: true}\n",
       "            );\n",
       "        \n",
       "    \n",
       "            var circle_1596c4310d01762eae309acc9792dd52 = L.circle(\n",
       "                [31.202, 121.4491],\n",
       "                {&quot;bubblingMouseEvents&quot;: true, &quot;color&quot;: &quot;red&quot;, &quot;dashArray&quot;: null, &quot;dashOffset&quot;: null, &quot;fill&quot;: true, &quot;fillColor&quot;: &quot;indigo&quot;, &quot;fillOpacity&quot;: 0.2, &quot;fillRule&quot;: &quot;evenodd&quot;, &quot;lineCap&quot;: &quot;round&quot;, &quot;lineJoin&quot;: &quot;round&quot;, &quot;opacity&quot;: 1.0, &quot;radius&quot;: 560000.0, &quot;stroke&quot;: true, &quot;weight&quot;: 3}\n",
       "            ).addTo(map_6d1e22dda92088ca39d2cd125c89418f);\n",
       "        \n",
       "    \n",
       "            circle_1596c4310d01762eae309acc9792dd52.bindTooltip(\n",
       "                `&lt;div&gt;\n",
       "                     &lt;div style=&#x27;margin: 0; background-color: black; color: white;&#x27;&gt;&lt;h4 style=&#x27;text-align:center;font-weight: bold&#x27;&gt;China&lt;/h4&gt;&lt;hr style=&#x27;margin:10px;color: white;&#x27;&gt;&lt;ul style=&#x27;color: white;;list-style-type:circle;align-item:left;padding-left:20px;padding-right:20px&#x27;&gt;&lt;li&gt;Confirmed: 67040&lt;/li&gt;&lt;li&gt;Deaths:   10&lt;/li&gt;&lt;li&gt;Death Rate: 0.01&lt;/li&gt;&lt;/ul&gt;&lt;/div&gt;\n",
       "                 &lt;/div&gt;`,\n",
       "                {&quot;sticky&quot;: true}\n",
       "            );\n",
       "        \n",
       "    \n",
       "            var circle_ad8878ed37666c11a79fe3ce2d307eb3 = L.circle(\n",
       "                [37.5777, 112.2922],\n",
       "                {&quot;bubblingMouseEvents&quot;: true, &quot;color&quot;: &quot;red&quot;, &quot;dashArray&quot;: null, &quot;dashOffset&quot;: null, &quot;fill&quot;: true, &quot;fillColor&quot;: &quot;indigo&quot;, &quot;fillOpacity&quot;: 0.2, &quot;fillRule&quot;: &quot;evenodd&quot;, &quot;lineCap&quot;: &quot;round&quot;, &quot;lineJoin&quot;: &quot;round&quot;, &quot;opacity&quot;: 1.0, &quot;radius&quot;: 409999.99999999994, &quot;stroke&quot;: true, &quot;weight&quot;: 3}\n",
       "            ).addTo(map_6d1e22dda92088ca39d2cd125c89418f);\n",
       "        \n",
       "    \n",
       "            circle_ad8878ed37666c11a79fe3ce2d307eb3.bindTooltip(\n",
       "                `&lt;div&gt;\n",
       "                     &lt;div style=&#x27;margin: 0; background-color: black; color: white;&#x27;&gt;&lt;h4 style=&#x27;text-align:center;font-weight: bold&#x27;&gt;China&lt;/h4&gt;&lt;hr style=&#x27;margin:10px;color: white;&#x27;&gt;&lt;ul style=&#x27;color: white;;list-style-type:circle;align-item:left;padding-left:20px;padding-right:20px&#x27;&gt;&lt;li&gt;Confirmed: 7167&lt;/li&gt;&lt;li&gt;Deaths:   595&lt;/li&gt;&lt;li&gt;Death Rate: 8.3&lt;/li&gt;&lt;/ul&gt;&lt;/div&gt;\n",
       "                 &lt;/div&gt;`,\n",
       "                {&quot;sticky&quot;: true}\n",
       "            );\n",
       "        \n",
       "    \n",
       "            var circle_ae8a784de59856ae4f8338c48374caf3 = L.circle(\n",
       "                [30.6171, 102.7103],\n",
       "                {&quot;bubblingMouseEvents&quot;: true, &quot;color&quot;: &quot;red&quot;, &quot;dashArray&quot;: null, &quot;dashOffset&quot;: null, &quot;fill&quot;: true, &quot;fillColor&quot;: &quot;indigo&quot;, &quot;fillOpacity&quot;: 0.2, &quot;fillRule&quot;: &quot;evenodd&quot;, &quot;lineCap&quot;: &quot;round&quot;, &quot;lineJoin&quot;: &quot;round&quot;, &quot;opacity&quot;: 1.0, &quot;radius&quot;: 459999.99999999994, &quot;stroke&quot;: true, &quot;weight&quot;: 3}\n",
       "            ).addTo(map_6d1e22dda92088ca39d2cd125c89418f);\n",
       "        \n",
       "    \n",
       "            circle_ae8a784de59856ae4f8338c48374caf3.bindTooltip(\n",
       "                `&lt;div&gt;\n",
       "                     &lt;div style=&#x27;margin: 0; background-color: black; color: white;&#x27;&gt;&lt;h4 style=&#x27;text-align:center;font-weight: bold&#x27;&gt;China&lt;/h4&gt;&lt;hr style=&#x27;margin:10px;color: white;&#x27;&gt;&lt;ul style=&#x27;color: white;;list-style-type:circle;align-item:left;padding-left:20px;padding-right:20px&#x27;&gt;&lt;li&gt;Confirmed: 14567&lt;/li&gt;&lt;li&gt;Deaths:   1&lt;/li&gt;&lt;li&gt;Death Rate: 0.01&lt;/li&gt;&lt;/ul&gt;&lt;/div&gt;\n",
       "                 &lt;/div&gt;`,\n",
       "                {&quot;sticky&quot;: true}\n",
       "            );\n",
       "        \n",
       "    \n",
       "            var circle_08e382d7ccc719f6786a2e47be81cc35 = L.circle(\n",
       "                [39.3054, 117.323],\n",
       "                {&quot;bubblingMouseEvents&quot;: true, &quot;color&quot;: &quot;red&quot;, &quot;dashArray&quot;: null, &quot;dashOffset&quot;: null, &quot;fill&quot;: true, &quot;fillColor&quot;: &quot;indigo&quot;, &quot;fillOpacity&quot;: 0.2, &quot;fillRule&quot;: &quot;evenodd&quot;, &quot;lineCap&quot;: &quot;round&quot;, &quot;lineJoin&quot;: &quot;round&quot;, &quot;opacity&quot;: 1.0, &quot;radius&quot;: 409999.99999999994, &quot;stroke&quot;: true, &quot;weight&quot;: 3}\n",
       "            ).addTo(map_6d1e22dda92088ca39d2cd125c89418f);\n",
       "        \n",
       "    \n",
       "            circle_08e382d7ccc719f6786a2e47be81cc35.bindTooltip(\n",
       "                `&lt;div&gt;\n",
       "                     &lt;div style=&#x27;margin: 0; background-color: black; color: white;&#x27;&gt;&lt;h4 style=&#x27;text-align:center;font-weight: bold&#x27;&gt;China&lt;/h4&gt;&lt;hr style=&#x27;margin:10px;color: white;&#x27;&gt;&lt;ul style=&#x27;color: white;;list-style-type:circle;align-item:left;padding-left:20px;padding-right:20px&#x27;&gt;&lt;li&gt;Confirmed: 4392&lt;/li&gt;&lt;li&gt;Deaths:   12&lt;/li&gt;&lt;li&gt;Death Rate: 0.27&lt;/li&gt;&lt;/ul&gt;&lt;/div&gt;\n",
       "                 &lt;/div&gt;`,\n",
       "                {&quot;sticky&quot;: true}\n",
       "            );\n",
       "        \n",
       "    \n",
       "            var circle_b82b377109d68536ecb9307ed2b7aa9c = L.circle(\n",
       "                [31.6927, 88.0924],\n",
       "                {&quot;bubblingMouseEvents&quot;: true, &quot;color&quot;: &quot;red&quot;, &quot;dashArray&quot;: null, &quot;dashOffset&quot;: null, &quot;fill&quot;: true, &quot;fillColor&quot;: &quot;indigo&quot;, &quot;fillOpacity&quot;: 0.2, &quot;fillRule&quot;: &quot;evenodd&quot;, &quot;lineCap&quot;: &quot;round&quot;, &quot;lineJoin&quot;: &quot;round&quot;, &quot;opacity&quot;: 1.0, &quot;radius&quot;: 360000.0, &quot;stroke&quot;: true, &quot;weight&quot;: 3}\n",
       "            ).addTo(map_6d1e22dda92088ca39d2cd125c89418f);\n",
       "        \n",
       "    \n",
       "            circle_b82b377109d68536ecb9307ed2b7aa9c.bindTooltip(\n",
       "                `&lt;div&gt;\n",
       "                     &lt;div style=&#x27;margin: 0; background-color: black; color: white;&#x27;&gt;&lt;h4 style=&#x27;text-align:center;font-weight: bold&#x27;&gt;China&lt;/h4&gt;&lt;hr style=&#x27;margin:10px;color: white;&#x27;&gt;&lt;ul style=&#x27;color: white;;list-style-type:circle;align-item:left;padding-left:20px;padding-right:20px&#x27;&gt;&lt;li&gt;Confirmed: 1647&lt;/li&gt;&lt;li&gt;Deaths:   3&lt;/li&gt;&lt;li&gt;Death Rate: 0.18&lt;/li&gt;&lt;/ul&gt;&lt;/div&gt;\n",
       "                 &lt;/div&gt;`,\n",
       "                {&quot;sticky&quot;: true}\n",
       "            );\n",
       "        \n",
       "    \n",
       "            var circle_a9a736fc3fb38b1d852a1ce7c7b7ae99 = L.circle(\n",
       "                [41.1129, 85.2401],\n",
       "                {&quot;bubblingMouseEvents&quot;: true, &quot;color&quot;: &quot;red&quot;, &quot;dashArray&quot;: null, &quot;dashOffset&quot;: null, &quot;fill&quot;: true, &quot;fillColor&quot;: &quot;indigo&quot;, &quot;fillOpacity&quot;: 0.2, &quot;fillRule&quot;: &quot;evenodd&quot;, &quot;lineCap&quot;: &quot;round&quot;, &quot;lineJoin&quot;: &quot;round&quot;, &quot;opacity&quot;: 1.0, &quot;radius&quot;: 409999.99999999994, &quot;stroke&quot;: true, &quot;weight&quot;: 3}\n",
       "            ).addTo(map_6d1e22dda92088ca39d2cd125c89418f);\n",
       "        \n",
       "    \n",
       "            circle_a9a736fc3fb38b1d852a1ce7c7b7ae99.bindTooltip(\n",
       "                `&lt;div&gt;\n",
       "                     &lt;div style=&#x27;margin: 0; background-color: black; color: white;&#x27;&gt;&lt;h4 style=&#x27;text-align:center;font-weight: bold&#x27;&gt;China&lt;/h4&gt;&lt;hr style=&#x27;margin:10px;color: white;&#x27;&gt;&lt;ul style=&#x27;color: white;;list-style-type:circle;align-item:left;padding-left:20px;padding-right:20px&#x27;&gt;&lt;li&gt;Confirmed: 3089&lt;/li&gt;&lt;li&gt;Deaths:   0&lt;/li&gt;&lt;li&gt;Death Rate: 0.0&lt;/li&gt;&lt;/ul&gt;&lt;/div&gt;\n",
       "                 &lt;/div&gt;`,\n",
       "                {&quot;sticky&quot;: true}\n",
       "            );\n",
       "        \n",
       "    \n",
       "            var circle_f0c20b63dff62de81f9054a4fd31da70 = L.circle(\n",
       "                [24.974, 101.487],\n",
       "                {&quot;bubblingMouseEvents&quot;: true, &quot;color&quot;: &quot;red&quot;, &quot;dashArray&quot;: null, &quot;dashOffset&quot;: null, &quot;fill&quot;: true, &quot;fillColor&quot;: &quot;indigo&quot;, &quot;fillOpacity&quot;: 0.2, &quot;fillRule&quot;: &quot;evenodd&quot;, &quot;lineCap&quot;: &quot;round&quot;, &quot;lineJoin&quot;: &quot;round&quot;, &quot;opacity&quot;: 1.0, &quot;radius&quot;: 459999.99999999994, &quot;stroke&quot;: true, &quot;weight&quot;: 3}\n",
       "            ).addTo(map_6d1e22dda92088ca39d2cd125c89418f);\n",
       "        \n",
       "    \n",
       "            circle_f0c20b63dff62de81f9054a4fd31da70.bindTooltip(\n",
       "                `&lt;div&gt;\n",
       "                     &lt;div style=&#x27;margin: 0; background-color: black; color: white;&#x27;&gt;&lt;h4 style=&#x27;text-align:center;font-weight: bold&#x27;&gt;China&lt;/h4&gt;&lt;hr style=&#x27;margin:10px;color: white;&#x27;&gt;&lt;ul style=&#x27;color: white;;list-style-type:circle;align-item:left;padding-left:20px;padding-right:20px&#x27;&gt;&lt;li&gt;Confirmed: 9743&lt;/li&gt;&lt;li&gt;Deaths:   82195&lt;/li&gt;&lt;li&gt;Death Rate: 843.54&lt;/li&gt;&lt;/ul&gt;&lt;/div&gt;\n",
       "                 &lt;/div&gt;`,\n",
       "                {&quot;sticky&quot;: true}\n",
       "            );\n",
       "        \n",
       "    \n",
       "            var circle_f09db8a080fc6569cc4654489a560247 = L.circle(\n",
       "                [29.1832, 120.0934],\n",
       "                {&quot;bubblingMouseEvents&quot;: true, &quot;color&quot;: &quot;red&quot;, &quot;dashArray&quot;: null, &quot;dashOffset&quot;: null, &quot;fill&quot;: true, &quot;fillColor&quot;: &quot;indigo&quot;, &quot;fillOpacity&quot;: 0.2, &quot;fillRule&quot;: &quot;evenodd&quot;, &quot;lineCap&quot;: &quot;round&quot;, &quot;lineJoin&quot;: &quot;round&quot;, &quot;opacity&quot;: 1.0, &quot;radius&quot;: 459999.99999999994, &quot;stroke&quot;: true, &quot;weight&quot;: 3}\n",
       "            ).addTo(map_6d1e22dda92088ca39d2cd125c89418f);\n",
       "        \n",
       "    \n",
       "            circle_f09db8a080fc6569cc4654489a560247.bindTooltip(\n",
       "                `&lt;div&gt;\n",
       "                     &lt;div style=&#x27;margin: 0; background-color: black; color: white;&#x27;&gt;&lt;h4 style=&#x27;text-align:center;font-weight: bold&#x27;&gt;China&lt;/h4&gt;&lt;hr style=&#x27;margin:10px;color: white;&#x27;&gt;&lt;ul style=&#x27;color: white;;list-style-type:circle;align-item:left;padding-left:20px;padding-right:20px&#x27;&gt;&lt;li&gt;Confirmed: 11848&lt;/li&gt;&lt;li&gt;Deaths:   3&lt;/li&gt;&lt;li&gt;Death Rate: 0.03&lt;/li&gt;&lt;/ul&gt;&lt;/div&gt;\n",
       "                 &lt;/div&gt;`,\n",
       "                {&quot;sticky&quot;: true}\n",
       "            );\n",
       "        \n",
       "    \n",
       "            var circle_94ef2224a987e6d60d019f4a3f1588bc = L.circle(\n",
       "                [4.5709, -74.2973],\n",
       "                {&quot;bubblingMouseEvents&quot;: true, &quot;color&quot;: &quot;red&quot;, &quot;dashArray&quot;: null, &quot;dashOffset&quot;: null, &quot;fill&quot;: true, &quot;fillColor&quot;: &quot;indigo&quot;, &quot;fillOpacity&quot;: 0.2, &quot;fillRule&quot;: &quot;evenodd&quot;, &quot;lineCap&quot;: &quot;round&quot;, &quot;lineJoin&quot;: &quot;round&quot;, &quot;opacity&quot;: 1.0, &quot;radius&quot;: 760000.0, &quot;stroke&quot;: true, &quot;weight&quot;: 3}\n",
       "            ).addTo(map_6d1e22dda92088ca39d2cd125c89418f);\n",
       "        \n",
       "    \n",
       "            circle_94ef2224a987e6d60d019f4a3f1588bc.bindTooltip(\n",
       "                `&lt;div&gt;\n",
       "                     &lt;div style=&#x27;margin: 0; background-color: black; color: white;&#x27;&gt;&lt;h4 style=&#x27;text-align:center;font-weight: bold&#x27;&gt;Colombia&lt;/h4&gt;&lt;hr style=&#x27;margin:10px;color: white;&#x27;&gt;&lt;ul style=&#x27;color: white;;list-style-type:circle;align-item:left;padding-left:20px;padding-right:20px&#x27;&gt;&lt;li&gt;Confirmed: 6359093&lt;/li&gt;&lt;li&gt;Deaths:   4&lt;/li&gt;&lt;li&gt;Death Rate: 0.0&lt;/li&gt;&lt;/ul&gt;&lt;/div&gt;\n",
       "                 &lt;/div&gt;`,\n",
       "                {&quot;sticky&quot;: true}\n",
       "            );\n",
       "        \n",
       "    \n",
       "            var circle_f95a2219480043453bc03bcea02671f5 = L.circle(\n",
       "                [-11.6455, 43.3333],\n",
       "                {&quot;bubblingMouseEvents&quot;: true, &quot;color&quot;: &quot;red&quot;, &quot;dashArray&quot;: null, &quot;dashOffset&quot;: null, &quot;fill&quot;: true, &quot;fillColor&quot;: &quot;indigo&quot;, &quot;fillOpacity&quot;: 0.2, &quot;fillRule&quot;: &quot;evenodd&quot;, &quot;lineCap&quot;: &quot;round&quot;, &quot;lineJoin&quot;: &quot;round&quot;, &quot;opacity&quot;: 1.0, &quot;radius&quot;: 459999.99999999994, &quot;stroke&quot;: true, &quot;weight&quot;: 3}\n",
       "            ).addTo(map_6d1e22dda92088ca39d2cd125c89418f);\n",
       "        \n",
       "    \n",
       "            circle_f95a2219480043453bc03bcea02671f5.bindTooltip(\n",
       "                `&lt;div&gt;\n",
       "                     &lt;div style=&#x27;margin: 0; background-color: black; color: white;&#x27;&gt;&lt;h4 style=&#x27;text-align:center;font-weight: bold&#x27;&gt;Comoros&lt;/h4&gt;&lt;hr style=&#x27;margin:10px;color: white;&#x27;&gt;&lt;ul style=&#x27;color: white;;list-style-type:circle;align-item:left;padding-left:20px;padding-right:20px&#x27;&gt;&lt;li&gt;Confirmed: 9008&lt;/li&gt;&lt;li&gt;Deaths:   1&lt;/li&gt;&lt;li&gt;Death Rate: 0.01&lt;/li&gt;&lt;/ul&gt;&lt;/div&gt;\n",
       "                 &lt;/div&gt;`,\n",
       "                {&quot;sticky&quot;: true}\n",
       "            );\n",
       "        \n",
       "    \n",
       "            var circle_574c8346e0ae16a08bed94698d0a2444 = L.circle(\n",
       "                [-0.228, 15.8277],\n",
       "                {&quot;bubblingMouseEvents&quot;: true, &quot;color&quot;: &quot;red&quot;, &quot;dashArray&quot;: null, &quot;dashOffset&quot;: null, &quot;fill&quot;: true, &quot;fillColor&quot;: &quot;indigo&quot;, &quot;fillOpacity&quot;: 0.2, &quot;fillRule&quot;: &quot;evenodd&quot;, &quot;lineCap&quot;: &quot;round&quot;, &quot;lineJoin&quot;: &quot;round&quot;, &quot;opacity&quot;: 1.0, &quot;radius&quot;: 509999.99999999994, &quot;stroke&quot;: true, &quot;weight&quot;: 3}\n",
       "            ).addTo(map_6d1e22dda92088ca39d2cd125c89418f);\n",
       "        \n",
       "    \n",
       "            circle_574c8346e0ae16a08bed94698d0a2444.bindTooltip(\n",
       "                `&lt;div&gt;\n",
       "                     &lt;div style=&#x27;margin: 0; background-color: black; color: white;&#x27;&gt;&lt;h4 style=&#x27;text-align:center;font-weight: bold&#x27;&gt;Congo (Brazzaville)&lt;/h4&gt;&lt;hr style=&#x27;margin:10px;color: white;&#x27;&gt;&lt;ul style=&#x27;color: white;;list-style-type:circle;align-item:left;padding-left:20px;padding-right:20px&#x27;&gt;&lt;li&gt;Confirmed: 25087&lt;/li&gt;&lt;li&gt;Deaths:   142339&lt;/li&gt;&lt;li&gt;Death Rate: 567.36&lt;/li&gt;&lt;/ul&gt;&lt;/div&gt;\n",
       "                 &lt;/div&gt;`,\n",
       "                {&quot;sticky&quot;: true}\n",
       "            );\n",
       "        \n",
       "    \n",
       "            var circle_f260f0bd67f6b39dda5bde094137ba62 = L.circle(\n",
       "                [-4.0383, 21.7587],\n",
       "                {&quot;bubblingMouseEvents&quot;: true, &quot;color&quot;: &quot;red&quot;, &quot;dashArray&quot;: null, &quot;dashOffset&quot;: null, &quot;fill&quot;: true, &quot;fillColor&quot;: &quot;indigo&quot;, &quot;fillOpacity&quot;: 0.2, &quot;fillRule&quot;: &quot;evenodd&quot;, &quot;lineCap&quot;: &quot;round&quot;, &quot;lineJoin&quot;: &quot;round&quot;, &quot;opacity&quot;: 1.0, &quot;radius&quot;: 560000.0, &quot;stroke&quot;: true, &quot;weight&quot;: 3}\n",
       "            ).addTo(map_6d1e22dda92088ca39d2cd125c89418f);\n",
       "        \n",
       "    \n",
       "            circle_f260f0bd67f6b39dda5bde094137ba62.bindTooltip(\n",
       "                `&lt;div&gt;\n",
       "                     &lt;div style=&#x27;margin: 0; background-color: black; color: white;&#x27;&gt;&lt;h4 style=&#x27;text-align:center;font-weight: bold&#x27;&gt;Congo (Kinshasa)&lt;/h4&gt;&lt;hr style=&#x27;margin:10px;color: white;&#x27;&gt;&lt;ul style=&#x27;color: white;;list-style-type:circle;align-item:left;padding-left:20px;padding-right:20px&#x27;&gt;&lt;li&gt;Confirmed: 95749&lt;/li&gt;&lt;li&gt;Deaths:   161&lt;/li&gt;&lt;li&gt;Death Rate: 0.17&lt;/li&gt;&lt;/ul&gt;&lt;/div&gt;\n",
       "                 &lt;/div&gt;`,\n",
       "                {&quot;sticky&quot;: true}\n",
       "            );\n",
       "        \n",
       "    \n",
       "            var circle_2d9450f3fd4c68922ce62e030960ecc7 = L.circle(\n",
       "                [9.7489, -83.7534],\n",
       "                {&quot;bubblingMouseEvents&quot;: true, &quot;color&quot;: &quot;red&quot;, &quot;dashArray&quot;: null, &quot;dashOffset&quot;: null, &quot;fill&quot;: true, &quot;fillColor&quot;: &quot;indigo&quot;, &quot;fillOpacity&quot;: 0.2, &quot;fillRule&quot;: &quot;evenodd&quot;, &quot;lineCap&quot;: &quot;round&quot;, &quot;lineJoin&quot;: &quot;round&quot;, &quot;opacity&quot;: 1.0, &quot;radius&quot;: 710000.0, &quot;stroke&quot;: true, &quot;weight&quot;: 3}\n",
       "            ).addTo(map_6d1e22dda92088ca39d2cd125c89418f);\n",
       "        \n",
       "    \n",
       "            circle_2d9450f3fd4c68922ce62e030960ecc7.bindTooltip(\n",
       "                `&lt;div&gt;\n",
       "                     &lt;div style=&#x27;margin: 0; background-color: black; color: white;&#x27;&gt;&lt;h4 style=&#x27;text-align:center;font-weight: bold&#x27;&gt;Costa Rica&lt;/h4&gt;&lt;hr style=&#x27;margin:10px;color: white;&#x27;&gt;&lt;ul style=&#x27;color: white;;list-style-type:circle;align-item:left;padding-left:20px;padding-right:20px&#x27;&gt;&lt;li&gt;Confirmed: 1209725&lt;/li&gt;&lt;li&gt;Deaths:   388&lt;/li&gt;&lt;li&gt;Death Rate: 0.03&lt;/li&gt;&lt;/ul&gt;&lt;/div&gt;\n",
       "                 &lt;/div&gt;`,\n",
       "                {&quot;sticky&quot;: true}\n",
       "            );\n",
       "        \n",
       "    \n",
       "            var circle_2cbf61f8b72681feb0b31e54eef7264d = L.circle(\n",
       "                [7.54, -5.5471],\n",
       "                {&quot;bubblingMouseEvents&quot;: true, &quot;color&quot;: &quot;red&quot;, &quot;dashArray&quot;: null, &quot;dashOffset&quot;: null, &quot;fill&quot;: true, &quot;fillColor&quot;: &quot;indigo&quot;, &quot;fillOpacity&quot;: 0.2, &quot;fillRule&quot;: &quot;evenodd&quot;, &quot;lineCap&quot;: &quot;round&quot;, &quot;lineJoin&quot;: &quot;round&quot;, &quot;opacity&quot;: 1.0, &quot;radius&quot;: 560000.0, &quot;stroke&quot;: true, &quot;weight&quot;: 3}\n",
       "            ).addTo(map_6d1e22dda92088ca39d2cd125c89418f);\n",
       "        \n",
       "    \n",
       "            circle_2cbf61f8b72681feb0b31e54eef7264d.bindTooltip(\n",
       "                `&lt;div&gt;\n",
       "                     &lt;div style=&#x27;margin: 0; background-color: black; color: white;&#x27;&gt;&lt;h4 style=&#x27;text-align:center;font-weight: bold&#x27;&gt;Cote d&#x27;Ivoire&lt;/h4&gt;&lt;hr style=&#x27;margin:10px;color: white;&#x27;&gt;&lt;ul style=&#x27;color: white;;list-style-type:circle;align-item:left;padding-left:20px;padding-right:20px&#x27;&gt;&lt;li&gt;Confirmed: 88263&lt;/li&gt;&lt;li&gt;Deaths:   1464&lt;/li&gt;&lt;li&gt;Death Rate: 1.66&lt;/li&gt;&lt;/ul&gt;&lt;/div&gt;\n",
       "                 &lt;/div&gt;`,\n",
       "                {&quot;sticky&quot;: true}\n",
       "            );\n",
       "        \n",
       "    \n",
       "            var circle_dc9801e4ae9e285652d291d7360b714f = L.circle(\n",
       "                [45.1, 15.2],\n",
       "                {&quot;bubblingMouseEvents&quot;: true, &quot;color&quot;: &quot;red&quot;, &quot;dashArray&quot;: null, &quot;dashOffset&quot;: null, &quot;fill&quot;: true, &quot;fillColor&quot;: &quot;indigo&quot;, &quot;fillOpacity&quot;: 0.2, &quot;fillRule&quot;: &quot;evenodd&quot;, &quot;lineCap&quot;: &quot;round&quot;, &quot;lineJoin&quot;: &quot;round&quot;, &quot;opacity&quot;: 1.0, &quot;radius&quot;: 710000.0, &quot;stroke&quot;: true, &quot;weight&quot;: 3}\n",
       "            ).addTo(map_6d1e22dda92088ca39d2cd125c89418f);\n",
       "        \n",
       "    \n",
       "            circle_dc9801e4ae9e285652d291d7360b714f.bindTooltip(\n",
       "                `&lt;div&gt;\n",
       "                     &lt;div style=&#x27;margin: 0; background-color: black; color: white;&#x27;&gt;&lt;h4 style=&#x27;text-align:center;font-weight: bold&#x27;&gt;Croatia&lt;/h4&gt;&lt;hr style=&#x27;margin:10px;color: white;&#x27;&gt;&lt;ul style=&#x27;color: white;;list-style-type:circle;align-item:left;padding-left:20px;padding-right:20px&#x27;&gt;&lt;li&gt;Confirmed: 1269326&lt;/li&gt;&lt;li&gt;Deaths:   9245&lt;/li&gt;&lt;li&gt;Death Rate: 0.73&lt;/li&gt;&lt;/ul&gt;&lt;/div&gt;\n",
       "                 &lt;/div&gt;`,\n",
       "                {&quot;sticky&quot;: true}\n",
       "            );\n",
       "        \n",
       "    \n",
       "            var circle_0534e7db60f40b33a6746ae31c06212f = L.circle(\n",
       "                [21.521757, -77.781167],\n",
       "                {&quot;bubblingMouseEvents&quot;: true, &quot;color&quot;: &quot;red&quot;, &quot;dashArray&quot;: null, &quot;dashOffset&quot;: null, &quot;fill&quot;: true, &quot;fillColor&quot;: &quot;indigo&quot;, &quot;fillOpacity&quot;: 0.2, &quot;fillRule&quot;: &quot;evenodd&quot;, &quot;lineCap&quot;: &quot;round&quot;, &quot;lineJoin&quot;: &quot;round&quot;, &quot;opacity&quot;: 1.0, &quot;radius&quot;: 660000.0, &quot;stroke&quot;: true, &quot;weight&quot;: 3}\n",
       "            ).addTo(map_6d1e22dda92088ca39d2cd125c89418f);\n",
       "        \n",
       "    \n",
       "            circle_0534e7db60f40b33a6746ae31c06212f.bindTooltip(\n",
       "                `&lt;div&gt;\n",
       "                     &lt;div style=&#x27;margin: 0; background-color: black; color: white;&#x27;&gt;&lt;h4 style=&#x27;text-align:center;font-weight: bold&#x27;&gt;Cuba&lt;/h4&gt;&lt;hr style=&#x27;margin:10px;color: white;&#x27;&gt;&lt;ul style=&#x27;color: white;;list-style-type:circle;align-item:left;padding-left:20px;padding-right:20px&#x27;&gt;&lt;li&gt;Confirmed: 1112643&lt;/li&gt;&lt;li&gt;Deaths:   834&lt;/li&gt;&lt;li&gt;Death Rate: 0.07&lt;/li&gt;&lt;/ul&gt;&lt;/div&gt;\n",
       "                 &lt;/div&gt;`,\n",
       "                {&quot;sticky&quot;: true}\n",
       "            );\n",
       "        \n",
       "    \n",
       "            var circle_cf050083b92bf96047fe66807cc8c98f = L.circle(\n",
       "                [35.1264, 33.4299],\n",
       "                {&quot;bubblingMouseEvents&quot;: true, &quot;color&quot;: &quot;red&quot;, &quot;dashArray&quot;: null, &quot;dashOffset&quot;: null, &quot;fill&quot;: true, &quot;fillColor&quot;: &quot;indigo&quot;, &quot;fillOpacity&quot;: 0.2, &quot;fillRule&quot;: &quot;evenodd&quot;, &quot;lineCap&quot;: &quot;round&quot;, &quot;lineJoin&quot;: &quot;round&quot;, &quot;opacity&quot;: 1.0, &quot;radius&quot;: 660000.0, &quot;stroke&quot;: true, &quot;weight&quot;: 3}\n",
       "            ).addTo(map_6d1e22dda92088ca39d2cd125c89418f);\n",
       "        \n",
       "    \n",
       "            circle_cf050083b92bf96047fe66807cc8c98f.bindTooltip(\n",
       "                `&lt;div&gt;\n",
       "                     &lt;div style=&#x27;margin: 0; background-color: black; color: white;&#x27;&gt;&lt;h4 style=&#x27;text-align:center;font-weight: bold&#x27;&gt;Cyprus&lt;/h4&gt;&lt;hr style=&#x27;margin:10px;color: white;&#x27;&gt;&lt;ul style=&#x27;color: white;;list-style-type:circle;align-item:left;padding-left:20px;padding-right:20px&#x27;&gt;&lt;li&gt;Confirmed: 650685&lt;/li&gt;&lt;li&gt;Deaths:   17987&lt;/li&gt;&lt;li&gt;Death Rate: 2.76&lt;/li&gt;&lt;/ul&gt;&lt;/div&gt;\n",
       "                 &lt;/div&gt;`,\n",
       "                {&quot;sticky&quot;: true}\n",
       "            );\n",
       "        \n",
       "    \n",
       "            var circle_d3213921c555baae5d96d6794afb1c95 = L.circle(\n",
       "                [49.8175, 15.473],\n",
       "                {&quot;bubblingMouseEvents&quot;: true, &quot;color&quot;: &quot;red&quot;, &quot;dashArray&quot;: null, &quot;dashOffset&quot;: null, &quot;fill&quot;: true, &quot;fillColor&quot;: &quot;indigo&quot;, &quot;fillOpacity&quot;: 0.2, &quot;fillRule&quot;: &quot;evenodd&quot;, &quot;lineCap&quot;: &quot;round&quot;, &quot;lineJoin&quot;: &quot;round&quot;, &quot;opacity&quot;: 1.0, &quot;radius&quot;: 760000.0, &quot;stroke&quot;: true, &quot;weight&quot;: 3}\n",
       "            ).addTo(map_6d1e22dda92088ca39d2cd125c89418f);\n",
       "        \n",
       "    \n",
       "            circle_d3213921c555baae5d96d6794afb1c95.bindTooltip(\n",
       "                `&lt;div&gt;\n",
       "                     &lt;div style=&#x27;margin: 0; background-color: black; color: white;&#x27;&gt;&lt;h4 style=&#x27;text-align:center;font-weight: bold&#x27;&gt;Czechia&lt;/h4&gt;&lt;hr style=&#x27;margin:10px;color: white;&#x27;&gt;&lt;ul style=&#x27;color: white;;list-style-type:circle;align-item:left;padding-left:20px;padding-right:20px&#x27;&gt;&lt;li&gt;Confirmed: 4618256&lt;/li&gt;&lt;li&gt;Deaths:   8530&lt;/li&gt;&lt;li&gt;Death Rate: 0.18&lt;/li&gt;&lt;/ul&gt;&lt;/div&gt;\n",
       "                 &lt;/div&gt;`,\n",
       "                {&quot;sticky&quot;: true}\n",
       "            );\n",
       "        \n",
       "    \n",
       "            var circle_3e5f9bc0cf82699f188a7e8217e60e32 = L.circle(\n",
       "                [61.8926, -6.9118],\n",
       "                {&quot;bubblingMouseEvents&quot;: true, &quot;color&quot;: &quot;red&quot;, &quot;dashArray&quot;: null, &quot;dashOffset&quot;: null, &quot;fill&quot;: true, &quot;fillColor&quot;: &quot;indigo&quot;, &quot;fillOpacity&quot;: 0.2, &quot;fillRule&quot;: &quot;evenodd&quot;, &quot;lineCap&quot;: &quot;round&quot;, &quot;lineJoin&quot;: &quot;round&quot;, &quot;opacity&quot;: 1.0, &quot;radius&quot;: 509999.99999999994, &quot;stroke&quot;: true, &quot;weight&quot;: 3}\n",
       "            ).addTo(map_6d1e22dda92088ca39d2cd125c89418f);\n",
       "        \n",
       "    \n",
       "            circle_3e5f9bc0cf82699f188a7e8217e60e32.bindTooltip(\n",
       "                `&lt;div&gt;\n",
       "                     &lt;div style=&#x27;margin: 0; background-color: black; color: white;&#x27;&gt;&lt;h4 style=&#x27;text-align:center;font-weight: bold&#x27;&gt;Denmark&lt;/h4&gt;&lt;hr style=&#x27;margin:10px;color: white;&#x27;&gt;&lt;ul style=&#x27;color: white;;list-style-type:circle;align-item:left;padding-left:20px;padding-right:20px&#x27;&gt;&lt;li&gt;Confirmed: 34658&lt;/li&gt;&lt;li&gt;Deaths:   1330&lt;/li&gt;&lt;li&gt;Death Rate: 3.84&lt;/li&gt;&lt;/ul&gt;&lt;/div&gt;\n",
       "                 &lt;/div&gt;`,\n",
       "                {&quot;sticky&quot;: true}\n",
       "            );\n",
       "        \n",
       "    \n",
       "            var circle_77e791582f0ad80ed01c95413ce5e311 = L.circle(\n",
       "                [71.7069, -42.6043],\n",
       "                {&quot;bubblingMouseEvents&quot;: true, &quot;color&quot;: &quot;red&quot;, &quot;dashArray&quot;: null, &quot;dashOffset&quot;: null, &quot;fill&quot;: true, &quot;fillColor&quot;: &quot;indigo&quot;, &quot;fillOpacity&quot;: 0.2, &quot;fillRule&quot;: &quot;evenodd&quot;, &quot;lineCap&quot;: &quot;round&quot;, &quot;lineJoin&quot;: &quot;round&quot;, &quot;opacity&quot;: 1.0, &quot;radius&quot;: 459999.99999999994, &quot;stroke&quot;: true, &quot;weight&quot;: 3}\n",
       "            ).addTo(map_6d1e22dda92088ca39d2cd125c89418f);\n",
       "        \n",
       "    \n",
       "            circle_77e791582f0ad80ed01c95413ce5e311.bindTooltip(\n",
       "                `&lt;div&gt;\n",
       "                     &lt;div style=&#x27;margin: 0; background-color: black; color: white;&#x27;&gt;&lt;h4 style=&#x27;text-align:center;font-weight: bold&#x27;&gt;Denmark&lt;/h4&gt;&lt;hr style=&#x27;margin:10px;color: white;&#x27;&gt;&lt;ul style=&#x27;color: white;;list-style-type:circle;align-item:left;padding-left:20px;padding-right:20px&#x27;&gt;&lt;li&gt;Confirmed: 11971&lt;/li&gt;&lt;li&gt;Deaths:   42491&lt;/li&gt;&lt;li&gt;Death Rate: 354.92&lt;/li&gt;&lt;/ul&gt;&lt;/div&gt;\n",
       "                 &lt;/div&gt;`,\n",
       "                {&quot;sticky&quot;: true}\n",
       "            );\n",
       "        \n",
       "    \n",
       "            var circle_5cb83a2acf3c393739c812b3cf101a68 = L.circle(\n",
       "                [56.2639, 9.5018],\n",
       "                {&quot;bubblingMouseEvents&quot;: true, &quot;color&quot;: &quot;red&quot;, &quot;dashArray&quot;: null, &quot;dashOffset&quot;: null, &quot;fill&quot;: true, &quot;fillColor&quot;: &quot;indigo&quot;, &quot;fillOpacity&quot;: 0.2, &quot;fillRule&quot;: &quot;evenodd&quot;, &quot;lineCap&quot;: &quot;round&quot;, &quot;lineJoin&quot;: &quot;round&quot;, &quot;opacity&quot;: 1.0, &quot;radius&quot;: 760000.0, &quot;stroke&quot;: true, &quot;weight&quot;: 3}\n",
       "            ).addTo(map_6d1e22dda92088ca39d2cd125c89418f);\n",
       "        \n",
       "    \n",
       "            circle_5cb83a2acf3c393739c812b3cf101a68.bindTooltip(\n",
       "                `&lt;div&gt;\n",
       "                     &lt;div style=&#x27;margin: 0; background-color: black; color: white;&#x27;&gt;&lt;h4 style=&#x27;text-align:center;font-weight: bold&#x27;&gt;Denmark&lt;/h4&gt;&lt;hr style=&#x27;margin:10px;color: white;&#x27;&gt;&lt;ul style=&#x27;color: white;;list-style-type:circle;align-item:left;padding-left:20px;padding-right:20px&#x27;&gt;&lt;li&gt;Confirmed: 3404407&lt;/li&gt;&lt;li&gt;Deaths:   28&lt;/li&gt;&lt;li&gt;Death Rate: 0.0&lt;/li&gt;&lt;/ul&gt;&lt;/div&gt;\n",
       "                 &lt;/div&gt;`,\n",
       "                {&quot;sticky&quot;: true}\n",
       "            );\n",
       "        \n",
       "    \n",
       "            var circle_8e29e9125f795fbd8a7b876c81a0be5b = L.circle(\n",
       "                [0.0, 0.0],\n",
       "                {&quot;bubblingMouseEvents&quot;: true, &quot;color&quot;: &quot;red&quot;, &quot;dashArray&quot;: null, &quot;dashOffset&quot;: null, &quot;fill&quot;: true, &quot;fillColor&quot;: &quot;indigo&quot;, &quot;fillOpacity&quot;: 0.2, &quot;fillRule&quot;: &quot;evenodd&quot;, &quot;lineCap&quot;: &quot;round&quot;, &quot;lineJoin&quot;: &quot;round&quot;, &quot;opacity&quot;: 1.0, &quot;radius&quot;: 310000.0, &quot;stroke&quot;: true, &quot;weight&quot;: 3}\n",
       "            ).addTo(map_6d1e22dda92088ca39d2cd125c89418f);\n",
       "        \n",
       "    \n",
       "            circle_8e29e9125f795fbd8a7b876c81a0be5b.bindTooltip(\n",
       "                `&lt;div&gt;\n",
       "                     &lt;div style=&#x27;margin: 0; background-color: black; color: white;&#x27;&gt;&lt;h4 style=&#x27;text-align:center;font-weight: bold&#x27;&gt;Diamond Princess&lt;/h4&gt;&lt;hr style=&#x27;margin:10px;color: white;&#x27;&gt;&lt;ul style=&#x27;color: white;;list-style-type:circle;align-item:left;padding-left:20px;padding-right:20px&#x27;&gt;&lt;li&gt;Confirmed: 712&lt;/li&gt;&lt;li&gt;Deaths:   21&lt;/li&gt;&lt;li&gt;Death Rate: 2.95&lt;/li&gt;&lt;/ul&gt;&lt;/div&gt;\n",
       "                 &lt;/div&gt;`,\n",
       "                {&quot;sticky&quot;: true}\n",
       "            );\n",
       "        \n",
       "    \n",
       "            var circle_548af46a9571cc1e79b37965d2ccbd6c = L.circle(\n",
       "                [11.8251, 42.5903],\n",
       "                {&quot;bubblingMouseEvents&quot;: true, &quot;color&quot;: &quot;red&quot;, &quot;dashArray&quot;: null, &quot;dashOffset&quot;: null, &quot;fill&quot;: true, &quot;fillColor&quot;: &quot;indigo&quot;, &quot;fillOpacity&quot;: 0.2, &quot;fillRule&quot;: &quot;evenodd&quot;, &quot;lineCap&quot;: &quot;round&quot;, &quot;lineJoin&quot;: &quot;round&quot;, &quot;opacity&quot;: 1.0, &quot;radius&quot;: 459999.99999999994, &quot;stroke&quot;: true, &quot;weight&quot;: 3}\n",
       "            ).addTo(map_6d1e22dda92088ca39d2cd125c89418f);\n",
       "        \n",
       "    \n",
       "            circle_548af46a9571cc1e79b37965d2ccbd6c.bindTooltip(\n",
       "                `&lt;div&gt;\n",
       "                     &lt;div style=&#x27;margin: 0; background-color: black; color: white;&#x27;&gt;&lt;h4 style=&#x27;text-align:center;font-weight: bold&#x27;&gt;Djibouti&lt;/h4&gt;&lt;hr style=&#x27;margin:10px;color: white;&#x27;&gt;&lt;ul style=&#x27;color: white;;list-style-type:circle;align-item:left;padding-left:20px;padding-right:20px&#x27;&gt;&lt;li&gt;Confirmed: 15690&lt;/li&gt;&lt;li&gt;Deaths:   8296&lt;/li&gt;&lt;li&gt;Death Rate: 52.87&lt;/li&gt;&lt;/ul&gt;&lt;/div&gt;\n",
       "                 &lt;/div&gt;`,\n",
       "                {&quot;sticky&quot;: true}\n",
       "            );\n",
       "        \n",
       "    \n",
       "            var circle_9118ac8a10cfe2735bc62ad6718b5c07 = L.circle(\n",
       "                [15.415, -61.371],\n",
       "                {&quot;bubblingMouseEvents&quot;: true, &quot;color&quot;: &quot;red&quot;, &quot;dashArray&quot;: null, &quot;dashOffset&quot;: null, &quot;fill&quot;: true, &quot;fillColor&quot;: &quot;indigo&quot;, &quot;fillOpacity&quot;: 0.2, &quot;fillRule&quot;: &quot;evenodd&quot;, &quot;lineCap&quot;: &quot;round&quot;, &quot;lineJoin&quot;: &quot;round&quot;, &quot;opacity&quot;: 1.0, &quot;radius&quot;: 459999.99999999994, &quot;stroke&quot;: true, &quot;weight&quot;: 3}\n",
       "            ).addTo(map_6d1e22dda92088ca39d2cd125c89418f);\n",
       "        \n",
       "    \n",
       "            circle_9118ac8a10cfe2735bc62ad6718b5c07.bindTooltip(\n",
       "                `&lt;div&gt;\n",
       "                     &lt;div style=&#x27;margin: 0; background-color: black; color: white;&#x27;&gt;&lt;h4 style=&#x27;text-align:center;font-weight: bold&#x27;&gt;Dominica&lt;/h4&gt;&lt;hr style=&#x27;margin:10px;color: white;&#x27;&gt;&lt;ul style=&#x27;color: white;;list-style-type:circle;align-item:left;padding-left:20px;padding-right:20px&#x27;&gt;&lt;li&gt;Confirmed: 15760&lt;/li&gt;&lt;li&gt;Deaths:   13&lt;/li&gt;&lt;li&gt;Death Rate: 0.08&lt;/li&gt;&lt;/ul&gt;&lt;/div&gt;\n",
       "                 &lt;/div&gt;`,\n",
       "                {&quot;sticky&quot;: true}\n",
       "            );\n",
       "        \n",
       "    \n",
       "            var circle_2195edfa339bed4ce499768f30b9da3c = L.circle(\n",
       "                [18.7357, -70.1627],\n",
       "                {&quot;bubblingMouseEvents&quot;: true, &quot;color&quot;: &quot;red&quot;, &quot;dashArray&quot;: null, &quot;dashOffset&quot;: null, &quot;fill&quot;: true, &quot;fillColor&quot;: &quot;indigo&quot;, &quot;fillOpacity&quot;: 0.2, &quot;fillRule&quot;: &quot;evenodd&quot;, &quot;lineCap&quot;: &quot;round&quot;, &quot;lineJoin&quot;: &quot;round&quot;, &quot;opacity&quot;: 1.0, &quot;radius&quot;: 660000.0, &quot;stroke&quot;: true, &quot;weight&quot;: 3}\n",
       "            ).addTo(map_6d1e22dda92088ca39d2cd125c89418f);\n",
       "        \n",
       "    \n",
       "            circle_2195edfa339bed4ce499768f30b9da3c.bindTooltip(\n",
       "                `&lt;div&gt;\n",
       "                     &lt;div style=&#x27;margin: 0; background-color: black; color: white;&#x27;&gt;&lt;h4 style=&#x27;text-align:center;font-weight: bold&#x27;&gt;Dominican Republic&lt;/h4&gt;&lt;hr style=&#x27;margin:10px;color: white;&#x27;&gt;&lt;ul style=&#x27;color: white;;list-style-type:circle;align-item:left;padding-left:20px;padding-right:20px&#x27;&gt;&lt;li&gt;Confirmed: 660790&lt;/li&gt;&lt;li&gt;Deaths:   189&lt;/li&gt;&lt;li&gt;Death Rate: 0.03&lt;/li&gt;&lt;/ul&gt;&lt;/div&gt;\n",
       "                 &lt;/div&gt;`,\n",
       "                {&quot;sticky&quot;: true}\n",
       "            );\n",
       "        \n",
       "    \n",
       "            var circle_6fb6e5bf2d16c4d7d90b39c3592d7b23 = L.circle(\n",
       "                [-1.8312, -78.1834],\n",
       "                {&quot;bubblingMouseEvents&quot;: true, &quot;color&quot;: &quot;red&quot;, &quot;dashArray&quot;: null, &quot;dashOffset&quot;: null, &quot;fill&quot;: true, &quot;fillColor&quot;: &quot;indigo&quot;, &quot;fillOpacity&quot;: 0.2, &quot;fillRule&quot;: &quot;evenodd&quot;, &quot;lineCap&quot;: &quot;round&quot;, &quot;lineJoin&quot;: &quot;round&quot;, &quot;opacity&quot;: 1.0, &quot;radius&quot;: 660000.0, &quot;stroke&quot;: true, &quot;weight&quot;: 3}\n",
       "            ).addTo(map_6d1e22dda92088ca39d2cd125c89418f);\n",
       "        \n",
       "    \n",
       "            circle_6fb6e5bf2d16c4d7d90b39c3592d7b23.bindTooltip(\n",
       "                `&lt;div&gt;\n",
       "                     &lt;div style=&#x27;margin: 0; background-color: black; color: white;&#x27;&gt;&lt;h4 style=&#x27;text-align:center;font-weight: bold&#x27;&gt;Ecuador&lt;/h4&gt;&lt;hr style=&#x27;margin:10px;color: white;&#x27;&gt;&lt;ul style=&#x27;color: white;;list-style-type:circle;align-item:left;padding-left:20px;padding-right:20px&#x27;&gt;&lt;li&gt;Confirmed: 1057121&lt;/li&gt;&lt;li&gt;Deaths:   74&lt;/li&gt;&lt;li&gt;Death Rate: 0.01&lt;/li&gt;&lt;/ul&gt;&lt;/div&gt;\n",
       "                 &lt;/div&gt;`,\n",
       "                {&quot;sticky&quot;: true}\n",
       "            );\n",
       "        \n",
       "    \n",
       "            var circle_9d62b1d80688a2f21a1d62c685ccb763 = L.circle(\n",
       "                [26.820553, 30.802498],\n",
       "                {&quot;bubblingMouseEvents&quot;: true, &quot;color&quot;: &quot;red&quot;, &quot;dashArray&quot;: null, &quot;dashOffset&quot;: null, &quot;fill&quot;: true, &quot;fillColor&quot;: &quot;indigo&quot;, &quot;fillOpacity&quot;: 0.2, &quot;fillRule&quot;: &quot;evenodd&quot;, &quot;lineCap&quot;: &quot;round&quot;, &quot;lineJoin&quot;: &quot;round&quot;, &quot;opacity&quot;: 1.0, &quot;radius&quot;: 660000.0, &quot;stroke&quot;: true, &quot;weight&quot;: 3}\n",
       "            ).addTo(map_6d1e22dda92088ca39d2cd125c89418f);\n",
       "        \n",
       "    \n",
       "            circle_9d62b1d80688a2f21a1d62c685ccb763.bindTooltip(\n",
       "                `&lt;div&gt;\n",
       "                     &lt;div style=&#x27;margin: 0; background-color: black; color: white;&#x27;&gt;&lt;h4 style=&#x27;text-align:center;font-weight: bold&#x27;&gt;Egypt&lt;/h4&gt;&lt;hr style=&#x27;margin:10px;color: white;&#x27;&gt;&lt;ul style=&#x27;color: white;;list-style-type:circle;align-item:left;padding-left:20px;padding-right:20px&#x27;&gt;&lt;li&gt;Confirmed: 515759&lt;/li&gt;&lt;li&gt;Deaths:   4384&lt;/li&gt;&lt;li&gt;Death Rate: 0.85&lt;/li&gt;&lt;/ul&gt;&lt;/div&gt;\n",
       "                 &lt;/div&gt;`,\n",
       "                {&quot;sticky&quot;: true}\n",
       "            );\n",
       "        \n",
       "    \n",
       "            var circle_e396c1c4958870089804cd8c6c62d7d0 = L.circle(\n",
       "                [13.7942, -88.8965],\n",
       "                {&quot;bubblingMouseEvents&quot;: true, &quot;color&quot;: &quot;red&quot;, &quot;dashArray&quot;: null, &quot;dashOffset&quot;: null, &quot;fill&quot;: true, &quot;fillColor&quot;: &quot;indigo&quot;, &quot;fillOpacity&quot;: 0.2, &quot;fillRule&quot;: &quot;evenodd&quot;, &quot;lineCap&quot;: &quot;round&quot;, &quot;lineJoin&quot;: &quot;round&quot;, &quot;opacity&quot;: 1.0, &quot;radius&quot;: 610000.0, &quot;stroke&quot;: true, &quot;weight&quot;: 3}\n",
       "            ).addTo(map_6d1e22dda92088ca39d2cd125c89418f);\n",
       "        \n",
       "    \n",
       "            circle_e396c1c4958870089804cd8c6c62d7d0.bindTooltip(\n",
       "                `&lt;div&gt;\n",
       "                     &lt;div style=&#x27;margin: 0; background-color: black; color: white;&#x27;&gt;&lt;h4 style=&#x27;text-align:center;font-weight: bold&#x27;&gt;El Salvador&lt;/h4&gt;&lt;hr style=&#x27;margin:10px;color: white;&#x27;&gt;&lt;ul style=&#x27;color: white;;list-style-type:circle;align-item:left;padding-left:20px;padding-right:20px&#x27;&gt;&lt;li&gt;Confirmed: 201785&lt;/li&gt;&lt;li&gt;Deaths:   36014&lt;/li&gt;&lt;li&gt;Death Rate: 17.85&lt;/li&gt;&lt;/ul&gt;&lt;/div&gt;\n",
       "                 &lt;/div&gt;`,\n",
       "                {&quot;sticky&quot;: true}\n",
       "            );\n",
       "        \n",
       "    \n",
       "            var circle_59366cb7e09cf136342bcc0712d1f130 = L.circle(\n",
       "                [1.6508, 10.2679],\n",
       "                {&quot;bubblingMouseEvents&quot;: true, &quot;color&quot;: &quot;red&quot;, &quot;dashArray&quot;: null, &quot;dashOffset&quot;: null, &quot;fill&quot;: true, &quot;fillColor&quot;: &quot;indigo&quot;, &quot;fillOpacity&quot;: 0.2, &quot;fillRule&quot;: &quot;evenodd&quot;, &quot;lineCap&quot;: &quot;round&quot;, &quot;lineJoin&quot;: &quot;round&quot;, &quot;opacity&quot;: 1.0, &quot;radius&quot;: 459999.99999999994, &quot;stroke&quot;: true, &quot;weight&quot;: 3}\n",
       "            ).addTo(map_6d1e22dda92088ca39d2cd125c89418f);\n",
       "        \n",
       "    \n",
       "            circle_59366cb7e09cf136342bcc0712d1f130.bindTooltip(\n",
       "                `&lt;div&gt;\n",
       "                     &lt;div style=&#x27;margin: 0; background-color: black; color: white;&#x27;&gt;&lt;h4 style=&#x27;text-align:center;font-weight: bold&#x27;&gt;Equatorial Guinea&lt;/h4&gt;&lt;hr style=&#x27;margin:10px;color: white;&#x27;&gt;&lt;ul style=&#x27;color: white;;list-style-type:circle;align-item:left;padding-left:20px;padding-right:20px&#x27;&gt;&lt;li&gt;Confirmed: 17229&lt;/li&gt;&lt;li&gt;Deaths:   24812&lt;/li&gt;&lt;li&gt;Death Rate: 144.0&lt;/li&gt;&lt;/ul&gt;&lt;/div&gt;\n",
       "                 &lt;/div&gt;`,\n",
       "                {&quot;sticky&quot;: true}\n",
       "            );\n",
       "        \n",
       "    \n",
       "            var circle_c08da1094a9e7ac582fff5cb209fd6f4 = L.circle(\n",
       "                [15.1794, 39.7823],\n",
       "                {&quot;bubblingMouseEvents&quot;: true, &quot;color&quot;: &quot;red&quot;, &quot;dashArray&quot;: null, &quot;dashOffset&quot;: null, &quot;fill&quot;: true, &quot;fillColor&quot;: &quot;indigo&quot;, &quot;fillOpacity&quot;: 0.2, &quot;fillRule&quot;: &quot;evenodd&quot;, &quot;lineCap&quot;: &quot;round&quot;, &quot;lineJoin&quot;: &quot;round&quot;, &quot;opacity&quot;: 1.0, &quot;radius&quot;: 459999.99999999994, &quot;stroke&quot;: true, &quot;weight&quot;: 3}\n",
       "            ).addTo(map_6d1e22dda92088ca39d2cd125c89418f);\n",
       "        \n",
       "    \n",
       "            circle_c08da1094a9e7ac582fff5cb209fd6f4.bindTooltip(\n",
       "                `&lt;div&gt;\n",
       "                     &lt;div style=&#x27;margin: 0; background-color: black; color: white;&#x27;&gt;&lt;h4 style=&#x27;text-align:center;font-weight: bold&#x27;&gt;Eritrea&lt;/h4&gt;&lt;hr style=&#x27;margin:10px;color: white;&#x27;&gt;&lt;ul style=&#x27;color: white;;list-style-type:circle;align-item:left;padding-left:20px;padding-right:20px&#x27;&gt;&lt;li&gt;Confirmed: 10189&lt;/li&gt;&lt;li&gt;Deaths:   4230&lt;/li&gt;&lt;li&gt;Death Rate: 41.51&lt;/li&gt;&lt;/ul&gt;&lt;/div&gt;\n",
       "                 &lt;/div&gt;`,\n",
       "                {&quot;sticky&quot;: true}\n",
       "            );\n",
       "        \n",
       "    \n",
       "            var circle_ea0dc53f2df847a16fb8ca88ac6d4b78 = L.circle(\n",
       "                [58.5953, 25.0136],\n",
       "                {&quot;bubblingMouseEvents&quot;: true, &quot;color&quot;: &quot;red&quot;, &quot;dashArray&quot;: null, &quot;dashOffset&quot;: null, &quot;fill&quot;: true, &quot;fillColor&quot;: &quot;indigo&quot;, &quot;fillOpacity&quot;: 0.2, &quot;fillRule&quot;: &quot;evenodd&quot;, &quot;lineCap&quot;: &quot;round&quot;, &quot;lineJoin&quot;: &quot;round&quot;, &quot;opacity&quot;: 1.0, &quot;radius&quot;: 660000.0, &quot;stroke&quot;: true, &quot;weight&quot;: 3}\n",
       "            ).addTo(map_6d1e22dda92088ca39d2cd125c89418f);\n",
       "        \n",
       "    \n",
       "            circle_ea0dc53f2df847a16fb8ca88ac6d4b78.bindTooltip(\n",
       "                `&lt;div&gt;\n",
       "                     &lt;div style=&#x27;margin: 0; background-color: black; color: white;&#x27;&gt;&lt;h4 style=&#x27;text-align:center;font-weight: bold&#x27;&gt;Estonia&lt;/h4&gt;&lt;hr style=&#x27;margin:10px;color: white;&#x27;&gt;&lt;ul style=&#x27;color: white;;list-style-type:circle;align-item:left;padding-left:20px;padding-right:20px&#x27;&gt;&lt;li&gt;Confirmed: 615433&lt;/li&gt;&lt;li&gt;Deaths:   183&lt;/li&gt;&lt;li&gt;Death Rate: 0.03&lt;/li&gt;&lt;/ul&gt;&lt;/div&gt;\n",
       "                 &lt;/div&gt;`,\n",
       "                {&quot;sticky&quot;: true}\n",
       "            );\n",
       "        \n",
       "    \n",
       "            var circle_9831a50a9bd055014ce205ac3e1c2a00 = L.circle(\n",
       "                [-26.5225, 31.4659],\n",
       "                {&quot;bubblingMouseEvents&quot;: true, &quot;color&quot;: &quot;red&quot;, &quot;dashArray&quot;: null, &quot;dashOffset&quot;: null, &quot;fill&quot;: true, &quot;fillColor&quot;: &quot;indigo&quot;, &quot;fillOpacity&quot;: 0.2, &quot;fillRule&quot;: &quot;evenodd&quot;, &quot;lineCap&quot;: &quot;round&quot;, &quot;lineJoin&quot;: &quot;round&quot;, &quot;opacity&quot;: 1.0, &quot;radius&quot;: 560000.0, &quot;stroke&quot;: true, &quot;weight&quot;: 3}\n",
       "            ).addTo(map_6d1e22dda92088ca39d2cd125c89418f);\n",
       "        \n",
       "    \n",
       "            circle_9831a50a9bd055014ce205ac3e1c2a00.bindTooltip(\n",
       "                `&lt;div&gt;\n",
       "                     &lt;div style=&#x27;margin: 0; background-color: black; color: white;&#x27;&gt;&lt;h4 style=&#x27;text-align:center;font-weight: bold&#x27;&gt;Eswatini&lt;/h4&gt;&lt;hr style=&#x27;margin:10px;color: white;&#x27;&gt;&lt;ul style=&#x27;color: white;;list-style-type:circle;align-item:left;padding-left:20px;padding-right:20px&#x27;&gt;&lt;li&gt;Confirmed: 74267&lt;/li&gt;&lt;li&gt;Deaths:   103&lt;/li&gt;&lt;li&gt;Death Rate: 0.14&lt;/li&gt;&lt;/ul&gt;&lt;/div&gt;\n",
       "                 &lt;/div&gt;`,\n",
       "                {&quot;sticky&quot;: true}\n",
       "            );\n",
       "        \n",
       "    \n",
       "            var circle_63232c18f09dfca2bd3db46db667c92d = L.circle(\n",
       "                [9.145, 40.4897],\n",
       "                {&quot;bubblingMouseEvents&quot;: true, &quot;color&quot;: &quot;red&quot;, &quot;dashArray&quot;: null, &quot;dashOffset&quot;: null, &quot;fill&quot;: true, &quot;fillColor&quot;: &quot;indigo&quot;, &quot;fillOpacity&quot;: 0.2, &quot;fillRule&quot;: &quot;evenodd&quot;, &quot;lineCap&quot;: &quot;round&quot;, &quot;lineJoin&quot;: &quot;round&quot;, &quot;opacity&quot;: 1.0, &quot;radius&quot;: 660000.0, &quot;stroke&quot;: true, &quot;weight&quot;: 3}\n",
       "            ).addTo(map_6d1e22dda92088ca39d2cd125c89418f);\n",
       "        \n",
       "    \n",
       "            circle_63232c18f09dfca2bd3db46db667c92d.bindTooltip(\n",
       "                `&lt;div&gt;\n",
       "                     &lt;div style=&#x27;margin: 0; background-color: black; color: white;&#x27;&gt;&lt;h4 style=&#x27;text-align:center;font-weight: bold&#x27;&gt;Ethiopia&lt;/h4&gt;&lt;hr style=&#x27;margin:10px;color: white;&#x27;&gt;&lt;ul style=&#x27;color: white;;list-style-type:circle;align-item:left;padding-left:20px;padding-right:20px&#x27;&gt;&lt;li&gt;Confirmed: 500116&lt;/li&gt;&lt;li&gt;Deaths:   2946&lt;/li&gt;&lt;li&gt;Death Rate: 0.59&lt;/li&gt;&lt;/ul&gt;&lt;/div&gt;\n",
       "                 &lt;/div&gt;`,\n",
       "                {&quot;sticky&quot;: true}\n",
       "            );\n",
       "        \n",
       "    \n",
       "            var circle_f5726cacb1bd15ec3e15c8779958616a = L.circle(\n",
       "                [-17.7134, 178.065],\n",
       "                {&quot;bubblingMouseEvents&quot;: true, &quot;color&quot;: &quot;red&quot;, &quot;dashArray&quot;: null, &quot;dashOffset&quot;: null, &quot;fill&quot;: true, &quot;fillColor&quot;: &quot;indigo&quot;, &quot;fillOpacity&quot;: 0.2, &quot;fillRule&quot;: &quot;evenodd&quot;, &quot;lineCap&quot;: &quot;round&quot;, &quot;lineJoin&quot;: &quot;round&quot;, &quot;opacity&quot;: 1.0, &quot;radius&quot;: 560000.0, &quot;stroke&quot;: true, &quot;weight&quot;: 3}\n",
       "            ).addTo(map_6d1e22dda92088ca39d2cd125c89418f);\n",
       "        \n",
       "    \n",
       "            circle_f5726cacb1bd15ec3e15c8779958616a.bindTooltip(\n",
       "                `&lt;div&gt;\n",
       "                     &lt;div style=&#x27;margin: 0; background-color: black; color: white;&#x27;&gt;&lt;h4 style=&#x27;text-align:center;font-weight: bold&#x27;&gt;Fiji&lt;/h4&gt;&lt;hr style=&#x27;margin:10px;color: white;&#x27;&gt;&lt;ul style=&#x27;color: white;;list-style-type:circle;align-item:left;padding-left:20px;padding-right:20px&#x27;&gt;&lt;li&gt;Confirmed: 68898&lt;/li&gt;&lt;li&gt;Deaths:   1425&lt;/li&gt;&lt;li&gt;Death Rate: 2.07&lt;/li&gt;&lt;/ul&gt;&lt;/div&gt;\n",
       "                 &lt;/div&gt;`,\n",
       "                {&quot;sticky&quot;: true}\n",
       "            );\n",
       "        \n",
       "    \n",
       "            var circle_f3142e5cf840a2f99e5bcda921990c28 = L.circle(\n",
       "                [61.92411, 25.748151],\n",
       "                {&quot;bubblingMouseEvents&quot;: true, &quot;color&quot;: &quot;red&quot;, &quot;dashArray&quot;: null, &quot;dashOffset&quot;: null, &quot;fill&quot;: true, &quot;fillColor&quot;: &quot;indigo&quot;, &quot;fillOpacity&quot;: 0.2, &quot;fillRule&quot;: &quot;evenodd&quot;, &quot;lineCap&quot;: &quot;round&quot;, &quot;lineJoin&quot;: &quot;round&quot;, &quot;opacity&quot;: 1.0, &quot;radius&quot;: 710000.0, &quot;stroke&quot;: true, &quot;weight&quot;: 3}\n",
       "            ).addTo(map_6d1e22dda92088ca39d2cd125c89418f);\n",
       "        \n",
       "    \n",
       "            circle_f3142e5cf840a2f99e5bcda921990c28.bindTooltip(\n",
       "                `&lt;div&gt;\n",
       "                     &lt;div style=&#x27;margin: 0; background-color: black; color: white;&#x27;&gt;&lt;h4 style=&#x27;text-align:center;font-weight: bold&#x27;&gt;Finland&lt;/h4&gt;&lt;hr style=&#x27;margin:10px;color: white;&#x27;&gt;&lt;ul style=&#x27;color: white;;list-style-type:circle;align-item:left;padding-left:20px;padding-right:20px&#x27;&gt;&lt;li&gt;Confirmed: 1463644&lt;/li&gt;&lt;li&gt;Deaths:   7572&lt;/li&gt;&lt;li&gt;Death Rate: 0.52&lt;/li&gt;&lt;/ul&gt;&lt;/div&gt;\n",
       "                 &lt;/div&gt;`,\n",
       "                {&quot;sticky&quot;: true}\n",
       "            );\n",
       "        \n",
       "    \n",
       "            var circle_7f4661f46a993c11a07ab73b1cfb1664 = L.circle(\n",
       "                [3.9339, -53.1258],\n",
       "                {&quot;bubblingMouseEvents&quot;: true, &quot;color&quot;: &quot;red&quot;, &quot;dashArray&quot;: null, &quot;dashOffset&quot;: null, &quot;fill&quot;: true, &quot;fillColor&quot;: &quot;indigo&quot;, &quot;fillOpacity&quot;: 0.2, &quot;fillRule&quot;: &quot;evenodd&quot;, &quot;lineCap&quot;: &quot;round&quot;, &quot;lineJoin&quot;: &quot;round&quot;, &quot;opacity&quot;: 1.0, &quot;radius&quot;: 560000.0, &quot;stroke&quot;: true, &quot;weight&quot;: 3}\n",
       "            ).addTo(map_6d1e22dda92088ca39d2cd125c89418f);\n",
       "        \n",
       "    \n",
       "            circle_7f4661f46a993c11a07ab73b1cfb1664.bindTooltip(\n",
       "                `&lt;div&gt;\n",
       "                     &lt;div style=&#x27;margin: 0; background-color: black; color: white;&#x27;&gt;&lt;h4 style=&#x27;text-align:center;font-weight: bold&#x27;&gt;France&lt;/h4&gt;&lt;hr style=&#x27;margin:10px;color: white;&#x27;&gt;&lt;ul style=&#x27;color: white;;list-style-type:circle;align-item:left;padding-left:20px;padding-right:20px&#x27;&gt;&lt;li&gt;Confirmed: 98041&lt;/li&gt;&lt;li&gt;Deaths:   883&lt;/li&gt;&lt;li&gt;Death Rate: 0.9&lt;/li&gt;&lt;/ul&gt;&lt;/div&gt;\n",
       "                 &lt;/div&gt;`,\n",
       "                {&quot;sticky&quot;: true}\n",
       "            );\n",
       "        \n",
       "    \n",
       "            var circle_e00c8ec8d015ee96d71b1d163a1ce569 = L.circle(\n",
       "                [-17.6797, 149.4068],\n",
       "                {&quot;bubblingMouseEvents&quot;: true, &quot;color&quot;: &quot;red&quot;, &quot;dashArray&quot;: null, &quot;dashOffset&quot;: null, &quot;fill&quot;: true, &quot;fillColor&quot;: &quot;indigo&quot;, &quot;fillOpacity&quot;: 0.2, &quot;fillRule&quot;: &quot;evenodd&quot;, &quot;lineCap&quot;: &quot;round&quot;, &quot;lineJoin&quot;: &quot;round&quot;, &quot;opacity&quot;: 1.0, &quot;radius&quot;: 560000.0, &quot;stroke&quot;: true, &quot;weight&quot;: 3}\n",
       "            ).addTo(map_6d1e22dda92088ca39d2cd125c89418f);\n",
       "        \n",
       "    \n",
       "            circle_e00c8ec8d015ee96d71b1d163a1ce569.bindTooltip(\n",
       "                `&lt;div&gt;\n",
       "                     &lt;div style=&#x27;margin: 0; background-color: black; color: white;&#x27;&gt;&lt;h4 style=&#x27;text-align:center;font-weight: bold&#x27;&gt;France&lt;/h4&gt;&lt;hr style=&#x27;margin:10px;color: white;&#x27;&gt;&lt;ul style=&#x27;color: white;;list-style-type:circle;align-item:left;padding-left:20px;padding-right:20px&#x27;&gt;&lt;li&gt;Confirmed: 78055&lt;/li&gt;&lt;li&gt;Deaths:   8967&lt;/li&gt;&lt;li&gt;Death Rate: 11.49&lt;/li&gt;&lt;/ul&gt;&lt;/div&gt;\n",
       "                 &lt;/div&gt;`,\n",
       "                {&quot;sticky&quot;: true}\n",
       "            );\n",
       "        \n",
       "    \n",
       "            var circle_8d72056c6045a6c654cc79ccc3289031 = L.circle(\n",
       "                [16.265, -61.551],\n",
       "                {&quot;bubblingMouseEvents&quot;: true, &quot;color&quot;: &quot;red&quot;, &quot;dashArray&quot;: null, &quot;dashOffset&quot;: null, &quot;fill&quot;: true, &quot;fillColor&quot;: &quot;indigo&quot;, &quot;fillOpacity&quot;: 0.2, &quot;fillRule&quot;: &quot;evenodd&quot;, &quot;lineCap&quot;: &quot;round&quot;, &quot;lineJoin&quot;: &quot;round&quot;, &quot;opacity&quot;: 1.0, &quot;radius&quot;: 610000.0, &quot;stroke&quot;: true, &quot;weight&quot;: 3}\n",
       "            ).addTo(map_6d1e22dda92088ca39d2cd125c89418f);\n",
       "        \n",
       "    \n",
       "            circle_8d72056c6045a6c654cc79ccc3289031.bindTooltip(\n",
       "                `&lt;div&gt;\n",
       "                     &lt;div style=&#x27;margin: 0; background-color: black; color: white;&#x27;&gt;&lt;h4 style=&#x27;text-align:center;font-weight: bold&#x27;&gt;France&lt;/h4&gt;&lt;hr style=&#x27;margin:10px;color: white;&#x27;&gt;&lt;ul style=&#x27;color: white;;list-style-type:circle;align-item:left;padding-left:20px;padding-right:20px&#x27;&gt;&lt;li&gt;Confirmed: 201886&lt;/li&gt;&lt;li&gt;Deaths:   413&lt;/li&gt;&lt;li&gt;Death Rate: 0.2&lt;/li&gt;&lt;/ul&gt;&lt;/div&gt;\n",
       "                 &lt;/div&gt;`,\n",
       "                {&quot;sticky&quot;: true}\n",
       "            );\n",
       "        \n",
       "    \n",
       "            var circle_1efad254d2ee4fb1a02ed745c133d263 = L.circle(\n",
       "                [14.6415, -61.0242],\n",
       "                {&quot;bubblingMouseEvents&quot;: true, &quot;color&quot;: &quot;red&quot;, &quot;dashArray&quot;: null, &quot;dashOffset&quot;: null, &quot;fill&quot;: true, &quot;fillColor&quot;: &quot;indigo&quot;, &quot;fillOpacity&quot;: 0.2, &quot;fillRule&quot;: &quot;evenodd&quot;, &quot;lineCap&quot;: &quot;round&quot;, &quot;lineJoin&quot;: &quot;round&quot;, &quot;opacity&quot;: 1.0, &quot;radius&quot;: 610000.0, &quot;stroke&quot;: true, &quot;weight&quot;: 3}\n",
       "            ).addTo(map_6d1e22dda92088ca39d2cd125c89418f);\n",
       "        \n",
       "    \n",
       "            circle_1efad254d2ee4fb1a02ed745c133d263.bindTooltip(\n",
       "                `&lt;div&gt;\n",
       "                     &lt;div style=&#x27;margin: 0; background-color: black; color: white;&#x27;&gt;&lt;h4 style=&#x27;text-align:center;font-weight: bold&#x27;&gt;France&lt;/h4&gt;&lt;hr style=&#x27;margin:10px;color: white;&#x27;&gt;&lt;ul style=&#x27;color: white;;list-style-type:circle;align-item:left;padding-left:20px;padding-right:20px&#x27;&gt;&lt;li&gt;Confirmed: 229020&lt;/li&gt;&lt;li&gt;Deaths:   649&lt;/li&gt;&lt;li&gt;Death Rate: 0.28&lt;/li&gt;&lt;/ul&gt;&lt;/div&gt;\n",
       "                 &lt;/div&gt;`,\n",
       "                {&quot;sticky&quot;: true}\n",
       "            );\n",
       "        \n",
       "    \n",
       "            var circle_834d0a2c70f9dd96f6e80ae7ce257716 = L.circle(\n",
       "                [-12.8275, 45.166244],\n",
       "                {&quot;bubblingMouseEvents&quot;: true, &quot;color&quot;: &quot;red&quot;, &quot;dashArray&quot;: null, &quot;dashOffset&quot;: null, &quot;fill&quot;: true, &quot;fillColor&quot;: &quot;indigo&quot;, &quot;fillOpacity&quot;: 0.2, &quot;fillRule&quot;: &quot;evenodd&quot;, &quot;lineCap&quot;: &quot;round&quot;, &quot;lineJoin&quot;: &quot;round&quot;, &quot;opacity&quot;: 1.0, &quot;radius&quot;: 509999.99999999994, &quot;stroke&quot;: true, &quot;weight&quot;: 3}\n",
       "            ).addTo(map_6d1e22dda92088ca39d2cd125c89418f);\n",
       "        \n",
       "    \n",
       "            circle_834d0a2c70f9dd96f6e80ae7ce257716.bindTooltip(\n",
       "                `&lt;div&gt;\n",
       "                     &lt;div style=&#x27;margin: 0; background-color: black; color: white;&#x27;&gt;&lt;h4 style=&#x27;text-align:center;font-weight: bold&#x27;&gt;France&lt;/h4&gt;&lt;hr style=&#x27;margin:10px;color: white;&#x27;&gt;&lt;ul style=&#x27;color: white;;list-style-type:circle;align-item:left;padding-left:20px;padding-right:20px&#x27;&gt;&lt;li&gt;Confirmed: 42004&lt;/li&gt;&lt;li&gt;Deaths:   1010&lt;/li&gt;&lt;li&gt;Death Rate: 2.4&lt;/li&gt;&lt;/ul&gt;&lt;/div&gt;\n",
       "                 &lt;/div&gt;`,\n",
       "                {&quot;sticky&quot;: true}\n",
       "            );\n",
       "        \n",
       "    \n",
       "            var circle_10b368ce2c07e4a094a9ee93b02217e1 = L.circle(\n",
       "                [-20.904305, 165.618042],\n",
       "                {&quot;bubblingMouseEvents&quot;: true, &quot;color&quot;: &quot;red&quot;, &quot;dashArray&quot;: null, &quot;dashOffset&quot;: null, &quot;fill&quot;: true, &quot;fillColor&quot;: &quot;indigo&quot;, &quot;fillOpacity&quot;: 0.2, &quot;fillRule&quot;: &quot;evenodd&quot;, &quot;lineCap&quot;: &quot;round&quot;, &quot;lineJoin&quot;: &quot;round&quot;, &quot;opacity&quot;: 1.0, &quot;radius&quot;: 560000.0, &quot;stroke&quot;: true, &quot;weight&quot;: 3}\n",
       "            ).addTo(map_6d1e22dda92088ca39d2cd125c89418f);\n",
       "        \n",
       "    \n",
       "            circle_10b368ce2c07e4a094a9ee93b02217e1.bindTooltip(\n",
       "                `&lt;div&gt;\n",
       "                     &lt;div style=&#x27;margin: 0; background-color: black; color: white;&#x27;&gt;&lt;h4 style=&#x27;text-align:center;font-weight: bold&#x27;&gt;France&lt;/h4&gt;&lt;hr style=&#x27;margin:10px;color: white;&#x27;&gt;&lt;ul style=&#x27;color: white;;list-style-type:circle;align-item:left;padding-left:20px;padding-right:20px&#x27;&gt;&lt;li&gt;Confirmed: 80017&lt;/li&gt;&lt;li&gt;Deaths:   1092&lt;/li&gt;&lt;li&gt;Death Rate: 1.36&lt;/li&gt;&lt;/ul&gt;&lt;/div&gt;\n",
       "                 &lt;/div&gt;`,\n",
       "                {&quot;sticky&quot;: true}\n",
       "            );\n",
       "        \n",
       "    \n",
       "            var circle_9ada43398ef917c5f2df20fcfebd884d = L.circle(\n",
       "                [-21.1151, 55.5364],\n",
       "                {&quot;bubblingMouseEvents&quot;: true, &quot;color&quot;: &quot;red&quot;, &quot;dashArray&quot;: null, &quot;dashOffset&quot;: null, &quot;fill&quot;: true, &quot;fillColor&quot;: &quot;indigo&quot;, &quot;fillOpacity&quot;: 0.2, &quot;fillRule&quot;: &quot;evenodd&quot;, &quot;lineCap&quot;: &quot;round&quot;, &quot;lineJoin&quot;: &quot;round&quot;, &quot;opacity&quot;: 1.0, &quot;radius&quot;: 660000.0, &quot;stroke&quot;: true, &quot;weight&quot;: 3}\n",
       "            ).addTo(map_6d1e22dda92088ca39d2cd125c89418f);\n",
       "        \n",
       "    \n",
       "            circle_9ada43398ef917c5f2df20fcfebd884d.bindTooltip(\n",
       "                `&lt;div&gt;\n",
       "                     &lt;div style=&#x27;margin: 0; background-color: black; color: white;&#x27;&gt;&lt;h4 style=&#x27;text-align:center;font-weight: bold&#x27;&gt;France&lt;/h4&gt;&lt;hr style=&#x27;margin:10px;color: white;&#x27;&gt;&lt;ul style=&#x27;color: white;;list-style-type:circle;align-item:left;padding-left:20px;padding-right:20px&#x27;&gt;&lt;li&gt;Confirmed: 494595&lt;/li&gt;&lt;li&gt;Deaths:   187&lt;/li&gt;&lt;li&gt;Death Rate: 0.04&lt;/li&gt;&lt;/ul&gt;&lt;/div&gt;\n",
       "                 &lt;/div&gt;`,\n",
       "                {&quot;sticky&quot;: true}\n",
       "            );\n",
       "        \n",
       "    \n",
       "            var circle_5524d452ad0760ff0fc30de6b1ea0a00 = L.circle(\n",
       "                [17.9, -62.8333],\n",
       "                {&quot;bubblingMouseEvents&quot;: true, &quot;color&quot;: &quot;red&quot;, &quot;dashArray&quot;: null, &quot;dashOffset&quot;: null, &quot;fill&quot;: true, &quot;fillColor&quot;: &quot;indigo&quot;, &quot;fillOpacity&quot;: 0.2, &quot;fillRule&quot;: &quot;evenodd&quot;, &quot;lineCap&quot;: &quot;round&quot;, &quot;lineJoin&quot;: &quot;round&quot;, &quot;opacity&quot;: 1.0, &quot;radius&quot;: 409999.99999999994, &quot;stroke&quot;: true, &quot;weight&quot;: 3}\n",
       "            ).addTo(map_6d1e22dda92088ca39d2cd125c89418f);\n",
       "        \n",
       "    \n",
       "            circle_5524d452ad0760ff0fc30de6b1ea0a00.bindTooltip(\n",
       "                `&lt;div&gt;\n",
       "                     &lt;div style=&#x27;margin: 0; background-color: black; color: white;&#x27;&gt;&lt;h4 style=&#x27;text-align:center;font-weight: bold&#x27;&gt;France&lt;/h4&gt;&lt;hr style=&#x27;margin:10px;color: white;&#x27;&gt;&lt;ul style=&#x27;color: white;;list-style-type:circle;align-item:left;padding-left:20px;padding-right:20px&#x27;&gt;&lt;li&gt;Confirmed: 5441&lt;/li&gt;&lt;li&gt;Deaths:   314&lt;/li&gt;&lt;li&gt;Death Rate: 5.77&lt;/li&gt;&lt;/ul&gt;&lt;/div&gt;\n",
       "                 &lt;/div&gt;`,\n",
       "                {&quot;sticky&quot;: true}\n",
       "            );\n",
       "        \n",
       "    \n",
       "            var circle_434a09383237b9e5a1882296f2365cba = L.circle(\n",
       "                [46.8852, -56.3159],\n",
       "                {&quot;bubblingMouseEvents&quot;: true, &quot;color&quot;: &quot;red&quot;, &quot;dashArray&quot;: null, &quot;dashOffset&quot;: null, &quot;fill&quot;: true, &quot;fillColor&quot;: &quot;indigo&quot;, &quot;fillOpacity&quot;: 0.2, &quot;fillRule&quot;: &quot;evenodd&quot;, &quot;lineCap&quot;: &quot;round&quot;, &quot;lineJoin&quot;: &quot;round&quot;, &quot;opacity&quot;: 1.0, &quot;radius&quot;: 409999.99999999994, &quot;stroke&quot;: true, &quot;weight&quot;: 3}\n",
       "            ).addTo(map_6d1e22dda92088ca39d2cd125c89418f);\n",
       "        \n",
       "    \n",
       "            circle_434a09383237b9e5a1882296f2365cba.bindTooltip(\n",
       "                `&lt;div&gt;\n",
       "                     &lt;div style=&#x27;margin: 0; background-color: black; color: white;&#x27;&gt;&lt;h4 style=&#x27;text-align:center;font-weight: bold&#x27;&gt;France&lt;/h4&gt;&lt;hr style=&#x27;margin:10px;color: white;&#x27;&gt;&lt;ul style=&#x27;color: white;;list-style-type:circle;align-item:left;padding-left:20px;padding-right:20px&#x27;&gt;&lt;li&gt;Confirmed: 3452&lt;/li&gt;&lt;li&gt;Deaths:   921&lt;/li&gt;&lt;li&gt;Death Rate: 26.67&lt;/li&gt;&lt;/ul&gt;&lt;/div&gt;\n",
       "                 &lt;/div&gt;`,\n",
       "                {&quot;sticky&quot;: true}\n",
       "            );\n",
       "        \n",
       "    \n",
       "            var circle_4917db2fcf22424f647ecb2fdd440a73 = L.circle(\n",
       "                [18.0708, -63.0501],\n",
       "                {&quot;bubblingMouseEvents&quot;: true, &quot;color&quot;: &quot;red&quot;, &quot;dashArray&quot;: null, &quot;dashOffset&quot;: null, &quot;fill&quot;: true, &quot;fillColor&quot;: &quot;indigo&quot;, &quot;fillOpacity&quot;: 0.2, &quot;fillRule&quot;: &quot;evenodd&quot;, &quot;lineCap&quot;: &quot;round&quot;, &quot;lineJoin&quot;: &quot;round&quot;, &quot;opacity&quot;: 1.0, &quot;radius&quot;: 459999.99999999994, &quot;stroke&quot;: true, &quot;weight&quot;: 3}\n",
       "            ).addTo(map_6d1e22dda92088ca39d2cd125c89418f);\n",
       "        \n",
       "    \n",
       "            circle_4917db2fcf22424f647ecb2fdd440a73.bindTooltip(\n",
       "                `&lt;div&gt;\n",
       "                     &lt;div style=&#x27;margin: 0; background-color: black; color: white;&#x27;&gt;&lt;h4 style=&#x27;text-align:center;font-weight: bold&#x27;&gt;France&lt;/h4&gt;&lt;hr style=&#x27;margin:10px;color: white;&#x27;&gt;&lt;ul style=&#x27;color: white;;list-style-type:circle;align-item:left;padding-left:20px;padding-right:20px&#x27;&gt;&lt;li&gt;Confirmed: 12271&lt;/li&gt;&lt;li&gt;Deaths:   6&lt;/li&gt;&lt;li&gt;Death Rate: 0.05&lt;/li&gt;&lt;/ul&gt;&lt;/div&gt;\n",
       "                 &lt;/div&gt;`,\n",
       "                {&quot;sticky&quot;: true}\n",
       "            );\n",
       "        \n",
       "    \n",
       "            var circle_ddefded74512a6877701cc492f123158 = L.circle(\n",
       "                [-14.2938, -178.1165],\n",
       "                {&quot;bubblingMouseEvents&quot;: true, &quot;color&quot;: &quot;red&quot;, &quot;dashArray&quot;: null, &quot;dashOffset&quot;: null, &quot;fill&quot;: true, &quot;fillColor&quot;: &quot;indigo&quot;, &quot;fillOpacity&quot;: 0.2, &quot;fillRule&quot;: &quot;evenodd&quot;, &quot;lineCap&quot;: &quot;round&quot;, &quot;lineJoin&quot;: &quot;round&quot;, &quot;opacity&quot;: 1.0, &quot;radius&quot;: 409999.99999999994, &quot;stroke&quot;: true, &quot;weight&quot;: 3}\n",
       "            ).addTo(map_6d1e22dda92088ca39d2cd125c89418f);\n",
       "        \n",
       "    \n",
       "            circle_ddefded74512a6877701cc492f123158.bindTooltip(\n",
       "                `&lt;div&gt;\n",
       "                     &lt;div style=&#x27;margin: 0; background-color: black; color: white;&#x27;&gt;&lt;h4 style=&#x27;text-align:center;font-weight: bold&#x27;&gt;France&lt;/h4&gt;&lt;hr style=&#x27;margin:10px;color: white;&#x27;&gt;&lt;ul style=&#x27;color: white;;list-style-type:circle;align-item:left;padding-left:20px;padding-right:20px&#x27;&gt;&lt;li&gt;Confirmed: 3427&lt;/li&gt;&lt;li&gt;Deaths:   2&lt;/li&gt;&lt;li&gt;Death Rate: 0.06&lt;/li&gt;&lt;/ul&gt;&lt;/div&gt;\n",
       "                 &lt;/div&gt;`,\n",
       "                {&quot;sticky&quot;: true}\n",
       "            );\n",
       "        \n",
       "    \n",
       "            var circle_55f726e35c8e1a841a98cfda52a91968 = L.circle(\n",
       "                [46.2276, 2.2137],\n",
       "                {&quot;bubblingMouseEvents&quot;: true, &quot;color&quot;: &quot;red&quot;, &quot;dashArray&quot;: null, &quot;dashOffset&quot;: null, &quot;fill&quot;: true, &quot;fillColor&quot;: &quot;indigo&quot;, &quot;fillOpacity&quot;: 0.2, &quot;fillRule&quot;: &quot;evenodd&quot;, &quot;lineCap&quot;: &quot;round&quot;, &quot;lineJoin&quot;: &quot;round&quot;, &quot;opacity&quot;: 1.0, &quot;radius&quot;: 860000.0, &quot;stroke&quot;: true, &quot;weight&quot;: 3}\n",
       "            ).addTo(map_6d1e22dda92088ca39d2cd125c89418f);\n",
       "        \n",
       "    \n",
       "            circle_55f726e35c8e1a841a98cfda52a91968.bindTooltip(\n",
       "                `&lt;div&gt;\n",
       "                     &lt;div style=&#x27;margin: 0; background-color: black; color: white;&#x27;&gt;&lt;h4 style=&#x27;text-align:center;font-weight: bold&#x27;&gt;France&lt;/h4&gt;&lt;hr style=&#x27;margin:10px;color: white;&#x27;&gt;&lt;ul style=&#x27;color: white;;list-style-type:circle;align-item:left;padding-left:20px;padding-right:20px&#x27;&gt;&lt;li&gt;Confirmed: 38618509&lt;/li&gt;&lt;li&gt;Deaths:   63&lt;/li&gt;&lt;li&gt;Death Rate: 0.0&lt;/li&gt;&lt;/ul&gt;&lt;/div&gt;\n",
       "                 &lt;/div&gt;`,\n",
       "                {&quot;sticky&quot;: true}\n",
       "            );\n",
       "        \n",
       "    \n",
       "            var circle_0874f340a16062eee99ab460b24e1bac = L.circle(\n",
       "                [-0.8037, 11.6094],\n",
       "                {&quot;bubblingMouseEvents&quot;: true, &quot;color&quot;: &quot;red&quot;, &quot;dashArray&quot;: null, &quot;dashOffset&quot;: null, &quot;fill&quot;: true, &quot;fillColor&quot;: &quot;indigo&quot;, &quot;fillOpacity&quot;: 0.2, &quot;fillRule&quot;: &quot;evenodd&quot;, &quot;lineCap&quot;: &quot;round&quot;, &quot;lineJoin&quot;: &quot;round&quot;, &quot;opacity&quot;: 1.0, &quot;radius&quot;: 509999.99999999994, &quot;stroke&quot;: true, &quot;weight&quot;: 3}\n",
       "            ).addTo(map_6d1e22dda92088ca39d2cd125c89418f);\n",
       "        \n",
       "    \n",
       "            circle_0874f340a16062eee99ab460b24e1bac.bindTooltip(\n",
       "                `&lt;div&gt;\n",
       "                     &lt;div style=&#x27;margin: 0; background-color: black; color: white;&#x27;&gt;&lt;h4 style=&#x27;text-align:center;font-weight: bold&#x27;&gt;Gabon&lt;/h4&gt;&lt;hr style=&#x27;margin:10px;color: white;&#x27;&gt;&lt;ul style=&#x27;color: white;;list-style-type:circle;align-item:left;padding-left:20px;padding-right:20px&#x27;&gt;&lt;li&gt;Confirmed: 48981&lt;/li&gt;&lt;li&gt;Deaths:   7&lt;/li&gt;&lt;li&gt;Death Rate: 0.01&lt;/li&gt;&lt;/ul&gt;&lt;/div&gt;\n",
       "                 &lt;/div&gt;`,\n",
       "                {&quot;sticky&quot;: true}\n",
       "            );\n",
       "        \n",
       "    \n",
       "            var circle_5508f3702723350669509880ff5616df = L.circle(\n",
       "                [13.4432, -15.3101],\n",
       "                {&quot;bubblingMouseEvents&quot;: true, &quot;color&quot;: &quot;red&quot;, &quot;dashArray&quot;: null, &quot;dashOffset&quot;: null, &quot;fill&quot;: true, &quot;fillColor&quot;: &quot;indigo&quot;, &quot;fillOpacity&quot;: 0.2, &quot;fillRule&quot;: &quot;evenodd&quot;, &quot;lineCap&quot;: &quot;round&quot;, &quot;lineJoin&quot;: &quot;round&quot;, &quot;opacity&quot;: 1.0, &quot;radius&quot;: 459999.99999999994, &quot;stroke&quot;: true, &quot;weight&quot;: 3}\n",
       "            ).addTo(map_6d1e22dda92088ca39d2cd125c89418f);\n",
       "        \n",
       "    \n",
       "            circle_5508f3702723350669509880ff5616df.bindTooltip(\n",
       "                `&lt;div&gt;\n",
       "                     &lt;div style=&#x27;margin: 0; background-color: black; color: white;&#x27;&gt;&lt;h4 style=&#x27;text-align:center;font-weight: bold&#x27;&gt;Gambia&lt;/h4&gt;&lt;hr style=&#x27;margin:10px;color: white;&#x27;&gt;&lt;ul style=&#x27;color: white;;list-style-type:circle;align-item:left;padding-left:20px;padding-right:20px&#x27;&gt;&lt;li&gt;Confirmed: 12598&lt;/li&gt;&lt;li&gt;Deaths:   161512&lt;/li&gt;&lt;li&gt;Death Rate: 1281.94&lt;/li&gt;&lt;/ul&gt;&lt;/div&gt;\n",
       "                 &lt;/div&gt;`,\n",
       "                {&quot;sticky&quot;: true}\n",
       "            );\n",
       "        \n",
       "    \n",
       "            var circle_ad05c8b496e2d6569a90f5a6cbe05d73 = L.circle(\n",
       "                [42.3154, 43.3569],\n",
       "                {&quot;bubblingMouseEvents&quot;: true, &quot;color&quot;: &quot;red&quot;, &quot;dashArray&quot;: null, &quot;dashOffset&quot;: null, &quot;fill&quot;: true, &quot;fillColor&quot;: &quot;indigo&quot;, &quot;fillOpacity&quot;: 0.2, &quot;fillRule&quot;: &quot;evenodd&quot;, &quot;lineCap&quot;: &quot;round&quot;, &quot;lineJoin&quot;: &quot;round&quot;, &quot;opacity&quot;: 1.0, &quot;radius&quot;: 710000.0, &quot;stroke&quot;: true, &quot;weight&quot;: 3}\n",
       "            ).addTo(map_6d1e22dda92088ca39d2cd125c89418f);\n",
       "        \n",
       "    \n",
       "            circle_ad05c8b496e2d6569a90f5a6cbe05d73.bindTooltip(\n",
       "                `&lt;div&gt;\n",
       "                     &lt;div style=&#x27;margin: 0; background-color: black; color: white;&#x27;&gt;&lt;h4 style=&#x27;text-align:center;font-weight: bold&#x27;&gt;Georgia&lt;/h4&gt;&lt;hr style=&#x27;margin:10px;color: white;&#x27;&gt;&lt;ul style=&#x27;color: white;;list-style-type:circle;align-item:left;padding-left:20px;padding-right:20px&#x27;&gt;&lt;li&gt;Confirmed: 1827537&lt;/li&gt;&lt;li&gt;Deaths:   306&lt;/li&gt;&lt;li&gt;Death Rate: 0.02&lt;/li&gt;&lt;/ul&gt;&lt;/div&gt;\n",
       "                 &lt;/div&gt;`,\n",
       "                {&quot;sticky&quot;: true}\n",
       "            );\n",
       "        \n",
       "    \n",
       "            var circle_1301649240c19262d83dff0f01617b33 = L.circle(\n",
       "                [51.165691, 10.451526],\n",
       "                {&quot;bubblingMouseEvents&quot;: true, &quot;color&quot;: &quot;red&quot;, &quot;dashArray&quot;: null, &quot;dashOffset&quot;: null, &quot;fill&quot;: true, &quot;fillColor&quot;: &quot;indigo&quot;, &quot;fillOpacity&quot;: 0.2, &quot;fillRule&quot;: &quot;evenodd&quot;, &quot;lineCap&quot;: &quot;round&quot;, &quot;lineJoin&quot;: &quot;round&quot;, &quot;opacity&quot;: 1.0, &quot;radius&quot;: 860000.0, &quot;stroke&quot;: true, &quot;weight&quot;: 3}\n",
       "            ).addTo(map_6d1e22dda92088ca39d2cd125c89418f);\n",
       "        \n",
       "    \n",
       "            circle_1301649240c19262d83dff0f01617b33.bindTooltip(\n",
       "                `&lt;div&gt;\n",
       "                     &lt;div style=&#x27;margin: 0; background-color: black; color: white;&#x27;&gt;&lt;h4 style=&#x27;text-align:center;font-weight: bold&#x27;&gt;Germany&lt;/h4&gt;&lt;hr style=&#x27;margin:10px;color: white;&#x27;&gt;&lt;ul style=&#x27;color: white;;list-style-type:circle;align-item:left;padding-left:20px;padding-right:20px&#x27;&gt;&lt;li&gt;Confirmed: 38249060&lt;/li&gt;&lt;li&gt;Deaths:   372&lt;/li&gt;&lt;li&gt;Death Rate: 0.0&lt;/li&gt;&lt;/ul&gt;&lt;/div&gt;\n",
       "                 &lt;/div&gt;`,\n",
       "                {&quot;sticky&quot;: true}\n",
       "            );\n",
       "        \n",
       "    \n",
       "            var circle_71fee68de5917c37bb1bd4c737c4466e = L.circle(\n",
       "                [7.9465, -1.0232],\n",
       "                {&quot;bubblingMouseEvents&quot;: true, &quot;color&quot;: &quot;red&quot;, &quot;dashArray&quot;: null, &quot;dashOffset&quot;: null, &quot;fill&quot;: true, &quot;fillColor&quot;: &quot;indigo&quot;, &quot;fillOpacity&quot;: 0.2, &quot;fillRule&quot;: &quot;evenodd&quot;, &quot;lineCap&quot;: &quot;round&quot;, &quot;lineJoin&quot;: &quot;round&quot;, &quot;opacity&quot;: 1.0, &quot;radius&quot;: 610000.0, &quot;stroke&quot;: true, &quot;weight&quot;: 3}\n",
       "            ).addTo(map_6d1e22dda92088ca39d2cd125c89418f);\n",
       "        \n",
       "    \n",
       "            circle_71fee68de5917c37bb1bd4c737c4466e.bindTooltip(\n",
       "                `&lt;div&gt;\n",
       "                     &lt;div style=&#x27;margin: 0; background-color: black; color: white;&#x27;&gt;&lt;h4 style=&#x27;text-align:center;font-weight: bold&#x27;&gt;Ghana&lt;/h4&gt;&lt;hr style=&#x27;margin:10px;color: white;&#x27;&gt;&lt;ul style=&#x27;color: white;;list-style-type:circle;align-item:left;padding-left:20px;padding-right:20px&#x27;&gt;&lt;li&gt;Confirmed: 171229&lt;/li&gt;&lt;li&gt;Deaths:   16971&lt;/li&gt;&lt;li&gt;Death Rate: 9.91&lt;/li&gt;&lt;/ul&gt;&lt;/div&gt;\n",
       "                 &lt;/div&gt;`,\n",
       "                {&quot;sticky&quot;: true}\n",
       "            );\n",
       "        \n",
       "    \n",
       "            var circle_e26e3929dd998cfcb9f7db671aa2640f = L.circle(\n",
       "                [39.0742, 21.8243],\n",
       "                {&quot;bubblingMouseEvents&quot;: true, &quot;color&quot;: &quot;red&quot;, &quot;dashArray&quot;: null, &quot;dashOffset&quot;: null, &quot;fill&quot;: true, &quot;fillColor&quot;: &quot;indigo&quot;, &quot;fillOpacity&quot;: 0.2, &quot;fillRule&quot;: &quot;evenodd&quot;, &quot;lineCap&quot;: &quot;round&quot;, &quot;lineJoin&quot;: &quot;round&quot;, &quot;opacity&quot;: 1.0, &quot;radius&quot;: 760000.0, &quot;stroke&quot;: true, &quot;weight&quot;: 3}\n",
       "            ).addTo(map_6d1e22dda92088ca39d2cd125c89418f);\n",
       "        \n",
       "    \n",
       "            circle_e26e3929dd998cfcb9f7db671aa2640f.bindTooltip(\n",
       "                `&lt;div&gt;\n",
       "                     &lt;div style=&#x27;margin: 0; background-color: black; color: white;&#x27;&gt;&lt;h4 style=&#x27;text-align:center;font-weight: bold&#x27;&gt;Greece&lt;/h4&gt;&lt;hr style=&#x27;margin:10px;color: white;&#x27;&gt;&lt;ul style=&#x27;color: white;;list-style-type:circle;align-item:left;padding-left:20px;padding-right:20px&#x27;&gt;&lt;li&gt;Confirmed: 5548487&lt;/li&gt;&lt;li&gt;Deaths:   168935&lt;/li&gt;&lt;li&gt;Death Rate: 3.04&lt;/li&gt;&lt;/ul&gt;&lt;/div&gt;\n",
       "                 &lt;/div&gt;`,\n",
       "                {&quot;sticky&quot;: true}\n",
       "            );\n",
       "        \n",
       "    \n",
       "            var circle_dbbae4a01f9f7ce89afb60969edbf642 = L.circle(\n",
       "                [12.1165, -61.679],\n",
       "                {&quot;bubblingMouseEvents&quot;: true, &quot;color&quot;: &quot;red&quot;, &quot;dashArray&quot;: null, &quot;dashOffset&quot;: null, &quot;fill&quot;: true, &quot;fillColor&quot;: &quot;indigo&quot;, &quot;fillOpacity&quot;: 0.2, &quot;fillRule&quot;: &quot;evenodd&quot;, &quot;lineCap&quot;: &quot;round&quot;, &quot;lineJoin&quot;: &quot;round&quot;, &quot;opacity&quot;: 1.0, &quot;radius&quot;: 459999.99999999994, &quot;stroke&quot;: true, &quot;weight&quot;: 3}\n",
       "            ).addTo(map_6d1e22dda92088ca39d2cd125c89418f);\n",
       "        \n",
       "    \n",
       "            circle_dbbae4a01f9f7ce89afb60969edbf642.bindTooltip(\n",
       "                `&lt;div&gt;\n",
       "                     &lt;div style=&#x27;margin: 0; background-color: black; color: white;&#x27;&gt;&lt;h4 style=&#x27;text-align:center;font-weight: bold&#x27;&gt;Grenada&lt;/h4&gt;&lt;hr style=&#x27;margin:10px;color: white;&#x27;&gt;&lt;ul style=&#x27;color: white;;list-style-type:circle;align-item:left;padding-left:20px;padding-right:20px&#x27;&gt;&lt;li&gt;Confirmed: 19680&lt;/li&gt;&lt;li&gt;Deaths:   1462&lt;/li&gt;&lt;li&gt;Death Rate: 7.43&lt;/li&gt;&lt;/ul&gt;&lt;/div&gt;\n",
       "                 &lt;/div&gt;`,\n",
       "                {&quot;sticky&quot;: true}\n",
       "            );\n",
       "        \n",
       "    \n",
       "            var circle_efda80bf9c73341955f683dcf03d2fe0 = L.circle(\n",
       "                [15.7835, -90.2308],\n",
       "                {&quot;bubblingMouseEvents&quot;: true, &quot;color&quot;: &quot;red&quot;, &quot;dashArray&quot;: null, &quot;dashOffset&quot;: null, &quot;fill&quot;: true, &quot;fillColor&quot;: &quot;indigo&quot;, &quot;fillOpacity&quot;: 0.2, &quot;fillRule&quot;: &quot;evenodd&quot;, &quot;lineCap&quot;: &quot;round&quot;, &quot;lineJoin&quot;: &quot;round&quot;, &quot;opacity&quot;: 1.0, &quot;radius&quot;: 710000.0, &quot;stroke&quot;: true, &quot;weight&quot;: 3}\n",
       "            ).addTo(map_6d1e22dda92088ca39d2cd125c89418f);\n",
       "        \n",
       "    \n",
       "            circle_efda80bf9c73341955f683dcf03d2fe0.bindTooltip(\n",
       "                `&lt;div&gt;\n",
       "                     &lt;div style=&#x27;margin: 0; background-color: black; color: white;&#x27;&gt;&lt;h4 style=&#x27;text-align:center;font-weight: bold&#x27;&gt;Guatemala&lt;/h4&gt;&lt;hr style=&#x27;margin:10px;color: white;&#x27;&gt;&lt;ul style=&#x27;color: white;;list-style-type:circle;align-item:left;padding-left:20px;padding-right:20px&#x27;&gt;&lt;li&gt;Confirmed: 1238247&lt;/li&gt;&lt;li&gt;Deaths:   34779&lt;/li&gt;&lt;li&gt;Death Rate: 2.81&lt;/li&gt;&lt;/ul&gt;&lt;/div&gt;\n",
       "                 &lt;/div&gt;`,\n",
       "                {&quot;sticky&quot;: true}\n",
       "            );\n",
       "        \n",
       "    \n",
       "            var circle_aa414b31b1070b274b320ba8e74f8c52 = L.circle(\n",
       "                [9.9456, -9.6966],\n",
       "                {&quot;bubblingMouseEvents&quot;: true, &quot;color&quot;: &quot;red&quot;, &quot;dashArray&quot;: null, &quot;dashOffset&quot;: null, &quot;fill&quot;: true, &quot;fillColor&quot;: &quot;indigo&quot;, &quot;fillOpacity&quot;: 0.2, &quot;fillRule&quot;: &quot;evenodd&quot;, &quot;lineCap&quot;: &quot;round&quot;, &quot;lineJoin&quot;: &quot;round&quot;, &quot;opacity&quot;: 1.0, &quot;radius&quot;: 509999.99999999994, &quot;stroke&quot;: true, &quot;weight&quot;: 3}\n",
       "            ).addTo(map_6d1e22dda92088ca39d2cd125c89418f);\n",
       "        \n",
       "    \n",
       "            circle_aa414b31b1070b274b320ba8e74f8c52.bindTooltip(\n",
       "                `&lt;div&gt;\n",
       "                     &lt;div style=&#x27;margin: 0; background-color: black; color: white;&#x27;&gt;&lt;h4 style=&#x27;text-align:center;font-weight: bold&#x27;&gt;Guinea&lt;/h4&gt;&lt;hr style=&#x27;margin:10px;color: white;&#x27;&gt;&lt;ul style=&#x27;color: white;;list-style-type:circle;align-item:left;padding-left:20px;padding-right:20px&#x27;&gt;&lt;li&gt;Confirmed: 38267&lt;/li&gt;&lt;li&gt;Deaths:   238&lt;/li&gt;&lt;li&gt;Death Rate: 0.62&lt;/li&gt;&lt;/ul&gt;&lt;/div&gt;\n",
       "                 &lt;/div&gt;`,\n",
       "                {&quot;sticky&quot;: true}\n",
       "            );\n",
       "        \n",
       "    \n",
       "            var circle_e7513ab95d188eed48eeb0c0ff168a9b = L.circle(\n",
       "                [11.8037, -15.1804],\n",
       "                {&quot;bubblingMouseEvents&quot;: true, &quot;color&quot;: &quot;red&quot;, &quot;dashArray&quot;: null, &quot;dashOffset&quot;: null, &quot;fill&quot;: true, &quot;fillColor&quot;: &quot;indigo&quot;, &quot;fillOpacity&quot;: 0.2, &quot;fillRule&quot;: &quot;evenodd&quot;, &quot;lineCap&quot;: &quot;round&quot;, &quot;lineJoin&quot;: &quot;round&quot;, &quot;opacity&quot;: 1.0, &quot;radius&quot;: 459999.99999999994, &quot;stroke&quot;: true, &quot;weight&quot;: 3}\n",
       "            ).addTo(map_6d1e22dda92088ca39d2cd125c89418f);\n",
       "        \n",
       "    \n",
       "            circle_e7513ab95d188eed48eeb0c0ff168a9b.bindTooltip(\n",
       "                `&lt;div&gt;\n",
       "                     &lt;div style=&#x27;margin: 0; background-color: black; color: white;&#x27;&gt;&lt;h4 style=&#x27;text-align:center;font-weight: bold&#x27;&gt;Guinea-Bissau&lt;/h4&gt;&lt;hr style=&#x27;margin:10px;color: white;&#x27;&gt;&lt;ul style=&#x27;color: white;;list-style-type:circle;align-item:left;padding-left:20px;padding-right:20px&#x27;&gt;&lt;li&gt;Confirmed: 8960&lt;/li&gt;&lt;li&gt;Deaths:   20182&lt;/li&gt;&lt;li&gt;Death Rate: 225.22&lt;/li&gt;&lt;/ul&gt;&lt;/div&gt;\n",
       "                 &lt;/div&gt;`,\n",
       "                {&quot;sticky&quot;: true}\n",
       "            );\n",
       "        \n",
       "    \n",
       "            var circle_2746103ab13e486e425e39dc0954715c = L.circle(\n",
       "                [4.860416, -58.93018],\n",
       "                {&quot;bubblingMouseEvents&quot;: true, &quot;color&quot;: &quot;red&quot;, &quot;dashArray&quot;: null, &quot;dashOffset&quot;: null, &quot;fill&quot;: true, &quot;fillColor&quot;: &quot;indigo&quot;, &quot;fillOpacity&quot;: 0.2, &quot;fillRule&quot;: &quot;evenodd&quot;, &quot;lineCap&quot;: &quot;round&quot;, &quot;lineJoin&quot;: &quot;round&quot;, &quot;opacity&quot;: 1.0, &quot;radius&quot;: 560000.0, &quot;stroke&quot;: true, &quot;weight&quot;: 3}\n",
       "            ).addTo(map_6d1e22dda92088ca39d2cd125c89418f);\n",
       "        \n",
       "    \n",
       "            circle_2746103ab13e486e425e39dc0954715c.bindTooltip(\n",
       "                `&lt;div&gt;\n",
       "                     &lt;div style=&#x27;margin: 0; background-color: black; color: white;&#x27;&gt;&lt;h4 style=&#x27;text-align:center;font-weight: bold&#x27;&gt;Guyana&lt;/h4&gt;&lt;hr style=&#x27;margin:10px;color: white;&#x27;&gt;&lt;ul style=&#x27;color: white;;list-style-type:circle;align-item:left;padding-left:20px;padding-right:20px&#x27;&gt;&lt;li&gt;Confirmed: 73075&lt;/li&gt;&lt;li&gt;Deaths:   467&lt;/li&gt;&lt;li&gt;Death Rate: 0.64&lt;/li&gt;&lt;/ul&gt;&lt;/div&gt;\n",
       "                 &lt;/div&gt;`,\n",
       "                {&quot;sticky&quot;: true}\n",
       "            );\n",
       "        \n",
       "    \n",
       "            var circle_04925faa530332e451fc2def75966504 = L.circle(\n",
       "                [18.9712, -72.2852],\n",
       "                {&quot;bubblingMouseEvents&quot;: true, &quot;color&quot;: &quot;red&quot;, &quot;dashArray&quot;: null, &quot;dashOffset&quot;: null, &quot;fill&quot;: true, &quot;fillColor&quot;: &quot;indigo&quot;, &quot;fillOpacity&quot;: 0.2, &quot;fillRule&quot;: &quot;evenodd&quot;, &quot;lineCap&quot;: &quot;round&quot;, &quot;lineJoin&quot;: &quot;round&quot;, &quot;opacity&quot;: 1.0, &quot;radius&quot;: 509999.99999999994, &quot;stroke&quot;: true, &quot;weight&quot;: 3}\n",
       "            ).addTo(map_6d1e22dda92088ca39d2cd125c89418f);\n",
       "        \n",
       "    \n",
       "            circle_04925faa530332e451fc2def75966504.bindTooltip(\n",
       "                `&lt;div&gt;\n",
       "                     &lt;div style=&#x27;margin: 0; background-color: black; color: white;&#x27;&gt;&lt;h4 style=&#x27;text-align:center;font-weight: bold&#x27;&gt;Haiti&lt;/h4&gt;&lt;hr style=&#x27;margin:10px;color: white;&#x27;&gt;&lt;ul style=&#x27;color: white;;list-style-type:circle;align-item:left;padding-left:20px;padding-right:20px&#x27;&gt;&lt;li&gt;Confirmed: 34202&lt;/li&gt;&lt;li&gt;Deaths:   176&lt;/li&gt;&lt;li&gt;Death Rate: 0.51&lt;/li&gt;&lt;/ul&gt;&lt;/div&gt;\n",
       "                 &lt;/div&gt;`,\n",
       "                {&quot;sticky&quot;: true}\n",
       "            );\n",
       "        \n",
       "    \n",
       "            var circle_facf804642786a688f1377cc6d13f137 = L.circle(\n",
       "                [41.9029, 12.4534],\n",
       "                {&quot;bubblingMouseEvents&quot;: true, &quot;color&quot;: &quot;red&quot;, &quot;dashArray&quot;: null, &quot;dashOffset&quot;: null, &quot;fill&quot;: true, &quot;fillColor&quot;: &quot;indigo&quot;, &quot;fillOpacity&quot;: 0.2, &quot;fillRule&quot;: &quot;evenodd&quot;, &quot;lineCap&quot;: &quot;round&quot;, &quot;lineJoin&quot;: &quot;round&quot;, &quot;opacity&quot;: 1.0, &quot;radius&quot;: 160000.0, &quot;stroke&quot;: true, &quot;weight&quot;: 3}\n",
       "            ).addTo(map_6d1e22dda92088ca39d2cd125c89418f);\n",
       "        \n",
       "    \n",
       "            circle_facf804642786a688f1377cc6d13f137.bindTooltip(\n",
       "                `&lt;div&gt;\n",
       "                     &lt;div style=&#x27;margin: 0; background-color: black; color: white;&#x27;&gt;&lt;h4 style=&#x27;text-align:center;font-weight: bold&#x27;&gt;Holy See&lt;/h4&gt;&lt;hr style=&#x27;margin:10px;color: white;&#x27;&gt;&lt;ul style=&#x27;color: white;;list-style-type:circle;align-item:left;padding-left:20px;padding-right:20px&#x27;&gt;&lt;li&gt;Confirmed: 29&lt;/li&gt;&lt;li&gt;Deaths:   1298&lt;/li&gt;&lt;li&gt;Death Rate: 4326.67&lt;/li&gt;&lt;/ul&gt;&lt;/div&gt;\n",
       "                 &lt;/div&gt;`,\n",
       "                {&quot;sticky&quot;: true}\n",
       "            );\n",
       "        \n",
       "    \n",
       "            var circle_e8038d2eebfc0496e8d9dad7eb743d29 = L.circle(\n",
       "                [15.2, -86.2419],\n",
       "                {&quot;bubblingMouseEvents&quot;: true, &quot;color&quot;: &quot;red&quot;, &quot;dashArray&quot;: null, &quot;dashOffset&quot;: null, &quot;fill&quot;: true, &quot;fillColor&quot;: &quot;indigo&quot;, &quot;fillOpacity&quot;: 0.2, &quot;fillRule&quot;: &quot;evenodd&quot;, &quot;lineCap&quot;: &quot;round&quot;, &quot;lineJoin&quot;: &quot;round&quot;, &quot;opacity&quot;: 1.0, &quot;radius&quot;: 660000.0, &quot;stroke&quot;: true, &quot;weight&quot;: 3}\n",
       "            ).addTo(map_6d1e22dda92088ca39d2cd125c89418f);\n",
       "        \n",
       "    \n",
       "            circle_e8038d2eebfc0496e8d9dad7eb743d29.bindTooltip(\n",
       "                `&lt;div&gt;\n",
       "                     &lt;div style=&#x27;margin: 0; background-color: black; color: white;&#x27;&gt;&lt;h4 style=&#x27;text-align:center;font-weight: bold&#x27;&gt;Honduras&lt;/h4&gt;&lt;hr style=&#x27;margin:10px;color: white;&#x27;&gt;&lt;ul style=&#x27;color: white;;list-style-type:circle;align-item:left;padding-left:20px;padding-right:20px&#x27;&gt;&lt;li&gt;Confirmed: 472250&lt;/li&gt;&lt;li&gt;Deaths:   860&lt;/li&gt;&lt;li&gt;Death Rate: 0.18&lt;/li&gt;&lt;/ul&gt;&lt;/div&gt;\n",
       "                 &lt;/div&gt;`,\n",
       "                {&quot;sticky&quot;: true}\n",
       "            );\n",
       "        \n",
       "    \n",
       "            var circle_6cef783be0febcc025fb78b2c795bb31 = L.circle(\n",
       "                [47.1625, 19.5033],\n",
       "                {&quot;bubblingMouseEvents&quot;: true, &quot;color&quot;: &quot;red&quot;, &quot;dashArray&quot;: null, &quot;dashOffset&quot;: null, &quot;fill&quot;: true, &quot;fillColor&quot;: &quot;indigo&quot;, &quot;fillOpacity&quot;: 0.2, &quot;fillRule&quot;: &quot;evenodd&quot;, &quot;lineCap&quot;: &quot;round&quot;, &quot;lineJoin&quot;: &quot;round&quot;, &quot;opacity&quot;: 1.0, &quot;radius&quot;: 710000.0, &quot;stroke&quot;: true, &quot;weight&quot;: 3}\n",
       "            ).addTo(map_6d1e22dda92088ca39d2cd125c89418f);\n",
       "        \n",
       "    \n",
       "            circle_6cef783be0febcc025fb78b2c795bb31.bindTooltip(\n",
       "                `&lt;div&gt;\n",
       "                     &lt;div style=&#x27;margin: 0; background-color: black; color: white;&#x27;&gt;&lt;h4 style=&#x27;text-align:center;font-weight: bold&#x27;&gt;Hungary&lt;/h4&gt;&lt;hr style=&#x27;margin:10px;color: white;&#x27;&gt;&lt;ul style=&#x27;color: white;;list-style-type:circle;align-item:left;padding-left:20px;padding-right:20px&#x27;&gt;&lt;li&gt;Confirmed: 2196804&lt;/li&gt;&lt;li&gt;Deaths:   0&lt;/li&gt;&lt;li&gt;Death Rate: 0.0&lt;/li&gt;&lt;/ul&gt;&lt;/div&gt;\n",
       "                 &lt;/div&gt;`,\n",
       "                {&quot;sticky&quot;: true}\n",
       "            );\n",
       "        \n",
       "    \n",
       "            var circle_e47e63f8bb8d8d5d2f9db6693126057d = L.circle(\n",
       "                [64.9631, -19.0208],\n",
       "                {&quot;bubblingMouseEvents&quot;: true, &quot;color&quot;: &quot;red&quot;, &quot;dashArray&quot;: null, &quot;dashOffset&quot;: null, &quot;fill&quot;: true, &quot;fillColor&quot;: &quot;indigo&quot;, &quot;fillOpacity&quot;: 0.2, &quot;fillRule&quot;: &quot;evenodd&quot;, &quot;lineCap&quot;: &quot;round&quot;, &quot;lineJoin&quot;: &quot;round&quot;, &quot;opacity&quot;: 1.0, &quot;radius&quot;: 610000.0, &quot;stroke&quot;: true, &quot;weight&quot;: 3}\n",
       "            ).addTo(map_6d1e22dda92088ca39d2cd125c89418f);\n",
       "        \n",
       "    \n",
       "            circle_e47e63f8bb8d8d5d2f9db6693126057d.bindTooltip(\n",
       "                `&lt;div&gt;\n",
       "                     &lt;div style=&#x27;margin: 0; background-color: black; color: white;&#x27;&gt;&lt;h4 style=&#x27;text-align:center;font-weight: bold&#x27;&gt;Iceland&lt;/h4&gt;&lt;hr style=&#x27;margin:10px;color: white;&#x27;&gt;&lt;ul style=&#x27;color: white;;list-style-type:circle;align-item:left;padding-left:20px;padding-right:20px&#x27;&gt;&lt;li&gt;Confirmed: 209137&lt;/li&gt;&lt;li&gt;Deaths:   11111&lt;/li&gt;&lt;li&gt;Death Rate: 5.31&lt;/li&gt;&lt;/ul&gt;&lt;/div&gt;\n",
       "                 &lt;/div&gt;`,\n",
       "                {&quot;sticky&quot;: true}\n",
       "            );\n",
       "        \n",
       "    \n",
       "            var circle_dbc589e12de679339d1fe59ef5a245ff = L.circle(\n",
       "                [20.593684, 78.96288],\n",
       "                {&quot;bubblingMouseEvents&quot;: true, &quot;color&quot;: &quot;red&quot;, &quot;dashArray&quot;: null, &quot;dashOffset&quot;: null, &quot;fill&quot;: true, &quot;fillColor&quot;: &quot;indigo&quot;, &quot;fillOpacity&quot;: 0.2, &quot;fillRule&quot;: &quot;evenodd&quot;, &quot;lineCap&quot;: &quot;round&quot;, &quot;lineJoin&quot;: &quot;round&quot;, &quot;opacity&quot;: 1.0, &quot;radius&quot;: 860000.0, &quot;stroke&quot;: true, &quot;weight&quot;: 3}\n",
       "            ).addTo(map_6d1e22dda92088ca39d2cd125c89418f);\n",
       "        \n",
       "    \n",
       "            circle_dbc589e12de679339d1fe59ef5a245ff.bindTooltip(\n",
       "                `&lt;div&gt;\n",
       "                     &lt;div style=&#x27;margin: 0; background-color: black; color: white;&#x27;&gt;&lt;h4 style=&#x27;text-align:center;font-weight: bold&#x27;&gt;India&lt;/h4&gt;&lt;hr style=&#x27;margin:10px;color: white;&#x27;&gt;&lt;ul style=&#x27;color: white;;list-style-type:circle;align-item:left;padding-left:20px;padding-right:20px&#x27;&gt;&lt;li&gt;Confirmed: 44690738&lt;/li&gt;&lt;li&gt;Deaths:   48762&lt;/li&gt;&lt;li&gt;Death Rate: 0.11&lt;/li&gt;&lt;/ul&gt;&lt;/div&gt;\n",
       "                 &lt;/div&gt;`,\n",
       "                {&quot;sticky&quot;: true}\n",
       "            );\n",
       "        \n",
       "    \n",
       "            var circle_db9279eb451795f6aea4aefb15e14878 = L.circle(\n",
       "                [-0.7893, 113.9213],\n",
       "                {&quot;bubblingMouseEvents&quot;: true, &quot;color&quot;: &quot;red&quot;, &quot;dashArray&quot;: null, &quot;dashOffset&quot;: null, &quot;fill&quot;: true, &quot;fillColor&quot;: &quot;indigo&quot;, &quot;fillOpacity&quot;: 0.2, &quot;fillRule&quot;: &quot;evenodd&quot;, &quot;lineCap&quot;: &quot;round&quot;, &quot;lineJoin&quot;: &quot;round&quot;, &quot;opacity&quot;: 1.0, &quot;radius&quot;: 760000.0, &quot;stroke&quot;: true, &quot;weight&quot;: 3}\n",
       "            ).addTo(map_6d1e22dda92088ca39d2cd125c89418f);\n",
       "        \n",
       "    \n",
       "            circle_db9279eb451795f6aea4aefb15e14878.bindTooltip(\n",
       "                `&lt;div&gt;\n",
       "                     &lt;div style=&#x27;margin: 0; background-color: black; color: white;&#x27;&gt;&lt;h4 style=&#x27;text-align:center;font-weight: bold&#x27;&gt;Indonesia&lt;/h4&gt;&lt;hr style=&#x27;margin:10px;color: white;&#x27;&gt;&lt;ul style=&#x27;color: white;;list-style-type:circle;align-item:left;padding-left:20px;padding-right:20px&#x27;&gt;&lt;li&gt;Confirmed: 6738225&lt;/li&gt;&lt;li&gt;Deaths:   263&lt;/li&gt;&lt;li&gt;Death Rate: 0.0&lt;/li&gt;&lt;/ul&gt;&lt;/div&gt;\n",
       "                 &lt;/div&gt;`,\n",
       "                {&quot;sticky&quot;: true}\n",
       "            );\n",
       "        \n",
       "    \n",
       "            var circle_7c95b131039becd6ad5b100564432d3d = L.circle(\n",
       "                [32.427908, 53.688046],\n",
       "                {&quot;bubblingMouseEvents&quot;: true, &quot;color&quot;: &quot;red&quot;, &quot;dashArray&quot;: null, &quot;dashOffset&quot;: null, &quot;fill&quot;: true, &quot;fillColor&quot;: &quot;indigo&quot;, &quot;fillOpacity&quot;: 0.2, &quot;fillRule&quot;: &quot;evenodd&quot;, &quot;lineCap&quot;: &quot;round&quot;, &quot;lineJoin&quot;: &quot;round&quot;, &quot;opacity&quot;: 1.0, &quot;radius&quot;: 760000.0, &quot;stroke&quot;: true, &quot;weight&quot;: 3}\n",
       "            ).addTo(map_6d1e22dda92088ca39d2cd125c89418f);\n",
       "        \n",
       "    \n",
       "            circle_7c95b131039becd6ad5b100564432d3d.bindTooltip(\n",
       "                `&lt;div&gt;\n",
       "                     &lt;div style=&#x27;margin: 0; background-color: black; color: white;&#x27;&gt;&lt;h4 style=&#x27;text-align:center;font-weight: bold&#x27;&gt;Iran&lt;/h4&gt;&lt;hr style=&#x27;margin:10px;color: white;&#x27;&gt;&lt;ul style=&#x27;color: white;;list-style-type:circle;align-item:left;padding-left:20px;padding-right:20px&#x27;&gt;&lt;li&gt;Confirmed: 7572311&lt;/li&gt;&lt;li&gt;Deaths:   530779&lt;/li&gt;&lt;li&gt;Death Rate: 7.01&lt;/li&gt;&lt;/ul&gt;&lt;/div&gt;\n",
       "                 &lt;/div&gt;`,\n",
       "                {&quot;sticky&quot;: true}\n",
       "            );\n",
       "        \n",
       "    \n",
       "            var circle_0fcb0c5e5e080e58a5ef7eac6adeb0a5 = L.circle(\n",
       "                [33.223191, 43.679291],\n",
       "                {&quot;bubblingMouseEvents&quot;: true, &quot;color&quot;: &quot;red&quot;, &quot;dashArray&quot;: null, &quot;dashOffset&quot;: null, &quot;fill&quot;: true, &quot;fillColor&quot;: &quot;indigo&quot;, &quot;fillOpacity&quot;: 0.2, &quot;fillRule&quot;: &quot;evenodd&quot;, &quot;lineCap&quot;: &quot;round&quot;, &quot;lineJoin&quot;: &quot;round&quot;, &quot;opacity&quot;: 1.0, &quot;radius&quot;: 710000.0, &quot;stroke&quot;: true, &quot;weight&quot;: 3}\n",
       "            ).addTo(map_6d1e22dda92088ca39d2cd125c89418f);\n",
       "        \n",
       "    \n",
       "            circle_0fcb0c5e5e080e58a5ef7eac6adeb0a5.bindTooltip(\n",
       "                `&lt;div&gt;\n",
       "                     &lt;div style=&#x27;margin: 0; background-color: black; color: white;&#x27;&gt;&lt;h4 style=&#x27;text-align:center;font-weight: bold&#x27;&gt;Iraq&lt;/h4&gt;&lt;hr style=&#x27;margin:10px;color: white;&#x27;&gt;&lt;ul style=&#x27;color: white;;list-style-type:circle;align-item:left;padding-left:20px;padding-right:20px&#x27;&gt;&lt;li&gt;Confirmed: 2465545&lt;/li&gt;&lt;li&gt;Deaths:   160941&lt;/li&gt;&lt;li&gt;Death Rate: 6.53&lt;/li&gt;&lt;/ul&gt;&lt;/div&gt;\n",
       "                 &lt;/div&gt;`,\n",
       "                {&quot;sticky&quot;: true}\n",
       "            );\n",
       "        \n",
       "    \n",
       "            var circle_fe20e4ea97f471c07ddbab9e064943ed = L.circle(\n",
       "                [53.1424, -7.6921],\n",
       "                {&quot;bubblingMouseEvents&quot;: true, &quot;color&quot;: &quot;red&quot;, &quot;dashArray&quot;: null, &quot;dashOffset&quot;: null, &quot;fill&quot;: true, &quot;fillColor&quot;: &quot;indigo&quot;, &quot;fillOpacity&quot;: 0.2, &quot;fillRule&quot;: &quot;evenodd&quot;, &quot;lineCap&quot;: &quot;round&quot;, &quot;lineJoin&quot;: &quot;round&quot;, &quot;opacity&quot;: 1.0, &quot;radius&quot;: 710000.0, &quot;stroke&quot;: true, &quot;weight&quot;: 3}\n",
       "            ).addTo(map_6d1e22dda92088ca39d2cd125c89418f);\n",
       "        \n",
       "    \n",
       "            circle_fe20e4ea97f471c07ddbab9e064943ed.bindTooltip(\n",
       "                `&lt;div&gt;\n",
       "                     &lt;div style=&#x27;margin: 0; background-color: black; color: white;&#x27;&gt;&lt;h4 style=&#x27;text-align:center;font-weight: bold&#x27;&gt;Ireland&lt;/h4&gt;&lt;hr style=&#x27;margin:10px;color: white;&#x27;&gt;&lt;ul style=&#x27;color: white;;list-style-type:circle;align-item:left;padding-left:20px;padding-right:20px&#x27;&gt;&lt;li&gt;Confirmed: 1704502&lt;/li&gt;&lt;li&gt;Deaths:   144933&lt;/li&gt;&lt;li&gt;Death Rate: 8.5&lt;/li&gt;&lt;/ul&gt;&lt;/div&gt;\n",
       "                 &lt;/div&gt;`,\n",
       "                {&quot;sticky&quot;: true}\n",
       "            );\n",
       "        \n",
       "    \n",
       "            var circle_5f19dd76e34bc722dc311a10577f6882 = L.circle(\n",
       "                [31.046051, 34.851612],\n",
       "                {&quot;bubblingMouseEvents&quot;: true, &quot;color&quot;: &quot;red&quot;, &quot;dashArray&quot;: null, &quot;dashOffset&quot;: null, &quot;fill&quot;: true, &quot;fillColor&quot;: &quot;indigo&quot;, &quot;fillOpacity&quot;: 0.2, &quot;fillRule&quot;: &quot;evenodd&quot;, &quot;lineCap&quot;: &quot;round&quot;, &quot;lineJoin&quot;: &quot;round&quot;, &quot;opacity&quot;: 1.0, &quot;radius&quot;: 760000.0, &quot;stroke&quot;: true, &quot;weight&quot;: 3}\n",
       "            ).addTo(map_6d1e22dda92088ca39d2cd125c89418f);\n",
       "        \n",
       "    \n",
       "            circle_5f19dd76e34bc722dc311a10577f6882.bindTooltip(\n",
       "                `&lt;div&gt;\n",
       "                     &lt;div style=&#x27;margin: 0; background-color: black; color: white;&#x27;&gt;&lt;h4 style=&#x27;text-align:center;font-weight: bold&#x27;&gt;Israel&lt;/h4&gt;&lt;hr style=&#x27;margin:10px;color: white;&#x27;&gt;&lt;ul style=&#x27;color: white;;list-style-type:circle;align-item:left;padding-left:20px;padding-right:20px&#x27;&gt;&lt;li&gt;Confirmed: 4803824&lt;/li&gt;&lt;li&gt;Deaths:   25375&lt;/li&gt;&lt;li&gt;Death Rate: 0.53&lt;/li&gt;&lt;/ul&gt;&lt;/div&gt;\n",
       "                 &lt;/div&gt;`,\n",
       "                {&quot;sticky&quot;: true}\n",
       "            );\n",
       "        \n",
       "    \n",
       "            var circle_181c8f302cb5e2ec632c23715da41b48 = L.circle(\n",
       "                [41.87194, 12.56738],\n",
       "                {&quot;bubblingMouseEvents&quot;: true, &quot;color&quot;: &quot;red&quot;, &quot;dashArray&quot;: null, &quot;dashOffset&quot;: null, &quot;fill&quot;: true, &quot;fillColor&quot;: &quot;indigo&quot;, &quot;fillOpacity&quot;: 0.2, &quot;fillRule&quot;: &quot;evenodd&quot;, &quot;lineCap&quot;: &quot;round&quot;, &quot;lineJoin&quot;: &quot;round&quot;, &quot;opacity&quot;: 1.0, &quot;radius&quot;: 860000.0, &quot;stroke&quot;: true, &quot;weight&quot;: 3}\n",
       "            ).addTo(map_6d1e22dda92088ca39d2cd125c89418f);\n",
       "        \n",
       "    \n",
       "            circle_181c8f302cb5e2ec632c23715da41b48.bindTooltip(\n",
       "                `&lt;div&gt;\n",
       "                     &lt;div style=&#x27;margin: 0; background-color: black; color: white;&#x27;&gt;&lt;h4 style=&#x27;text-align:center;font-weight: bold&#x27;&gt;Italy&lt;/h4&gt;&lt;hr style=&#x27;margin:10px;color: white;&#x27;&gt;&lt;ul style=&#x27;color: white;;list-style-type:circle;align-item:left;padding-left:20px;padding-right:20px&#x27;&gt;&lt;li&gt;Confirmed: 25603510&lt;/li&gt;&lt;li&gt;Deaths:   8708&lt;/li&gt;&lt;li&gt;Death Rate: 0.03&lt;/li&gt;&lt;/ul&gt;&lt;/div&gt;\n",
       "                 &lt;/div&gt;`,\n",
       "                {&quot;sticky&quot;: true}\n",
       "            );\n",
       "        \n",
       "    \n",
       "            var circle_bad0bb8c80978f1abb9485764018be7e = L.circle(\n",
       "                [18.1096, -77.2975],\n",
       "                {&quot;bubblingMouseEvents&quot;: true, &quot;color&quot;: &quot;red&quot;, &quot;dashArray&quot;: null, &quot;dashOffset&quot;: null, &quot;fill&quot;: true, &quot;fillColor&quot;: &quot;indigo&quot;, &quot;fillOpacity&quot;: 0.2, &quot;fillRule&quot;: &quot;evenodd&quot;, &quot;lineCap&quot;: &quot;round&quot;, &quot;lineJoin&quot;: &quot;round&quot;, &quot;opacity&quot;: 1.0, &quot;radius&quot;: 560000.0, &quot;stroke&quot;: true, &quot;weight&quot;: 3}\n",
       "            ).addTo(map_6d1e22dda92088ca39d2cd125c89418f);\n",
       "        \n",
       "    \n",
       "            circle_bad0bb8c80978f1abb9485764018be7e.bindTooltip(\n",
       "                `&lt;div&gt;\n",
       "                     &lt;div style=&#x27;margin: 0; background-color: black; color: white;&#x27;&gt;&lt;h4 style=&#x27;text-align:center;font-weight: bold&#x27;&gt;Jamaica&lt;/h4&gt;&lt;hr style=&#x27;margin:10px;color: white;&#x27;&gt;&lt;ul style=&#x27;color: white;;list-style-type:circle;align-item:left;padding-left:20px;padding-right:20px&#x27;&gt;&lt;li&gt;Confirmed: 154416&lt;/li&gt;&lt;li&gt;Deaths:   12329&lt;/li&gt;&lt;li&gt;Death Rate: 7.98&lt;/li&gt;&lt;/ul&gt;&lt;/div&gt;\n",
       "                 &lt;/div&gt;`,\n",
       "                {&quot;sticky&quot;: true}\n",
       "            );\n",
       "        \n",
       "    \n",
       "            var circle_10d6f5cac2416ea7bde0eba3df6554b8 = L.circle(\n",
       "                [36.204824, 138.252924],\n",
       "                {&quot;bubblingMouseEvents&quot;: true, &quot;color&quot;: &quot;red&quot;, &quot;dashArray&quot;: null, &quot;dashOffset&quot;: null, &quot;fill&quot;: true, &quot;fillColor&quot;: &quot;indigo&quot;, &quot;fillOpacity&quot;: 0.2, &quot;fillRule&quot;: &quot;evenodd&quot;, &quot;lineCap&quot;: &quot;round&quot;, &quot;lineJoin&quot;: &quot;round&quot;, &quot;opacity&quot;: 1.0, &quot;radius&quot;: 860000.0, &quot;stroke&quot;: true, &quot;weight&quot;: 3}\n",
       "            ).addTo(map_6d1e22dda92088ca39d2cd125c89418f);\n",
       "        \n",
       "    \n",
       "            circle_10d6f5cac2416ea7bde0eba3df6554b8.bindTooltip(\n",
       "                `&lt;div&gt;\n",
       "                     &lt;div style=&#x27;margin: 0; background-color: black; color: white;&#x27;&gt;&lt;h4 style=&#x27;text-align:center;font-weight: bold&#x27;&gt;Japan&lt;/h4&gt;&lt;hr style=&#x27;margin:10px;color: white;&#x27;&gt;&lt;ul style=&#x27;color: white;;list-style-type:circle;align-item:left;padding-left:20px;padding-right:20px&#x27;&gt;&lt;li&gt;Confirmed: 33320438&lt;/li&gt;&lt;li&gt;Deaths:   188322&lt;/li&gt;&lt;li&gt;Death Rate: 0.57&lt;/li&gt;&lt;/ul&gt;&lt;/div&gt;\n",
       "                 &lt;/div&gt;`,\n",
       "                {&quot;sticky&quot;: true}\n",
       "            );\n",
       "        \n",
       "    \n",
       "            var circle_18ab2b14cab563b13c1af310cf5bf36e = L.circle(\n",
       "                [31.24, 36.51],\n",
       "                {&quot;bubblingMouseEvents&quot;: true, &quot;color&quot;: &quot;red&quot;, &quot;dashArray&quot;: null, &quot;dashOffset&quot;: null, &quot;fill&quot;: true, &quot;fillColor&quot;: &quot;indigo&quot;, &quot;fillOpacity&quot;: 0.2, &quot;fillRule&quot;: &quot;evenodd&quot;, &quot;lineCap&quot;: &quot;round&quot;, &quot;lineJoin&quot;: &quot;round&quot;, &quot;opacity&quot;: 1.0, &quot;radius&quot;: 710000.0, &quot;stroke&quot;: true, &quot;weight&quot;: 3}\n",
       "            ).addTo(map_6d1e22dda92088ca39d2cd125c89418f);\n",
       "        \n",
       "    \n",
       "            circle_18ab2b14cab563b13c1af310cf5bf36e.bindTooltip(\n",
       "                `&lt;div&gt;\n",
       "                     &lt;div style=&#x27;margin: 0; background-color: black; color: white;&#x27;&gt;&lt;h4 style=&#x27;text-align:center;font-weight: bold&#x27;&gt;Jordan&lt;/h4&gt;&lt;hr style=&#x27;margin:10px;color: white;&#x27;&gt;&lt;ul style=&#x27;color: white;;list-style-type:circle;align-item:left;padding-left:20px;padding-right:20px&#x27;&gt;&lt;li&gt;Confirmed: 1746997&lt;/li&gt;&lt;li&gt;Deaths:   3514&lt;/li&gt;&lt;li&gt;Death Rate: 0.2&lt;/li&gt;&lt;/ul&gt;&lt;/div&gt;\n",
       "                 &lt;/div&gt;`,\n",
       "                {&quot;sticky&quot;: true}\n",
       "            );\n",
       "        \n",
       "    \n",
       "            var circle_85be5c8fbc86ccd53959f79a72f0f7de = L.circle(\n",
       "                [48.0196, 66.9237],\n",
       "                {&quot;bubblingMouseEvents&quot;: true, &quot;color&quot;: &quot;red&quot;, &quot;dashArray&quot;: null, &quot;dashOffset&quot;: null, &quot;fill&quot;: true, &quot;fillColor&quot;: &quot;indigo&quot;, &quot;fillOpacity&quot;: 0.2, &quot;fillRule&quot;: &quot;evenodd&quot;, &quot;lineCap&quot;: &quot;round&quot;, &quot;lineJoin&quot;: &quot;round&quot;, &quot;opacity&quot;: 1.0, &quot;radius&quot;: 710000.0, &quot;stroke&quot;: true, &quot;weight&quot;: 3}\n",
       "            ).addTo(map_6d1e22dda92088ca39d2cd125c89418f);\n",
       "        \n",
       "    \n",
       "            circle_85be5c8fbc86ccd53959f79a72f0f7de.bindTooltip(\n",
       "                `&lt;div&gt;\n",
       "                     &lt;div style=&#x27;margin: 0; background-color: black; color: white;&#x27;&gt;&lt;h4 style=&#x27;text-align:center;font-weight: bold&#x27;&gt;Kazakhstan&lt;/h4&gt;&lt;hr style=&#x27;margin:10px;color: white;&#x27;&gt;&lt;ul style=&#x27;color: white;;list-style-type:circle;align-item:left;padding-left:20px;padding-right:20px&#x27;&gt;&lt;li&gt;Confirmed: 1498668&lt;/li&gt;&lt;li&gt;Deaths:   72997&lt;/li&gt;&lt;li&gt;Death Rate: 4.87&lt;/li&gt;&lt;/ul&gt;&lt;/div&gt;\n",
       "                 &lt;/div&gt;`,\n",
       "                {&quot;sticky&quot;: true}\n",
       "            );\n",
       "        \n",
       "    \n",
       "            var circle_7d99d8c4875e3405049ffbf41dcb57c9 = L.circle(\n",
       "                [-0.0236, 37.9062],\n",
       "                {&quot;bubblingMouseEvents&quot;: true, &quot;color&quot;: &quot;red&quot;, &quot;dashArray&quot;: null, &quot;dashOffset&quot;: null, &quot;fill&quot;: true, &quot;fillColor&quot;: &quot;indigo&quot;, &quot;fillOpacity&quot;: 0.2, &quot;fillRule&quot;: &quot;evenodd&quot;, &quot;lineCap&quot;: &quot;round&quot;, &quot;lineJoin&quot;: &quot;round&quot;, &quot;opacity&quot;: 1.0, &quot;radius&quot;: 610000.0, &quot;stroke&quot;: true, &quot;weight&quot;: 3}\n",
       "            ).addTo(map_6d1e22dda92088ca39d2cd125c89418f);\n",
       "        \n",
       "    \n",
       "            circle_7d99d8c4875e3405049ffbf41dcb57c9.bindTooltip(\n",
       "                `&lt;div&gt;\n",
       "                     &lt;div style=&#x27;margin: 0; background-color: black; color: white;&#x27;&gt;&lt;h4 style=&#x27;text-align:center;font-weight: bold&#x27;&gt;Kenya&lt;/h4&gt;&lt;hr style=&#x27;margin:10px;color: white;&#x27;&gt;&lt;ul style=&#x27;color: white;;list-style-type:circle;align-item:left;padding-left:20px;padding-right:20px&#x27;&gt;&lt;li&gt;Confirmed: 342937&lt;/li&gt;&lt;li&gt;Deaths:   14122&lt;/li&gt;&lt;li&gt;Death Rate: 4.12&lt;/li&gt;&lt;/ul&gt;&lt;/div&gt;\n",
       "                 &lt;/div&gt;`,\n",
       "                {&quot;sticky&quot;: true}\n",
       "            );\n",
       "        \n",
       "    \n",
       "            var circle_e2527c7c7ded34c801c415a5ffd78b47 = L.circle(\n",
       "                [-3.3704, -168.734],\n",
       "                {&quot;bubblingMouseEvents&quot;: true, &quot;color&quot;: &quot;red&quot;, &quot;dashArray&quot;: null, &quot;dashOffset&quot;: null, &quot;fill&quot;: true, &quot;fillColor&quot;: &quot;indigo&quot;, &quot;fillOpacity&quot;: 0.2, &quot;fillRule&quot;: &quot;evenodd&quot;, &quot;lineCap&quot;: &quot;round&quot;, &quot;lineJoin&quot;: &quot;round&quot;, &quot;opacity&quot;: 1.0, &quot;radius&quot;: 409999.99999999994, &quot;stroke&quot;: true, &quot;weight&quot;: 3}\n",
       "            ).addTo(map_6d1e22dda92088ca39d2cd125c89418f);\n",
       "        \n",
       "    \n",
       "            circle_e2527c7c7ded34c801c415a5ffd78b47.bindTooltip(\n",
       "                `&lt;div&gt;\n",
       "                     &lt;div style=&#x27;margin: 0; background-color: black; color: white;&#x27;&gt;&lt;h4 style=&#x27;text-align:center;font-weight: bold&#x27;&gt;Kiribati&lt;/h4&gt;&lt;hr style=&#x27;margin:10px;color: white;&#x27;&gt;&lt;ul style=&#x27;color: white;;list-style-type:circle;align-item:left;padding-left:20px;padding-right:20px&#x27;&gt;&lt;li&gt;Confirmed: 5014&lt;/li&gt;&lt;li&gt;Deaths:   19071&lt;/li&gt;&lt;li&gt;Death Rate: 380.28&lt;/li&gt;&lt;/ul&gt;&lt;/div&gt;\n",
       "                 &lt;/div&gt;`,\n",
       "                {&quot;sticky&quot;: true}\n",
       "            );\n",
       "        \n",
       "    \n",
       "            var circle_9013a6551c98f812bf87a3302c7dad82 = L.circle(\n",
       "                [40.3399, 127.5101],\n",
       "                {&quot;bubblingMouseEvents&quot;: true, &quot;color&quot;: &quot;red&quot;, &quot;dashArray&quot;: null, &quot;dashOffset&quot;: null, &quot;fill&quot;: true, &quot;fillColor&quot;: &quot;indigo&quot;, &quot;fillOpacity&quot;: 0.2, &quot;fillRule&quot;: &quot;evenodd&quot;, &quot;lineCap&quot;: &quot;round&quot;, &quot;lineJoin&quot;: &quot;round&quot;, &quot;opacity&quot;: 1.0, &quot;radius&quot;: 10000.0, &quot;stroke&quot;: true, &quot;weight&quot;: 3}\n",
       "            ).addTo(map_6d1e22dda92088ca39d2cd125c89418f);\n",
       "        \n",
       "    \n",
       "            circle_9013a6551c98f812bf87a3302c7dad82.bindTooltip(\n",
       "                `&lt;div&gt;\n",
       "                     &lt;div style=&#x27;margin: 0; background-color: black; color: white;&#x27;&gt;&lt;h4 style=&#x27;text-align:center;font-weight: bold&#x27;&gt;Korea, North&lt;/h4&gt;&lt;hr style=&#x27;margin:10px;color: white;&#x27;&gt;&lt;ul style=&#x27;color: white;;list-style-type:circle;align-item:left;padding-left:20px;padding-right:20px&#x27;&gt;&lt;li&gt;Confirmed: 1&lt;/li&gt;&lt;li&gt;Deaths:   5688&lt;/li&gt;&lt;li&gt;Death Rate: 284398.58&lt;/li&gt;&lt;/ul&gt;&lt;/div&gt;\n",
       "                 &lt;/div&gt;`,\n",
       "                {&quot;sticky&quot;: true}\n",
       "            );\n",
       "        \n",
       "    \n",
       "            var circle_4727af1a0af414e759831a11d72c532b = L.circle(\n",
       "                [35.907757, 127.766922],\n",
       "                {&quot;bubblingMouseEvents&quot;: true, &quot;color&quot;: &quot;red&quot;, &quot;dashArray&quot;: null, &quot;dashOffset&quot;: null, &quot;fill&quot;: true, &quot;fillColor&quot;: &quot;indigo&quot;, &quot;fillOpacity&quot;: 0.2, &quot;fillRule&quot;: &quot;evenodd&quot;, &quot;lineCap&quot;: &quot;round&quot;, &quot;lineJoin&quot;: &quot;round&quot;, &quot;opacity&quot;: 1.0, &quot;radius&quot;: 860000.0, &quot;stroke&quot;: true, &quot;weight&quot;: 3}\n",
       "            ).addTo(map_6d1e22dda92088ca39d2cd125c89418f);\n",
       "        \n",
       "    \n",
       "            circle_4727af1a0af414e759831a11d72c532b.bindTooltip(\n",
       "                `&lt;div&gt;\n",
       "                     &lt;div style=&#x27;margin: 0; background-color: black; color: white;&#x27;&gt;&lt;h4 style=&#x27;text-align:center;font-weight: bold&#x27;&gt;Korea, South&lt;/h4&gt;&lt;hr style=&#x27;margin:10px;color: white;&#x27;&gt;&lt;ul style=&#x27;color: white;;list-style-type:circle;align-item:left;padding-left:20px;padding-right:20px&#x27;&gt;&lt;li&gt;Confirmed: 30615522&lt;/li&gt;&lt;li&gt;Deaths:   18&lt;/li&gt;&lt;li&gt;Death Rate: 0.0&lt;/li&gt;&lt;/ul&gt;&lt;/div&gt;\n",
       "                 &lt;/div&gt;`,\n",
       "                {&quot;sticky&quot;: true}\n",
       "            );\n",
       "        \n",
       "    \n",
       "            var circle_36dea2672c27b801261130fe47d98647 = L.circle(\n",
       "                [42.602636, 20.902977],\n",
       "                {&quot;bubblingMouseEvents&quot;: true, &quot;color&quot;: &quot;red&quot;, &quot;dashArray&quot;: null, &quot;dashOffset&quot;: null, &quot;fill&quot;: true, &quot;fillColor&quot;: &quot;indigo&quot;, &quot;fillOpacity&quot;: 0.2, &quot;fillRule&quot;: &quot;evenodd&quot;, &quot;lineCap&quot;: &quot;round&quot;, &quot;lineJoin&quot;: &quot;round&quot;, &quot;opacity&quot;: 1.0, &quot;radius&quot;: 610000.0, &quot;stroke&quot;: true, &quot;weight&quot;: 3}\n",
       "            ).addTo(map_6d1e22dda92088ca39d2cd125c89418f);\n",
       "        \n",
       "    \n",
       "            circle_36dea2672c27b801261130fe47d98647.bindTooltip(\n",
       "                `&lt;div&gt;\n",
       "                     &lt;div style=&#x27;margin: 0; background-color: black; color: white;&#x27;&gt;&lt;h4 style=&#x27;text-align:center;font-weight: bold&#x27;&gt;Kosovo&lt;/h4&gt;&lt;hr style=&#x27;margin:10px;color: white;&#x27;&gt;&lt;ul style=&#x27;color: white;;list-style-type:circle;align-item:left;padding-left:20px;padding-right:20px&#x27;&gt;&lt;li&gt;Confirmed: 273312&lt;/li&gt;&lt;li&gt;Deaths:   6&lt;/li&gt;&lt;li&gt;Death Rate: 0.0&lt;/li&gt;&lt;/ul&gt;&lt;/div&gt;\n",
       "                 &lt;/div&gt;`,\n",
       "                {&quot;sticky&quot;: true}\n",
       "            );\n",
       "        \n",
       "    \n",
       "            var circle_4c11a2b10bcfef93c5f3470c638b0c85 = L.circle(\n",
       "                [29.31166, 47.481766],\n",
       "                {&quot;bubblingMouseEvents&quot;: true, &quot;color&quot;: &quot;red&quot;, &quot;dashArray&quot;: null, &quot;dashOffset&quot;: null, &quot;fill&quot;: true, &quot;fillColor&quot;: &quot;indigo&quot;, &quot;fillOpacity&quot;: 0.2, &quot;fillRule&quot;: &quot;evenodd&quot;, &quot;lineCap&quot;: &quot;round&quot;, &quot;lineJoin&quot;: &quot;round&quot;, &quot;opacity&quot;: 1.0, &quot;radius&quot;: 660000.0, &quot;stroke&quot;: true, &quot;weight&quot;: 3}\n",
       "            ).addTo(map_6d1e22dda92088ca39d2cd125c89418f);\n",
       "        \n",
       "    \n",
       "            circle_4c11a2b10bcfef93c5f3470c638b0c85.bindTooltip(\n",
       "                `&lt;div&gt;\n",
       "                     &lt;div style=&#x27;margin: 0; background-color: black; color: white;&#x27;&gt;&lt;h4 style=&#x27;text-align:center;font-weight: bold&#x27;&gt;Kuwait&lt;/h4&gt;&lt;hr style=&#x27;margin:10px;color: white;&#x27;&gt;&lt;ul style=&#x27;color: white;;list-style-type:circle;align-item:left;padding-left:20px;padding-right:20px&#x27;&gt;&lt;li&gt;Confirmed: 663860&lt;/li&gt;&lt;li&gt;Deaths:   34093&lt;/li&gt;&lt;li&gt;Death Rate: 5.14&lt;/li&gt;&lt;/ul&gt;&lt;/div&gt;\n",
       "                 &lt;/div&gt;`,\n",
       "                {&quot;sticky&quot;: true}\n",
       "            );\n",
       "        \n",
       "    \n",
       "            var circle_57242b2fddff33d8debaecd79b92c2de = L.circle(\n",
       "                [41.20438, 74.766098],\n",
       "                {&quot;bubblingMouseEvents&quot;: true, &quot;color&quot;: &quot;red&quot;, &quot;dashArray&quot;: null, &quot;dashOffset&quot;: null, &quot;fill&quot;: true, &quot;fillColor&quot;: &quot;indigo&quot;, &quot;fillOpacity&quot;: 0.2, &quot;fillRule&quot;: &quot;evenodd&quot;, &quot;lineCap&quot;: &quot;round&quot;, &quot;lineJoin&quot;: &quot;round&quot;, &quot;opacity&quot;: 1.0, &quot;radius&quot;: 610000.0, &quot;stroke&quot;: true, &quot;weight&quot;: 3}\n",
       "            ).addTo(map_6d1e22dda92088ca39d2cd125c89418f);\n",
       "        \n",
       "    \n",
       "            circle_57242b2fddff33d8debaecd79b92c2de.bindTooltip(\n",
       "                `&lt;div&gt;\n",
       "                     &lt;div style=&#x27;margin: 0; background-color: black; color: white;&#x27;&gt;&lt;h4 style=&#x27;text-align:center;font-weight: bold&#x27;&gt;Kyrgyzstan&lt;/h4&gt;&lt;hr style=&#x27;margin:10px;color: white;&#x27;&gt;&lt;ul style=&#x27;color: white;;list-style-type:circle;align-item:left;padding-left:20px;padding-right:20px&#x27;&gt;&lt;li&gt;Confirmed: 206708&lt;/li&gt;&lt;li&gt;Deaths:   3211&lt;/li&gt;&lt;li&gt;Death Rate: 1.55&lt;/li&gt;&lt;/ul&gt;&lt;/div&gt;\n",
       "                 &lt;/div&gt;`,\n",
       "                {&quot;sticky&quot;: true}\n",
       "            );\n",
       "        \n",
       "    \n",
       "            var circle_db8988af4ed7890d9e19424ca5b3b36c = L.circle(\n",
       "                [19.85627, 102.495496],\n",
       "                {&quot;bubblingMouseEvents&quot;: true, &quot;color&quot;: &quot;red&quot;, &quot;dashArray&quot;: null, &quot;dashOffset&quot;: null, &quot;fill&quot;: true, &quot;fillColor&quot;: &quot;indigo&quot;, &quot;fillOpacity&quot;: 0.2, &quot;fillRule&quot;: &quot;evenodd&quot;, &quot;lineCap&quot;: &quot;round&quot;, &quot;lineJoin&quot;: &quot;round&quot;, &quot;opacity&quot;: 1.0, &quot;radius&quot;: 610000.0, &quot;stroke&quot;: true, &quot;weight&quot;: 3}\n",
       "            ).addTo(map_6d1e22dda92088ca39d2cd125c89418f);\n",
       "        \n",
       "    \n",
       "            circle_db8988af4ed7890d9e19424ca5b3b36c.bindTooltip(\n",
       "                `&lt;div&gt;\n",
       "                     &lt;div style=&#x27;margin: 0; background-color: black; color: white;&#x27;&gt;&lt;h4 style=&#x27;text-align:center;font-weight: bold&#x27;&gt;Laos&lt;/h4&gt;&lt;hr style=&#x27;margin:10px;color: white;&#x27;&gt;&lt;ul style=&#x27;color: white;;list-style-type:circle;align-item:left;padding-left:20px;padding-right:20px&#x27;&gt;&lt;li&gt;Confirmed: 218023&lt;/li&gt;&lt;li&gt;Deaths:   2570&lt;/li&gt;&lt;li&gt;Death Rate: 1.18&lt;/li&gt;&lt;/ul&gt;&lt;/div&gt;\n",
       "                 &lt;/div&gt;`,\n",
       "                {&quot;sticky&quot;: true}\n",
       "            );\n",
       "        \n",
       "    \n",
       "            var circle_fc1995f80726280a1c24b920e90db641 = L.circle(\n",
       "                [56.8796, 24.6032],\n",
       "                {&quot;bubblingMouseEvents&quot;: true, &quot;color&quot;: &quot;red&quot;, &quot;dashArray&quot;: null, &quot;dashOffset&quot;: null, &quot;fill&quot;: true, &quot;fillColor&quot;: &quot;indigo&quot;, &quot;fillOpacity&quot;: 0.2, &quot;fillRule&quot;: &quot;evenodd&quot;, &quot;lineCap&quot;: &quot;round&quot;, &quot;lineJoin&quot;: &quot;round&quot;, &quot;opacity&quot;: 1.0, &quot;radius&quot;: 660000.0, &quot;stroke&quot;: true, &quot;weight&quot;: 3}\n",
       "            ).addTo(map_6d1e22dda92088ca39d2cd125c89418f);\n",
       "        \n",
       "    \n",
       "            circle_fc1995f80726280a1c24b920e90db641.bindTooltip(\n",
       "                `&lt;div&gt;\n",
       "                     &lt;div style=&#x27;margin: 0; background-color: black; color: white;&#x27;&gt;&lt;h4 style=&#x27;text-align:center;font-weight: bold&#x27;&gt;Latvia&lt;/h4&gt;&lt;hr style=&#x27;margin:10px;color: white;&#x27;&gt;&lt;ul style=&#x27;color: white;;list-style-type:circle;align-item:left;padding-left:20px;padding-right:20px&#x27;&gt;&lt;li&gt;Confirmed: 976255&lt;/li&gt;&lt;li&gt;Deaths:   2991&lt;/li&gt;&lt;li&gt;Death Rate: 0.31&lt;/li&gt;&lt;/ul&gt;&lt;/div&gt;\n",
       "                 &lt;/div&gt;`,\n",
       "                {&quot;sticky&quot;: true}\n",
       "            );\n",
       "        \n",
       "    \n",
       "            var circle_681fc2345888f828ac431379b3f88c86 = L.circle(\n",
       "                [33.8547, 35.8623],\n",
       "                {&quot;bubblingMouseEvents&quot;: true, &quot;color&quot;: &quot;red&quot;, &quot;dashArray&quot;: null, &quot;dashOffset&quot;: null, &quot;fill&quot;: true, &quot;fillColor&quot;: &quot;indigo&quot;, &quot;fillOpacity&quot;: 0.2, &quot;fillRule&quot;: &quot;evenodd&quot;, &quot;lineCap&quot;: &quot;round&quot;, &quot;lineJoin&quot;: &quot;round&quot;, &quot;opacity&quot;: 1.0, &quot;radius&quot;: 710000.0, &quot;stroke&quot;: true, &quot;weight&quot;: 3}\n",
       "            ).addTo(map_6d1e22dda92088ca39d2cd125c89418f);\n",
       "        \n",
       "    \n",
       "            circle_681fc2345888f828ac431379b3f88c86.bindTooltip(\n",
       "                `&lt;div&gt;\n",
       "                     &lt;div style=&#x27;margin: 0; background-color: black; color: white;&#x27;&gt;&lt;h4 style=&#x27;text-align:center;font-weight: bold&#x27;&gt;Lebanon&lt;/h4&gt;&lt;hr style=&#x27;margin:10px;color: white;&#x27;&gt;&lt;ul style=&#x27;color: white;;list-style-type:circle;align-item:left;padding-left:20px;padding-right:20px&#x27;&gt;&lt;li&gt;Confirmed: 1232828&lt;/li&gt;&lt;li&gt;Deaths:   758&lt;/li&gt;&lt;li&gt;Death Rate: 0.06&lt;/li&gt;&lt;/ul&gt;&lt;/div&gt;\n",
       "                 &lt;/div&gt;`,\n",
       "                {&quot;sticky&quot;: true}\n",
       "            );\n",
       "        \n",
       "    \n",
       "            var circle_f8d3cb822e71a55912db2c0ab2002825 = L.circle(\n",
       "                [-29.61, 28.2336],\n",
       "                {&quot;bubblingMouseEvents&quot;: true, &quot;color&quot;: &quot;red&quot;, &quot;dashArray&quot;: null, &quot;dashOffset&quot;: null, &quot;fill&quot;: true, &quot;fillColor&quot;: &quot;indigo&quot;, &quot;fillOpacity&quot;: 0.2, &quot;fillRule&quot;: &quot;evenodd&quot;, &quot;lineCap&quot;: &quot;round&quot;, &quot;lineJoin&quot;: &quot;round&quot;, &quot;opacity&quot;: 1.0, &quot;radius&quot;: 509999.99999999994, &quot;stroke&quot;: true, &quot;weight&quot;: 3}\n",
       "            ).addTo(map_6d1e22dda92088ca39d2cd125c89418f);\n",
       "        \n",
       "    \n",
       "            circle_f8d3cb822e71a55912db2c0ab2002825.bindTooltip(\n",
       "                `&lt;div&gt;\n",
       "                     &lt;div style=&#x27;margin: 0; background-color: black; color: white;&#x27;&gt;&lt;h4 style=&#x27;text-align:center;font-weight: bold&#x27;&gt;Lesotho&lt;/h4&gt;&lt;hr style=&#x27;margin:10px;color: white;&#x27;&gt;&lt;ul style=&#x27;color: white;;list-style-type:circle;align-item:left;padding-left:20px;padding-right:20px&#x27;&gt;&lt;li&gt;Confirmed: 34790&lt;/li&gt;&lt;li&gt;Deaths:   6269&lt;/li&gt;&lt;li&gt;Death Rate: 18.02&lt;/li&gt;&lt;/ul&gt;&lt;/div&gt;\n",
       "                 &lt;/div&gt;`,\n",
       "                {&quot;sticky&quot;: true}\n",
       "            );\n",
       "        \n",
       "    \n",
       "            var circle_b07b2484fd88071d1cbd2fdca7da8505 = L.circle(\n",
       "                [6.428055, -9.429499],\n",
       "                {&quot;bubblingMouseEvents&quot;: true, &quot;color&quot;: &quot;red&quot;, &quot;dashArray&quot;: null, &quot;dashOffset&quot;: null, &quot;fill&quot;: true, &quot;fillColor&quot;: &quot;indigo&quot;, &quot;fillOpacity&quot;: 0.2, &quot;fillRule&quot;: &quot;evenodd&quot;, &quot;lineCap&quot;: &quot;round&quot;, &quot;lineJoin&quot;: &quot;round&quot;, &quot;opacity&quot;: 1.0, &quot;radius&quot;: 409999.99999999994, &quot;stroke&quot;: true, &quot;weight&quot;: 3}\n",
       "            ).addTo(map_6d1e22dda92088ca39d2cd125c89418f);\n",
       "        \n",
       "    \n",
       "            circle_b07b2484fd88071d1cbd2fdca7da8505.bindTooltip(\n",
       "                `&lt;div&gt;\n",
       "                     &lt;div style=&#x27;margin: 0; background-color: black; color: white;&#x27;&gt;&lt;h4 style=&#x27;text-align:center;font-weight: bold&#x27;&gt;Liberia&lt;/h4&gt;&lt;hr style=&#x27;margin:10px;color: white;&#x27;&gt;&lt;ul style=&#x27;color: white;;list-style-type:circle;align-item:left;padding-left:20px;padding-right:20px&#x27;&gt;&lt;li&gt;Confirmed: 8090&lt;/li&gt;&lt;li&gt;Deaths:   10841&lt;/li&gt;&lt;li&gt;Death Rate: 133.99&lt;/li&gt;&lt;/ul&gt;&lt;/div&gt;\n",
       "                 &lt;/div&gt;`,\n",
       "                {&quot;sticky&quot;: true}\n",
       "            );\n",
       "        \n",
       "    \n",
       "            var circle_1125ee070a4e6caa0aeac74e53e9e32a = L.circle(\n",
       "                [26.3351, 17.228331],\n",
       "                {&quot;bubblingMouseEvents&quot;: true, &quot;color&quot;: &quot;red&quot;, &quot;dashArray&quot;: null, &quot;dashOffset&quot;: null, &quot;fill&quot;: true, &quot;fillColor&quot;: &quot;indigo&quot;, &quot;fillOpacity&quot;: 0.2, &quot;fillRule&quot;: &quot;evenodd&quot;, &quot;lineCap&quot;: &quot;round&quot;, &quot;lineJoin&quot;: &quot;round&quot;, &quot;opacity&quot;: 1.0, &quot;radius&quot;: 660000.0, &quot;stroke&quot;: true, &quot;weight&quot;: 3}\n",
       "            ).addTo(map_6d1e22dda92088ca39d2cd125c89418f);\n",
       "        \n",
       "    \n",
       "            circle_1125ee070a4e6caa0aeac74e53e9e32a.bindTooltip(\n",
       "                `&lt;div&gt;\n",
       "                     &lt;div style=&#x27;margin: 0; background-color: black; color: white;&#x27;&gt;&lt;h4 style=&#x27;text-align:center;font-weight: bold&#x27;&gt;Libya&lt;/h4&gt;&lt;hr style=&#x27;margin:10px;color: white;&#x27;&gt;&lt;ul style=&#x27;color: white;;list-style-type:circle;align-item:left;padding-left:20px;padding-right:20px&#x27;&gt;&lt;li&gt;Confirmed: 507187&lt;/li&gt;&lt;li&gt;Deaths:   723&lt;/li&gt;&lt;li&gt;Death Rate: 0.14&lt;/li&gt;&lt;/ul&gt;&lt;/div&gt;\n",
       "                 &lt;/div&gt;`,\n",
       "                {&quot;sticky&quot;: true}\n",
       "            );\n",
       "        \n",
       "    \n",
       "            var circle_b577412cd93aca746d80664454e645d9 = L.circle(\n",
       "                [47.14, 9.55],\n",
       "                {&quot;bubblingMouseEvents&quot;: true, &quot;color&quot;: &quot;red&quot;, &quot;dashArray&quot;: null, &quot;dashOffset&quot;: null, &quot;fill&quot;: true, &quot;fillColor&quot;: &quot;indigo&quot;, &quot;fillOpacity&quot;: 0.2, &quot;fillRule&quot;: &quot;evenodd&quot;, &quot;lineCap&quot;: &quot;round&quot;, &quot;lineJoin&quot;: &quot;round&quot;, &quot;opacity&quot;: 1.0, &quot;radius&quot;: 459999.99999999994, &quot;stroke&quot;: true, &quot;weight&quot;: 3}\n",
       "            ).addTo(map_6d1e22dda92088ca39d2cd125c89418f);\n",
       "        \n",
       "    \n",
       "            circle_b577412cd93aca746d80664454e645d9.bindTooltip(\n",
       "                `&lt;div&gt;\n",
       "                     &lt;div style=&#x27;margin: 0; background-color: black; color: white;&#x27;&gt;&lt;h4 style=&#x27;text-align:center;font-weight: bold&#x27;&gt;Liechtenstein&lt;/h4&gt;&lt;hr style=&#x27;margin:10px;color: white;&#x27;&gt;&lt;ul style=&#x27;color: white;;list-style-type:circle;align-item:left;padding-left:20px;padding-right:20px&#x27;&gt;&lt;li&gt;Confirmed: 21432&lt;/li&gt;&lt;li&gt;Deaths:   295&lt;/li&gt;&lt;li&gt;Death Rate: 1.38&lt;/li&gt;&lt;/ul&gt;&lt;/div&gt;\n",
       "                 &lt;/div&gt;`,\n",
       "                {&quot;sticky&quot;: true}\n",
       "            );\n",
       "        \n",
       "    \n",
       "            var circle_79931dab5171ffe947dfa5669b2eb173 = L.circle(\n",
       "                [55.1694, 23.8813],\n",
       "                {&quot;bubblingMouseEvents&quot;: true, &quot;color&quot;: &quot;red&quot;, &quot;dashArray&quot;: null, &quot;dashOffset&quot;: null, &quot;fill&quot;: true, &quot;fillColor&quot;: &quot;indigo&quot;, &quot;fillOpacity&quot;: 0.2, &quot;fillRule&quot;: &quot;evenodd&quot;, &quot;lineCap&quot;: &quot;round&quot;, &quot;lineJoin&quot;: &quot;round&quot;, &quot;opacity&quot;: 1.0, &quot;radius&quot;: 710000.0, &quot;stroke&quot;: true, &quot;weight&quot;: 3}\n",
       "            ).addTo(map_6d1e22dda92088ca39d2cd125c89418f);\n",
       "        \n",
       "    \n",
       "            circle_79931dab5171ffe947dfa5669b2eb173.bindTooltip(\n",
       "                `&lt;div&gt;\n",
       "                     &lt;div style=&#x27;margin: 0; background-color: black; color: white;&#x27;&gt;&lt;h4 style=&#x27;text-align:center;font-weight: bold&#x27;&gt;Lithuania&lt;/h4&gt;&lt;hr style=&#x27;margin:10px;color: white;&#x27;&gt;&lt;ul style=&#x27;color: white;;list-style-type:circle;align-item:left;padding-left:20px;padding-right:20px&#x27;&gt;&lt;li&gt;Confirmed: 1307448&lt;/li&gt;&lt;li&gt;Deaths:   6437&lt;/li&gt;&lt;li&gt;Death Rate: 0.49&lt;/li&gt;&lt;/ul&gt;&lt;/div&gt;\n",
       "                 &lt;/div&gt;`,\n",
       "                {&quot;sticky&quot;: true}\n",
       "            );\n",
       "        \n",
       "    \n",
       "            var circle_fcc81630e677bab9d00f1f140541d83a = L.circle(\n",
       "                [49.8153, 6.1296],\n",
       "                {&quot;bubblingMouseEvents&quot;: true, &quot;color&quot;: &quot;red&quot;, &quot;dashArray&quot;: null, &quot;dashOffset&quot;: null, &quot;fill&quot;: true, &quot;fillColor&quot;: &quot;indigo&quot;, &quot;fillOpacity&quot;: 0.2, &quot;fillRule&quot;: &quot;evenodd&quot;, &quot;lineCap&quot;: &quot;round&quot;, &quot;lineJoin&quot;: &quot;round&quot;, &quot;opacity&quot;: 1.0, &quot;radius&quot;: 610000.0, &quot;stroke&quot;: true, &quot;weight&quot;: 3}\n",
       "            ).addTo(map_6d1e22dda92088ca39d2cd125c89418f);\n",
       "        \n",
       "    \n",
       "            circle_fcc81630e677bab9d00f1f140541d83a.bindTooltip(\n",
       "                `&lt;div&gt;\n",
       "                     &lt;div style=&#x27;margin: 0; background-color: black; color: white;&#x27;&gt;&lt;h4 style=&#x27;text-align:center;font-weight: bold&#x27;&gt;Luxembourg&lt;/h4&gt;&lt;hr style=&#x27;margin:10px;color: white;&#x27;&gt;&lt;ul style=&#x27;color: white;;list-style-type:circle;align-item:left;padding-left:20px;padding-right:20px&#x27;&gt;&lt;li&gt;Confirmed: 317367&lt;/li&gt;&lt;li&gt;Deaths:   89&lt;/li&gt;&lt;li&gt;Death Rate: 0.03&lt;/li&gt;&lt;/ul&gt;&lt;/div&gt;\n",
       "                 &lt;/div&gt;`,\n",
       "                {&quot;sticky&quot;: true}\n",
       "            );\n",
       "        \n",
       "    \n",
       "            var circle_6d4abe62e22ff262500f9608ca2184a1 = L.circle(\n",
       "                [0.0, 0.0],\n",
       "                {&quot;bubblingMouseEvents&quot;: true, &quot;color&quot;: &quot;red&quot;, &quot;dashArray&quot;: null, &quot;dashOffset&quot;: null, &quot;fill&quot;: true, &quot;fillColor&quot;: &quot;indigo&quot;, &quot;fillOpacity&quot;: 0.2, &quot;fillRule&quot;: &quot;evenodd&quot;, &quot;lineCap&quot;: &quot;round&quot;, &quot;lineJoin&quot;: &quot;round&quot;, &quot;opacity&quot;: 1.0, &quot;radius&quot;: 110000.00000000001, &quot;stroke&quot;: true, &quot;weight&quot;: 3}\n",
       "            ).addTo(map_6d1e22dda92088ca39d2cd125c89418f);\n",
       "        \n",
       "    \n",
       "            circle_6d4abe62e22ff262500f9608ca2184a1.bindTooltip(\n",
       "                `&lt;div&gt;\n",
       "                     &lt;div style=&#x27;margin: 0; background-color: black; color: white;&#x27;&gt;&lt;h4 style=&#x27;text-align:center;font-weight: bold&#x27;&gt;MS Zaandam&lt;/h4&gt;&lt;hr style=&#x27;margin:10px;color: white;&#x27;&gt;&lt;ul style=&#x27;color: white;;list-style-type:circle;align-item:left;padding-left:20px;padding-right:20px&#x27;&gt;&lt;li&gt;Confirmed: 9&lt;/li&gt;&lt;li&gt;Deaths:   9596&lt;/li&gt;&lt;li&gt;Death Rate: 95959.9&lt;/li&gt;&lt;/ul&gt;&lt;/div&gt;\n",
       "                 &lt;/div&gt;`,\n",
       "                {&quot;sticky&quot;: true}\n",
       "            );\n",
       "        \n",
       "    \n",
       "            var circle_c4ab396c7cde74d2f52971111afd8b75 = L.circle(\n",
       "                [-18.766947, 46.869107],\n",
       "                {&quot;bubblingMouseEvents&quot;: true, &quot;color&quot;: &quot;red&quot;, &quot;dashArray&quot;: null, &quot;dashOffset&quot;: null, &quot;fill&quot;: true, &quot;fillColor&quot;: &quot;indigo&quot;, &quot;fillOpacity&quot;: 0.2, &quot;fillRule&quot;: &quot;evenodd&quot;, &quot;lineCap&quot;: &quot;round&quot;, &quot;lineJoin&quot;: &quot;round&quot;, &quot;opacity&quot;: 1.0, &quot;radius&quot;: 560000.0, &quot;stroke&quot;: true, &quot;weight&quot;: 3}\n",
       "            ).addTo(map_6d1e22dda92088ca39d2cd125c89418f);\n",
       "        \n",
       "    \n",
       "            circle_c4ab396c7cde74d2f52971111afd8b75.bindTooltip(\n",
       "                `&lt;div&gt;\n",
       "                     &lt;div style=&#x27;margin: 0; background-color: black; color: white;&#x27;&gt;&lt;h4 style=&#x27;text-align:center;font-weight: bold&#x27;&gt;Madagascar&lt;/h4&gt;&lt;hr style=&#x27;margin:10px;color: white;&#x27;&gt;&lt;ul style=&#x27;color: white;;list-style-type:circle;align-item:left;padding-left:20px;padding-right:20px&#x27;&gt;&lt;li&gt;Confirmed: 67889&lt;/li&gt;&lt;li&gt;Deaths:   1220&lt;/li&gt;&lt;li&gt;Death Rate: 1.8&lt;/li&gt;&lt;/ul&gt;&lt;/div&gt;\n",
       "                 &lt;/div&gt;`,\n",
       "                {&quot;sticky&quot;: true}\n",
       "            );\n",
       "        \n",
       "    \n",
       "            var circle_7a4f18beb060ee54105b2acfd9f657ed = L.circle(\n",
       "                [-13.2543, 34.3015],\n",
       "                {&quot;bubblingMouseEvents&quot;: true, &quot;color&quot;: &quot;red&quot;, &quot;dashArray&quot;: null, &quot;dashOffset&quot;: null, &quot;fill&quot;: true, &quot;fillColor&quot;: &quot;indigo&quot;, &quot;fillOpacity&quot;: 0.2, &quot;fillRule&quot;: &quot;evenodd&quot;, &quot;lineCap&quot;: &quot;round&quot;, &quot;lineJoin&quot;: &quot;round&quot;, &quot;opacity&quot;: 1.0, &quot;radius&quot;: 560000.0, &quot;stroke&quot;: true, &quot;weight&quot;: 3}\n",
       "            ).addTo(map_6d1e22dda92088ca39d2cd125c89418f);\n",
       "        \n",
       "    \n",
       "            circle_7a4f18beb060ee54105b2acfd9f657ed.bindTooltip(\n",
       "                `&lt;div&gt;\n",
       "                     &lt;div style=&#x27;margin: 0; background-color: black; color: white;&#x27;&gt;&lt;h4 style=&#x27;text-align:center;font-weight: bold&#x27;&gt;Malawi&lt;/h4&gt;&lt;hr style=&#x27;margin:10px;color: white;&#x27;&gt;&lt;ul style=&#x27;color: white;;list-style-type:circle;align-item:left;padding-left:20px;padding-right:20px&#x27;&gt;&lt;li&gt;Confirmed: 88707&lt;/li&gt;&lt;li&gt;Deaths:   2&lt;/li&gt;&lt;li&gt;Death Rate: 0.0&lt;/li&gt;&lt;/ul&gt;&lt;/div&gt;\n",
       "                 &lt;/div&gt;`,\n",
       "                {&quot;sticky&quot;: true}\n",
       "            );\n",
       "        \n",
       "    \n",
       "            var circle_d7803a706307db592bc29cf9255e55b8 = L.circle(\n",
       "                [4.210484, 101.975766],\n",
       "                {&quot;bubblingMouseEvents&quot;: true, &quot;color&quot;: &quot;red&quot;, &quot;dashArray&quot;: null, &quot;dashOffset&quot;: null, &quot;fill&quot;: true, &quot;fillColor&quot;: &quot;indigo&quot;, &quot;fillOpacity&quot;: 0.2, &quot;fillRule&quot;: &quot;evenodd&quot;, &quot;lineCap&quot;: &quot;round&quot;, &quot;lineJoin&quot;: &quot;round&quot;, &quot;opacity&quot;: 1.0, &quot;radius&quot;: 760000.0, &quot;stroke&quot;: true, &quot;weight&quot;: 3}\n",
       "            ).addTo(map_6d1e22dda92088ca39d2cd125c89418f);\n",
       "        \n",
       "    \n",
       "            circle_d7803a706307db592bc29cf9255e55b8.bindTooltip(\n",
       "                `&lt;div&gt;\n",
       "                     &lt;div style=&#x27;margin: 0; background-color: black; color: white;&#x27;&gt;&lt;h4 style=&#x27;text-align:center;font-weight: bold&#x27;&gt;Malaysia&lt;/h4&gt;&lt;hr style=&#x27;margin:10px;color: white;&#x27;&gt;&lt;ul style=&#x27;color: white;;list-style-type:circle;align-item:left;padding-left:20px;padding-right:20px&#x27;&gt;&lt;li&gt;Confirmed: 5044718&lt;/li&gt;&lt;li&gt;Deaths:   1423&lt;/li&gt;&lt;li&gt;Death Rate: 0.03&lt;/li&gt;&lt;/ul&gt;&lt;/div&gt;\n",
       "                 &lt;/div&gt;`,\n",
       "                {&quot;sticky&quot;: true}\n",
       "            );\n",
       "        \n",
       "    \n",
       "            var circle_538b708a48e666302cc1bb3f3b3466b5 = L.circle(\n",
       "                [3.2028, 73.2207],\n",
       "                {&quot;bubblingMouseEvents&quot;: true, &quot;color&quot;: &quot;red&quot;, &quot;dashArray&quot;: null, &quot;dashOffset&quot;: null, &quot;fill&quot;: true, &quot;fillColor&quot;: &quot;indigo&quot;, &quot;fillOpacity&quot;: 0.2, &quot;fillRule&quot;: &quot;evenodd&quot;, &quot;lineCap&quot;: &quot;round&quot;, &quot;lineJoin&quot;: &quot;round&quot;, &quot;opacity&quot;: 1.0, &quot;radius&quot;: 610000.0, &quot;stroke&quot;: true, &quot;weight&quot;: 3}\n",
       "            ).addTo(map_6d1e22dda92088ca39d2cd125c89418f);\n",
       "        \n",
       "    \n",
       "            circle_538b708a48e666302cc1bb3f3b3466b5.bindTooltip(\n",
       "                `&lt;div&gt;\n",
       "                     &lt;div style=&#x27;margin: 0; background-color: black; color: white;&#x27;&gt;&lt;h4 style=&#x27;text-align:center;font-weight: bold&#x27;&gt;Maldives&lt;/h4&gt;&lt;hr style=&#x27;margin:10px;color: white;&#x27;&gt;&lt;ul style=&#x27;color: white;;list-style-type:circle;align-item:left;padding-left:20px;padding-right:20px&#x27;&gt;&lt;li&gt;Confirmed: 185738&lt;/li&gt;&lt;li&gt;Deaths:   2686&lt;/li&gt;&lt;li&gt;Death Rate: 1.45&lt;/li&gt;&lt;/ul&gt;&lt;/div&gt;\n",
       "                 &lt;/div&gt;`,\n",
       "                {&quot;sticky&quot;: true}\n",
       "            );\n",
       "        \n",
       "    \n",
       "            var circle_dfd929222d0ac559a9ae6a47da38127a = L.circle(\n",
       "                [17.570692, -3.996166],\n",
       "                {&quot;bubblingMouseEvents&quot;: true, &quot;color&quot;: &quot;red&quot;, &quot;dashArray&quot;: null, &quot;dashOffset&quot;: null, &quot;fill&quot;: true, &quot;fillColor&quot;: &quot;indigo&quot;, &quot;fillOpacity&quot;: 0.2, &quot;fillRule&quot;: &quot;evenodd&quot;, &quot;lineCap&quot;: &quot;round&quot;, &quot;lineJoin&quot;: &quot;round&quot;, &quot;opacity&quot;: 1.0, &quot;radius&quot;: 509999.99999999994, &quot;stroke&quot;: true, &quot;weight&quot;: 3}\n",
       "            ).addTo(map_6d1e22dda92088ca39d2cd125c89418f);\n",
       "        \n",
       "    \n",
       "            circle_dfd929222d0ac559a9ae6a47da38127a.bindTooltip(\n",
       "                `&lt;div&gt;\n",
       "                     &lt;div style=&#x27;margin: 0; background-color: black; color: white;&#x27;&gt;&lt;h4 style=&#x27;text-align:center;font-weight: bold&#x27;&gt;Mali&lt;/h4&gt;&lt;hr style=&#x27;margin:10px;color: white;&#x27;&gt;&lt;ul style=&#x27;color: white;;list-style-type:circle;align-item:left;padding-left:20px;padding-right:20px&#x27;&gt;&lt;li&gt;Confirmed: 33062&lt;/li&gt;&lt;li&gt;Deaths:   36967&lt;/li&gt;&lt;li&gt;Death Rate: 111.81&lt;/li&gt;&lt;/ul&gt;&lt;/div&gt;\n",
       "                 &lt;/div&gt;`,\n",
       "                {&quot;sticky&quot;: true}\n",
       "            );\n",
       "        \n",
       "    \n",
       "            var circle_e439db8be1cc4c771ecee62e08d0788d = L.circle(\n",
       "                [35.9375, 14.3754],\n",
       "                {&quot;bubblingMouseEvents&quot;: true, &quot;color&quot;: &quot;red&quot;, &quot;dashArray&quot;: null, &quot;dashOffset&quot;: null, &quot;fill&quot;: true, &quot;fillColor&quot;: &quot;indigo&quot;, &quot;fillOpacity&quot;: 0.2, &quot;fillRule&quot;: &quot;evenodd&quot;, &quot;lineCap&quot;: &quot;round&quot;, &quot;lineJoin&quot;: &quot;round&quot;, &quot;opacity&quot;: 1.0, &quot;radius&quot;: 560000.0, &quot;stroke&quot;: true, &quot;weight&quot;: 3}\n",
       "            ).addTo(map_6d1e22dda92088ca39d2cd125c89418f);\n",
       "        \n",
       "    \n",
       "            circle_e439db8be1cc4c771ecee62e08d0788d.bindTooltip(\n",
       "                `&lt;div&gt;\n",
       "                     &lt;div style=&#x27;margin: 0; background-color: black; color: white;&#x27;&gt;&lt;h4 style=&#x27;text-align:center;font-weight: bold&#x27;&gt;Malta&lt;/h4&gt;&lt;hr style=&#x27;margin:10px;color: white;&#x27;&gt;&lt;ul style=&#x27;color: white;;list-style-type:circle;align-item:left;padding-left:20px;padding-right:20px&#x27;&gt;&lt;li&gt;Confirmed: 117610&lt;/li&gt;&lt;li&gt;Deaths:   311&lt;/li&gt;&lt;li&gt;Death Rate: 0.26&lt;/li&gt;&lt;/ul&gt;&lt;/div&gt;\n",
       "                 &lt;/div&gt;`,\n",
       "                {&quot;sticky&quot;: true}\n",
       "            );\n",
       "        \n",
       "    \n",
       "            var circle_73fee01b1da693b5414bad1c60891d6a = L.circle(\n",
       "                [7.1315, 171.1845],\n",
       "                {&quot;bubblingMouseEvents&quot;: true, &quot;color&quot;: &quot;red&quot;, &quot;dashArray&quot;: null, &quot;dashOffset&quot;: null, &quot;fill&quot;: true, &quot;fillColor&quot;: &quot;indigo&quot;, &quot;fillOpacity&quot;: 0.2, &quot;fillRule&quot;: &quot;evenodd&quot;, &quot;lineCap&quot;: &quot;round&quot;, &quot;lineJoin&quot;: &quot;round&quot;, &quot;opacity&quot;: 1.0, &quot;radius&quot;: 459999.99999999994, &quot;stroke&quot;: true, &quot;weight&quot;: 3}\n",
       "            ).addTo(map_6d1e22dda92088ca39d2cd125c89418f);\n",
       "        \n",
       "    \n",
       "            circle_73fee01b1da693b5414bad1c60891d6a.bindTooltip(\n",
       "                `&lt;div&gt;\n",
       "                     &lt;div style=&#x27;margin: 0; background-color: black; color: white;&#x27;&gt;&lt;h4 style=&#x27;text-align:center;font-weight: bold&#x27;&gt;Marshall Islands&lt;/h4&gt;&lt;hr style=&#x27;margin:10px;color: white;&#x27;&gt;&lt;ul style=&#x27;color: white;;list-style-type:circle;align-item:left;padding-left:20px;padding-right:20px&#x27;&gt;&lt;li&gt;Confirmed: 15649&lt;/li&gt;&lt;li&gt;Deaths:   743&lt;/li&gt;&lt;li&gt;Death Rate: 4.75&lt;/li&gt;&lt;/ul&gt;&lt;/div&gt;\n",
       "                 &lt;/div&gt;`,\n",
       "                {&quot;sticky&quot;: true}\n",
       "            );\n",
       "        \n",
       "    \n",
       "            var circle_c8e8309ff2e9503e21fd29bf0d35e27c = L.circle(\n",
       "                [21.0079, -10.9408],\n",
       "                {&quot;bubblingMouseEvents&quot;: true, &quot;color&quot;: &quot;red&quot;, &quot;dashArray&quot;: null, &quot;dashOffset&quot;: null, &quot;fill&quot;: true, &quot;fillColor&quot;: &quot;indigo&quot;, &quot;fillOpacity&quot;: 0.2, &quot;fillRule&quot;: &quot;evenodd&quot;, &quot;lineCap&quot;: &quot;round&quot;, &quot;lineJoin&quot;: &quot;round&quot;, &quot;opacity&quot;: 1.0, &quot;radius&quot;: 560000.0, &quot;stroke&quot;: true, &quot;weight&quot;: 3}\n",
       "            ).addTo(map_6d1e22dda92088ca39d2cd125c89418f);\n",
       "        \n",
       "    \n",
       "            circle_c8e8309ff2e9503e21fd29bf0d35e27c.bindTooltip(\n",
       "                `&lt;div&gt;\n",
       "                     &lt;div style=&#x27;margin: 0; background-color: black; color: white;&#x27;&gt;&lt;h4 style=&#x27;text-align:center;font-weight: bold&#x27;&gt;Mauritania&lt;/h4&gt;&lt;hr style=&#x27;margin:10px;color: white;&#x27;&gt;&lt;ul style=&#x27;color: white;;list-style-type:circle;align-item:left;padding-left:20px;padding-right:20px&#x27;&gt;&lt;li&gt;Confirmed: 63668&lt;/li&gt;&lt;li&gt;Deaths:   828&lt;/li&gt;&lt;li&gt;Death Rate: 1.3&lt;/li&gt;&lt;/ul&gt;&lt;/div&gt;\n",
       "                 &lt;/div&gt;`,\n",
       "                {&quot;sticky&quot;: true}\n",
       "            );\n",
       "        \n",
       "    \n",
       "            var circle_3f25888a10fc118ce45568fdd5fd79bb = L.circle(\n",
       "                [-20.348404, 57.552152],\n",
       "                {&quot;bubblingMouseEvents&quot;: true, &quot;color&quot;: &quot;red&quot;, &quot;dashArray&quot;: null, &quot;dashOffset&quot;: null, &quot;fill&quot;: true, &quot;fillColor&quot;: &quot;indigo&quot;, &quot;fillOpacity&quot;: 0.2, &quot;fillRule&quot;: &quot;evenodd&quot;, &quot;lineCap&quot;: &quot;round&quot;, &quot;lineJoin&quot;: &quot;round&quot;, &quot;opacity&quot;: 1.0, &quot;radius&quot;: 610000.0, &quot;stroke&quot;: true, &quot;weight&quot;: 3}\n",
       "            ).addTo(map_6d1e22dda92088ca39d2cd125c89418f);\n",
       "        \n",
       "    \n",
       "            circle_3f25888a10fc118ce45568fdd5fd79bb.bindTooltip(\n",
       "                `&lt;div&gt;\n",
       "                     &lt;div style=&#x27;margin: 0; background-color: black; color: white;&#x27;&gt;&lt;h4 style=&#x27;text-align:center;font-weight: bold&#x27;&gt;Mauritius&lt;/h4&gt;&lt;hr style=&#x27;margin:10px;color: white;&#x27;&gt;&lt;ul style=&#x27;color: white;;list-style-type:circle;align-item:left;padding-left:20px;padding-right:20px&#x27;&gt;&lt;li&gt;Confirmed: 296042&lt;/li&gt;&lt;li&gt;Deaths:   17&lt;/li&gt;&lt;li&gt;Death Rate: 0.01&lt;/li&gt;&lt;/ul&gt;&lt;/div&gt;\n",
       "                 &lt;/div&gt;`,\n",
       "                {&quot;sticky&quot;: true}\n",
       "            );\n",
       "        \n",
       "    \n",
       "            var circle_7c41a59fa4964930e4290daced2d923f = L.circle(\n",
       "                [23.6345, -102.5528],\n",
       "                {&quot;bubblingMouseEvents&quot;: true, &quot;color&quot;: &quot;red&quot;, &quot;dashArray&quot;: null, &quot;dashOffset&quot;: null, &quot;fill&quot;: true, &quot;fillColor&quot;: &quot;indigo&quot;, &quot;fillOpacity&quot;: 0.2, &quot;fillRule&quot;: &quot;evenodd&quot;, &quot;lineCap&quot;: &quot;round&quot;, &quot;lineJoin&quot;: &quot;round&quot;, &quot;opacity&quot;: 1.0, &quot;radius&quot;: 760000.0, &quot;stroke&quot;: true, &quot;weight&quot;: 3}\n",
       "            ).addTo(map_6d1e22dda92088ca39d2cd125c89418f);\n",
       "        \n",
       "    \n",
       "            circle_7c41a59fa4964930e4290daced2d923f.bindTooltip(\n",
       "                `&lt;div&gt;\n",
       "                     &lt;div style=&#x27;margin: 0; background-color: black; color: white;&#x27;&gt;&lt;h4 style=&#x27;text-align:center;font-weight: bold&#x27;&gt;Mexico&lt;/h4&gt;&lt;hr style=&#x27;margin:10px;color: white;&#x27;&gt;&lt;ul style=&#x27;color: white;;list-style-type:circle;align-item:left;padding-left:20px;padding-right:20px&#x27;&gt;&lt;li&gt;Confirmed: 7483444&lt;/li&gt;&lt;li&gt;Deaths:   997&lt;/li&gt;&lt;li&gt;Death Rate: 0.01&lt;/li&gt;&lt;/ul&gt;&lt;/div&gt;\n",
       "                 &lt;/div&gt;`,\n",
       "                {&quot;sticky&quot;: true}\n",
       "            );\n",
       "        \n",
       "    \n",
       "            var circle_fa4bd9acf0d1f79ba43eac2489c94021 = L.circle(\n",
       "                [7.4256, 150.5508],\n",
       "                {&quot;bubblingMouseEvents&quot;: true, &quot;color&quot;: &quot;red&quot;, &quot;dashArray&quot;: null, &quot;dashOffset&quot;: null, &quot;fill&quot;: true, &quot;fillColor&quot;: &quot;indigo&quot;, &quot;fillOpacity&quot;: 0.2, &quot;fillRule&quot;: &quot;evenodd&quot;, &quot;lineCap&quot;: &quot;round&quot;, &quot;lineJoin&quot;: &quot;round&quot;, &quot;opacity&quot;: 1.0, &quot;radius&quot;: 509999.99999999994, &quot;stroke&quot;: true, &quot;weight&quot;: 3}\n",
       "            ).addTo(map_6d1e22dda92088ca39d2cd125c89418f);\n",
       "        \n",
       "    \n",
       "            circle_fa4bd9acf0d1f79ba43eac2489c94021.bindTooltip(\n",
       "                `&lt;div&gt;\n",
       "                     &lt;div style=&#x27;margin: 0; background-color: black; color: white;&#x27;&gt;&lt;h4 style=&#x27;text-align:center;font-weight: bold&#x27;&gt;Micronesia&lt;/h4&gt;&lt;hr style=&#x27;margin:10px;color: white;&#x27;&gt;&lt;ul style=&#x27;color: white;;list-style-type:circle;align-item:left;padding-left:20px;padding-right:20px&#x27;&gt;&lt;li&gt;Confirmed: 23948&lt;/li&gt;&lt;li&gt;Deaths:   1044&lt;/li&gt;&lt;li&gt;Death Rate: 4.36&lt;/li&gt;&lt;/ul&gt;&lt;/div&gt;\n",
       "                 &lt;/div&gt;`,\n",
       "                {&quot;sticky&quot;: true}\n",
       "            );\n",
       "        \n",
       "    \n",
       "            var circle_218bc3e6f225a99382bd392307ba02ec = L.circle(\n",
       "                [47.4116, 28.3699],\n",
       "                {&quot;bubblingMouseEvents&quot;: true, &quot;color&quot;: &quot;red&quot;, &quot;dashArray&quot;: null, &quot;dashOffset&quot;: null, &quot;fill&quot;: true, &quot;fillColor&quot;: &quot;indigo&quot;, &quot;fillOpacity&quot;: 0.2, &quot;fillRule&quot;: &quot;evenodd&quot;, &quot;lineCap&quot;: &quot;round&quot;, &quot;lineJoin&quot;: &quot;round&quot;, &quot;opacity&quot;: 1.0, &quot;radius&quot;: 660000.0, &quot;stroke&quot;: true, &quot;weight&quot;: 3}\n",
       "            ).addTo(map_6d1e22dda92088ca39d2cd125c89418f);\n",
       "        \n",
       "    \n",
       "            circle_218bc3e6f225a99382bd392307ba02ec.bindTooltip(\n",
       "                `&lt;div&gt;\n",
       "                     &lt;div style=&#x27;margin: 0; background-color: black; color: white;&#x27;&gt;&lt;h4 style=&#x27;text-align:center;font-weight: bold&#x27;&gt;Moldova&lt;/h4&gt;&lt;hr style=&#x27;margin:10px;color: white;&#x27;&gt;&lt;ul style=&#x27;color: white;;list-style-type:circle;align-item:left;padding-left:20px;padding-right:20px&#x27;&gt;&lt;li&gt;Confirmed: 611140&lt;/li&gt;&lt;li&gt;Deaths:   333188&lt;/li&gt;&lt;li&gt;Death Rate: 54.52&lt;/li&gt;&lt;/ul&gt;&lt;/div&gt;\n",
       "                 &lt;/div&gt;`,\n",
       "                {&quot;sticky&quot;: true}\n",
       "            );\n",
       "        \n",
       "    \n",
       "            var circle_e8223a6fb32337cb8d438d265d481823 = L.circle(\n",
       "                [43.7333, 7.4167],\n",
       "                {&quot;bubblingMouseEvents&quot;: true, &quot;color&quot;: &quot;red&quot;, &quot;dashArray&quot;: null, &quot;dashOffset&quot;: null, &quot;fill&quot;: true, &quot;fillColor&quot;: &quot;indigo&quot;, &quot;fillOpacity&quot;: 0.2, &quot;fillRule&quot;: &quot;evenodd&quot;, &quot;lineCap&quot;: &quot;round&quot;, &quot;lineJoin&quot;: &quot;round&quot;, &quot;opacity&quot;: 1.0, &quot;radius&quot;: 459999.99999999994, &quot;stroke&quot;: true, &quot;weight&quot;: 3}\n",
       "            ).addTo(map_6d1e22dda92088ca39d2cd125c89418f);\n",
       "        \n",
       "    \n",
       "            circle_e8223a6fb32337cb8d438d265d481823.bindTooltip(\n",
       "                `&lt;div&gt;\n",
       "                     &lt;div style=&#x27;margin: 0; background-color: black; color: white;&#x27;&gt;&lt;h4 style=&#x27;text-align:center;font-weight: bold&#x27;&gt;Monaco&lt;/h4&gt;&lt;hr style=&#x27;margin:10px;color: white;&#x27;&gt;&lt;ul style=&#x27;color: white;;list-style-type:circle;align-item:left;padding-left:20px;padding-right:20px&#x27;&gt;&lt;li&gt;Confirmed: 16121&lt;/li&gt;&lt;li&gt;Deaths:   61&lt;/li&gt;&lt;li&gt;Death Rate: 0.38&lt;/li&gt;&lt;/ul&gt;&lt;/div&gt;\n",
       "                 &lt;/div&gt;`,\n",
       "                {&quot;sticky&quot;: true}\n",
       "            );\n",
       "        \n",
       "    \n",
       "            var circle_43f334e3c589283225b1973ba9c4b23a = L.circle(\n",
       "                [46.8625, 103.8467],\n",
       "                {&quot;bubblingMouseEvents&quot;: true, &quot;color&quot;: &quot;red&quot;, &quot;dashArray&quot;: null, &quot;dashOffset&quot;: null, &quot;fill&quot;: true, &quot;fillColor&quot;: &quot;indigo&quot;, &quot;fillOpacity&quot;: 0.2, &quot;fillRule&quot;: &quot;evenodd&quot;, &quot;lineCap&quot;: &quot;round&quot;, &quot;lineJoin&quot;: &quot;round&quot;, &quot;opacity&quot;: 1.0, &quot;radius&quot;: 660000.0, &quot;stroke&quot;: true, &quot;weight&quot;: 3}\n",
       "            ).addTo(map_6d1e22dda92088ca39d2cd125c89418f);\n",
       "        \n",
       "    \n",
       "            circle_43f334e3c589283225b1973ba9c4b23a.bindTooltip(\n",
       "                `&lt;div&gt;\n",
       "                     &lt;div style=&#x27;margin: 0; background-color: black; color: white;&#x27;&gt;&lt;h4 style=&#x27;text-align:center;font-weight: bold&#x27;&gt;Mongolia&lt;/h4&gt;&lt;hr style=&#x27;margin:10px;color: white;&#x27;&gt;&lt;ul style=&#x27;color: white;;list-style-type:circle;align-item:left;padding-left:20px;padding-right:20px&#x27;&gt;&lt;li&gt;Confirmed: 1007900&lt;/li&gt;&lt;li&gt;Deaths:   12003&lt;/li&gt;&lt;li&gt;Death Rate: 1.19&lt;/li&gt;&lt;/ul&gt;&lt;/div&gt;\n",
       "                 &lt;/div&gt;`,\n",
       "                {&quot;sticky&quot;: true}\n",
       "            );\n",
       "        \n",
       "    \n",
       "            var circle_4f3eef0c6919a12593e3996eaf527f1d = L.circle(\n",
       "                [42.708678, 19.37439],\n",
       "                {&quot;bubblingMouseEvents&quot;: true, &quot;color&quot;: &quot;red&quot;, &quot;dashArray&quot;: null, &quot;dashOffset&quot;: null, &quot;fill&quot;: true, &quot;fillColor&quot;: &quot;indigo&quot;, &quot;fillOpacity&quot;: 0.2, &quot;fillRule&quot;: &quot;evenodd&quot;, &quot;lineCap&quot;: &quot;round&quot;, &quot;lineJoin&quot;: &quot;round&quot;, &quot;opacity&quot;: 1.0, &quot;radius&quot;: 610000.0, &quot;stroke&quot;: true, &quot;weight&quot;: 3}\n",
       "            ).addTo(map_6d1e22dda92088ca39d2cd125c89418f);\n",
       "        \n",
       "    \n",
       "            circle_4f3eef0c6919a12593e3996eaf527f1d.bindTooltip(\n",
       "                `&lt;div&gt;\n",
       "                     &lt;div style=&#x27;margin: 0; background-color: black; color: white;&#x27;&gt;&lt;h4 style=&#x27;text-align:center;font-weight: bold&#x27;&gt;Montenegro&lt;/h4&gt;&lt;hr style=&#x27;margin:10px;color: white;&#x27;&gt;&lt;ul style=&#x27;color: white;;list-style-type:circle;align-item:left;padding-left:20px;padding-right:20px&#x27;&gt;&lt;li&gt;Confirmed: 288808&lt;/li&gt;&lt;li&gt;Deaths:   67&lt;/li&gt;&lt;li&gt;Death Rate: 0.02&lt;/li&gt;&lt;/ul&gt;&lt;/div&gt;\n",
       "                 &lt;/div&gt;`,\n",
       "                {&quot;sticky&quot;: true}\n",
       "            );\n",
       "        \n",
       "    \n",
       "            var circle_c05252b2a650f4e1c94dc8148223dc5e = L.circle(\n",
       "                [31.7917, -7.0926],\n",
       "                {&quot;bubblingMouseEvents&quot;: true, &quot;color&quot;: &quot;red&quot;, &quot;dashArray&quot;: null, &quot;dashOffset&quot;: null, &quot;fill&quot;: true, &quot;fillColor&quot;: &quot;indigo&quot;, &quot;fillOpacity&quot;: 0.2, &quot;fillRule&quot;: &quot;evenodd&quot;, &quot;lineCap&quot;: &quot;round&quot;, &quot;lineJoin&quot;: &quot;round&quot;, &quot;opacity&quot;: 1.0, &quot;radius&quot;: 710000.0, &quot;stroke&quot;: true, &quot;weight&quot;: 3}\n",
       "            ).addTo(map_6d1e22dda92088ca39d2cd125c89418f);\n",
       "        \n",
       "    \n",
       "            circle_c05252b2a650f4e1c94dc8148223dc5e.bindTooltip(\n",
       "                `&lt;div&gt;\n",
       "                     &lt;div style=&#x27;margin: 0; background-color: black; color: white;&#x27;&gt;&lt;h4 style=&#x27;text-align:center;font-weight: bold&#x27;&gt;Morocco&lt;/h4&gt;&lt;hr style=&#x27;margin:10px;color: white;&#x27;&gt;&lt;ul style=&#x27;color: white;;list-style-type:circle;align-item:left;padding-left:20px;padding-right:20px&#x27;&gt;&lt;li&gt;Confirmed: 1272490&lt;/li&gt;&lt;li&gt;Deaths:   2136&lt;/li&gt;&lt;li&gt;Death Rate: 0.17&lt;/li&gt;&lt;/ul&gt;&lt;/div&gt;\n",
       "                 &lt;/div&gt;`,\n",
       "                {&quot;sticky&quot;: true}\n",
       "            );\n",
       "        \n",
       "    \n",
       "            var circle_bcdbe70f1d46a86950c4846275151e51 = L.circle(\n",
       "                [-18.665695, 35.529562],\n",
       "                {&quot;bubblingMouseEvents&quot;: true, &quot;color&quot;: &quot;red&quot;, &quot;dashArray&quot;: null, &quot;dashOffset&quot;: null, &quot;fill&quot;: true, &quot;fillColor&quot;: &quot;indigo&quot;, &quot;fillOpacity&quot;: 0.2, &quot;fillRule&quot;: &quot;evenodd&quot;, &quot;lineCap&quot;: &quot;round&quot;, &quot;lineJoin&quot;: &quot;round&quot;, &quot;opacity&quot;: 1.0, &quot;radius&quot;: 610000.0, &quot;stroke&quot;: true, &quot;weight&quot;: 3}\n",
       "            ).addTo(map_6d1e22dda92088ca39d2cd125c89418f);\n",
       "        \n",
       "    \n",
       "            circle_bcdbe70f1d46a86950c4846275151e51.bindTooltip(\n",
       "                `&lt;div&gt;\n",
       "                     &lt;div style=&#x27;margin: 0; background-color: black; color: white;&#x27;&gt;&lt;h4 style=&#x27;text-align:center;font-weight: bold&#x27;&gt;Mozambique&lt;/h4&gt;&lt;hr style=&#x27;margin:10px;color: white;&#x27;&gt;&lt;ul style=&#x27;color: white;;list-style-type:circle;align-item:left;padding-left:20px;padding-right:20px&#x27;&gt;&lt;li&gt;Confirmed: 233214&lt;/li&gt;&lt;li&gt;Deaths:   2808&lt;/li&gt;&lt;li&gt;Death Rate: 1.2&lt;/li&gt;&lt;/ul&gt;&lt;/div&gt;\n",
       "                 &lt;/div&gt;`,\n",
       "                {&quot;sticky&quot;: true}\n",
       "            );\n",
       "        \n",
       "    \n",
       "            var circle_d62ee483b7017bdcfecdcaefb16aefce = L.circle(\n",
       "                [-22.9576, 18.4904],\n",
       "                {&quot;bubblingMouseEvents&quot;: true, &quot;color&quot;: &quot;red&quot;, &quot;dashArray&quot;: null, &quot;dashOffset&quot;: null, &quot;fill&quot;: true, &quot;fillColor&quot;: &quot;indigo&quot;, &quot;fillOpacity&quot;: 0.2, &quot;fillRule&quot;: &quot;evenodd&quot;, &quot;lineCap&quot;: &quot;round&quot;, &quot;lineJoin&quot;: &quot;round&quot;, &quot;opacity&quot;: 1.0, &quot;radius&quot;: 610000.0, &quot;stroke&quot;: true, &quot;weight&quot;: 3}\n",
       "            ).addTo(map_6d1e22dda92088ca39d2cd125c89418f);\n",
       "        \n",
       "    \n",
       "            circle_d62ee483b7017bdcfecdcaefb16aefce.bindTooltip(\n",
       "                `&lt;div&gt;\n",
       "                     &lt;div style=&#x27;margin: 0; background-color: black; color: white;&#x27;&gt;&lt;h4 style=&#x27;text-align:center;font-weight: bold&#x27;&gt;Namibia&lt;/h4&gt;&lt;hr style=&#x27;margin:10px;color: white;&#x27;&gt;&lt;ul style=&#x27;color: white;;list-style-type:circle;align-item:left;padding-left:20px;padding-right:20px&#x27;&gt;&lt;li&gt;Confirmed: 171156&lt;/li&gt;&lt;li&gt;Deaths:   16296&lt;/li&gt;&lt;li&gt;Death Rate: 9.52&lt;/li&gt;&lt;/ul&gt;&lt;/div&gt;\n",
       "                 &lt;/div&gt;`,\n",
       "                {&quot;sticky&quot;: true}\n",
       "            );\n",
       "        \n",
       "    \n",
       "            var circle_c29ea0dca684e3bf61e96782c979f28e = L.circle(\n",
       "                [-0.5228, 166.9315],\n",
       "                {&quot;bubblingMouseEvents&quot;: true, &quot;color&quot;: &quot;red&quot;, &quot;dashArray&quot;: null, &quot;dashOffset&quot;: null, &quot;fill&quot;: true, &quot;fillColor&quot;: &quot;indigo&quot;, &quot;fillOpacity&quot;: 0.2, &quot;fillRule&quot;: &quot;evenodd&quot;, &quot;lineCap&quot;: &quot;round&quot;, &quot;lineJoin&quot;: &quot;round&quot;, &quot;opacity&quot;: 1.0, &quot;radius&quot;: 409999.99999999994, &quot;stroke&quot;: true, &quot;weight&quot;: 3}\n",
       "            ).addTo(map_6d1e22dda92088ca39d2cd125c89418f);\n",
       "        \n",
       "    \n",
       "            circle_c29ea0dca684e3bf61e96782c979f28e.bindTooltip(\n",
       "                `&lt;div&gt;\n",
       "                     &lt;div style=&#x27;margin: 0; background-color: black; color: white;&#x27;&gt;&lt;h4 style=&#x27;text-align:center;font-weight: bold&#x27;&gt;Nauru&lt;/h4&gt;&lt;hr style=&#x27;margin:10px;color: white;&#x27;&gt;&lt;ul style=&#x27;color: white;;list-style-type:circle;align-item:left;padding-left:20px;padding-right:20px&#x27;&gt;&lt;li&gt;Confirmed: 5247&lt;/li&gt;&lt;li&gt;Deaths:   2242&lt;/li&gt;&lt;li&gt;Death Rate: 42.72&lt;/li&gt;&lt;/ul&gt;&lt;/div&gt;\n",
       "                 &lt;/div&gt;`,\n",
       "                {&quot;sticky&quot;: true}\n",
       "            );\n",
       "        \n",
       "    \n",
       "            var circle_ee60a64d280e0c34d567b336193b6d37 = L.circle(\n",
       "                [28.1667, 84.25],\n",
       "                {&quot;bubblingMouseEvents&quot;: true, &quot;color&quot;: &quot;red&quot;, &quot;dashArray&quot;: null, &quot;dashOffset&quot;: null, &quot;fill&quot;: true, &quot;fillColor&quot;: &quot;indigo&quot;, &quot;fillOpacity&quot;: 0.2, &quot;fillRule&quot;: &quot;evenodd&quot;, &quot;lineCap&quot;: &quot;round&quot;, &quot;lineJoin&quot;: &quot;round&quot;, &quot;opacity&quot;: 1.0, &quot;radius&quot;: 660000.0, &quot;stroke&quot;: true, &quot;weight&quot;: 3}\n",
       "            ).addTo(map_6d1e22dda92088ca39d2cd125c89418f);\n",
       "        \n",
       "    \n",
       "            circle_ee60a64d280e0c34d567b336193b6d37.bindTooltip(\n",
       "                `&lt;div&gt;\n",
       "                     &lt;div style=&#x27;margin: 0; background-color: black; color: white;&#x27;&gt;&lt;h4 style=&#x27;text-align:center;font-weight: bold&#x27;&gt;Nepal&lt;/h4&gt;&lt;hr style=&#x27;margin:10px;color: white;&#x27;&gt;&lt;ul style=&#x27;color: white;;list-style-type:circle;align-item:left;padding-left:20px;padding-right:20px&#x27;&gt;&lt;li&gt;Confirmed: 1001154&lt;/li&gt;&lt;li&gt;Deaths:   4090&lt;/li&gt;&lt;li&gt;Death Rate: 0.41&lt;/li&gt;&lt;/ul&gt;&lt;/div&gt;\n",
       "                 &lt;/div&gt;`,\n",
       "                {&quot;sticky&quot;: true}\n",
       "            );\n",
       "        \n",
       "    \n",
       "            var circle_96ebb0379e503a7ed8151429ee143eb7 = L.circle(\n",
       "                [12.5211, -69.9683],\n",
       "                {&quot;bubblingMouseEvents&quot;: true, &quot;color&quot;: &quot;red&quot;, &quot;dashArray&quot;: null, &quot;dashOffset&quot;: null, &quot;fill&quot;: true, &quot;fillColor&quot;: &quot;indigo&quot;, &quot;fillOpacity&quot;: 0.2, &quot;fillRule&quot;: &quot;evenodd&quot;, &quot;lineCap&quot;: &quot;round&quot;, &quot;lineJoin&quot;: &quot;round&quot;, &quot;opacity&quot;: 1.0, &quot;radius&quot;: 509999.99999999994, &quot;stroke&quot;: true, &quot;weight&quot;: 3}\n",
       "            ).addTo(map_6d1e22dda92088ca39d2cd125c89418f);\n",
       "        \n",
       "    \n",
       "            circle_96ebb0379e503a7ed8151429ee143eb7.bindTooltip(\n",
       "                `&lt;div&gt;\n",
       "                     &lt;div style=&#x27;margin: 0; background-color: black; color: white;&#x27;&gt;&lt;h4 style=&#x27;text-align:center;font-weight: bold&#x27;&gt;Netherlands&lt;/h4&gt;&lt;hr style=&#x27;margin:10px;color: white;&#x27;&gt;&lt;ul style=&#x27;color: white;;list-style-type:circle;align-item:left;padding-left:20px;padding-right:20px&#x27;&gt;&lt;li&gt;Confirmed: 44044&lt;/li&gt;&lt;li&gt;Deaths:   1&lt;/li&gt;&lt;li&gt;Death Rate: 0.0&lt;/li&gt;&lt;/ul&gt;&lt;/div&gt;\n",
       "                 &lt;/div&gt;`,\n",
       "                {&quot;sticky&quot;: true}\n",
       "            );\n",
       "        \n",
       "    \n",
       "            var circle_d613a316b191ebe57bc91bfbd8ce1ceb = L.circle(\n",
       "                [12.1784, -68.2385],\n",
       "                {&quot;bubblingMouseEvents&quot;: true, &quot;color&quot;: &quot;red&quot;, &quot;dashArray&quot;: null, &quot;dashOffset&quot;: null, &quot;fill&quot;: true, &quot;fillColor&quot;: &quot;indigo&quot;, &quot;fillOpacity&quot;: 0.2, &quot;fillRule&quot;: &quot;evenodd&quot;, &quot;lineCap&quot;: &quot;round&quot;, &quot;lineJoin&quot;: &quot;round&quot;, &quot;opacity&quot;: 1.0, &quot;radius&quot;: 459999.99999999994, &quot;stroke&quot;: true, &quot;weight&quot;: 3}\n",
       "            ).addTo(map_6d1e22dda92088ca39d2cd125c89418f);\n",
       "        \n",
       "    \n",
       "            circle_d613a316b191ebe57bc91bfbd8ce1ceb.bindTooltip(\n",
       "                `&lt;div&gt;\n",
       "                     &lt;div style=&#x27;margin: 0; background-color: black; color: white;&#x27;&gt;&lt;h4 style=&#x27;text-align:center;font-weight: bold&#x27;&gt;Netherlands&lt;/h4&gt;&lt;hr style=&#x27;margin:10px;color: white;&#x27;&gt;&lt;ul style=&#x27;color: white;;list-style-type:circle;align-item:left;padding-left:20px;padding-right:20px&#x27;&gt;&lt;li&gt;Confirmed: 11804&lt;/li&gt;&lt;li&gt;Deaths:   12020&lt;/li&gt;&lt;li&gt;Death Rate: 101.82&lt;/li&gt;&lt;/ul&gt;&lt;/div&gt;\n",
       "                 &lt;/div&gt;`,\n",
       "                {&quot;sticky&quot;: true}\n",
       "            );\n",
       "        \n",
       "    \n",
       "            var circle_8fa6aae7215ecf26e8685dbbdbc44f52 = L.circle(\n",
       "                [12.1696, -68.99],\n",
       "                {&quot;bubblingMouseEvents&quot;: true, &quot;color&quot;: &quot;red&quot;, &quot;dashArray&quot;: null, &quot;dashOffset&quot;: null, &quot;fill&quot;: true, &quot;fillColor&quot;: &quot;indigo&quot;, &quot;fillOpacity&quot;: 0.2, &quot;fillRule&quot;: &quot;evenodd&quot;, &quot;lineCap&quot;: &quot;round&quot;, &quot;lineJoin&quot;: &quot;round&quot;, &quot;opacity&quot;: 1.0, &quot;radius&quot;: 509999.99999999994, &quot;stroke&quot;: true, &quot;weight&quot;: 3}\n",
       "            ).addTo(map_6d1e22dda92088ca39d2cd125c89418f);\n",
       "        \n",
       "    \n",
       "            circle_8fa6aae7215ecf26e8685dbbdbc44f52.bindTooltip(\n",
       "                `&lt;div&gt;\n",
       "                     &lt;div style=&#x27;margin: 0; background-color: black; color: white;&#x27;&gt;&lt;h4 style=&#x27;text-align:center;font-weight: bold&#x27;&gt;Netherlands&lt;/h4&gt;&lt;hr style=&#x27;margin:10px;color: white;&#x27;&gt;&lt;ul style=&#x27;color: white;;list-style-type:circle;align-item:left;padding-left:20px;padding-right:20px&#x27;&gt;&lt;li&gt;Confirmed: 45986&lt;/li&gt;&lt;li&gt;Deaths:   282&lt;/li&gt;&lt;li&gt;Death Rate: 0.61&lt;/li&gt;&lt;/ul&gt;&lt;/div&gt;\n",
       "                 &lt;/div&gt;`,\n",
       "                {&quot;sticky&quot;: true}\n",
       "            );\n",
       "        \n",
       "    \n",
       "            var circle_801badbda07b6c0a6c74b8a1b0627359 = L.circle(\n",
       "                [18.0425, -63.0548],\n",
       "                {&quot;bubblingMouseEvents&quot;: true, &quot;color&quot;: &quot;red&quot;, &quot;dashArray&quot;: null, &quot;dashOffset&quot;: null, &quot;fill&quot;: true, &quot;fillColor&quot;: &quot;indigo&quot;, &quot;fillOpacity&quot;: 0.2, &quot;fillRule&quot;: &quot;evenodd&quot;, &quot;lineCap&quot;: &quot;round&quot;, &quot;lineJoin&quot;: &quot;round&quot;, &quot;opacity&quot;: 1.0, &quot;radius&quot;: 459999.99999999994, &quot;stroke&quot;: true, &quot;weight&quot;: 3}\n",
       "            ).addTo(map_6d1e22dda92088ca39d2cd125c89418f);\n",
       "        \n",
       "    \n",
       "            circle_801badbda07b6c0a6c74b8a1b0627359.bindTooltip(\n",
       "                `&lt;div&gt;\n",
       "                     &lt;div style=&#x27;margin: 0; background-color: black; color: white;&#x27;&gt;&lt;h4 style=&#x27;text-align:center;font-weight: bold&#x27;&gt;Netherlands&lt;/h4&gt;&lt;hr style=&#x27;margin:10px;color: white;&#x27;&gt;&lt;ul style=&#x27;color: white;;list-style-type:circle;align-item:left;padding-left:20px;padding-right:20px&#x27;&gt;&lt;li&gt;Confirmed: 11020&lt;/li&gt;&lt;li&gt;Deaths:   41&lt;/li&gt;&lt;li&gt;Death Rate: 0.37&lt;/li&gt;&lt;/ul&gt;&lt;/div&gt;\n",
       "                 &lt;/div&gt;`,\n",
       "                {&quot;sticky&quot;: true}\n",
       "            );\n",
       "        \n",
       "    \n",
       "            var circle_4713f71d5f723ab0af9bebf9de0e4446 = L.circle(\n",
       "                [52.1326, 5.2913],\n",
       "                {&quot;bubblingMouseEvents&quot;: true, &quot;color&quot;: &quot;red&quot;, &quot;dashArray&quot;: null, &quot;dashOffset&quot;: null, &quot;fill&quot;: true, &quot;fillColor&quot;: &quot;indigo&quot;, &quot;fillOpacity&quot;: 0.2, &quot;fillRule&quot;: &quot;evenodd&quot;, &quot;lineCap&quot;: &quot;round&quot;, &quot;lineJoin&quot;: &quot;round&quot;, &quot;opacity&quot;: 1.0, &quot;radius&quot;: 760000.0, &quot;stroke&quot;: true, &quot;weight&quot;: 3}\n",
       "            ).addTo(map_6d1e22dda92088ca39d2cd125c89418f);\n",
       "        \n",
       "    \n",
       "            circle_4713f71d5f723ab0af9bebf9de0e4446.bindTooltip(\n",
       "                `&lt;div&gt;\n",
       "                     &lt;div style=&#x27;margin: 0; background-color: black; color: white;&#x27;&gt;&lt;h4 style=&#x27;text-align:center;font-weight: bold&#x27;&gt;Netherlands&lt;/h4&gt;&lt;hr style=&#x27;margin:10px;color: white;&#x27;&gt;&lt;ul style=&#x27;color: white;;list-style-type:circle;align-item:left;padding-left:20px;padding-right:20px&#x27;&gt;&lt;li&gt;Confirmed: 8599981&lt;/li&gt;&lt;li&gt;Deaths:   301&lt;/li&gt;&lt;li&gt;Death Rate: 0.0&lt;/li&gt;&lt;/ul&gt;&lt;/div&gt;\n",
       "                 &lt;/div&gt;`,\n",
       "                {&quot;sticky&quot;: true}\n",
       "            );\n",
       "        \n",
       "    \n",
       "            var circle_1bbd4892f5d4b7bd6ac24989278316b8 = L.circle(\n",
       "                [-21.2367, -159.7777],\n",
       "                {&quot;bubblingMouseEvents&quot;: true, &quot;color&quot;: &quot;red&quot;, &quot;dashArray&quot;: null, &quot;dashOffset&quot;: null, &quot;fill&quot;: true, &quot;fillColor&quot;: &quot;indigo&quot;, &quot;fillOpacity&quot;: 0.2, &quot;fillRule&quot;: &quot;evenodd&quot;, &quot;lineCap&quot;: &quot;round&quot;, &quot;lineJoin&quot;: &quot;round&quot;, &quot;opacity&quot;: 1.0, &quot;radius&quot;: 409999.99999999994, &quot;stroke&quot;: true, &quot;weight&quot;: 3}\n",
       "            ).addTo(map_6d1e22dda92088ca39d2cd125c89418f);\n",
       "        \n",
       "    \n",
       "            circle_1bbd4892f5d4b7bd6ac24989278316b8.bindTooltip(\n",
       "                `&lt;div&gt;\n",
       "                     &lt;div style=&#x27;margin: 0; background-color: black; color: white;&#x27;&gt;&lt;h4 style=&#x27;text-align:center;font-weight: bold&#x27;&gt;New Zealand&lt;/h4&gt;&lt;hr style=&#x27;margin:10px;color: white;&#x27;&gt;&lt;ul style=&#x27;color: white;;list-style-type:circle;align-item:left;padding-left:20px;padding-right:20px&#x27;&gt;&lt;li&gt;Confirmed: 7031&lt;/li&gt;&lt;li&gt;Deaths:   91&lt;/li&gt;&lt;li&gt;Death Rate: 1.29&lt;/li&gt;&lt;/ul&gt;&lt;/div&gt;\n",
       "                 &lt;/div&gt;`,\n",
       "                {&quot;sticky&quot;: true}\n",
       "            );\n",
       "        \n",
       "    \n",
       "            var circle_fcfda23fc19ea4752789d31d7551e413 = L.circle(\n",
       "                [-19.0544, -169.8672],\n",
       "                {&quot;bubblingMouseEvents&quot;: true, &quot;color&quot;: &quot;red&quot;, &quot;dashArray&quot;: null, &quot;dashOffset&quot;: null, &quot;fill&quot;: true, &quot;fillColor&quot;: &quot;indigo&quot;, &quot;fillOpacity&quot;: 0.2, &quot;fillRule&quot;: &quot;evenodd&quot;, &quot;lineCap&quot;: &quot;round&quot;, &quot;lineJoin&quot;: &quot;round&quot;, &quot;opacity&quot;: 1.0, &quot;radius&quot;: 310000.0, &quot;stroke&quot;: true, &quot;weight&quot;: 3}\n",
       "            ).addTo(map_6d1e22dda92088ca39d2cd125c89418f);\n",
       "        \n",
       "    \n",
       "            circle_fcfda23fc19ea4752789d31d7551e413.bindTooltip(\n",
       "                `&lt;div&gt;\n",
       "                     &lt;div style=&#x27;margin: 0; background-color: black; color: white;&#x27;&gt;&lt;h4 style=&#x27;text-align:center;font-weight: bold&#x27;&gt;New Zealand&lt;/h4&gt;&lt;hr style=&#x27;margin:10px;color: white;&#x27;&gt;&lt;ul style=&#x27;color: white;;list-style-type:circle;align-item:left;padding-left:20px;padding-right:20px&#x27;&gt;&lt;li&gt;Confirmed: 792&lt;/li&gt;&lt;li&gt;Deaths:   22990&lt;/li&gt;&lt;li&gt;Death Rate: 2899.12&lt;/li&gt;&lt;/ul&gt;&lt;/div&gt;\n",
       "                 &lt;/div&gt;`,\n",
       "                {&quot;sticky&quot;: true}\n",
       "            );\n",
       "        \n",
       "    \n",
       "            var circle_8200bfb00fbeb4b5572362e88a4a3a9d = L.circle(\n",
       "                [-40.9006, 174.886],\n",
       "                {&quot;bubblingMouseEvents&quot;: true, &quot;color&quot;: &quot;red&quot;, &quot;dashArray&quot;: null, &quot;dashOffset&quot;: null, &quot;fill&quot;: true, &quot;fillColor&quot;: &quot;indigo&quot;, &quot;fillOpacity&quot;: 0.2, &quot;fillRule&quot;: &quot;evenodd&quot;, &quot;lineCap&quot;: &quot;round&quot;, &quot;lineJoin&quot;: &quot;round&quot;, &quot;opacity&quot;: 1.0, &quot;radius&quot;: 710000.0, &quot;stroke&quot;: true, &quot;weight&quot;: 3}\n",
       "            ).addTo(map_6d1e22dda92088ca39d2cd125c89418f);\n",
       "        \n",
       "    \n",
       "            circle_8200bfb00fbeb4b5572362e88a4a3a9d.bindTooltip(\n",
       "                `&lt;div&gt;\n",
       "                     &lt;div style=&#x27;margin: 0; background-color: black; color: white;&#x27;&gt;&lt;h4 style=&#x27;text-align:center;font-weight: bold&#x27;&gt;New Zealand&lt;/h4&gt;&lt;hr style=&#x27;margin:10px;color: white;&#x27;&gt;&lt;ul style=&#x27;color: white;;list-style-type:circle;align-item:left;padding-left:20px;padding-right:20px&#x27;&gt;&lt;li&gt;Confirmed: 2228291&lt;/li&gt;&lt;li&gt;Deaths:   2&lt;/li&gt;&lt;li&gt;Death Rate: 0.0&lt;/li&gt;&lt;/ul&gt;&lt;/div&gt;\n",
       "                 &lt;/div&gt;`,\n",
       "                {&quot;sticky&quot;: true}\n",
       "            );\n",
       "        \n",
       "    \n",
       "            var circle_07bf1cc5614a9dd74f76f5a85a64e3c1 = L.circle(\n",
       "                [12.865416, -85.207229],\n",
       "                {&quot;bubblingMouseEvents&quot;: true, &quot;color&quot;: &quot;red&quot;, &quot;dashArray&quot;: null, &quot;dashOffset&quot;: null, &quot;fill&quot;: true, &quot;fillColor&quot;: &quot;indigo&quot;, &quot;fillOpacity&quot;: 0.2, &quot;fillRule&quot;: &quot;evenodd&quot;, &quot;lineCap&quot;: &quot;round&quot;, &quot;lineJoin&quot;: &quot;round&quot;, &quot;opacity&quot;: 1.0, &quot;radius&quot;: 459999.99999999994, &quot;stroke&quot;: true, &quot;weight&quot;: 3}\n",
       "            ).addTo(map_6d1e22dda92088ca39d2cd125c89418f);\n",
       "        \n",
       "    \n",
       "            circle_07bf1cc5614a9dd74f76f5a85a64e3c1.bindTooltip(\n",
       "                `&lt;div&gt;\n",
       "                     &lt;div style=&#x27;margin: 0; background-color: black; color: white;&#x27;&gt;&lt;h4 style=&#x27;text-align:center;font-weight: bold&#x27;&gt;Nicaragua&lt;/h4&gt;&lt;hr style=&#x27;margin:10px;color: white;&#x27;&gt;&lt;ul style=&#x27;color: white;;list-style-type:circle;align-item:left;padding-left:20px;padding-right:20px&#x27;&gt;&lt;li&gt;Confirmed: 15655&lt;/li&gt;&lt;li&gt;Deaths:   0&lt;/li&gt;&lt;li&gt;Death Rate: 0.0&lt;/li&gt;&lt;/ul&gt;&lt;/div&gt;\n",
       "                 &lt;/div&gt;`,\n",
       "                {&quot;sticky&quot;: true}\n",
       "            );\n",
       "        \n",
       "    \n",
       "            var circle_eeec4803163091bfa301c228059dccf7 = L.circle(\n",
       "                [17.607789, 8.081666],\n",
       "                {&quot;bubblingMouseEvents&quot;: true, &quot;color&quot;: &quot;red&quot;, &quot;dashArray&quot;: null, &quot;dashOffset&quot;: null, &quot;fill&quot;: true, &quot;fillColor&quot;: &quot;indigo&quot;, &quot;fillOpacity&quot;: 0.2, &quot;fillRule&quot;: &quot;evenodd&quot;, &quot;lineCap&quot;: &quot;round&quot;, &quot;lineJoin&quot;: &quot;round&quot;, &quot;opacity&quot;: 1.0, &quot;radius&quot;: 459999.99999999994, &quot;stroke&quot;: true, &quot;weight&quot;: 3}\n",
       "            ).addTo(map_6d1e22dda92088ca39d2cd125c89418f);\n",
       "        \n",
       "    \n",
       "            circle_eeec4803163091bfa301c228059dccf7.bindTooltip(\n",
       "                `&lt;div&gt;\n",
       "                     &lt;div style=&#x27;margin: 0; background-color: black; color: white;&#x27;&gt;&lt;h4 style=&#x27;text-align:center;font-weight: bold&#x27;&gt;Niger&lt;/h4&gt;&lt;hr style=&#x27;margin:10px;color: white;&#x27;&gt;&lt;ul style=&#x27;color: white;;list-style-type:circle;align-item:left;padding-left:20px;padding-right:20px&#x27;&gt;&lt;li&gt;Confirmed: 9508&lt;/li&gt;&lt;li&gt;Deaths:   2548&lt;/li&gt;&lt;li&gt;Death Rate: 26.8&lt;/li&gt;&lt;/ul&gt;&lt;/div&gt;\n",
       "                 &lt;/div&gt;`,\n",
       "                {&quot;sticky&quot;: true}\n",
       "            );\n",
       "        \n",
       "    \n",
       "            var circle_17ebdede2200df226bbe8cf0f1649ca4 = L.circle(\n",
       "                [9.082, 8.6753],\n",
       "                {&quot;bubblingMouseEvents&quot;: true, &quot;color&quot;: &quot;red&quot;, &quot;dashArray&quot;: null, &quot;dashOffset&quot;: null, &quot;fill&quot;: true, &quot;fillColor&quot;: &quot;indigo&quot;, &quot;fillOpacity&quot;: 0.2, &quot;fillRule&quot;: &quot;evenodd&quot;, &quot;lineCap&quot;: &quot;round&quot;, &quot;lineJoin&quot;: &quot;round&quot;, &quot;opacity&quot;: 1.0, &quot;radius&quot;: 610000.0, &quot;stroke&quot;: true, &quot;weight&quot;: 3}\n",
       "            ).addTo(map_6d1e22dda92088ca39d2cd125c89418f);\n",
       "        \n",
       "    \n",
       "            circle_17ebdede2200df226bbe8cf0f1649ca4.bindTooltip(\n",
       "                `&lt;div&gt;\n",
       "                     &lt;div style=&#x27;margin: 0; background-color: black; color: white;&#x27;&gt;&lt;h4 style=&#x27;text-align:center;font-weight: bold&#x27;&gt;Nigeria&lt;/h4&gt;&lt;hr style=&#x27;margin:10px;color: white;&#x27;&gt;&lt;ul style=&#x27;color: white;;list-style-type:circle;align-item:left;padding-left:20px;padding-right:20px&#x27;&gt;&lt;li&gt;Confirmed: 266598&lt;/li&gt;&lt;li&gt;Deaths:   245&lt;/li&gt;&lt;li&gt;Death Rate: 0.09&lt;/li&gt;&lt;/ul&gt;&lt;/div&gt;\n",
       "                 &lt;/div&gt;`,\n",
       "                {&quot;sticky&quot;: true}\n",
       "            );\n",
       "        \n",
       "    \n",
       "            var circle_ccfceb596b1ddbc7031d41fc2862fa7e = L.circle(\n",
       "                [41.6086, 21.7453],\n",
       "                {&quot;bubblingMouseEvents&quot;: true, &quot;color&quot;: &quot;red&quot;, &quot;dashArray&quot;: null, &quot;dashOffset&quot;: null, &quot;fill&quot;: true, &quot;fillColor&quot;: &quot;indigo&quot;, &quot;fillOpacity&quot;: 0.2, &quot;fillRule&quot;: &quot;evenodd&quot;, &quot;lineCap&quot;: &quot;round&quot;, &quot;lineJoin&quot;: &quot;round&quot;, &quot;opacity&quot;: 1.0, &quot;radius&quot;: 610000.0, &quot;stroke&quot;: true, &quot;weight&quot;: 3}\n",
       "            ).addTo(map_6d1e22dda92088ca39d2cd125c89418f);\n",
       "        \n",
       "    \n",
       "            circle_ccfceb596b1ddbc7031d41fc2862fa7e.bindTooltip(\n",
       "                `&lt;div&gt;\n",
       "                     &lt;div style=&#x27;margin: 0; background-color: black; color: white;&#x27;&gt;&lt;h4 style=&#x27;text-align:center;font-weight: bold&#x27;&gt;North Macedonia&lt;/h4&gt;&lt;hr style=&#x27;margin:10px;color: white;&#x27;&gt;&lt;ul style=&#x27;color: white;;list-style-type:circle;align-item:left;padding-left:20px;padding-right:20px&#x27;&gt;&lt;li&gt;Confirmed: 346852&lt;/li&gt;&lt;li&gt;Deaths:   315&lt;/li&gt;&lt;li&gt;Death Rate: 0.09&lt;/li&gt;&lt;/ul&gt;&lt;/div&gt;\n",
       "                 &lt;/div&gt;`,\n",
       "                {&quot;sticky&quot;: true}\n",
       "            );\n",
       "        \n",
       "    \n",
       "            var circle_c692d95bde70979f6a9d1fca68e29d41 = L.circle(\n",
       "                [60.472, 8.4689],\n",
       "                {&quot;bubblingMouseEvents&quot;: true, &quot;color&quot;: &quot;red&quot;, &quot;dashArray&quot;: null, &quot;dashOffset&quot;: null, &quot;fill&quot;: true, &quot;fillColor&quot;: &quot;indigo&quot;, &quot;fillOpacity&quot;: 0.2, &quot;fillRule&quot;: &quot;evenodd&quot;, &quot;lineCap&quot;: &quot;round&quot;, &quot;lineJoin&quot;: &quot;round&quot;, &quot;opacity&quot;: 1.0, &quot;radius&quot;: 710000.0, &quot;stroke&quot;: true, &quot;weight&quot;: 3}\n",
       "            ).addTo(map_6d1e22dda92088ca39d2cd125c89418f);\n",
       "        \n",
       "    \n",
       "            circle_c692d95bde70979f6a9d1fca68e29d41.bindTooltip(\n",
       "                `&lt;div&gt;\n",
       "                     &lt;div style=&#x27;margin: 0; background-color: black; color: white;&#x27;&gt;&lt;h4 style=&#x27;text-align:center;font-weight: bold&#x27;&gt;Norway&lt;/h4&gt;&lt;hr style=&#x27;margin:10px;color: white;&#x27;&gt;&lt;ul style=&#x27;color: white;;list-style-type:circle;align-item:left;padding-left:20px;padding-right:20px&#x27;&gt;&lt;li&gt;Confirmed: 1479506&lt;/li&gt;&lt;li&gt;Deaths:   3155&lt;/li&gt;&lt;li&gt;Death Rate: 0.21&lt;/li&gt;&lt;/ul&gt;&lt;/div&gt;\n",
       "                 &lt;/div&gt;`,\n",
       "                {&quot;sticky&quot;: true}\n",
       "            );\n",
       "        \n",
       "    \n",
       "            var circle_4c197f83c8198f820d780e9917ebd536 = L.circle(\n",
       "                [21.512583, 55.923255],\n",
       "                {&quot;bubblingMouseEvents&quot;: true, &quot;color&quot;: &quot;red&quot;, &quot;dashArray&quot;: null, &quot;dashOffset&quot;: null, &quot;fill&quot;: true, &quot;fillColor&quot;: &quot;indigo&quot;, &quot;fillOpacity&quot;: 0.2, &quot;fillRule&quot;: &quot;evenodd&quot;, &quot;lineCap&quot;: &quot;round&quot;, &quot;lineJoin&quot;: &quot;round&quot;, &quot;opacity&quot;: 1.0, &quot;radius&quot;: 610000.0, &quot;stroke&quot;: true, &quot;weight&quot;: 3}\n",
       "            ).addTo(map_6d1e22dda92088ca39d2cd125c89418f);\n",
       "        \n",
       "    \n",
       "            circle_4c197f83c8198f820d780e9917ebd536.bindTooltip(\n",
       "                `&lt;div&gt;\n",
       "                     &lt;div style=&#x27;margin: 0; background-color: black; color: white;&#x27;&gt;&lt;h4 style=&#x27;text-align:center;font-weight: bold&#x27;&gt;Oman&lt;/h4&gt;&lt;hr style=&#x27;margin:10px;color: white;&#x27;&gt;&lt;ul style=&#x27;color: white;;list-style-type:circle;align-item:left;padding-left:20px;padding-right:20px&#x27;&gt;&lt;li&gt;Confirmed: 399449&lt;/li&gt;&lt;li&gt;Deaths:   9662&lt;/li&gt;&lt;li&gt;Death Rate: 2.42&lt;/li&gt;&lt;/ul&gt;&lt;/div&gt;\n",
       "                 &lt;/div&gt;`,\n",
       "                {&quot;sticky&quot;: true}\n",
       "            );\n",
       "        \n",
       "    \n",
       "            var circle_0d981d6c977788d51ad2bbde6e6df754 = L.circle(\n",
       "                [30.3753, 69.3451],\n",
       "                {&quot;bubblingMouseEvents&quot;: true, &quot;color&quot;: &quot;red&quot;, &quot;dashArray&quot;: null, &quot;dashOffset&quot;: null, &quot;fill&quot;: true, &quot;fillColor&quot;: &quot;indigo&quot;, &quot;fillOpacity&quot;: 0.2, &quot;fillRule&quot;: &quot;evenodd&quot;, &quot;lineCap&quot;: &quot;round&quot;, &quot;lineJoin&quot;: &quot;round&quot;, &quot;opacity&quot;: 1.0, &quot;radius&quot;: 710000.0, &quot;stroke&quot;: true, &quot;weight&quot;: 3}\n",
       "            ).addTo(map_6d1e22dda92088ca39d2cd125c89418f);\n",
       "        \n",
       "    \n",
       "            circle_0d981d6c977788d51ad2bbde6e6df754.bindTooltip(\n",
       "                `&lt;div&gt;\n",
       "                     &lt;div style=&#x27;margin: 0; background-color: black; color: white;&#x27;&gt;&lt;h4 style=&#x27;text-align:center;font-weight: bold&#x27;&gt;Pakistan&lt;/h4&gt;&lt;hr style=&#x27;margin:10px;color: white;&#x27;&gt;&lt;ul style=&#x27;color: white;;list-style-type:circle;align-item:left;padding-left:20px;padding-right:20px&#x27;&gt;&lt;li&gt;Confirmed: 1577411&lt;/li&gt;&lt;li&gt;Deaths:   5213&lt;/li&gt;&lt;li&gt;Death Rate: 0.33&lt;/li&gt;&lt;/ul&gt;&lt;/div&gt;\n",
       "                 &lt;/div&gt;`,\n",
       "                {&quot;sticky&quot;: true}\n",
       "            );\n",
       "        \n",
       "    \n",
       "            var circle_f0101a32d15c8c8de64bb764777f5ef9 = L.circle(\n",
       "                [7.515, 134.5825],\n",
       "                {&quot;bubblingMouseEvents&quot;: true, &quot;color&quot;: &quot;red&quot;, &quot;dashArray&quot;: null, &quot;dashOffset&quot;: null, &quot;fill&quot;: true, &quot;fillColor&quot;: &quot;indigo&quot;, &quot;fillOpacity&quot;: 0.2, &quot;fillRule&quot;: &quot;evenodd&quot;, &quot;lineCap&quot;: &quot;round&quot;, &quot;lineJoin&quot;: &quot;round&quot;, &quot;opacity&quot;: 1.0, &quot;radius&quot;: 409999.99999999994, &quot;stroke&quot;: true, &quot;weight&quot;: 3}\n",
       "            ).addTo(map_6d1e22dda92088ca39d2cd125c89418f);\n",
       "        \n",
       "    \n",
       "            circle_f0101a32d15c8c8de64bb764777f5ef9.bindTooltip(\n",
       "                `&lt;div&gt;\n",
       "                     &lt;div style=&#x27;margin: 0; background-color: black; color: white;&#x27;&gt;&lt;h4 style=&#x27;text-align:center;font-weight: bold&#x27;&gt;Palau&lt;/h4&gt;&lt;hr style=&#x27;margin:10px;color: white;&#x27;&gt;&lt;ul style=&#x27;color: white;;list-style-type:circle;align-item:left;padding-left:20px;padding-right:20px&#x27;&gt;&lt;li&gt;Confirmed: 5991&lt;/li&gt;&lt;li&gt;Deaths:   4628&lt;/li&gt;&lt;li&gt;Death Rate: 77.24&lt;/li&gt;&lt;/ul&gt;&lt;/div&gt;\n",
       "                 &lt;/div&gt;`,\n",
       "                {&quot;sticky&quot;: true}\n",
       "            );\n",
       "        \n",
       "    \n",
       "            var circle_0149958f1b6a5f0595f4785ef9199e08 = L.circle(\n",
       "                [8.538, -80.7821],\n",
       "                {&quot;bubblingMouseEvents&quot;: true, &quot;color&quot;: &quot;red&quot;, &quot;dashArray&quot;: null, &quot;dashOffset&quot;: null, &quot;fill&quot;: true, &quot;fillColor&quot;: &quot;indigo&quot;, &quot;fillOpacity&quot;: 0.2, &quot;fillRule&quot;: &quot;evenodd&quot;, &quot;lineCap&quot;: &quot;round&quot;, &quot;lineJoin&quot;: &quot;round&quot;, &quot;opacity&quot;: 1.0, &quot;radius&quot;: 660000.0, &quot;stroke&quot;: true, &quot;weight&quot;: 3}\n",
       "            ).addTo(map_6d1e22dda92088ca39d2cd125c89418f);\n",
       "        \n",
       "    \n",
       "            circle_0149958f1b6a5f0595f4785ef9199e08.bindTooltip(\n",
       "                `&lt;div&gt;\n",
       "                     &lt;div style=&#x27;margin: 0; background-color: black; color: white;&#x27;&gt;&lt;h4 style=&#x27;text-align:center;font-weight: bold&#x27;&gt;Panama&lt;/h4&gt;&lt;hr style=&#x27;margin:10px;color: white;&#x27;&gt;&lt;ul style=&#x27;color: white;;list-style-type:circle;align-item:left;padding-left:20px;padding-right:20px&#x27;&gt;&lt;li&gt;Confirmed: 1031731&lt;/li&gt;&lt;li&gt;Deaths:   30644&lt;/li&gt;&lt;li&gt;Death Rate: 2.97&lt;/li&gt;&lt;/ul&gt;&lt;/div&gt;\n",
       "                 &lt;/div&gt;`,\n",
       "                {&quot;sticky&quot;: true}\n",
       "            );\n",
       "        \n",
       "    \n",
       "            var circle_edd5018f1fdfb65f83b8dd6d23cf3d84 = L.circle(\n",
       "                [-6.314993, 143.95555],\n",
       "                {&quot;bubblingMouseEvents&quot;: true, &quot;color&quot;: &quot;red&quot;, &quot;dashArray&quot;: null, &quot;dashOffset&quot;: null, &quot;fill&quot;: true, &quot;fillColor&quot;: &quot;indigo&quot;, &quot;fillOpacity&quot;: 0.2, &quot;fillRule&quot;: &quot;evenodd&quot;, &quot;lineCap&quot;: &quot;round&quot;, &quot;lineJoin&quot;: &quot;round&quot;, &quot;opacity&quot;: 1.0, &quot;radius&quot;: 509999.99999999994, &quot;stroke&quot;: true, &quot;weight&quot;: 3}\n",
       "            ).addTo(map_6d1e22dda92088ca39d2cd125c89418f);\n",
       "        \n",
       "    \n",
       "            circle_edd5018f1fdfb65f83b8dd6d23cf3d84.bindTooltip(\n",
       "                `&lt;div&gt;\n",
       "                     &lt;div style=&#x27;margin: 0; background-color: black; color: white;&#x27;&gt;&lt;h4 style=&#x27;text-align:center;font-weight: bold&#x27;&gt;Papua New Guinea&lt;/h4&gt;&lt;hr style=&#x27;margin:10px;color: white;&#x27;&gt;&lt;ul style=&#x27;color: white;;list-style-type:circle;align-item:left;padding-left:20px;padding-right:20px&#x27;&gt;&lt;li&gt;Confirmed: 46825&lt;/li&gt;&lt;li&gt;Deaths:   9&lt;/li&gt;&lt;li&gt;Death Rate: 0.02&lt;/li&gt;&lt;/ul&gt;&lt;/div&gt;\n",
       "                 &lt;/div&gt;`,\n",
       "                {&quot;sticky&quot;: true}\n",
       "            );\n",
       "        \n",
       "    \n",
       "            var circle_82b0ab033ce9543a51c267124744273a = L.circle(\n",
       "                [-23.4425, -58.4438],\n",
       "                {&quot;bubblingMouseEvents&quot;: true, &quot;color&quot;: &quot;red&quot;, &quot;dashArray&quot;: null, &quot;dashOffset&quot;: null, &quot;fill&quot;: true, &quot;fillColor&quot;: &quot;indigo&quot;, &quot;fillOpacity&quot;: 0.2, &quot;fillRule&quot;: &quot;evenodd&quot;, &quot;lineCap&quot;: &quot;round&quot;, &quot;lineJoin&quot;: &quot;round&quot;, &quot;opacity&quot;: 1.0, &quot;radius&quot;: 660000.0, &quot;stroke&quot;: true, &quot;weight&quot;: 3}\n",
       "            ).addTo(map_6d1e22dda92088ca39d2cd125c89418f);\n",
       "        \n",
       "    \n",
       "            circle_82b0ab033ce9543a51c267124744273a.bindTooltip(\n",
       "                `&lt;div&gt;\n",
       "                     &lt;div style=&#x27;margin: 0; background-color: black; color: white;&#x27;&gt;&lt;h4 style=&#x27;text-align:center;font-weight: bold&#x27;&gt;Paraguay&lt;/h4&gt;&lt;hr style=&#x27;margin:10px;color: white;&#x27;&gt;&lt;ul style=&#x27;color: white;;list-style-type:circle;align-item:left;padding-left:20px;padding-right:20px&#x27;&gt;&lt;li&gt;Confirmed: 808401&lt;/li&gt;&lt;li&gt;Deaths:   8609&lt;/li&gt;&lt;li&gt;Death Rate: 1.06&lt;/li&gt;&lt;/ul&gt;&lt;/div&gt;\n",
       "                 &lt;/div&gt;`,\n",
       "                {&quot;sticky&quot;: true}\n",
       "            );\n",
       "        \n",
       "    \n",
       "            var circle_af7848eb48d17a9c5478531dac15a140 = L.circle(\n",
       "                [-9.19, -75.0152],\n",
       "                {&quot;bubblingMouseEvents&quot;: true, &quot;color&quot;: &quot;red&quot;, &quot;dashArray&quot;: null, &quot;dashOffset&quot;: null, &quot;fill&quot;: true, &quot;fillColor&quot;: &quot;indigo&quot;, &quot;fillOpacity&quot;: 0.2, &quot;fillRule&quot;: &quot;evenodd&quot;, &quot;lineCap&quot;: &quot;round&quot;, &quot;lineJoin&quot;: &quot;round&quot;, &quot;opacity&quot;: 1.0, &quot;radius&quot;: 760000.0, &quot;stroke&quot;: true, &quot;weight&quot;: 3}\n",
       "            ).addTo(map_6d1e22dda92088ca39d2cd125c89418f);\n",
       "        \n",
       "    \n",
       "            circle_af7848eb48d17a9c5478531dac15a140.bindTooltip(\n",
       "                `&lt;div&gt;\n",
       "                     &lt;div style=&#x27;margin: 0; background-color: black; color: white;&#x27;&gt;&lt;h4 style=&#x27;text-align:center;font-weight: bold&#x27;&gt;Peru&lt;/h4&gt;&lt;hr style=&#x27;margin:10px;color: white;&#x27;&gt;&lt;ul style=&#x27;color: white;;list-style-type:circle;align-item:left;padding-left:20px;padding-right:20px&#x27;&gt;&lt;li&gt;Confirmed: 4487553&lt;/li&gt;&lt;li&gt;Deaths:   670&lt;/li&gt;&lt;li&gt;Death Rate: 0.01&lt;/li&gt;&lt;/ul&gt;&lt;/div&gt;\n",
       "                 &lt;/div&gt;`,\n",
       "                {&quot;sticky&quot;: true}\n",
       "            );\n",
       "        \n",
       "    \n",
       "            var circle_b426d93d79e030c108027f10e6233b8d = L.circle(\n",
       "                [12.879721, 121.774017],\n",
       "                {&quot;bubblingMouseEvents&quot;: true, &quot;color&quot;: &quot;red&quot;, &quot;dashArray&quot;: null, &quot;dashOffset&quot;: null, &quot;fill&quot;: true, &quot;fillColor&quot;: &quot;indigo&quot;, &quot;fillOpacity&quot;: 0.2, &quot;fillRule&quot;: &quot;evenodd&quot;, &quot;lineCap&quot;: &quot;round&quot;, &quot;lineJoin&quot;: &quot;round&quot;, &quot;opacity&quot;: 1.0, &quot;radius&quot;: 760000.0, &quot;stroke&quot;: true, &quot;weight&quot;: 3}\n",
       "            ).addTo(map_6d1e22dda92088ca39d2cd125c89418f);\n",
       "        \n",
       "    \n",
       "            circle_b426d93d79e030c108027f10e6233b8d.bindTooltip(\n",
       "                `&lt;div&gt;\n",
       "                     &lt;div style=&#x27;margin: 0; background-color: black; color: white;&#x27;&gt;&lt;h4 style=&#x27;text-align:center;font-weight: bold&#x27;&gt;Philippines&lt;/h4&gt;&lt;hr style=&#x27;margin:10px;color: white;&#x27;&gt;&lt;ul style=&#x27;color: white;;list-style-type:circle;align-item:left;padding-left:20px;padding-right:20px&#x27;&gt;&lt;li&gt;Confirmed: 4077452&lt;/li&gt;&lt;li&gt;Deaths:   19878&lt;/li&gt;&lt;li&gt;Death Rate: 0.49&lt;/li&gt;&lt;/ul&gt;&lt;/div&gt;\n",
       "                 &lt;/div&gt;`,\n",
       "                {&quot;sticky&quot;: true}\n",
       "            );\n",
       "        \n",
       "    \n",
       "            var circle_d952cf725053676c71bcacb9695387b8 = L.circle(\n",
       "                [51.9194, 19.1451],\n",
       "                {&quot;bubblingMouseEvents&quot;: true, &quot;color&quot;: &quot;red&quot;, &quot;dashArray&quot;: null, &quot;dashOffset&quot;: null, &quot;fill&quot;: true, &quot;fillColor&quot;: &quot;indigo&quot;, &quot;fillOpacity&quot;: 0.2, &quot;fillRule&quot;: &quot;evenodd&quot;, &quot;lineCap&quot;: &quot;round&quot;, &quot;lineJoin&quot;: &quot;round&quot;, &quot;opacity&quot;: 1.0, &quot;radius&quot;: 760000.0, &quot;stroke&quot;: true, &quot;weight&quot;: 3}\n",
       "            ).addTo(map_6d1e22dda92088ca39d2cd125c89418f);\n",
       "        \n",
       "    \n",
       "            circle_d952cf725053676c71bcacb9695387b8.bindTooltip(\n",
       "                `&lt;div&gt;\n",
       "                     &lt;div style=&#x27;margin: 0; background-color: black; color: white;&#x27;&gt;&lt;h4 style=&#x27;text-align:center;font-weight: bold&#x27;&gt;Poland&lt;/h4&gt;&lt;hr style=&#x27;margin:10px;color: white;&#x27;&gt;&lt;ul style=&#x27;color: white;;list-style-type:circle;align-item:left;padding-left:20px;padding-right:20px&#x27;&gt;&lt;li&gt;Confirmed: 6444960&lt;/li&gt;&lt;li&gt;Deaths:   219539&lt;/li&gt;&lt;li&gt;Death Rate: 3.41&lt;/li&gt;&lt;/ul&gt;&lt;/div&gt;\n",
       "                 &lt;/div&gt;`,\n",
       "                {&quot;sticky&quot;: true}\n",
       "            );\n",
       "        \n",
       "    \n",
       "            var circle_68da6c5e405b4d2cf6f5b8ca93274309 = L.circle(\n",
       "                [39.3999, -8.2245],\n",
       "                {&quot;bubblingMouseEvents&quot;: true, &quot;color&quot;: &quot;red&quot;, &quot;dashArray&quot;: null, &quot;dashOffset&quot;: null, &quot;fill&quot;: true, &quot;fillColor&quot;: &quot;indigo&quot;, &quot;fillOpacity&quot;: 0.2, &quot;fillRule&quot;: &quot;evenodd&quot;, &quot;lineCap&quot;: &quot;round&quot;, &quot;lineJoin&quot;: &quot;round&quot;, &quot;opacity&quot;: 1.0, &quot;radius&quot;: 760000.0, &quot;stroke&quot;: true, &quot;weight&quot;: 3}\n",
       "            ).addTo(map_6d1e22dda92088ca39d2cd125c89418f);\n",
       "        \n",
       "    \n",
       "            circle_68da6c5e405b4d2cf6f5b8ca93274309.bindTooltip(\n",
       "                `&lt;div&gt;\n",
       "                     &lt;div style=&#x27;margin: 0; background-color: black; color: white;&#x27;&gt;&lt;h4 style=&#x27;text-align:center;font-weight: bold&#x27;&gt;Portugal&lt;/h4&gt;&lt;hr style=&#x27;margin:10px;color: white;&#x27;&gt;&lt;ul style=&#x27;color: white;;list-style-type:circle;align-item:left;padding-left:20px;padding-right:20px&#x27;&gt;&lt;li&gt;Confirmed: 5570473&lt;/li&gt;&lt;li&gt;Deaths:   66188&lt;/li&gt;&lt;li&gt;Death Rate: 1.19&lt;/li&gt;&lt;/ul&gt;&lt;/div&gt;\n",
       "                 &lt;/div&gt;`,\n",
       "                {&quot;sticky&quot;: true}\n",
       "            );\n",
       "        \n",
       "    \n",
       "            var circle_5d73adfeba73c258cbe20eed924558d8 = L.circle(\n",
       "                [25.3548, 51.1839],\n",
       "                {&quot;bubblingMouseEvents&quot;: true, &quot;color&quot;: &quot;red&quot;, &quot;dashArray&quot;: null, &quot;dashOffset&quot;: null, &quot;fill&quot;: true, &quot;fillColor&quot;: &quot;indigo&quot;, &quot;fillOpacity&quot;: 0.2, &quot;fillRule&quot;: &quot;evenodd&quot;, &quot;lineCap&quot;: &quot;round&quot;, &quot;lineJoin&quot;: &quot;round&quot;, &quot;opacity&quot;: 1.0, &quot;radius&quot;: 660000.0, &quot;stroke&quot;: true, &quot;weight&quot;: 3}\n",
       "            ).addTo(map_6d1e22dda92088ca39d2cd125c89418f);\n",
       "        \n",
       "    \n",
       "            circle_5d73adfeba73c258cbe20eed924558d8.bindTooltip(\n",
       "                `&lt;div&gt;\n",
       "                     &lt;div style=&#x27;margin: 0; background-color: black; color: white;&#x27;&gt;&lt;h4 style=&#x27;text-align:center;font-weight: bold&#x27;&gt;Qatar&lt;/h4&gt;&lt;hr style=&#x27;margin:10px;color: white;&#x27;&gt;&lt;ul style=&#x27;color: white;;list-style-type:circle;align-item:left;padding-left:20px;padding-right:20px&#x27;&gt;&lt;li&gt;Confirmed: 495090&lt;/li&gt;&lt;li&gt;Deaths:   119010&lt;/li&gt;&lt;li&gt;Death Rate: 24.04&lt;/li&gt;&lt;/ul&gt;&lt;/div&gt;\n",
       "                 &lt;/div&gt;`,\n",
       "                {&quot;sticky&quot;: true}\n",
       "            );\n",
       "        \n",
       "    \n",
       "            var circle_5898a48f8627d8c15522699fbdeb4837 = L.circle(\n",
       "                [45.9432, 24.9668],\n",
       "                {&quot;bubblingMouseEvents&quot;: true, &quot;color&quot;: &quot;red&quot;, &quot;dashArray&quot;: null, &quot;dashOffset&quot;: null, &quot;fill&quot;: true, &quot;fillColor&quot;: &quot;indigo&quot;, &quot;fillOpacity&quot;: 0.2, &quot;fillRule&quot;: &quot;evenodd&quot;, &quot;lineCap&quot;: &quot;round&quot;, &quot;lineJoin&quot;: &quot;round&quot;, &quot;opacity&quot;: 1.0, &quot;radius&quot;: 760000.0, &quot;stroke&quot;: true, &quot;weight&quot;: 3}\n",
       "            ).addTo(map_6d1e22dda92088ca39d2cd125c89418f);\n",
       "        \n",
       "    \n",
       "            circle_5898a48f8627d8c15522699fbdeb4837.bindTooltip(\n",
       "                `&lt;div&gt;\n",
       "                     &lt;div style=&#x27;margin: 0; background-color: black; color: white;&#x27;&gt;&lt;h4 style=&#x27;text-align:center;font-weight: bold&#x27;&gt;Romania&lt;/h4&gt;&lt;hr style=&#x27;margin:10px;color: white;&#x27;&gt;&lt;ul style=&#x27;color: white;;list-style-type:circle;align-item:left;padding-left:20px;padding-right:20px&#x27;&gt;&lt;li&gt;Confirmed: 3346046&lt;/li&gt;&lt;li&gt;Deaths:   26266&lt;/li&gt;&lt;li&gt;Death Rate: 0.78&lt;/li&gt;&lt;/ul&gt;&lt;/div&gt;\n",
       "                 &lt;/div&gt;`,\n",
       "                {&quot;sticky&quot;: true}\n",
       "            );\n",
       "        \n",
       "    \n",
       "            var circle_3917223b225cead3d59336524393470d = L.circle(\n",
       "                [61.52401, 105.318756],\n",
       "                {&quot;bubblingMouseEvents&quot;: true, &quot;color&quot;: &quot;red&quot;, &quot;dashArray&quot;: null, &quot;dashOffset&quot;: null, &quot;fill&quot;: true, &quot;fillColor&quot;: &quot;indigo&quot;, &quot;fillOpacity&quot;: 0.2, &quot;fillRule&quot;: &quot;evenodd&quot;, &quot;lineCap&quot;: &quot;round&quot;, &quot;lineJoin&quot;: &quot;round&quot;, &quot;opacity&quot;: 1.0, &quot;radius&quot;: 810000.0, &quot;stroke&quot;: true, &quot;weight&quot;: 3}\n",
       "            ).addTo(map_6d1e22dda92088ca39d2cd125c89418f);\n",
       "        \n",
       "    \n",
       "            circle_3917223b225cead3d59336524393470d.bindTooltip(\n",
       "                `&lt;div&gt;\n",
       "                     &lt;div style=&#x27;margin: 0; background-color: black; color: white;&#x27;&gt;&lt;h4 style=&#x27;text-align:center;font-weight: bold&#x27;&gt;Russia&lt;/h4&gt;&lt;hr style=&#x27;margin:10px;color: white;&#x27;&gt;&lt;ul style=&#x27;color: white;;list-style-type:circle;align-item:left;padding-left:20px;padding-right:20px&#x27;&gt;&lt;li&gt;Confirmed: 22075858&lt;/li&gt;&lt;li&gt;Deaths:   688&lt;/li&gt;&lt;li&gt;Death Rate: 0.0&lt;/li&gt;&lt;/ul&gt;&lt;/div&gt;\n",
       "                 &lt;/div&gt;`,\n",
       "                {&quot;sticky&quot;: true}\n",
       "            );\n",
       "        \n",
       "    \n",
       "            var circle_13f5a942ab860c88a27fdaf9b959d28f = L.circle(\n",
       "                [-1.9403, 29.8739],\n",
       "                {&quot;bubblingMouseEvents&quot;: true, &quot;color&quot;: &quot;red&quot;, &quot;dashArray&quot;: null, &quot;dashOffset&quot;: null, &quot;fill&quot;: true, &quot;fillColor&quot;: &quot;indigo&quot;, &quot;fillOpacity&quot;: 0.2, &quot;fillRule&quot;: &quot;evenodd&quot;, &quot;lineCap&quot;: &quot;round&quot;, &quot;lineJoin&quot;: &quot;round&quot;, &quot;opacity&quot;: 1.0, &quot;radius&quot;: 560000.0, &quot;stroke&quot;: true, &quot;weight&quot;: 3}\n",
       "            ).addTo(map_6d1e22dda92088ca39d2cd125c89418f);\n",
       "        \n",
       "    \n",
       "            circle_13f5a942ab860c88a27fdaf9b959d28f.bindTooltip(\n",
       "                `&lt;div&gt;\n",
       "                     &lt;div style=&#x27;margin: 0; background-color: black; color: white;&#x27;&gt;&lt;h4 style=&#x27;text-align:center;font-weight: bold&#x27;&gt;Rwanda&lt;/h4&gt;&lt;hr style=&#x27;margin:10px;color: white;&#x27;&gt;&lt;ul style=&#x27;color: white;;list-style-type:circle;align-item:left;padding-left:20px;padding-right:20px&#x27;&gt;&lt;li&gt;Confirmed: 133194&lt;/li&gt;&lt;li&gt;Deaths:   67736&lt;/li&gt;&lt;li&gt;Death Rate: 50.85&lt;/li&gt;&lt;/ul&gt;&lt;/div&gt;\n",
       "                 &lt;/div&gt;`,\n",
       "                {&quot;sticky&quot;: true}\n",
       "            );\n",
       "        \n",
       "    \n",
       "            var circle_8f9abaf311df0e1332cc413d1045e6a5 = L.circle(\n",
       "                [17.357822, -62.782998],\n",
       "                {&quot;bubblingMouseEvents&quot;: true, &quot;color&quot;: &quot;red&quot;, &quot;dashArray&quot;: null, &quot;dashOffset&quot;: null, &quot;fill&quot;: true, &quot;fillColor&quot;: &quot;indigo&quot;, &quot;fillOpacity&quot;: 0.2, &quot;fillRule&quot;: &quot;evenodd&quot;, &quot;lineCap&quot;: &quot;round&quot;, &quot;lineJoin&quot;: &quot;round&quot;, &quot;opacity&quot;: 1.0, &quot;radius&quot;: 409999.99999999994, &quot;stroke&quot;: true, &quot;weight&quot;: 3}\n",
       "            ).addTo(map_6d1e22dda92088ca39d2cd125c89418f);\n",
       "        \n",
       "    \n",
       "            circle_8f9abaf311df0e1332cc413d1045e6a5.bindTooltip(\n",
       "                `&lt;div&gt;\n",
       "                     &lt;div style=&#x27;margin: 0; background-color: black; color: white;&#x27;&gt;&lt;h4 style=&#x27;text-align:center;font-weight: bold&#x27;&gt;Saint Kitts and Nevis&lt;/h4&gt;&lt;hr style=&#x27;margin:10px;color: white;&#x27;&gt;&lt;ul style=&#x27;color: white;;list-style-type:circle;align-item:left;padding-left:20px;padding-right:20px&#x27;&gt;&lt;li&gt;Confirmed: 6597&lt;/li&gt;&lt;li&gt;Deaths:   388478&lt;/li&gt;&lt;li&gt;Death Rate: 5887.81&lt;/li&gt;&lt;/ul&gt;&lt;/div&gt;\n",
       "                 &lt;/div&gt;`,\n",
       "                {&quot;sticky&quot;: true}\n",
       "            );\n",
       "        \n",
       "    \n",
       "            var circle_f0b57c1e2ba2dacacf0b6e3e19a034fd = L.circle(\n",
       "                [13.9094, -60.9789],\n",
       "                {&quot;bubblingMouseEvents&quot;: true, &quot;color&quot;: &quot;red&quot;, &quot;dashArray&quot;: null, &quot;dashOffset&quot;: null, &quot;fill&quot;: true, &quot;fillColor&quot;: &quot;indigo&quot;, &quot;fillOpacity&quot;: 0.2, &quot;fillRule&quot;: &quot;evenodd&quot;, &quot;lineCap&quot;: &quot;round&quot;, &quot;lineJoin&quot;: &quot;round&quot;, &quot;opacity&quot;: 1.0, &quot;radius&quot;: 509999.99999999994, &quot;stroke&quot;: true, &quot;weight&quot;: 3}\n",
       "            ).addTo(map_6d1e22dda92088ca39d2cd125c89418f);\n",
       "        \n",
       "    \n",
       "            circle_f0b57c1e2ba2dacacf0b6e3e19a034fd.bindTooltip(\n",
       "                `&lt;div&gt;\n",
       "                     &lt;div style=&#x27;margin: 0; background-color: black; color: white;&#x27;&gt;&lt;h4 style=&#x27;text-align:center;font-weight: bold&#x27;&gt;Saint Lucia&lt;/h4&gt;&lt;hr style=&#x27;margin:10px;color: white;&#x27;&gt;&lt;ul style=&#x27;color: white;;list-style-type:circle;align-item:left;padding-left:20px;padding-right:20px&#x27;&gt;&lt;li&gt;Confirmed: 30004&lt;/li&gt;&lt;li&gt;Deaths:   1468&lt;/li&gt;&lt;li&gt;Death Rate: 4.89&lt;/li&gt;&lt;/ul&gt;&lt;/div&gt;\n",
       "                 &lt;/div&gt;`,\n",
       "                {&quot;sticky&quot;: true}\n",
       "            );\n",
       "        \n",
       "    \n",
       "            var circle_882412b71bf821c97b76337b9040eedb = L.circle(\n",
       "                [12.9843, -61.2872],\n",
       "                {&quot;bubblingMouseEvents&quot;: true, &quot;color&quot;: &quot;red&quot;, &quot;dashArray&quot;: null, &quot;dashOffset&quot;: null, &quot;fill&quot;: true, &quot;fillColor&quot;: &quot;indigo&quot;, &quot;fillOpacity&quot;: 0.2, &quot;fillRule&quot;: &quot;evenodd&quot;, &quot;lineCap&quot;: &quot;round&quot;, &quot;lineJoin&quot;: &quot;round&quot;, &quot;opacity&quot;: 1.0, &quot;radius&quot;: 459999.99999999994, &quot;stroke&quot;: true, &quot;weight&quot;: 3}\n",
       "            ).addTo(map_6d1e22dda92088ca39d2cd125c89418f);\n",
       "        \n",
       "    \n",
       "            circle_882412b71bf821c97b76337b9040eedb.bindTooltip(\n",
       "                `&lt;div&gt;\n",
       "                     &lt;div style=&#x27;margin: 0; background-color: black; color: white;&#x27;&gt;&lt;h4 style=&#x27;text-align:center;font-weight: bold&#x27;&gt;Saint Vincent and the Grenadines&lt;/h4&gt;&lt;hr style=&#x27;margin:10px;color: white;&#x27;&gt;&lt;ul style=&#x27;color: white;;list-style-type:circle;align-item:left;padding-left:20px;padding-right:20px&#x27;&gt;&lt;li&gt;Confirmed: 9589&lt;/li&gt;&lt;li&gt;Deaths:   47&lt;/li&gt;&lt;li&gt;Death Rate: 0.49&lt;/li&gt;&lt;/ul&gt;&lt;/div&gt;\n",
       "                 &lt;/div&gt;`,\n",
       "                {&quot;sticky&quot;: true}\n",
       "            );\n",
       "        \n",
       "    \n",
       "            var circle_5b92d03c6326b6fa2e4ce638e83177fb = L.circle(\n",
       "                [-13.759, -172.1046],\n",
       "                {&quot;bubblingMouseEvents&quot;: true, &quot;color&quot;: &quot;red&quot;, &quot;dashArray&quot;: null, &quot;dashOffset&quot;: null, &quot;fill&quot;: true, &quot;fillColor&quot;: &quot;indigo&quot;, &quot;fillOpacity&quot;: 0.2, &quot;fillRule&quot;: &quot;evenodd&quot;, &quot;lineCap&quot;: &quot;round&quot;, &quot;lineJoin&quot;: &quot;round&quot;, &quot;opacity&quot;: 1.0, &quot;radius&quot;: 459999.99999999994, &quot;stroke&quot;: true, &quot;weight&quot;: 3}\n",
       "            ).addTo(map_6d1e22dda92088ca39d2cd125c89418f);\n",
       "        \n",
       "    \n",
       "            circle_5b92d03c6326b6fa2e4ce638e83177fb.bindTooltip(\n",
       "                `&lt;div&gt;\n",
       "                     &lt;div style=&#x27;margin: 0; background-color: black; color: white;&#x27;&gt;&lt;h4 style=&#x27;text-align:center;font-weight: bold&#x27;&gt;Samoa&lt;/h4&gt;&lt;hr style=&#x27;margin:10px;color: white;&#x27;&gt;&lt;ul style=&#x27;color: white;;list-style-type:circle;align-item:left;padding-left:20px;padding-right:20px&#x27;&gt;&lt;li&gt;Confirmed: 16607&lt;/li&gt;&lt;li&gt;Deaths:   409&lt;/li&gt;&lt;li&gt;Death Rate: 2.46&lt;/li&gt;&lt;/ul&gt;&lt;/div&gt;\n",
       "                 &lt;/div&gt;`,\n",
       "                {&quot;sticky&quot;: true}\n",
       "            );\n",
       "        \n",
       "    \n",
       "            var circle_13ffd559dace99cc3d01ec98090fb4b5 = L.circle(\n",
       "                [43.9424, 12.4578],\n",
       "                {&quot;bubblingMouseEvents&quot;: true, &quot;color&quot;: &quot;red&quot;, &quot;dashArray&quot;: null, &quot;dashOffset&quot;: null, &quot;fill&quot;: true, &quot;fillColor&quot;: &quot;indigo&quot;, &quot;fillOpacity&quot;: 0.2, &quot;fillRule&quot;: &quot;evenodd&quot;, &quot;lineCap&quot;: &quot;round&quot;, &quot;lineJoin&quot;: &quot;round&quot;, &quot;opacity&quot;: 1.0, &quot;radius&quot;: 509999.99999999994, &quot;stroke&quot;: true, &quot;weight&quot;: 3}\n",
       "            ).addTo(map_6d1e22dda92088ca39d2cd125c89418f);\n",
       "        \n",
       "    \n",
       "            circle_13ffd559dace99cc3d01ec98090fb4b5.bindTooltip(\n",
       "                `&lt;div&gt;\n",
       "                     &lt;div style=&#x27;margin: 0; background-color: black; color: white;&#x27;&gt;&lt;h4 style=&#x27;text-align:center;font-weight: bold&#x27;&gt;San Marino&lt;/h4&gt;&lt;hr style=&#x27;margin:10px;color: white;&#x27;&gt;&lt;ul style=&#x27;color: white;;list-style-type:circle;align-item:left;padding-left:20px;padding-right:20px&#x27;&gt;&lt;li&gt;Confirmed: 23616&lt;/li&gt;&lt;li&gt;Deaths:   123&lt;/li&gt;&lt;li&gt;Death Rate: 0.52&lt;/li&gt;&lt;/ul&gt;&lt;/div&gt;\n",
       "                 &lt;/div&gt;`,\n",
       "                {&quot;sticky&quot;: true}\n",
       "            );\n",
       "        \n",
       "    \n",
       "            var circle_3fb0b12e1ff96a4931afcabbd01f1919 = L.circle(\n",
       "                [0.1864, 6.6131],\n",
       "                {&quot;bubblingMouseEvents&quot;: true, &quot;color&quot;: &quot;red&quot;, &quot;dashArray&quot;: null, &quot;dashOffset&quot;: null, &quot;fill&quot;: true, &quot;fillColor&quot;: &quot;indigo&quot;, &quot;fillOpacity&quot;: 0.2, &quot;fillRule&quot;: &quot;evenodd&quot;, &quot;lineCap&quot;: &quot;round&quot;, &quot;lineJoin&quot;: &quot;round&quot;, &quot;opacity&quot;: 1.0, &quot;radius&quot;: 409999.99999999994, &quot;stroke&quot;: true, &quot;weight&quot;: 3}\n",
       "            ).addTo(map_6d1e22dda92088ca39d2cd125c89418f);\n",
       "        \n",
       "    \n",
       "            circle_3fb0b12e1ff96a4931afcabbd01f1919.bindTooltip(\n",
       "                `&lt;div&gt;\n",
       "                     &lt;div style=&#x27;margin: 0; background-color: black; color: white;&#x27;&gt;&lt;h4 style=&#x27;text-align:center;font-weight: bold&#x27;&gt;Sao Tome and Principe&lt;/h4&gt;&lt;hr style=&#x27;margin:10px;color: white;&#x27;&gt;&lt;ul style=&#x27;color: white;;list-style-type:circle;align-item:left;padding-left:20px;padding-right:20px&#x27;&gt;&lt;li&gt;Confirmed: 6281&lt;/li&gt;&lt;li&gt;Deaths:   29&lt;/li&gt;&lt;li&gt;Death Rate: 0.46&lt;/li&gt;&lt;/ul&gt;&lt;/div&gt;\n",
       "                 &lt;/div&gt;`,\n",
       "                {&quot;sticky&quot;: true}\n",
       "            );\n",
       "        \n",
       "    \n",
       "            var circle_07d885c66944a39f77d795cdf03a0aa0 = L.circle(\n",
       "                [23.885942, 45.079162],\n",
       "                {&quot;bubblingMouseEvents&quot;: true, &quot;color&quot;: &quot;red&quot;, &quot;dashArray&quot;: null, &quot;dashOffset&quot;: null, &quot;fill&quot;: true, &quot;fillColor&quot;: &quot;indigo&quot;, &quot;fillOpacity&quot;: 0.2, &quot;fillRule&quot;: &quot;evenodd&quot;, &quot;lineCap&quot;: &quot;round&quot;, &quot;lineJoin&quot;: &quot;round&quot;, &quot;opacity&quot;: 1.0, &quot;radius&quot;: 660000.0, &quot;stroke&quot;: true, &quot;weight&quot;: 3}\n",
       "            ).addTo(map_6d1e22dda92088ca39d2cd125c89418f);\n",
       "        \n",
       "    \n",
       "            circle_07d885c66944a39f77d795cdf03a0aa0.bindTooltip(\n",
       "                `&lt;div&gt;\n",
       "                     &lt;div style=&#x27;margin: 0; background-color: black; color: white;&#x27;&gt;&lt;h4 style=&#x27;text-align:center;font-weight: bold&#x27;&gt;Saudi Arabia&lt;/h4&gt;&lt;hr style=&#x27;margin:10px;color: white;&#x27;&gt;&lt;ul style=&#x27;color: white;;list-style-type:circle;align-item:left;padding-left:20px;padding-right:20px&#x27;&gt;&lt;li&gt;Confirmed: 830127&lt;/li&gt;&lt;li&gt;Deaths:   122&lt;/li&gt;&lt;li&gt;Death Rate: 0.01&lt;/li&gt;&lt;/ul&gt;&lt;/div&gt;\n",
       "                 &lt;/div&gt;`,\n",
       "                {&quot;sticky&quot;: true}\n",
       "            );\n",
       "        \n",
       "    \n",
       "            var circle_152f17c666e743f5fd0fae50d201b51c = L.circle(\n",
       "                [14.4974, -14.4524],\n",
       "                {&quot;bubblingMouseEvents&quot;: true, &quot;color&quot;: &quot;red&quot;, &quot;dashArray&quot;: null, &quot;dashOffset&quot;: null, &quot;fill&quot;: true, &quot;fillColor&quot;: &quot;indigo&quot;, &quot;fillOpacity&quot;: 0.2, &quot;fillRule&quot;: &quot;evenodd&quot;, &quot;lineCap&quot;: &quot;round&quot;, &quot;lineJoin&quot;: &quot;round&quot;, &quot;opacity&quot;: 1.0, &quot;radius&quot;: 560000.0, &quot;stroke&quot;: true, &quot;weight&quot;: 3}\n",
       "            ).addTo(map_6d1e22dda92088ca39d2cd125c89418f);\n",
       "        \n",
       "    \n",
       "            circle_152f17c666e743f5fd0fae50d201b51c.bindTooltip(\n",
       "                `&lt;div&gt;\n",
       "                     &lt;div style=&#x27;margin: 0; background-color: black; color: white;&#x27;&gt;&lt;h4 style=&#x27;text-align:center;font-weight: bold&#x27;&gt;Senegal&lt;/h4&gt;&lt;hr style=&#x27;margin:10px;color: white;&#x27;&gt;&lt;ul style=&#x27;color: white;;list-style-type:circle;align-item:left;padding-left:20px;padding-right:20px&#x27;&gt;&lt;li&gt;Confirmed: 88926&lt;/li&gt;&lt;li&gt;Deaths:   77&lt;/li&gt;&lt;li&gt;Death Rate: 0.09&lt;/li&gt;&lt;/ul&gt;&lt;/div&gt;\n",
       "                 &lt;/div&gt;`,\n",
       "                {&quot;sticky&quot;: true}\n",
       "            );\n",
       "        \n",
       "    \n",
       "            var circle_769acbd5c4f1419f46958e5d6705a530 = L.circle(\n",
       "                [44.0165, 21.0059],\n",
       "                {&quot;bubblingMouseEvents&quot;: true, &quot;color&quot;: &quot;red&quot;, &quot;dashArray&quot;: null, &quot;dashOffset&quot;: null, &quot;fill&quot;: true, &quot;fillColor&quot;: &quot;indigo&quot;, &quot;fillOpacity&quot;: 0.2, &quot;fillRule&quot;: &quot;evenodd&quot;, &quot;lineCap&quot;: &quot;round&quot;, &quot;lineJoin&quot;: &quot;round&quot;, &quot;opacity&quot;: 1.0, &quot;radius&quot;: 710000.0, &quot;stroke&quot;: true, &quot;weight&quot;: 3}\n",
       "            ).addTo(map_6d1e22dda92088ca39d2cd125c89418f);\n",
       "        \n",
       "    \n",
       "            circle_769acbd5c4f1419f46958e5d6705a530.bindTooltip(\n",
       "                `&lt;div&gt;\n",
       "                     &lt;div style=&#x27;margin: 0; background-color: black; color: white;&#x27;&gt;&lt;h4 style=&#x27;text-align:center;font-weight: bold&#x27;&gt;Serbia&lt;/h4&gt;&lt;hr style=&#x27;margin:10px;color: white;&#x27;&gt;&lt;ul style=&#x27;color: white;;list-style-type:circle;align-item:left;padding-left:20px;padding-right:20px&#x27;&gt;&lt;li&gt;Confirmed: 2500142&lt;/li&gt;&lt;li&gt;Deaths:   9618&lt;/li&gt;&lt;li&gt;Death Rate: 0.38&lt;/li&gt;&lt;/ul&gt;&lt;/div&gt;\n",
       "                 &lt;/div&gt;`,\n",
       "                {&quot;sticky&quot;: true}\n",
       "            );\n",
       "        \n",
       "    \n",
       "            var circle_cdbcec755d9fcea8567ad45884498993 = L.circle(\n",
       "                [-4.6796, 55.492],\n",
       "                {&quot;bubblingMouseEvents&quot;: true, &quot;color&quot;: &quot;red&quot;, &quot;dashArray&quot;: null, &quot;dashOffset&quot;: null, &quot;fill&quot;: true, &quot;fillColor&quot;: &quot;indigo&quot;, &quot;fillOpacity&quot;: 0.2, &quot;fillRule&quot;: &quot;evenodd&quot;, &quot;lineCap&quot;: &quot;round&quot;, &quot;lineJoin&quot;: &quot;round&quot;, &quot;opacity&quot;: 1.0, &quot;radius&quot;: 509999.99999999994, &quot;stroke&quot;: true, &quot;weight&quot;: 3}\n",
       "            ).addTo(map_6d1e22dda92088ca39d2cd125c89418f);\n",
       "        \n",
       "    \n",
       "            circle_cdbcec755d9fcea8567ad45884498993.bindTooltip(\n",
       "                `&lt;div&gt;\n",
       "                     &lt;div style=&#x27;margin: 0; background-color: black; color: white;&#x27;&gt;&lt;h4 style=&#x27;text-align:center;font-weight: bold&#x27;&gt;Seychelles&lt;/h4&gt;&lt;hr style=&#x27;margin:10px;color: white;&#x27;&gt;&lt;ul style=&#x27;color: white;;list-style-type:circle;align-item:left;padding-left:20px;padding-right:20px&#x27;&gt;&lt;li&gt;Confirmed: 50665&lt;/li&gt;&lt;li&gt;Deaths:   1971&lt;/li&gt;&lt;li&gt;Death Rate: 3.89&lt;/li&gt;&lt;/ul&gt;&lt;/div&gt;\n",
       "                 &lt;/div&gt;`,\n",
       "                {&quot;sticky&quot;: true}\n",
       "            );\n",
       "        \n",
       "    \n",
       "            var circle_9dbfdf252b196f563ee87dc6352acb23 = L.circle(\n",
       "                [8.460555, -11.779889],\n",
       "                {&quot;bubblingMouseEvents&quot;: true, &quot;color&quot;: &quot;red&quot;, &quot;dashArray&quot;: null, &quot;dashOffset&quot;: null, &quot;fill&quot;: true, &quot;fillColor&quot;: &quot;indigo&quot;, &quot;fillOpacity&quot;: 0.2, &quot;fillRule&quot;: &quot;evenodd&quot;, &quot;lineCap&quot;: &quot;round&quot;, &quot;lineJoin&quot;: &quot;round&quot;, &quot;opacity&quot;: 1.0, &quot;radius&quot;: 409999.99999999994, &quot;stroke&quot;: true, &quot;weight&quot;: 3}\n",
       "            ).addTo(map_6d1e22dda92088ca39d2cd125c89418f);\n",
       "        \n",
       "    \n",
       "            circle_9dbfdf252b196f563ee87dc6352acb23.bindTooltip(\n",
       "                `&lt;div&gt;\n",
       "                     &lt;div style=&#x27;margin: 0; background-color: black; color: white;&#x27;&gt;&lt;h4 style=&#x27;text-align:center;font-weight: bold&#x27;&gt;Sierra Leone&lt;/h4&gt;&lt;hr style=&#x27;margin:10px;color: white;&#x27;&gt;&lt;ul style=&#x27;color: white;;list-style-type:circle;align-item:left;padding-left:20px;padding-right:20px&#x27;&gt;&lt;li&gt;Confirmed: 7760&lt;/li&gt;&lt;li&gt;Deaths:   17881&lt;/li&gt;&lt;li&gt;Death Rate: 230.4&lt;/li&gt;&lt;/ul&gt;&lt;/div&gt;\n",
       "                 &lt;/div&gt;`,\n",
       "                {&quot;sticky&quot;: true}\n",
       "            );\n",
       "        \n",
       "    \n",
       "            var circle_2c9d92c4a1156287c098a963b8dda406 = L.circle(\n",
       "                [1.2833, 103.8333],\n",
       "                {&quot;bubblingMouseEvents&quot;: true, &quot;color&quot;: &quot;red&quot;, &quot;dashArray&quot;: null, &quot;dashOffset&quot;: null, &quot;fill&quot;: true, &quot;fillColor&quot;: &quot;indigo&quot;, &quot;fillOpacity&quot;: 0.2, &quot;fillRule&quot;: &quot;evenodd&quot;, &quot;lineCap&quot;: &quot;round&quot;, &quot;lineJoin&quot;: &quot;round&quot;, &quot;opacity&quot;: 1.0, &quot;radius&quot;: 710000.0, &quot;stroke&quot;: true, &quot;weight&quot;: 3}\n",
       "            ).addTo(map_6d1e22dda92088ca39d2cd125c89418f);\n",
       "        \n",
       "    \n",
       "            circle_2c9d92c4a1156287c098a963b8dda406.bindTooltip(\n",
       "                `&lt;div&gt;\n",
       "                     &lt;div style=&#x27;margin: 0; background-color: black; color: white;&#x27;&gt;&lt;h4 style=&#x27;text-align:center;font-weight: bold&#x27;&gt;Singapore&lt;/h4&gt;&lt;hr style=&#x27;margin:10px;color: white;&#x27;&gt;&lt;ul style=&#x27;color: white;;list-style-type:circle;align-item:left;padding-left:20px;padding-right:20px&#x27;&gt;&lt;li&gt;Confirmed: 2235294&lt;/li&gt;&lt;li&gt;Deaths:   172&lt;/li&gt;&lt;li&gt;Death Rate: 0.01&lt;/li&gt;&lt;/ul&gt;&lt;/div&gt;\n",
       "                 &lt;/div&gt;`,\n",
       "                {&quot;sticky&quot;: true}\n",
       "            );\n",
       "        \n",
       "    \n",
       "            var circle_c541d0282376b9d52dcc57336be18f9f = L.circle(\n",
       "                [48.669, 19.699],\n",
       "                {&quot;bubblingMouseEvents&quot;: true, &quot;color&quot;: &quot;red&quot;, &quot;dashArray&quot;: null, &quot;dashOffset&quot;: null, &quot;fill&quot;: true, &quot;fillColor&quot;: &quot;indigo&quot;, &quot;fillOpacity&quot;: 0.2, &quot;fillRule&quot;: &quot;evenodd&quot;, &quot;lineCap&quot;: &quot;round&quot;, &quot;lineJoin&quot;: &quot;round&quot;, &quot;opacity&quot;: 1.0, &quot;radius&quot;: 710000.0, &quot;stroke&quot;: true, &quot;weight&quot;: 3}\n",
       "            ).addTo(map_6d1e22dda92088ca39d2cd125c89418f);\n",
       "        \n",
       "    \n",
       "            circle_c541d0282376b9d52dcc57336be18f9f.bindTooltip(\n",
       "                `&lt;div&gt;\n",
       "                     &lt;div style=&#x27;margin: 0; background-color: black; color: white;&#x27;&gt;&lt;h4 style=&#x27;text-align:center;font-weight: bold&#x27;&gt;Slovakia&lt;/h4&gt;&lt;hr style=&#x27;margin:10px;color: white;&#x27;&gt;&lt;ul style=&#x27;color: white;;list-style-type:circle;align-item:left;padding-left:20px;padding-right:20px&#x27;&gt;&lt;li&gt;Confirmed: 2667551&lt;/li&gt;&lt;li&gt;Deaths:   126&lt;/li&gt;&lt;li&gt;Death Rate: 0.0&lt;/li&gt;&lt;/ul&gt;&lt;/div&gt;\n",
       "                 &lt;/div&gt;`,\n",
       "                {&quot;sticky&quot;: true}\n",
       "            );\n",
       "        \n",
       "    \n",
       "            var circle_6d25759ea45133a8b935b02c0f93cfa6 = L.circle(\n",
       "                [46.1512, 14.9955],\n",
       "                {&quot;bubblingMouseEvents&quot;: true, &quot;color&quot;: &quot;red&quot;, &quot;dashArray&quot;: null, &quot;dashOffset&quot;: null, &quot;fill&quot;: true, &quot;fillColor&quot;: &quot;indigo&quot;, &quot;fillOpacity&quot;: 0.2, &quot;fillRule&quot;: &quot;evenodd&quot;, &quot;lineCap&quot;: &quot;round&quot;, &quot;lineJoin&quot;: &quot;round&quot;, &quot;opacity&quot;: 1.0, &quot;radius&quot;: 710000.0, &quot;stroke&quot;: true, &quot;weight&quot;: 3}\n",
       "            ).addTo(map_6d1e22dda92088ca39d2cd125c89418f);\n",
       "        \n",
       "    \n",
       "            circle_6d25759ea45133a8b935b02c0f93cfa6.bindTooltip(\n",
       "                `&lt;div&gt;\n",
       "                     &lt;div style=&#x27;margin: 0; background-color: black; color: white;&#x27;&gt;&lt;h4 style=&#x27;text-align:center;font-weight: bold&#x27;&gt;Slovenia&lt;/h4&gt;&lt;hr style=&#x27;margin:10px;color: white;&#x27;&gt;&lt;ul style=&#x27;color: white;;list-style-type:circle;align-item:left;padding-left:20px;padding-right:20px&#x27;&gt;&lt;li&gt;Confirmed: 1331707&lt;/li&gt;&lt;li&gt;Deaths:   1722&lt;/li&gt;&lt;li&gt;Death Rate: 0.13&lt;/li&gt;&lt;/ul&gt;&lt;/div&gt;\n",
       "                 &lt;/div&gt;`,\n",
       "                {&quot;sticky&quot;: true}\n",
       "            );\n",
       "        \n",
       "    \n",
       "            var circle_93fdbbb437a291ac7ee201b0798d892f = L.circle(\n",
       "                [-9.6457, 160.1562],\n",
       "                {&quot;bubblingMouseEvents&quot;: true, &quot;color&quot;: &quot;red&quot;, &quot;dashArray&quot;: null, &quot;dashOffset&quot;: null, &quot;fill&quot;: true, &quot;fillColor&quot;: &quot;indigo&quot;, &quot;fillOpacity&quot;: 0.2, &quot;fillRule&quot;: &quot;evenodd&quot;, &quot;lineCap&quot;: &quot;round&quot;, &quot;lineJoin&quot;: &quot;round&quot;, &quot;opacity&quot;: 1.0, &quot;radius&quot;: 509999.99999999994, &quot;stroke&quot;: true, &quot;weight&quot;: 3}\n",
       "            ).addTo(map_6d1e22dda92088ca39d2cd125c89418f);\n",
       "        \n",
       "    \n",
       "            circle_93fdbbb437a291ac7ee201b0798d892f.bindTooltip(\n",
       "                `&lt;div&gt;\n",
       "                     &lt;div style=&#x27;margin: 0; background-color: black; color: white;&#x27;&gt;&lt;h4 style=&#x27;text-align:center;font-weight: bold&#x27;&gt;Solomon Islands&lt;/h4&gt;&lt;hr style=&#x27;margin:10px;color: white;&#x27;&gt;&lt;ul style=&#x27;color: white;;list-style-type:circle;align-item:left;padding-left:20px;padding-right:20px&#x27;&gt;&lt;li&gt;Confirmed: 24575&lt;/li&gt;&lt;li&gt;Deaths:   21035&lt;/li&gt;&lt;li&gt;Death Rate: 85.59&lt;/li&gt;&lt;/ul&gt;&lt;/div&gt;\n",
       "                 &lt;/div&gt;`,\n",
       "                {&quot;sticky&quot;: true}\n",
       "            );\n",
       "        \n",
       "    \n",
       "            var circle_256a5ccafa5ad0834196f3e18536ccc8 = L.circle(\n",
       "                [5.152149, 46.199616],\n",
       "                {&quot;bubblingMouseEvents&quot;: true, &quot;color&quot;: &quot;red&quot;, &quot;dashArray&quot;: null, &quot;dashOffset&quot;: null, &quot;fill&quot;: true, &quot;fillColor&quot;: &quot;indigo&quot;, &quot;fillOpacity&quot;: 0.2, &quot;fillRule&quot;: &quot;evenodd&quot;, &quot;lineCap&quot;: &quot;round&quot;, &quot;lineJoin&quot;: &quot;round&quot;, &quot;opacity&quot;: 1.0, &quot;radius&quot;: 509999.99999999994, &quot;stroke&quot;: true, &quot;weight&quot;: 3}\n",
       "            ).addTo(map_6d1e22dda92088ca39d2cd125c89418f);\n",
       "        \n",
       "    \n",
       "            circle_256a5ccafa5ad0834196f3e18536ccc8.bindTooltip(\n",
       "                `&lt;div&gt;\n",
       "                     &lt;div style=&#x27;margin: 0; background-color: black; color: white;&#x27;&gt;&lt;h4 style=&#x27;text-align:center;font-weight: bold&#x27;&gt;Somalia&lt;/h4&gt;&lt;hr style=&#x27;margin:10px;color: white;&#x27;&gt;&lt;ul style=&#x27;color: white;;list-style-type:circle;align-item:left;padding-left:20px;padding-right:20px&#x27;&gt;&lt;li&gt;Confirmed: 27324&lt;/li&gt;&lt;li&gt;Deaths:   7078&lt;/li&gt;&lt;li&gt;Death Rate: 25.9&lt;/li&gt;&lt;/ul&gt;&lt;/div&gt;\n",
       "                 &lt;/div&gt;`,\n",
       "                {&quot;sticky&quot;: true}\n",
       "            );\n",
       "        \n",
       "    \n",
       "            var circle_df911410f3768cab69c7789a68daf935 = L.circle(\n",
       "                [-30.5595, 22.9375],\n",
       "                {&quot;bubblingMouseEvents&quot;: true, &quot;color&quot;: &quot;red&quot;, &quot;dashArray&quot;: null, &quot;dashOffset&quot;: null, &quot;fill&quot;: true, &quot;fillColor&quot;: &quot;indigo&quot;, &quot;fillOpacity&quot;: 0.2, &quot;fillRule&quot;: &quot;evenodd&quot;, &quot;lineCap&quot;: &quot;round&quot;, &quot;lineJoin&quot;: &quot;round&quot;, &quot;opacity&quot;: 1.0, &quot;radius&quot;: 760000.0, &quot;stroke&quot;: true, &quot;weight&quot;: 3}\n",
       "            ).addTo(map_6d1e22dda92088ca39d2cd125c89418f);\n",
       "        \n",
       "    \n",
       "            circle_df911410f3768cab69c7789a68daf935.bindTooltip(\n",
       "                `&lt;div&gt;\n",
       "                     &lt;div style=&#x27;margin: 0; background-color: black; color: white;&#x27;&gt;&lt;h4 style=&#x27;text-align:center;font-weight: bold&#x27;&gt;South Africa&lt;/h4&gt;&lt;hr style=&#x27;margin:10px;color: white;&#x27;&gt;&lt;ul style=&#x27;color: white;;list-style-type:circle;align-item:left;padding-left:20px;padding-right:20px&#x27;&gt;&lt;li&gt;Confirmed: 4067067&lt;/li&gt;&lt;li&gt;Deaths:   153&lt;/li&gt;&lt;li&gt;Death Rate: 0.0&lt;/li&gt;&lt;/ul&gt;&lt;/div&gt;\n",
       "                 &lt;/div&gt;`,\n",
       "                {&quot;sticky&quot;: true}\n",
       "            );\n",
       "        \n",
       "    \n",
       "            var circle_68a01586ab3681583b69d3f86d819793 = L.circle(\n",
       "                [6.877, 31.307],\n",
       "                {&quot;bubblingMouseEvents&quot;: true, &quot;color&quot;: &quot;red&quot;, &quot;dashArray&quot;: null, &quot;dashOffset&quot;: null, &quot;fill&quot;: true, &quot;fillColor&quot;: &quot;indigo&quot;, &quot;fillOpacity&quot;: 0.2, &quot;fillRule&quot;: &quot;evenodd&quot;, &quot;lineCap&quot;: &quot;round&quot;, &quot;lineJoin&quot;: &quot;round&quot;, &quot;opacity&quot;: 1.0, &quot;radius&quot;: 459999.99999999994, &quot;stroke&quot;: true, &quot;weight&quot;: 3}\n",
       "            ).addTo(map_6d1e22dda92088ca39d2cd125c89418f);\n",
       "        \n",
       "    \n",
       "            circle_68a01586ab3681583b69d3f86d819793.bindTooltip(\n",
       "                `&lt;div&gt;\n",
       "                     &lt;div style=&#x27;margin: 0; background-color: black; color: white;&#x27;&gt;&lt;h4 style=&#x27;text-align:center;font-weight: bold&#x27;&gt;South Sudan&lt;/h4&gt;&lt;hr style=&#x27;margin:10px;color: white;&#x27;&gt;&lt;ul style=&#x27;color: white;;list-style-type:circle;align-item:left;padding-left:20px;padding-right:20px&#x27;&gt;&lt;li&gt;Confirmed: 18368&lt;/li&gt;&lt;li&gt;Deaths:   1361&lt;/li&gt;&lt;li&gt;Death Rate: 7.41&lt;/li&gt;&lt;/ul&gt;&lt;/div&gt;\n",
       "                 &lt;/div&gt;`,\n",
       "                {&quot;sticky&quot;: true}\n",
       "            );\n",
       "        \n",
       "    \n",
       "            var circle_807cac7b4e7f2dd6f7abc61322afd93e = L.circle(\n",
       "                [40.463667, -3.74922],\n",
       "                {&quot;bubblingMouseEvents&quot;: true, &quot;color&quot;: &quot;red&quot;, &quot;dashArray&quot;: null, &quot;dashOffset&quot;: null, &quot;fill&quot;: true, &quot;fillColor&quot;: &quot;indigo&quot;, &quot;fillOpacity&quot;: 0.2, &quot;fillRule&quot;: &quot;evenodd&quot;, &quot;lineCap&quot;: &quot;round&quot;, &quot;lineJoin&quot;: &quot;round&quot;, &quot;opacity&quot;: 1.0, &quot;radius&quot;: 810000.0, &quot;stroke&quot;: true, &quot;weight&quot;: 3}\n",
       "            ).addTo(map_6d1e22dda92088ca39d2cd125c89418f);\n",
       "        \n",
       "    \n",
       "            circle_807cac7b4e7f2dd6f7abc61322afd93e.bindTooltip(\n",
       "                `&lt;div&gt;\n",
       "                     &lt;div style=&#x27;margin: 0; background-color: black; color: white;&#x27;&gt;&lt;h4 style=&#x27;text-align:center;font-weight: bold&#x27;&gt;Spain&lt;/h4&gt;&lt;hr style=&#x27;margin:10px;color: white;&#x27;&gt;&lt;ul style=&#x27;color: white;;list-style-type:circle;align-item:left;padding-left:20px;padding-right:20px&#x27;&gt;&lt;li&gt;Confirmed: 13770429&lt;/li&gt;&lt;li&gt;Deaths:   102595&lt;/li&gt;&lt;li&gt;Death Rate: 0.75&lt;/li&gt;&lt;/ul&gt;&lt;/div&gt;\n",
       "                 &lt;/div&gt;`,\n",
       "                {&quot;sticky&quot;: true}\n",
       "            );\n",
       "        \n",
       "    \n",
       "            var circle_8166881f99fba4736d52ec71ea5ded52 = L.circle(\n",
       "                [7.873054, 80.771797],\n",
       "                {&quot;bubblingMouseEvents&quot;: true, &quot;color&quot;: &quot;red&quot;, &quot;dashArray&quot;: null, &quot;dashOffset&quot;: null, &quot;fill&quot;: true, &quot;fillColor&quot;: &quot;indigo&quot;, &quot;fillOpacity&quot;: 0.2, &quot;fillRule&quot;: &quot;evenodd&quot;, &quot;lineCap&quot;: &quot;round&quot;, &quot;lineJoin&quot;: &quot;round&quot;, &quot;opacity&quot;: 1.0, &quot;radius&quot;: 660000.0, &quot;stroke&quot;: true, &quot;weight&quot;: 3}\n",
       "            ).addTo(map_6d1e22dda92088ca39d2cd125c89418f);\n",
       "        \n",
       "    \n",
       "            circle_8166881f99fba4736d52ec71ea5ded52.bindTooltip(\n",
       "                `&lt;div&gt;\n",
       "                     &lt;div style=&#x27;margin: 0; background-color: black; color: white;&#x27;&gt;&lt;h4 style=&#x27;text-align:center;font-weight: bold&#x27;&gt;Sri Lanka&lt;/h4&gt;&lt;hr style=&#x27;margin:10px;color: white;&#x27;&gt;&lt;ul style=&#x27;color: white;;list-style-type:circle;align-item:left;padding-left:20px;padding-right:20px&#x27;&gt;&lt;li&gt;Confirmed: 672039&lt;/li&gt;&lt;li&gt;Deaths:   138&lt;/li&gt;&lt;li&gt;Death Rate: 0.02&lt;/li&gt;&lt;/ul&gt;&lt;/div&gt;\n",
       "                 &lt;/div&gt;`,\n",
       "                {&quot;sticky&quot;: true}\n",
       "            );\n",
       "        \n",
       "    \n",
       "            var circle_96c319f4c2e5c2c7fc27afdef506801e = L.circle(\n",
       "                [12.8628, 30.2176],\n",
       "                {&quot;bubblingMouseEvents&quot;: true, &quot;color&quot;: &quot;red&quot;, &quot;dashArray&quot;: null, &quot;dashOffset&quot;: null, &quot;fill&quot;: true, &quot;fillColor&quot;: &quot;indigo&quot;, &quot;fillOpacity&quot;: 0.2, &quot;fillRule&quot;: &quot;evenodd&quot;, &quot;lineCap&quot;: &quot;round&quot;, &quot;lineJoin&quot;: &quot;round&quot;, &quot;opacity&quot;: 1.0, &quot;radius&quot;: 560000.0, &quot;stroke&quot;: true, &quot;weight&quot;: 3}\n",
       "            ).addTo(map_6d1e22dda92088ca39d2cd125c89418f);\n",
       "        \n",
       "    \n",
       "            circle_96c319f4c2e5c2c7fc27afdef506801e.bindTooltip(\n",
       "                `&lt;div&gt;\n",
       "                     &lt;div style=&#x27;margin: 0; background-color: black; color: white;&#x27;&gt;&lt;h4 style=&#x27;text-align:center;font-weight: bold&#x27;&gt;Sudan&lt;/h4&gt;&lt;hr style=&#x27;margin:10px;color: white;&#x27;&gt;&lt;ul style=&#x27;color: white;;list-style-type:circle;align-item:left;padding-left:20px;padding-right:20px&#x27;&gt;&lt;li&gt;Confirmed: 63829&lt;/li&gt;&lt;li&gt;Deaths:   119479&lt;/li&gt;&lt;li&gt;Death Rate: 187.18&lt;/li&gt;&lt;/ul&gt;&lt;/div&gt;\n",
       "                 &lt;/div&gt;`,\n",
       "                {&quot;sticky&quot;: true}\n",
       "            );\n",
       "        \n",
       "    \n",
       "            var circle_d5e7ba386b9f4e48fcbabe160ddde1fa = L.circle(\n",
       "                [35.6491, 139.7737],\n",
       "                {&quot;bubblingMouseEvents&quot;: true, &quot;color&quot;: &quot;red&quot;, &quot;dashArray&quot;: null, &quot;dashOffset&quot;: null, &quot;fill&quot;: true, &quot;fillColor&quot;: &quot;indigo&quot;, &quot;fillOpacity&quot;: 0.2, &quot;fillRule&quot;: &quot;evenodd&quot;, &quot;lineCap&quot;: &quot;round&quot;, &quot;lineJoin&quot;: &quot;round&quot;, &quot;opacity&quot;: 1.0, &quot;radius&quot;: 310000.0, &quot;stroke&quot;: true, &quot;weight&quot;: 3}\n",
       "            ).addTo(map_6d1e22dda92088ca39d2cd125c89418f);\n",
       "        \n",
       "    \n",
       "            circle_d5e7ba386b9f4e48fcbabe160ddde1fa.bindTooltip(\n",
       "                `&lt;div&gt;\n",
       "                     &lt;div style=&#x27;margin: 0; background-color: black; color: white;&#x27;&gt;&lt;h4 style=&#x27;text-align:center;font-weight: bold&#x27;&gt;Summer Olympics 2020&lt;/h4&gt;&lt;hr style=&#x27;margin:10px;color: white;&#x27;&gt;&lt;ul style=&#x27;color: white;;list-style-type:circle;align-item:left;padding-left:20px;padding-right:20px&#x27;&gt;&lt;li&gt;Confirmed: 865&lt;/li&gt;&lt;li&gt;Deaths:   16830&lt;/li&gt;&lt;li&gt;Death Rate: 1943.42&lt;/li&gt;&lt;/ul&gt;&lt;/div&gt;\n",
       "                 &lt;/div&gt;`,\n",
       "                {&quot;sticky&quot;: true}\n",
       "            );\n",
       "        \n",
       "    \n",
       "            var circle_a41d1c30e5187a0a1de63ae2cc96d9ac = L.circle(\n",
       "                [3.9193, -56.0278],\n",
       "                {&quot;bubblingMouseEvents&quot;: true, &quot;color&quot;: &quot;red&quot;, &quot;dashArray&quot;: null, &quot;dashOffset&quot;: null, &quot;fill&quot;: true, &quot;fillColor&quot;: &quot;indigo&quot;, &quot;fillOpacity&quot;: 0.2, &quot;fillRule&quot;: &quot;evenodd&quot;, &quot;lineCap&quot;: &quot;round&quot;, &quot;lineJoin&quot;: &quot;round&quot;, &quot;opacity&quot;: 1.0, &quot;radius&quot;: 560000.0, &quot;stroke&quot;: true, &quot;weight&quot;: 3}\n",
       "            ).addTo(map_6d1e22dda92088ca39d2cd125c89418f);\n",
       "        \n",
       "    \n",
       "            circle_a41d1c30e5187a0a1de63ae2cc96d9ac.bindTooltip(\n",
       "                `&lt;div&gt;\n",
       "                     &lt;div style=&#x27;margin: 0; background-color: black; color: white;&#x27;&gt;&lt;h4 style=&#x27;text-align:center;font-weight: bold&#x27;&gt;Suriname&lt;/h4&gt;&lt;hr style=&#x27;margin:10px;color: white;&#x27;&gt;&lt;ul style=&#x27;color: white;;list-style-type:circle;align-item:left;padding-left:20px;padding-right:20px&#x27;&gt;&lt;li&gt;Confirmed: 82467&lt;/li&gt;&lt;li&gt;Deaths:   5017&lt;/li&gt;&lt;li&gt;Death Rate: 6.08&lt;/li&gt;&lt;/ul&gt;&lt;/div&gt;\n",
       "                 &lt;/div&gt;`,\n",
       "                {&quot;sticky&quot;: true}\n",
       "            );\n",
       "        \n",
       "    \n",
       "            var circle_1f9eb4353b2479fcf1ee4b23f112021d = L.circle(\n",
       "                [60.128161, 18.643501],\n",
       "                {&quot;bubblingMouseEvents&quot;: true, &quot;color&quot;: &quot;red&quot;, &quot;dashArray&quot;: null, &quot;dashOffset&quot;: null, &quot;fill&quot;: true, &quot;fillColor&quot;: &quot;indigo&quot;, &quot;fillOpacity&quot;: 0.2, &quot;fillRule&quot;: &quot;evenodd&quot;, &quot;lineCap&quot;: &quot;round&quot;, &quot;lineJoin&quot;: &quot;round&quot;, &quot;opacity&quot;: 1.0, &quot;radius&quot;: 710000.0, &quot;stroke&quot;: true, &quot;weight&quot;: 3}\n",
       "            ).addTo(map_6d1e22dda92088ca39d2cd125c89418f);\n",
       "        \n",
       "    \n",
       "            circle_1f9eb4353b2479fcf1ee4b23f112021d.bindTooltip(\n",
       "                `&lt;div&gt;\n",
       "                     &lt;div style=&#x27;margin: 0; background-color: black; color: white;&#x27;&gt;&lt;h4 style=&#x27;text-align:center;font-weight: bold&#x27;&gt;Sweden&lt;/h4&gt;&lt;hr style=&#x27;margin:10px;color: white;&#x27;&gt;&lt;ul style=&#x27;color: white;;list-style-type:circle;align-item:left;padding-left:20px;padding-right:20px&#x27;&gt;&lt;li&gt;Confirmed: 2699339&lt;/li&gt;&lt;li&gt;Deaths:   0&lt;/li&gt;&lt;li&gt;Death Rate: 0.0&lt;/li&gt;&lt;/ul&gt;&lt;/div&gt;\n",
       "                 &lt;/div&gt;`,\n",
       "                {&quot;sticky&quot;: true}\n",
       "            );\n",
       "        \n",
       "    \n",
       "            var circle_eb8034e359334f2a98c99df8d0853a21 = L.circle(\n",
       "                [46.8182, 8.2275],\n",
       "                {&quot;bubblingMouseEvents&quot;: true, &quot;color&quot;: &quot;red&quot;, &quot;dashArray&quot;: null, &quot;dashOffset&quot;: null, &quot;fill&quot;: true, &quot;fillColor&quot;: &quot;indigo&quot;, &quot;fillOpacity&quot;: 0.2, &quot;fillRule&quot;: &quot;evenodd&quot;, &quot;lineCap&quot;: &quot;round&quot;, &quot;lineJoin&quot;: &quot;round&quot;, &quot;opacity&quot;: 1.0, &quot;radius&quot;: 760000.0, &quot;stroke&quot;: true, &quot;weight&quot;: 3}\n",
       "            ).addTo(map_6d1e22dda92088ca39d2cd125c89418f);\n",
       "        \n",
       "    \n",
       "            circle_eb8034e359334f2a98c99df8d0853a21.bindTooltip(\n",
       "                `&lt;div&gt;\n",
       "                     &lt;div style=&#x27;margin: 0; background-color: black; color: white;&#x27;&gt;&lt;h4 style=&#x27;text-align:center;font-weight: bold&#x27;&gt;Switzerland&lt;/h4&gt;&lt;hr style=&#x27;margin:10px;color: white;&#x27;&gt;&lt;ul style=&#x27;color: white;;list-style-type:circle;align-item:left;padding-left:20px;padding-right:20px&#x27;&gt;&lt;li&gt;Confirmed: 4413911&lt;/li&gt;&lt;li&gt;Deaths:   1404&lt;/li&gt;&lt;li&gt;Death Rate: 0.03&lt;/li&gt;&lt;/ul&gt;&lt;/div&gt;\n",
       "                 &lt;/div&gt;`,\n",
       "                {&quot;sticky&quot;: true}\n",
       "            );\n",
       "        \n",
       "    \n",
       "            var circle_ea73853c1ad20dbe44d90ab21261bad5 = L.circle(\n",
       "                [34.802075, 38.996815],\n",
       "                {&quot;bubblingMouseEvents&quot;: true, &quot;color&quot;: &quot;red&quot;, &quot;dashArray&quot;: null, &quot;dashOffset&quot;: null, &quot;fill&quot;: true, &quot;fillColor&quot;: &quot;indigo&quot;, &quot;fillOpacity&quot;: 0.2, &quot;fillRule&quot;: &quot;evenodd&quot;, &quot;lineCap&quot;: &quot;round&quot;, &quot;lineJoin&quot;: &quot;round&quot;, &quot;opacity&quot;: 1.0, &quot;radius&quot;: 509999.99999999994, &quot;stroke&quot;: true, &quot;weight&quot;: 3}\n",
       "            ).addTo(map_6d1e22dda92088ca39d2cd125c89418f);\n",
       "        \n",
       "    \n",
       "            circle_ea73853c1ad20dbe44d90ab21261bad5.bindTooltip(\n",
       "                `&lt;div&gt;\n",
       "                     &lt;div style=&#x27;margin: 0; background-color: black; color: white;&#x27;&gt;&lt;h4 style=&#x27;text-align:center;font-weight: bold&#x27;&gt;Syria&lt;/h4&gt;&lt;hr style=&#x27;margin:10px;color: white;&#x27;&gt;&lt;ul style=&#x27;color: white;;list-style-type:circle;align-item:left;padding-left:20px;padding-right:20px&#x27;&gt;&lt;li&gt;Confirmed: 57467&lt;/li&gt;&lt;li&gt;Deaths:   23777&lt;/li&gt;&lt;li&gt;Death Rate: 41.37&lt;/li&gt;&lt;/ul&gt;&lt;/div&gt;\n",
       "                 &lt;/div&gt;`,\n",
       "                {&quot;sticky&quot;: true}\n",
       "            );\n",
       "        \n",
       "    \n",
       "            var circle_095c3945a89355f598f27381223d5958 = L.circle(\n",
       "                [23.7, 121.0],\n",
       "                {&quot;bubblingMouseEvents&quot;: true, &quot;color&quot;: &quot;red&quot;, &quot;dashArray&quot;: null, &quot;dashOffset&quot;: null, &quot;fill&quot;: true, &quot;fillColor&quot;: &quot;indigo&quot;, &quot;fillOpacity&quot;: 0.2, &quot;fillRule&quot;: &quot;evenodd&quot;, &quot;lineCap&quot;: &quot;round&quot;, &quot;lineJoin&quot;: &quot;round&quot;, &quot;opacity&quot;: 1.0, &quot;radius&quot;: 810000.0, &quot;stroke&quot;: true, &quot;weight&quot;: 3}\n",
       "            ).addTo(map_6d1e22dda92088ca39d2cd125c89418f);\n",
       "        \n",
       "    \n",
       "            circle_095c3945a89355f598f27381223d5958.bindTooltip(\n",
       "                `&lt;div&gt;\n",
       "                     &lt;div style=&#x27;margin: 0; background-color: black; color: white;&#x27;&gt;&lt;h4 style=&#x27;text-align:center;font-weight: bold&#x27;&gt;Taiwan*&lt;/h4&gt;&lt;hr style=&#x27;margin:10px;color: white;&#x27;&gt;&lt;ul style=&#x27;color: white;;list-style-type:circle;align-item:left;padding-left:20px;padding-right:20px&#x27;&gt;&lt;li&gt;Confirmed: 9970937&lt;/li&gt;&lt;li&gt;Deaths:   14210&lt;/li&gt;&lt;li&gt;Death Rate: 0.14&lt;/li&gt;&lt;/ul&gt;&lt;/div&gt;\n",
       "                 &lt;/div&gt;`,\n",
       "                {&quot;sticky&quot;: true}\n",
       "            );\n",
       "        \n",
       "    \n",
       "            var circle_ee4d9dada34d3cdf3927fd3766bf6690 = L.circle(\n",
       "                [38.861, 71.2761],\n",
       "                {&quot;bubblingMouseEvents&quot;: true, &quot;color&quot;: &quot;red&quot;, &quot;dashArray&quot;: null, &quot;dashOffset&quot;: null, &quot;fill&quot;: true, &quot;fillColor&quot;: &quot;indigo&quot;, &quot;fillOpacity&quot;: 0.2, &quot;fillRule&quot;: &quot;evenodd&quot;, &quot;lineCap&quot;: &quot;round&quot;, &quot;lineJoin&quot;: &quot;round&quot;, &quot;opacity&quot;: 1.0, &quot;radius&quot;: 459999.99999999994, &quot;stroke&quot;: true, &quot;weight&quot;: 3}\n",
       "            ).addTo(map_6d1e22dda92088ca39d2cd125c89418f);\n",
       "        \n",
       "    \n",
       "            circle_ee4d9dada34d3cdf3927fd3766bf6690.bindTooltip(\n",
       "                `&lt;div&gt;\n",
       "                     &lt;div style=&#x27;margin: 0; background-color: black; color: white;&#x27;&gt;&lt;h4 style=&#x27;text-align:center;font-weight: bold&#x27;&gt;Tajikistan&lt;/h4&gt;&lt;hr style=&#x27;margin:10px;color: white;&#x27;&gt;&lt;ul style=&#x27;color: white;;list-style-type:circle;align-item:left;padding-left:20px;padding-right:20px&#x27;&gt;&lt;li&gt;Confirmed: 17786&lt;/li&gt;&lt;li&gt;Deaths:   3164&lt;/li&gt;&lt;li&gt;Death Rate: 17.79&lt;/li&gt;&lt;/ul&gt;&lt;/div&gt;\n",
       "                 &lt;/div&gt;`,\n",
       "                {&quot;sticky&quot;: true}\n",
       "            );\n",
       "        \n",
       "    \n",
       "            var circle_692d39df2c8a90661c976af7e318a657 = L.circle(\n",
       "                [-6.369028, 34.888822],\n",
       "                {&quot;bubblingMouseEvents&quot;: true, &quot;color&quot;: &quot;red&quot;, &quot;dashArray&quot;: null, &quot;dashOffset&quot;: null, &quot;fill&quot;: true, &quot;fillColor&quot;: &quot;indigo&quot;, &quot;fillOpacity&quot;: 0.2, &quot;fillRule&quot;: &quot;evenodd&quot;, &quot;lineCap&quot;: &quot;round&quot;, &quot;lineJoin&quot;: &quot;round&quot;, &quot;opacity&quot;: 1.0, &quot;radius&quot;: 509999.99999999994, &quot;stroke&quot;: true, &quot;weight&quot;: 3}\n",
       "            ).addTo(map_6d1e22dda92088ca39d2cd125c89418f);\n",
       "        \n",
       "    \n",
       "            circle_692d39df2c8a90661c976af7e318a657.bindTooltip(\n",
       "                `&lt;div&gt;\n",
       "                     &lt;div style=&#x27;margin: 0; background-color: black; color: white;&#x27;&gt;&lt;h4 style=&#x27;text-align:center;font-weight: bold&#x27;&gt;Tanzania&lt;/h4&gt;&lt;hr style=&#x27;margin:10px;color: white;&#x27;&gt;&lt;ul style=&#x27;color: white;;list-style-type:circle;align-item:left;padding-left:20px;padding-right:20px&#x27;&gt;&lt;li&gt;Confirmed: 42906&lt;/li&gt;&lt;li&gt;Deaths:   17672&lt;/li&gt;&lt;li&gt;Death Rate: 41.19&lt;/li&gt;&lt;/ul&gt;&lt;/div&gt;\n",
       "                 &lt;/div&gt;`,\n",
       "                {&quot;sticky&quot;: true}\n",
       "            );\n",
       "        \n",
       "    \n",
       "            var circle_35586e646a78d5f7141818a7c3d2547b = L.circle(\n",
       "                [15.870032, 100.992541],\n",
       "                {&quot;bubblingMouseEvents&quot;: true, &quot;color&quot;: &quot;red&quot;, &quot;dashArray&quot;: null, &quot;dashOffset&quot;: null, &quot;fill&quot;: true, &quot;fillColor&quot;: &quot;indigo&quot;, &quot;fillOpacity&quot;: 0.2, &quot;fillRule&quot;: &quot;evenodd&quot;, &quot;lineCap&quot;: &quot;round&quot;, &quot;lineJoin&quot;: &quot;round&quot;, &quot;opacity&quot;: 1.0, &quot;radius&quot;: 760000.0, &quot;stroke&quot;: true, &quot;weight&quot;: 3}\n",
       "            ).addTo(map_6d1e22dda92088ca39d2cd125c89418f);\n",
       "        \n",
       "    \n",
       "            circle_35586e646a78d5f7141818a7c3d2547b.bindTooltip(\n",
       "                `&lt;div&gt;\n",
       "                     &lt;div style=&#x27;margin: 0; background-color: black; color: white;&#x27;&gt;&lt;h4 style=&#x27;text-align:center;font-weight: bold&#x27;&gt;Thailand&lt;/h4&gt;&lt;hr style=&#x27;margin:10px;color: white;&#x27;&gt;&lt;ul style=&#x27;color: white;;list-style-type:circle;align-item:left;padding-left:20px;padding-right:20px&#x27;&gt;&lt;li&gt;Confirmed: 4728182&lt;/li&gt;&lt;li&gt;Deaths:   125&lt;/li&gt;&lt;li&gt;Death Rate: 0.0&lt;/li&gt;&lt;/ul&gt;&lt;/div&gt;\n",
       "                 &lt;/div&gt;`,\n",
       "                {&quot;sticky&quot;: true}\n",
       "            );\n",
       "        \n",
       "    \n",
       "            var circle_fca8859a3733061cac37e1799be9c3c8 = L.circle(\n",
       "                [-8.874217, 125.727539],\n",
       "                {&quot;bubblingMouseEvents&quot;: true, &quot;color&quot;: &quot;red&quot;, &quot;dashArray&quot;: null, &quot;dashOffset&quot;: null, &quot;fill&quot;: true, &quot;fillColor&quot;: &quot;indigo&quot;, &quot;fillOpacity&quot;: 0.2, &quot;fillRule&quot;: &quot;evenodd&quot;, &quot;lineCap&quot;: &quot;round&quot;, &quot;lineJoin&quot;: &quot;round&quot;, &quot;opacity&quot;: 1.0, &quot;radius&quot;: 509999.99999999994, &quot;stroke&quot;: true, &quot;weight&quot;: 3}\n",
       "            ).addTo(map_6d1e22dda92088ca39d2cd125c89418f);\n",
       "        \n",
       "    \n",
       "            circle_fca8859a3733061cac37e1799be9c3c8.bindTooltip(\n",
       "                `&lt;div&gt;\n",
       "                     &lt;div style=&#x27;margin: 0; background-color: black; color: white;&#x27;&gt;&lt;h4 style=&#x27;text-align:center;font-weight: bold&#x27;&gt;Timor-Leste&lt;/h4&gt;&lt;hr style=&#x27;margin:10px;color: white;&#x27;&gt;&lt;ul style=&#x27;color: white;;list-style-type:circle;align-item:left;padding-left:20px;padding-right:20px&#x27;&gt;&lt;li&gt;Confirmed: 23419&lt;/li&gt;&lt;li&gt;Deaths:   846&lt;/li&gt;&lt;li&gt;Death Rate: 3.61&lt;/li&gt;&lt;/ul&gt;&lt;/div&gt;\n",
       "                 &lt;/div&gt;`,\n",
       "                {&quot;sticky&quot;: true}\n",
       "            );\n",
       "        \n",
       "    \n",
       "            var circle_99a6cd4bdefb715b8b70222bfb68ac3a = L.circle(\n",
       "                [8.6195, 0.8248],\n",
       "                {&quot;bubblingMouseEvents&quot;: true, &quot;color&quot;: &quot;red&quot;, &quot;dashArray&quot;: null, &quot;dashOffset&quot;: null, &quot;fill&quot;: true, &quot;fillColor&quot;: &quot;indigo&quot;, &quot;fillOpacity&quot;: 0.2, &quot;fillRule&quot;: &quot;evenodd&quot;, &quot;lineCap&quot;: &quot;round&quot;, &quot;lineJoin&quot;: &quot;round&quot;, &quot;opacity&quot;: 1.0, &quot;radius&quot;: 509999.99999999994, &quot;stroke&quot;: true, &quot;weight&quot;: 3}\n",
       "            ).addTo(map_6d1e22dda92088ca39d2cd125c89418f);\n",
       "        \n",
       "    \n",
       "            circle_99a6cd4bdefb715b8b70222bfb68ac3a.bindTooltip(\n",
       "                `&lt;div&gt;\n",
       "                     &lt;div style=&#x27;margin: 0; background-color: black; color: white;&#x27;&gt;&lt;h4 style=&#x27;text-align:center;font-weight: bold&#x27;&gt;Togo&lt;/h4&gt;&lt;hr style=&#x27;margin:10px;color: white;&#x27;&gt;&lt;ul style=&#x27;color: white;;list-style-type:circle;align-item:left;padding-left:20px;padding-right:20px&#x27;&gt;&lt;li&gt;Confirmed: 39396&lt;/li&gt;&lt;li&gt;Deaths:   33918&lt;/li&gt;&lt;li&gt;Death Rate: 86.09&lt;/li&gt;&lt;/ul&gt;&lt;/div&gt;\n",
       "                 &lt;/div&gt;`,\n",
       "                {&quot;sticky&quot;: true}\n",
       "            );\n",
       "        \n",
       "    \n",
       "            var circle_7ad85a776943565136f1cc2dbc6c01d8 = L.circle(\n",
       "                [-21.179, -175.1982],\n",
       "                {&quot;bubblingMouseEvents&quot;: true, &quot;color&quot;: &quot;red&quot;, &quot;dashArray&quot;: null, &quot;dashOffset&quot;: null, &quot;fill&quot;: true, &quot;fillColor&quot;: &quot;indigo&quot;, &quot;fillOpacity&quot;: 0.2, &quot;fillRule&quot;: &quot;evenodd&quot;, &quot;lineCap&quot;: &quot;round&quot;, &quot;lineJoin&quot;: &quot;round&quot;, &quot;opacity&quot;: 1.0, &quot;radius&quot;: 459999.99999999994, &quot;stroke&quot;: true, &quot;weight&quot;: 3}\n",
       "            ).addTo(map_6d1e22dda92088ca39d2cd125c89418f);\n",
       "        \n",
       "    \n",
       "            circle_7ad85a776943565136f1cc2dbc6c01d8.bindTooltip(\n",
       "                `&lt;div&gt;\n",
       "                     &lt;div style=&#x27;margin: 0; background-color: black; color: white;&#x27;&gt;&lt;h4 style=&#x27;text-align:center;font-weight: bold&#x27;&gt;Tonga&lt;/h4&gt;&lt;hr style=&#x27;margin:10px;color: white;&#x27;&gt;&lt;ul style=&#x27;color: white;;list-style-type:circle;align-item:left;padding-left:20px;padding-right:20px&#x27;&gt;&lt;li&gt;Confirmed: 16810&lt;/li&gt;&lt;li&gt;Deaths:   138&lt;/li&gt;&lt;li&gt;Death Rate: 0.82&lt;/li&gt;&lt;/ul&gt;&lt;/div&gt;\n",
       "                 &lt;/div&gt;`,\n",
       "                {&quot;sticky&quot;: true}\n",
       "            );\n",
       "        \n",
       "    \n",
       "            var circle_75f2f3d6850878988c4f7dd107902b1b = L.circle(\n",
       "                [10.6918, -61.2225],\n",
       "                {&quot;bubblingMouseEvents&quot;: true, &quot;color&quot;: &quot;red&quot;, &quot;dashArray&quot;: null, &quot;dashOffset&quot;: null, &quot;fill&quot;: true, &quot;fillColor&quot;: &quot;indigo&quot;, &quot;fillOpacity&quot;: 0.2, &quot;fillRule&quot;: &quot;evenodd&quot;, &quot;lineCap&quot;: &quot;round&quot;, &quot;lineJoin&quot;: &quot;round&quot;, &quot;opacity&quot;: 1.0, &quot;radius&quot;: 610000.0, &quot;stroke&quot;: true, &quot;weight&quot;: 3}\n",
       "            ).addTo(map_6d1e22dda92088ca39d2cd125c89418f);\n",
       "        \n",
       "    \n",
       "            circle_75f2f3d6850878988c4f7dd107902b1b.bindTooltip(\n",
       "                `&lt;div&gt;\n",
       "                     &lt;div style=&#x27;margin: 0; background-color: black; color: white;&#x27;&gt;&lt;h4 style=&#x27;text-align:center;font-weight: bold&#x27;&gt;Trinidad and Tobago&lt;/h4&gt;&lt;hr style=&#x27;margin:10px;color: white;&#x27;&gt;&lt;ul style=&#x27;color: white;;list-style-type:circle;align-item:left;padding-left:20px;padding-right:20px&#x27;&gt;&lt;li&gt;Confirmed: 189918&lt;/li&gt;&lt;li&gt;Deaths:   290&lt;/li&gt;&lt;li&gt;Death Rate: 0.15&lt;/li&gt;&lt;/ul&gt;&lt;/div&gt;\n",
       "                 &lt;/div&gt;`,\n",
       "                {&quot;sticky&quot;: true}\n",
       "            );\n",
       "        \n",
       "    \n",
       "            var circle_fb26e871b003eb327827db3b422f96ad = L.circle(\n",
       "                [33.886917, 9.537499],\n",
       "                {&quot;bubblingMouseEvents&quot;: true, &quot;color&quot;: &quot;red&quot;, &quot;dashArray&quot;: null, &quot;dashOffset&quot;: null, &quot;fill&quot;: true, &quot;fillColor&quot;: &quot;indigo&quot;, &quot;fillOpacity&quot;: 0.2, &quot;fillRule&quot;: &quot;evenodd&quot;, &quot;lineCap&quot;: &quot;round&quot;, &quot;lineJoin&quot;: &quot;round&quot;, &quot;opacity&quot;: 1.0, &quot;radius&quot;: 660000.0, &quot;stroke&quot;: true, &quot;weight&quot;: 3}\n",
       "            ).addTo(map_6d1e22dda92088ca39d2cd125c89418f);\n",
       "        \n",
       "    \n",
       "            circle_fb26e871b003eb327827db3b422f96ad.bindTooltip(\n",
       "                `&lt;div&gt;\n",
       "                     &lt;div style=&#x27;margin: 0; background-color: black; color: white;&#x27;&gt;&lt;h4 style=&#x27;text-align:center;font-weight: bold&#x27;&gt;Tunisia&lt;/h4&gt;&lt;hr style=&#x27;margin:10px;color: white;&#x27;&gt;&lt;ul style=&#x27;color: white;;list-style-type:circle;align-item:left;padding-left:20px;padding-right:20px&#x27;&gt;&lt;li&gt;Confirmed: 1151126&lt;/li&gt;&lt;li&gt;Deaths:   13&lt;/li&gt;&lt;li&gt;Death Rate: 0.0&lt;/li&gt;&lt;/ul&gt;&lt;/div&gt;\n",
       "                 &lt;/div&gt;`,\n",
       "                {&quot;sticky&quot;: true}\n",
       "            );\n",
       "        \n",
       "    \n",
       "            var circle_9fe2e0d3781d9a72226c792ef222a9a2 = L.circle(\n",
       "                [38.9637, 35.2433],\n",
       "                {&quot;bubblingMouseEvents&quot;: true, &quot;color&quot;: &quot;red&quot;, &quot;dashArray&quot;: null, &quot;dashOffset&quot;: null, &quot;fill&quot;: true, &quot;fillColor&quot;: &quot;indigo&quot;, &quot;fillOpacity&quot;: 0.2, &quot;fillRule&quot;: &quot;evenodd&quot;, &quot;lineCap&quot;: &quot;round&quot;, &quot;lineJoin&quot;: &quot;round&quot;, &quot;opacity&quot;: 1.0, &quot;radius&quot;: 810000.0, &quot;stroke&quot;: true, &quot;weight&quot;: 3}\n",
       "            ).addTo(map_6d1e22dda92088ca39d2cd125c89418f);\n",
       "        \n",
       "    \n",
       "            circle_9fe2e0d3781d9a72226c792ef222a9a2.bindTooltip(\n",
       "                `&lt;div&gt;\n",
       "                     &lt;div style=&#x27;margin: 0; background-color: black; color: white;&#x27;&gt;&lt;h4 style=&#x27;text-align:center;font-weight: bold&#x27;&gt;Turkey&lt;/h4&gt;&lt;hr style=&#x27;margin:10px;color: white;&#x27;&gt;&lt;ul style=&#x27;color: white;;list-style-type:circle;align-item:left;padding-left:20px;padding-right:20px&#x27;&gt;&lt;li&gt;Confirmed: 17042722&lt;/li&gt;&lt;li&gt;Deaths:   4355&lt;/li&gt;&lt;li&gt;Death Rate: 0.03&lt;/li&gt;&lt;/ul&gt;&lt;/div&gt;\n",
       "                 &lt;/div&gt;`,\n",
       "                {&quot;sticky&quot;: true}\n",
       "            );\n",
       "        \n",
       "    \n",
       "            var circle_725d9dd8742906ce4ee7415866b8b99d = L.circle(\n",
       "                [-7.1095, 177.6493],\n",
       "                {&quot;bubblingMouseEvents&quot;: true, &quot;color&quot;: &quot;red&quot;, &quot;dashArray&quot;: null, &quot;dashOffset&quot;: null, &quot;fill&quot;: true, &quot;fillColor&quot;: &quot;indigo&quot;, &quot;fillOpacity&quot;: 0.2, &quot;fillRule&quot;: &quot;evenodd&quot;, &quot;lineCap&quot;: &quot;round&quot;, &quot;lineJoin&quot;: &quot;round&quot;, &quot;opacity&quot;: 1.0, &quot;radius&quot;: 360000.0, &quot;stroke&quot;: true, &quot;weight&quot;: 3}\n",
       "            ).addTo(map_6d1e22dda92088ca39d2cd125c89418f);\n",
       "        \n",
       "    \n",
       "            circle_725d9dd8742906ce4ee7415866b8b99d.bindTooltip(\n",
       "                `&lt;div&gt;\n",
       "                     &lt;div style=&#x27;margin: 0; background-color: black; color: white;&#x27;&gt;&lt;h4 style=&#x27;text-align:center;font-weight: bold&#x27;&gt;Tuvalu&lt;/h4&gt;&lt;hr style=&#x27;margin:10px;color: white;&#x27;&gt;&lt;ul style=&#x27;color: white;;list-style-type:circle;align-item:left;padding-left:20px;padding-right:20px&#x27;&gt;&lt;li&gt;Confirmed: 2805&lt;/li&gt;&lt;li&gt;Deaths:   29341&lt;/li&gt;&lt;li&gt;Death Rate: 1045.65&lt;/li&gt;&lt;/ul&gt;&lt;/div&gt;\n",
       "                 &lt;/div&gt;`,\n",
       "                {&quot;sticky&quot;: true}\n",
       "            );\n",
       "        \n",
       "    \n",
       "            var circle_b929c683d1045d7bba104527075bc8ca = L.circle(\n",
       "                [40.0, -100.0],\n",
       "                {&quot;bubblingMouseEvents&quot;: true, &quot;color&quot;: &quot;red&quot;, &quot;dashArray&quot;: null, &quot;dashOffset&quot;: null, &quot;fill&quot;: true, &quot;fillColor&quot;: &quot;indigo&quot;, &quot;fillOpacity&quot;: 0.2, &quot;fillRule&quot;: &quot;evenodd&quot;, &quot;lineCap&quot;: &quot;round&quot;, &quot;lineJoin&quot;: &quot;round&quot;, &quot;opacity&quot;: 1.0, &quot;radius&quot;: 910000.0, &quot;stroke&quot;: true, &quot;weight&quot;: 3}\n",
       "            ).addTo(map_6d1e22dda92088ca39d2cd125c89418f);\n",
       "        \n",
       "    \n",
       "            circle_b929c683d1045d7bba104527075bc8ca.bindTooltip(\n",
       "                `&lt;div&gt;\n",
       "                     &lt;div style=&#x27;margin: 0; background-color: black; color: white;&#x27;&gt;&lt;h4 style=&#x27;text-align:center;font-weight: bold&#x27;&gt;US&lt;/h4&gt;&lt;hr style=&#x27;margin:10px;color: white;&#x27;&gt;&lt;ul style=&#x27;color: white;;list-style-type:circle;align-item:left;padding-left:20px;padding-right:20px&#x27;&gt;&lt;li&gt;Confirmed: 103802702&lt;/li&gt;&lt;li&gt;Deaths:   101492&lt;/li&gt;&lt;li&gt;Death Rate: 0.1&lt;/li&gt;&lt;/ul&gt;&lt;/div&gt;\n",
       "                 &lt;/div&gt;`,\n",
       "                {&quot;sticky&quot;: true}\n",
       "            );\n",
       "        \n",
       "    \n",
       "            var circle_01b962f4c0cfd75846e0b37d60087660 = L.circle(\n",
       "                [1.373333, 32.290275],\n",
       "                {&quot;bubblingMouseEvents&quot;: true, &quot;color&quot;: &quot;red&quot;, &quot;dashArray&quot;: null, &quot;dashOffset&quot;: null, &quot;fill&quot;: true, &quot;fillColor&quot;: &quot;indigo&quot;, &quot;fillOpacity&quot;: 0.2, &quot;fillRule&quot;: &quot;evenodd&quot;, &quot;lineCap&quot;: &quot;round&quot;, &quot;lineJoin&quot;: &quot;round&quot;, &quot;opacity&quot;: 1.0, &quot;radius&quot;: 610000.0, &quot;stroke&quot;: true, &quot;weight&quot;: 3}\n",
       "            ).addTo(map_6d1e22dda92088ca39d2cd125c89418f);\n",
       "        \n",
       "    \n",
       "            circle_01b962f4c0cfd75846e0b37d60087660.bindTooltip(\n",
       "                `&lt;div&gt;\n",
       "                     &lt;div style=&#x27;margin: 0; background-color: black; color: white;&#x27;&gt;&lt;h4 style=&#x27;text-align:center;font-weight: bold&#x27;&gt;Uganda&lt;/h4&gt;&lt;hr style=&#x27;margin:10px;color: white;&#x27;&gt;&lt;ul style=&#x27;color: white;;list-style-type:circle;align-item:left;padding-left:20px;padding-right:20px&#x27;&gt;&lt;li&gt;Confirmed: 170544&lt;/li&gt;&lt;li&gt;Deaths:   0&lt;/li&gt;&lt;li&gt;Death Rate: 0.0&lt;/li&gt;&lt;/ul&gt;&lt;/div&gt;\n",
       "                 &lt;/div&gt;`,\n",
       "                {&quot;sticky&quot;: true}\n",
       "            );\n",
       "        \n",
       "    \n",
       "            var circle_0db9414baf17f9517a2ab9e74180227f = L.circle(\n",
       "                [48.3794, 31.1656],\n",
       "                {&quot;bubblingMouseEvents&quot;: true, &quot;color&quot;: &quot;red&quot;, &quot;dashArray&quot;: null, &quot;dashOffset&quot;: null, &quot;fill&quot;: true, &quot;fillColor&quot;: &quot;indigo&quot;, &quot;fillOpacity&quot;: 0.2, &quot;fillRule&quot;: &quot;evenodd&quot;, &quot;lineCap&quot;: &quot;round&quot;, &quot;lineJoin&quot;: &quot;round&quot;, &quot;opacity&quot;: 1.0, &quot;radius&quot;: 760000.0, &quot;stroke&quot;: true, &quot;weight&quot;: 3}\n",
       "            ).addTo(map_6d1e22dda92088ca39d2cd125c89418f);\n",
       "        \n",
       "    \n",
       "            circle_0db9414baf17f9517a2ab9e74180227f.bindTooltip(\n",
       "                `&lt;div&gt;\n",
       "                     &lt;div style=&#x27;margin: 0; background-color: black; color: white;&#x27;&gt;&lt;h4 style=&#x27;text-align:center;font-weight: bold&#x27;&gt;Ukraine&lt;/h4&gt;&lt;hr style=&#x27;margin:10px;color: white;&#x27;&gt;&lt;ul style=&#x27;color: white;;list-style-type:circle;align-item:left;padding-left:20px;padding-right:20px&#x27;&gt;&lt;li&gt;Confirmed: 5711929&lt;/li&gt;&lt;li&gt;Deaths:   1123836&lt;/li&gt;&lt;li&gt;Death Rate: 19.68&lt;/li&gt;&lt;/ul&gt;&lt;/div&gt;\n",
       "                 &lt;/div&gt;`,\n",
       "                {&quot;sticky&quot;: true}\n",
       "            );\n",
       "        \n",
       "    \n",
       "            var circle_a117a22f06f943d100af0e84339e9b53 = L.circle(\n",
       "                [23.424076, 53.847818],\n",
       "                {&quot;bubblingMouseEvents&quot;: true, &quot;color&quot;: &quot;red&quot;, &quot;dashArray&quot;: null, &quot;dashOffset&quot;: null, &quot;fill&quot;: true, &quot;fillColor&quot;: &quot;indigo&quot;, &quot;fillOpacity&quot;: 0.2, &quot;fillRule&quot;: &quot;evenodd&quot;, &quot;lineCap&quot;: &quot;round&quot;, &quot;lineJoin&quot;: &quot;round&quot;, &quot;opacity&quot;: 1.0, &quot;radius&quot;: 660000.0, &quot;stroke&quot;: true, &quot;weight&quot;: 3}\n",
       "            ).addTo(map_6d1e22dda92088ca39d2cd125c89418f);\n",
       "        \n",
       "    \n",
       "            circle_a117a22f06f943d100af0e84339e9b53.bindTooltip(\n",
       "                `&lt;div&gt;\n",
       "                     &lt;div style=&#x27;margin: 0; background-color: black; color: white;&#x27;&gt;&lt;h4 style=&#x27;text-align:center;font-weight: bold&#x27;&gt;United Arab Emirates&lt;/h4&gt;&lt;hr style=&#x27;margin:10px;color: white;&#x27;&gt;&lt;ul style=&#x27;color: white;;list-style-type:circle;align-item:left;padding-left:20px;padding-right:20px&#x27;&gt;&lt;li&gt;Confirmed: 1053213&lt;/li&gt;&lt;li&gt;Deaths:   3630&lt;/li&gt;&lt;li&gt;Death Rate: 0.34&lt;/li&gt;&lt;/ul&gt;&lt;/div&gt;\n",
       "                 &lt;/div&gt;`,\n",
       "                {&quot;sticky&quot;: true}\n",
       "            );\n",
       "        \n",
       "    \n",
       "            var circle_8df58fd24cf0a81b7cd14f6107b45cb1 = L.circle(\n",
       "                [18.2206, -63.0686],\n",
       "                {&quot;bubblingMouseEvents&quot;: true, &quot;color&quot;: &quot;red&quot;, &quot;dashArray&quot;: null, &quot;dashOffset&quot;: null, &quot;fill&quot;: true, &quot;fillColor&quot;: &quot;indigo&quot;, &quot;fillOpacity&quot;: 0.2, &quot;fillRule&quot;: &quot;evenodd&quot;, &quot;lineCap&quot;: &quot;round&quot;, &quot;lineJoin&quot;: &quot;round&quot;, &quot;opacity&quot;: 1.0, &quot;radius&quot;: 409999.99999999994, &quot;stroke&quot;: true, &quot;weight&quot;: 3}\n",
       "            ).addTo(map_6d1e22dda92088ca39d2cd125c89418f);\n",
       "        \n",
       "    \n",
       "            circle_8df58fd24cf0a81b7cd14f6107b45cb1.bindTooltip(\n",
       "                `&lt;div&gt;\n",
       "                     &lt;div style=&#x27;margin: 0; background-color: black; color: white;&#x27;&gt;&lt;h4 style=&#x27;text-align:center;font-weight: bold&#x27;&gt;United Kingdom&lt;/h4&gt;&lt;hr style=&#x27;margin:10px;color: white;&#x27;&gt;&lt;ul style=&#x27;color: white;;list-style-type:circle;align-item:left;padding-left:20px;padding-right:20px&#x27;&gt;&lt;li&gt;Confirmed: 3904&lt;/li&gt;&lt;li&gt;Deaths:   119283&lt;/li&gt;&lt;li&gt;Death Rate: 3054.62&lt;/li&gt;&lt;/ul&gt;&lt;/div&gt;\n",
       "                 &lt;/div&gt;`,\n",
       "                {&quot;sticky&quot;: true}\n",
       "            );\n",
       "        \n",
       "    \n",
       "            var circle_4f608abb663e46f11dff071611d2666b = L.circle(\n",
       "                [32.3078, -64.7505],\n",
       "                {&quot;bubblingMouseEvents&quot;: true, &quot;color&quot;: &quot;red&quot;, &quot;dashArray&quot;: null, &quot;dashOffset&quot;: null, &quot;fill&quot;: true, &quot;fillColor&quot;: &quot;indigo&quot;, &quot;fillOpacity&quot;: 0.2, &quot;fillRule&quot;: &quot;evenodd&quot;, &quot;lineCap&quot;: &quot;round&quot;, &quot;lineJoin&quot;: &quot;round&quot;, &quot;opacity&quot;: 1.0, &quot;radius&quot;: 459999.99999999994, &quot;stroke&quot;: true, &quot;weight&quot;: 3}\n",
       "            ).addTo(map_6d1e22dda92088ca39d2cd125c89418f);\n",
       "        \n",
       "    \n",
       "            circle_4f608abb663e46f11dff071611d2666b.bindTooltip(\n",
       "                `&lt;div&gt;\n",
       "                     &lt;div style=&#x27;margin: 0; background-color: black; color: white;&#x27;&gt;&lt;h4 style=&#x27;text-align:center;font-weight: bold&#x27;&gt;United Kingdom&lt;/h4&gt;&lt;hr style=&#x27;margin:10px;color: white;&#x27;&gt;&lt;ul style=&#x27;color: white;;list-style-type:circle;align-item:left;padding-left:20px;padding-right:20px&#x27;&gt;&lt;li&gt;Confirmed: 18828&lt;/li&gt;&lt;li&gt;Deaths:   2349&lt;/li&gt;&lt;li&gt;Death Rate: 12.48&lt;/li&gt;&lt;/ul&gt;&lt;/div&gt;\n",
       "                 &lt;/div&gt;`,\n",
       "                {&quot;sticky&quot;: true}\n",
       "            );\n",
       "        \n",
       "    \n",
       "            var circle_9b6cbd0287f69af8341491c3523eb0f9 = L.circle(\n",
       "                [18.4207, -64.64],\n",
       "                {&quot;bubblingMouseEvents&quot;: true, &quot;color&quot;: &quot;red&quot;, &quot;dashArray&quot;: null, &quot;dashOffset&quot;: null, &quot;fill&quot;: true, &quot;fillColor&quot;: &quot;indigo&quot;, &quot;fillOpacity&quot;: 0.2, &quot;fillRule&quot;: &quot;evenodd&quot;, &quot;lineCap&quot;: &quot;round&quot;, &quot;lineJoin&quot;: &quot;round&quot;, &quot;opacity&quot;: 1.0, &quot;radius&quot;: 409999.99999999994, &quot;stroke&quot;: true, &quot;weight&quot;: 3}\n",
       "            ).addTo(map_6d1e22dda92088ca39d2cd125c89418f);\n",
       "        \n",
       "    \n",
       "            circle_9b6cbd0287f69af8341491c3523eb0f9.bindTooltip(\n",
       "                `&lt;div&gt;\n",
       "                     &lt;div style=&#x27;margin: 0; background-color: black; color: white;&#x27;&gt;&lt;h4 style=&#x27;text-align:center;font-weight: bold&#x27;&gt;United Kingdom&lt;/h4&gt;&lt;hr style=&#x27;margin:10px;color: white;&#x27;&gt;&lt;ul style=&#x27;color: white;;list-style-type:circle;align-item:left;padding-left:20px;padding-right:20px&#x27;&gt;&lt;li&gt;Confirmed: 7305&lt;/li&gt;&lt;li&gt;Deaths:   12&lt;/li&gt;&lt;li&gt;Death Rate: 0.16&lt;/li&gt;&lt;/ul&gt;&lt;/div&gt;\n",
       "                 &lt;/div&gt;`,\n",
       "                {&quot;sticky&quot;: true}\n",
       "            );\n",
       "        \n",
       "    \n",
       "            var circle_1bd3053a81d01bdb1d1b12de9dad1d8d = L.circle(\n",
       "                [19.3133, -81.2546],\n",
       "                {&quot;bubblingMouseEvents&quot;: true, &quot;color&quot;: &quot;red&quot;, &quot;dashArray&quot;: null, &quot;dashOffset&quot;: null, &quot;fill&quot;: true, &quot;fillColor&quot;: &quot;indigo&quot;, &quot;fillOpacity&quot;: 0.2, &quot;fillRule&quot;: &quot;evenodd&quot;, &quot;lineCap&quot;: &quot;round&quot;, &quot;lineJoin&quot;: &quot;round&quot;, &quot;opacity&quot;: 1.0, &quot;radius&quot;: 509999.99999999994, &quot;stroke&quot;: true, &quot;weight&quot;: 3}\n",
       "            ).addTo(map_6d1e22dda92088ca39d2cd125c89418f);\n",
       "        \n",
       "    \n",
       "            circle_1bd3053a81d01bdb1d1b12de9dad1d8d.bindTooltip(\n",
       "                `&lt;div&gt;\n",
       "                     &lt;div style=&#x27;margin: 0; background-color: black; color: white;&#x27;&gt;&lt;h4 style=&#x27;text-align:center;font-weight: bold&#x27;&gt;United Kingdom&lt;/h4&gt;&lt;hr style=&#x27;margin:10px;color: white;&#x27;&gt;&lt;ul style=&#x27;color: white;;list-style-type:circle;align-item:left;padding-left:20px;padding-right:20px&#x27;&gt;&lt;li&gt;Confirmed: 31472&lt;/li&gt;&lt;li&gt;Deaths:   160&lt;/li&gt;&lt;li&gt;Death Rate: 0.51&lt;/li&gt;&lt;/ul&gt;&lt;/div&gt;\n",
       "                 &lt;/div&gt;`,\n",
       "                {&quot;sticky&quot;: true}\n",
       "            );\n",
       "        \n",
       "    \n",
       "            var circle_21c98c70600cef35c2eb0fb053a2255d = L.circle(\n",
       "                [49.3723, -2.3644],\n",
       "                {&quot;bubblingMouseEvents&quot;: true, &quot;color&quot;: &quot;red&quot;, &quot;dashArray&quot;: null, &quot;dashOffset&quot;: null, &quot;fill&quot;: true, &quot;fillColor&quot;: &quot;indigo&quot;, &quot;fillOpacity&quot;: 0.2, &quot;fillRule&quot;: &quot;evenodd&quot;, &quot;lineCap&quot;: &quot;round&quot;, &quot;lineJoin&quot;: &quot;round&quot;, &quot;opacity&quot;: 1.0, &quot;radius&quot;: 10000.0, &quot;stroke&quot;: true, &quot;weight&quot;: 3}\n",
       "            ).addTo(map_6d1e22dda92088ca39d2cd125c89418f);\n",
       "        \n",
       "    \n",
       "            circle_21c98c70600cef35c2eb0fb053a2255d.bindTooltip(\n",
       "                `&lt;div&gt;\n",
       "                     &lt;div style=&#x27;margin: 0; background-color: black; color: white;&#x27;&gt;&lt;h4 style=&#x27;text-align:center;font-weight: bold&#x27;&gt;United Kingdom&lt;/h4&gt;&lt;hr style=&#x27;margin:10px;color: white;&#x27;&gt;&lt;ul style=&#x27;color: white;;list-style-type:circle;align-item:left;padding-left:20px;padding-right:20px&#x27;&gt;&lt;li&gt;Confirmed: 0&lt;/li&gt;&lt;li&gt;Deaths:   64&lt;/li&gt;&lt;li&gt;Death Rate: 6399.94&lt;/li&gt;&lt;/ul&gt;&lt;/div&gt;\n",
       "                 &lt;/div&gt;`,\n",
       "                {&quot;sticky&quot;: true}\n",
       "            );\n",
       "        \n",
       "    \n",
       "            var circle_b5cfef491505ea44f2b8a3dc4610441d = L.circle(\n",
       "                [-51.7963, -59.5236],\n",
       "                {&quot;bubblingMouseEvents&quot;: true, &quot;color&quot;: &quot;red&quot;, &quot;dashArray&quot;: null, &quot;dashOffset&quot;: null, &quot;fill&quot;: true, &quot;fillColor&quot;: &quot;indigo&quot;, &quot;fillOpacity&quot;: 0.2, &quot;fillRule&quot;: &quot;evenodd&quot;, &quot;lineCap&quot;: &quot;round&quot;, &quot;lineJoin&quot;: &quot;round&quot;, &quot;opacity&quot;: 1.0, &quot;radius&quot;: 360000.0, &quot;stroke&quot;: true, &quot;weight&quot;: 3}\n",
       "            ).addTo(map_6d1e22dda92088ca39d2cd125c89418f);\n",
       "        \n",
       "    \n",
       "            circle_b5cfef491505ea44f2b8a3dc4610441d.bindTooltip(\n",
       "                `&lt;div&gt;\n",
       "                     &lt;div style=&#x27;margin: 0; background-color: black; color: white;&#x27;&gt;&lt;h4 style=&#x27;text-align:center;font-weight: bold&#x27;&gt;United Kingdom&lt;/h4&gt;&lt;hr style=&#x27;margin:10px;color: white;&#x27;&gt;&lt;ul style=&#x27;color: white;;list-style-type:circle;align-item:left;padding-left:20px;padding-right:20px&#x27;&gt;&lt;li&gt;Confirmed: 1930&lt;/li&gt;&lt;li&gt;Deaths:   37&lt;/li&gt;&lt;li&gt;Death Rate: 1.92&lt;/li&gt;&lt;/ul&gt;&lt;/div&gt;\n",
       "                 &lt;/div&gt;`,\n",
       "                {&quot;sticky&quot;: true}\n",
       "            );\n",
       "        \n",
       "    \n",
       "            var circle_58d6ada5091a6c053466f08cfc282274 = L.circle(\n",
       "                [36.1408, -5.3536],\n",
       "                {&quot;bubblingMouseEvents&quot;: true, &quot;color&quot;: &quot;red&quot;, &quot;dashArray&quot;: null, &quot;dashOffset&quot;: null, &quot;fill&quot;: true, &quot;fillColor&quot;: &quot;indigo&quot;, &quot;fillOpacity&quot;: 0.2, &quot;fillRule&quot;: &quot;evenodd&quot;, &quot;lineCap&quot;: &quot;round&quot;, &quot;lineJoin&quot;: &quot;round&quot;, &quot;opacity&quot;: 1.0, &quot;radius&quot;: 459999.99999999994, &quot;stroke&quot;: true, &quot;weight&quot;: 3}\n",
       "            ).addTo(map_6d1e22dda92088ca39d2cd125c89418f);\n",
       "        \n",
       "    \n",
       "            circle_58d6ada5091a6c053466f08cfc282274.bindTooltip(\n",
       "                `&lt;div&gt;\n",
       "                     &lt;div style=&#x27;margin: 0; background-color: black; color: white;&#x27;&gt;&lt;h4 style=&#x27;text-align:center;font-weight: bold&#x27;&gt;United Kingdom&lt;/h4&gt;&lt;hr style=&#x27;margin:10px;color: white;&#x27;&gt;&lt;ul style=&#x27;color: white;;list-style-type:circle;align-item:left;padding-left:20px;padding-right:20px&#x27;&gt;&lt;li&gt;Confirmed: 20433&lt;/li&gt;&lt;li&gt;Deaths:   0&lt;/li&gt;&lt;li&gt;Death Rate: 0.0&lt;/li&gt;&lt;/ul&gt;&lt;/div&gt;\n",
       "                 &lt;/div&gt;`,\n",
       "                {&quot;sticky&quot;: true}\n",
       "            );\n",
       "        \n",
       "    \n",
       "            var circle_6d01d6f007735e6f2daeac8671dc9d37 = L.circle(\n",
       "                [49.448196, -2.58949],\n",
       "                {&quot;bubblingMouseEvents&quot;: true, &quot;color&quot;: &quot;red&quot;, &quot;dashArray&quot;: null, &quot;dashOffset&quot;: null, &quot;fill&quot;: true, &quot;fillColor&quot;: &quot;indigo&quot;, &quot;fillOpacity&quot;: 0.2, &quot;fillRule&quot;: &quot;evenodd&quot;, &quot;lineCap&quot;: &quot;round&quot;, &quot;lineJoin&quot;: &quot;round&quot;, &quot;opacity&quot;: 1.0, &quot;radius&quot;: 509999.99999999994, &quot;stroke&quot;: true, &quot;weight&quot;: 3}\n",
       "            ).addTo(map_6d1e22dda92088ca39d2cd125c89418f);\n",
       "        \n",
       "    \n",
       "            circle_6d01d6f007735e6f2daeac8671dc9d37.bindTooltip(\n",
       "                `&lt;div&gt;\n",
       "                     &lt;div style=&#x27;margin: 0; background-color: black; color: white;&#x27;&gt;&lt;h4 style=&#x27;text-align:center;font-weight: bold&#x27;&gt;United Kingdom&lt;/h4&gt;&lt;hr style=&#x27;margin:10px;color: white;&#x27;&gt;&lt;ul style=&#x27;color: white;;list-style-type:circle;align-item:left;padding-left:20px;padding-right:20px&#x27;&gt;&lt;li&gt;Confirmed: 34991&lt;/li&gt;&lt;li&gt;Deaths:   0&lt;/li&gt;&lt;li&gt;Death Rate: 0.0&lt;/li&gt;&lt;/ul&gt;&lt;/div&gt;\n",
       "                 &lt;/div&gt;`,\n",
       "                {&quot;sticky&quot;: true}\n",
       "            );\n",
       "        \n",
       "    \n",
       "            var circle_1f2c7fd30ed74b58ab22d3ebb5c79be6 = L.circle(\n",
       "                [54.2361, -4.5481],\n",
       "                {&quot;bubblingMouseEvents&quot;: true, &quot;color&quot;: &quot;red&quot;, &quot;dashArray&quot;: null, &quot;dashOffset&quot;: null, &quot;fill&quot;: true, &quot;fillColor&quot;: &quot;indigo&quot;, &quot;fillOpacity&quot;: 0.2, &quot;fillRule&quot;: &quot;evenodd&quot;, &quot;lineCap&quot;: &quot;round&quot;, &quot;lineJoin&quot;: &quot;round&quot;, &quot;opacity&quot;: 1.0, &quot;radius&quot;: 509999.99999999994, &quot;stroke&quot;: true, &quot;weight&quot;: 3}\n",
       "            ).addTo(map_6d1e22dda92088ca39d2cd125c89418f);\n",
       "        \n",
       "    \n",
       "            circle_1f2c7fd30ed74b58ab22d3ebb5c79be6.bindTooltip(\n",
       "                `&lt;div&gt;\n",
       "                     &lt;div style=&#x27;margin: 0; background-color: black; color: white;&#x27;&gt;&lt;h4 style=&#x27;text-align:center;font-weight: bold&#x27;&gt;United Kingdom&lt;/h4&gt;&lt;hr style=&#x27;margin:10px;color: white;&#x27;&gt;&lt;ul style=&#x27;color: white;;list-style-type:circle;align-item:left;padding-left:20px;padding-right:20px&#x27;&gt;&lt;li&gt;Confirmed: 38008&lt;/li&gt;&lt;li&gt;Deaths:   111&lt;/li&gt;&lt;li&gt;Death Rate: 0.29&lt;/li&gt;&lt;/ul&gt;&lt;/div&gt;\n",
       "                 &lt;/div&gt;`,\n",
       "                {&quot;sticky&quot;: true}\n",
       "            );\n",
       "        \n",
       "    \n",
       "            var circle_33eab7944ad720ff6b55bd94c6a0a693 = L.circle(\n",
       "                [49.2138, -2.1358],\n",
       "                {&quot;bubblingMouseEvents&quot;: true, &quot;color&quot;: &quot;red&quot;, &quot;dashArray&quot;: null, &quot;dashOffset&quot;: null, &quot;fill&quot;: true, &quot;fillColor&quot;: &quot;indigo&quot;, &quot;fillOpacity&quot;: 0.2, &quot;fillRule&quot;: &quot;evenodd&quot;, &quot;lineCap&quot;: &quot;round&quot;, &quot;lineJoin&quot;: &quot;round&quot;, &quot;opacity&quot;: 1.0, &quot;radius&quot;: 560000.0, &quot;stroke&quot;: true, &quot;weight&quot;: 3}\n",
       "            ).addTo(map_6d1e22dda92088ca39d2cd125c89418f);\n",
       "        \n",
       "    \n",
       "            circle_33eab7944ad720ff6b55bd94c6a0a693.bindTooltip(\n",
       "                `&lt;div&gt;\n",
       "                     &lt;div style=&#x27;margin: 0; background-color: black; color: white;&#x27;&gt;&lt;h4 style=&#x27;text-align:center;font-weight: bold&#x27;&gt;United Kingdom&lt;/h4&gt;&lt;hr style=&#x27;margin:10px;color: white;&#x27;&gt;&lt;ul style=&#x27;color: white;;list-style-type:circle;align-item:left;padding-left:20px;padding-right:20px&#x27;&gt;&lt;li&gt;Confirmed: 66391&lt;/li&gt;&lt;li&gt;Deaths:   66&lt;/li&gt;&lt;li&gt;Death Rate: 0.1&lt;/li&gt;&lt;/ul&gt;&lt;/div&gt;\n",
       "                 &lt;/div&gt;`,\n",
       "                {&quot;sticky&quot;: true}\n",
       "            );\n",
       "        \n",
       "    \n",
       "            var circle_c676273a645fddc37f017e9be260abba = L.circle(\n",
       "                [16.742498, -62.187366],\n",
       "                {&quot;bubblingMouseEvents&quot;: true, &quot;color&quot;: &quot;red&quot;, &quot;dashArray&quot;: null, &quot;dashOffset&quot;: null, &quot;fill&quot;: true, &quot;fillColor&quot;: &quot;indigo&quot;, &quot;fillOpacity&quot;: 0.2, &quot;fillRule&quot;: &quot;evenodd&quot;, &quot;lineCap&quot;: &quot;round&quot;, &quot;lineJoin&quot;: &quot;round&quot;, &quot;opacity&quot;: 1.0, &quot;radius&quot;: 360000.0, &quot;stroke&quot;: true, &quot;weight&quot;: 3}\n",
       "            ).addTo(map_6d1e22dda92088ca39d2cd125c89418f);\n",
       "        \n",
       "    \n",
       "            circle_c676273a645fddc37f017e9be260abba.bindTooltip(\n",
       "                `&lt;div&gt;\n",
       "                     &lt;div style=&#x27;margin: 0; background-color: black; color: white;&#x27;&gt;&lt;h4 style=&#x27;text-align:center;font-weight: bold&#x27;&gt;United Kingdom&lt;/h4&gt;&lt;hr style=&#x27;margin:10px;color: white;&#x27;&gt;&lt;ul style=&#x27;color: white;;list-style-type:circle;align-item:left;padding-left:20px;padding-right:20px&#x27;&gt;&lt;li&gt;Confirmed: 1403&lt;/li&gt;&lt;li&gt;Deaths:   116&lt;/li&gt;&lt;li&gt;Death Rate: 8.26&lt;/li&gt;&lt;/ul&gt;&lt;/div&gt;\n",
       "                 &lt;/div&gt;`,\n",
       "                {&quot;sticky&quot;: true}\n",
       "            );\n",
       "        \n",
       "    \n",
       "            var circle_8778acd921a6625967f4eababe3adcf4 = L.circle(\n",
       "                [-24.3768, -128.3242],\n",
       "                {&quot;bubblingMouseEvents&quot;: true, &quot;color&quot;: &quot;red&quot;, &quot;dashArray&quot;: null, &quot;dashOffset&quot;: null, &quot;fill&quot;: true, &quot;fillColor&quot;: &quot;indigo&quot;, &quot;fillOpacity&quot;: 0.2, &quot;fillRule&quot;: &quot;evenodd&quot;, &quot;lineCap&quot;: &quot;round&quot;, &quot;lineJoin&quot;: &quot;round&quot;, &quot;opacity&quot;: 1.0, &quot;radius&quot;: 60000.0, &quot;stroke&quot;: true, &quot;weight&quot;: 3}\n",
       "            ).addTo(map_6d1e22dda92088ca39d2cd125c89418f);\n",
       "        \n",
       "    \n",
       "            circle_8778acd921a6625967f4eababe3adcf4.bindTooltip(\n",
       "                `&lt;div&gt;\n",
       "                     &lt;div style=&#x27;margin: 0; background-color: black; color: white;&#x27;&gt;&lt;h4 style=&#x27;text-align:center;font-weight: bold&#x27;&gt;United Kingdom&lt;/h4&gt;&lt;hr style=&#x27;margin:10px;color: white;&#x27;&gt;&lt;ul style=&#x27;color: white;;list-style-type:circle;align-item:left;padding-left:20px;padding-right:20px&#x27;&gt;&lt;li&gt;Confirmed: 4&lt;/li&gt;&lt;li&gt;Deaths:   161&lt;/li&gt;&lt;li&gt;Death Rate: 3219.99&lt;/li&gt;&lt;/ul&gt;&lt;/div&gt;\n",
       "                 &lt;/div&gt;`,\n",
       "                {&quot;sticky&quot;: true}\n",
       "            );\n",
       "        \n",
       "    \n",
       "            var circle_b98e1779ee4dfd56fa35b8efee1ff1c2 = L.circle(\n",
       "                [-7.9467, -14.3559],\n",
       "                {&quot;bubblingMouseEvents&quot;: true, &quot;color&quot;: &quot;red&quot;, &quot;dashArray&quot;: null, &quot;dashOffset&quot;: null, &quot;fill&quot;: true, &quot;fillColor&quot;: &quot;indigo&quot;, &quot;fillOpacity&quot;: 0.2, &quot;fillRule&quot;: &quot;evenodd&quot;, &quot;lineCap&quot;: &quot;round&quot;, &quot;lineJoin&quot;: &quot;round&quot;, &quot;opacity&quot;: 1.0, &quot;radius&quot;: 360000.0, &quot;stroke&quot;: true, &quot;weight&quot;: 3}\n",
       "            ).addTo(map_6d1e22dda92088ca39d2cd125c89418f);\n",
       "        \n",
       "    \n",
       "            circle_b98e1779ee4dfd56fa35b8efee1ff1c2.bindTooltip(\n",
       "                `&lt;div&gt;\n",
       "                     &lt;div style=&#x27;margin: 0; background-color: black; color: white;&#x27;&gt;&lt;h4 style=&#x27;text-align:center;font-weight: bold&#x27;&gt;United Kingdom&lt;/h4&gt;&lt;hr style=&#x27;margin:10px;color: white;&#x27;&gt;&lt;ul style=&#x27;color: white;;list-style-type:circle;align-item:left;padding-left:20px;padding-right:20px&#x27;&gt;&lt;li&gt;Confirmed: 2166&lt;/li&gt;&lt;li&gt;Deaths:   8&lt;/li&gt;&lt;li&gt;Death Rate: 0.37&lt;/li&gt;&lt;/ul&gt;&lt;/div&gt;\n",
       "                 &lt;/div&gt;`,\n",
       "                {&quot;sticky&quot;: true}\n",
       "            );\n",
       "        \n",
       "    \n",
       "            var circle_66c8cdbd78d57a747861eb68367a2f5a = L.circle(\n",
       "                [21.694, -71.7979],\n",
       "                {&quot;bubblingMouseEvents&quot;: true, &quot;color&quot;: &quot;red&quot;, &quot;dashArray&quot;: null, &quot;dashOffset&quot;: null, &quot;fill&quot;: true, &quot;fillColor&quot;: &quot;indigo&quot;, &quot;fillOpacity&quot;: 0.2, &quot;fillRule&quot;: &quot;evenodd&quot;, &quot;lineCap&quot;: &quot;round&quot;, &quot;lineJoin&quot;: &quot;round&quot;, &quot;opacity&quot;: 1.0, &quot;radius&quot;: 409999.99999999994, &quot;stroke&quot;: true, &quot;weight&quot;: 3}\n",
       "            ).addTo(map_6d1e22dda92088ca39d2cd125c89418f);\n",
       "        \n",
       "    \n",
       "            circle_66c8cdbd78d57a747861eb68367a2f5a.bindTooltip(\n",
       "                `&lt;div&gt;\n",
       "                     &lt;div style=&#x27;margin: 0; background-color: black; color: white;&#x27;&gt;&lt;h4 style=&#x27;text-align:center;font-weight: bold&#x27;&gt;United Kingdom&lt;/h4&gt;&lt;hr style=&#x27;margin:10px;color: white;&#x27;&gt;&lt;ul style=&#x27;color: white;;list-style-type:circle;align-item:left;padding-left:20px;padding-right:20px&#x27;&gt;&lt;li&gt;Confirmed: 6561&lt;/li&gt;&lt;li&gt;Deaths:   0&lt;/li&gt;&lt;li&gt;Death Rate: 0.0&lt;/li&gt;&lt;/ul&gt;&lt;/div&gt;\n",
       "                 &lt;/div&gt;`,\n",
       "                {&quot;sticky&quot;: true}\n",
       "            );\n",
       "        \n",
       "    \n",
       "            var circle_0c1cfb1eb645a2ead84834ca84fded2d = L.circle(\n",
       "                [55.3781, -3.436],\n",
       "                {&quot;bubblingMouseEvents&quot;: true, &quot;color&quot;: &quot;red&quot;, &quot;dashArray&quot;: null, &quot;dashOffset&quot;: null, &quot;fill&quot;: true, &quot;fillColor&quot;: &quot;indigo&quot;, &quot;fillOpacity&quot;: 0.2, &quot;fillRule&quot;: &quot;evenodd&quot;, &quot;lineCap&quot;: &quot;round&quot;, &quot;lineJoin&quot;: &quot;round&quot;, &quot;opacity&quot;: 1.0, &quot;radius&quot;: 860000.0, &quot;stroke&quot;: true, &quot;weight&quot;: 3}\n",
       "            ).addTo(map_6d1e22dda92088ca39d2cd125c89418f);\n",
       "        \n",
       "    \n",
       "            circle_0c1cfb1eb645a2ead84834ca84fded2d.bindTooltip(\n",
       "                `&lt;div&gt;\n",
       "                     &lt;div style=&#x27;margin: 0; background-color: black; color: white;&#x27;&gt;&lt;h4 style=&#x27;text-align:center;font-weight: bold&#x27;&gt;United Kingdom&lt;/h4&gt;&lt;hr style=&#x27;margin:10px;color: white;&#x27;&gt;&lt;ul style=&#x27;color: white;;list-style-type:circle;align-item:left;padding-left:20px;padding-right:20px&#x27;&gt;&lt;li&gt;Confirmed: 24425309&lt;/li&gt;&lt;li&gt;Deaths:   0&lt;/li&gt;&lt;li&gt;Death Rate: 0.0&lt;/li&gt;&lt;/ul&gt;&lt;/div&gt;\n",
       "                 &lt;/div&gt;`,\n",
       "                {&quot;sticky&quot;: true}\n",
       "            );\n",
       "        \n",
       "    \n",
       "            var circle_593dce5a5e65095f0837779467c22a6b = L.circle(\n",
       "                [-32.5228, -55.7658],\n",
       "                {&quot;bubblingMouseEvents&quot;: true, &quot;color&quot;: &quot;red&quot;, &quot;dashArray&quot;: null, &quot;dashOffset&quot;: null, &quot;fill&quot;: true, &quot;fillColor&quot;: &quot;indigo&quot;, &quot;fillOpacity&quot;: 0.2, &quot;fillRule&quot;: &quot;evenodd&quot;, &quot;lineCap&quot;: &quot;round&quot;, &quot;lineJoin&quot;: &quot;round&quot;, &quot;opacity&quot;: 1.0, &quot;radius&quot;: 660000.0, &quot;stroke&quot;: true, &quot;weight&quot;: 3}\n",
       "            ).addTo(map_6d1e22dda92088ca39d2cd125c89418f);\n",
       "        \n",
       "    \n",
       "            circle_593dce5a5e65095f0837779467c22a6b.bindTooltip(\n",
       "                `&lt;div&gt;\n",
       "                     &lt;div style=&#x27;margin: 0; background-color: black; color: white;&#x27;&gt;&lt;h4 style=&#x27;text-align:center;font-weight: bold&#x27;&gt;Uruguay&lt;/h4&gt;&lt;hr style=&#x27;margin:10px;color: white;&#x27;&gt;&lt;ul style=&#x27;color: white;;list-style-type:circle;align-item:left;padding-left:20px;padding-right:20px&#x27;&gt;&lt;li&gt;Confirmed: 1034303&lt;/li&gt;&lt;li&gt;Deaths:   38&lt;/li&gt;&lt;li&gt;Death Rate: 0.0&lt;/li&gt;&lt;/ul&gt;&lt;/div&gt;\n",
       "                 &lt;/div&gt;`,\n",
       "                {&quot;sticky&quot;: true}\n",
       "            );\n",
       "        \n",
       "    \n",
       "            var circle_e1974b5ce4eed11fdd1312c940b6208e = L.circle(\n",
       "                [41.377491, 64.585262],\n",
       "                {&quot;bubblingMouseEvents&quot;: true, &quot;color&quot;: &quot;red&quot;, &quot;dashArray&quot;: null, &quot;dashOffset&quot;: null, &quot;fill&quot;: true, &quot;fillColor&quot;: &quot;indigo&quot;, &quot;fillOpacity&quot;: 0.2, &quot;fillRule&quot;: &quot;evenodd&quot;, &quot;lineCap&quot;: &quot;round&quot;, &quot;lineJoin&quot;: &quot;round&quot;, &quot;opacity&quot;: 1.0, &quot;radius&quot;: 610000.0, &quot;stroke&quot;: true, &quot;weight&quot;: 3}\n",
       "            ).addTo(map_6d1e22dda92088ca39d2cd125c89418f);\n",
       "        \n",
       "    \n",
       "            circle_e1974b5ce4eed11fdd1312c940b6208e.bindTooltip(\n",
       "                `&lt;div&gt;\n",
       "                     &lt;div style=&#x27;margin: 0; background-color: black; color: white;&#x27;&gt;&lt;h4 style=&#x27;text-align:center;font-weight: bold&#x27;&gt;Uzbekistan&lt;/h4&gt;&lt;hr style=&#x27;margin:10px;color: white;&#x27;&gt;&lt;ul style=&#x27;color: white;;list-style-type:circle;align-item:left;padding-left:20px;padding-right:20px&#x27;&gt;&lt;li&gt;Confirmed: 251247&lt;/li&gt;&lt;li&gt;Deaths:   219948&lt;/li&gt;&lt;li&gt;Death Rate: 87.54&lt;/li&gt;&lt;/ul&gt;&lt;/div&gt;\n",
       "                 &lt;/div&gt;`,\n",
       "                {&quot;sticky&quot;: true}\n",
       "            );\n",
       "        \n",
       "    \n",
       "            var circle_b0ddb0acdb2951a9a6b30e8db1ccf848 = L.circle(\n",
       "                [-15.3767, 166.9592],\n",
       "                {&quot;bubblingMouseEvents&quot;: true, &quot;color&quot;: &quot;red&quot;, &quot;dashArray&quot;: null, &quot;dashOffset&quot;: null, &quot;fill&quot;: true, &quot;fillColor&quot;: &quot;indigo&quot;, &quot;fillOpacity&quot;: 0.2, &quot;fillRule&quot;: &quot;evenodd&quot;, &quot;lineCap&quot;: &quot;round&quot;, &quot;lineJoin&quot;: &quot;round&quot;, &quot;opacity&quot;: 1.0, &quot;radius&quot;: 459999.99999999994, &quot;stroke&quot;: true, &quot;weight&quot;: 3}\n",
       "            ).addTo(map_6d1e22dda92088ca39d2cd125c89418f);\n",
       "        \n",
       "    \n",
       "            circle_b0ddb0acdb2951a9a6b30e8db1ccf848.bindTooltip(\n",
       "                `&lt;div&gt;\n",
       "                     &lt;div style=&#x27;margin: 0; background-color: black; color: white;&#x27;&gt;&lt;h4 style=&#x27;text-align:center;font-weight: bold&#x27;&gt;Vanuatu&lt;/h4&gt;&lt;hr style=&#x27;margin:10px;color: white;&#x27;&gt;&lt;ul style=&#x27;color: white;;list-style-type:circle;align-item:left;padding-left:20px;padding-right:20px&#x27;&gt;&lt;li&gt;Confirmed: 12014&lt;/li&gt;&lt;li&gt;Deaths:   7617&lt;/li&gt;&lt;li&gt;Death Rate: 63.4&lt;/li&gt;&lt;/ul&gt;&lt;/div&gt;\n",
       "                 &lt;/div&gt;`,\n",
       "                {&quot;sticky&quot;: true}\n",
       "            );\n",
       "        \n",
       "    \n",
       "            var circle_c9ba7598e2fadeb1385ba631db553214 = L.circle(\n",
       "                [6.4238, -66.5897],\n",
       "                {&quot;bubblingMouseEvents&quot;: true, &quot;color&quot;: &quot;red&quot;, &quot;dashArray&quot;: null, &quot;dashOffset&quot;: null, &quot;fill&quot;: true, &quot;fillColor&quot;: &quot;indigo&quot;, &quot;fillOpacity&quot;: 0.2, &quot;fillRule&quot;: &quot;evenodd&quot;, &quot;lineCap&quot;: &quot;round&quot;, &quot;lineJoin&quot;: &quot;round&quot;, &quot;opacity&quot;: 1.0, &quot;radius&quot;: 660000.0, &quot;stroke&quot;: true, &quot;weight&quot;: 3}\n",
       "            ).addTo(map_6d1e22dda92088ca39d2cd125c89418f);\n",
       "        \n",
       "    \n",
       "            circle_c9ba7598e2fadeb1385ba631db553214.bindTooltip(\n",
       "                `&lt;div&gt;\n",
       "                     &lt;div style=&#x27;margin: 0; background-color: black; color: white;&#x27;&gt;&lt;h4 style=&#x27;text-align:center;font-weight: bold&#x27;&gt;Venezuela&lt;/h4&gt;&lt;hr style=&#x27;margin:10px;color: white;&#x27;&gt;&lt;ul style=&#x27;color: white;;list-style-type:circle;align-item:left;padding-left:20px;padding-right:20px&#x27;&gt;&lt;li&gt;Confirmed: 552162&lt;/li&gt;&lt;li&gt;Deaths:   1637&lt;/li&gt;&lt;li&gt;Death Rate: 0.3&lt;/li&gt;&lt;/ul&gt;&lt;/div&gt;\n",
       "                 &lt;/div&gt;`,\n",
       "                {&quot;sticky&quot;: true}\n",
       "            );\n",
       "        \n",
       "    \n",
       "            var circle_c99131726b3e2cfaf191c0c7473a9589 = L.circle(\n",
       "                [14.058324, 108.277199],\n",
       "                {&quot;bubblingMouseEvents&quot;: true, &quot;color&quot;: &quot;red&quot;, &quot;dashArray&quot;: null, &quot;dashOffset&quot;: null, &quot;fill&quot;: true, &quot;fillColor&quot;: &quot;indigo&quot;, &quot;fillOpacity&quot;: 0.2, &quot;fillRule&quot;: &quot;evenodd&quot;, &quot;lineCap&quot;: &quot;round&quot;, &quot;lineJoin&quot;: &quot;round&quot;, &quot;opacity&quot;: 1.0, &quot;radius&quot;: 810000.0, &quot;stroke&quot;: true, &quot;weight&quot;: 3}\n",
       "            ).addTo(map_6d1e22dda92088ca39d2cd125c89418f);\n",
       "        \n",
       "    \n",
       "            circle_c99131726b3e2cfaf191c0c7473a9589.bindTooltip(\n",
       "                `&lt;div&gt;\n",
       "                     &lt;div style=&#x27;margin: 0; background-color: black; color: white;&#x27;&gt;&lt;h4 style=&#x27;text-align:center;font-weight: bold&#x27;&gt;Vietnam&lt;/h4&gt;&lt;hr style=&#x27;margin:10px;color: white;&#x27;&gt;&lt;ul style=&#x27;color: white;;list-style-type:circle;align-item:left;padding-left:20px;padding-right:20px&#x27;&gt;&lt;li&gt;Confirmed: 11526994&lt;/li&gt;&lt;li&gt;Deaths:   14&lt;/li&gt;&lt;li&gt;Death Rate: 0.0&lt;/li&gt;&lt;/ul&gt;&lt;/div&gt;\n",
       "                 &lt;/div&gt;`,\n",
       "                {&quot;sticky&quot;: true}\n",
       "            );\n",
       "        \n",
       "    \n",
       "            var circle_49cfd9b185b0c0c322c3ebe3db7d18aa = L.circle(\n",
       "                [31.9522, 35.2332],\n",
       "                {&quot;bubblingMouseEvents&quot;: true, &quot;color&quot;: &quot;red&quot;, &quot;dashArray&quot;: null, &quot;dashOffset&quot;: null, &quot;fill&quot;: true, &quot;fillColor&quot;: &quot;indigo&quot;, &quot;fillOpacity&quot;: 0.2, &quot;fillRule&quot;: &quot;evenodd&quot;, &quot;lineCap&quot;: &quot;round&quot;, &quot;lineJoin&quot;: &quot;round&quot;, &quot;opacity&quot;: 1.0, &quot;radius&quot;: 660000.0, &quot;stroke&quot;: true, &quot;weight&quot;: 3}\n",
       "            ).addTo(map_6d1e22dda92088ca39d2cd125c89418f);\n",
       "        \n",
       "    \n",
       "            circle_49cfd9b185b0c0c322c3ebe3db7d18aa.bindTooltip(\n",
       "                `&lt;div&gt;\n",
       "                     &lt;div style=&#x27;margin: 0; background-color: black; color: white;&#x27;&gt;&lt;h4 style=&#x27;text-align:center;font-weight: bold&#x27;&gt;West Bank and Gaza&lt;/h4&gt;&lt;hr style=&#x27;margin:10px;color: white;&#x27;&gt;&lt;ul style=&#x27;color: white;;list-style-type:circle;align-item:left;padding-left:20px;padding-right:20px&#x27;&gt;&lt;li&gt;Confirmed: 703228&lt;/li&gt;&lt;li&gt;Deaths:   5854&lt;/li&gt;&lt;li&gt;Death Rate: 0.83&lt;/li&gt;&lt;/ul&gt;&lt;/div&gt;\n",
       "                 &lt;/div&gt;`,\n",
       "                {&quot;sticky&quot;: true}\n",
       "            );\n",
       "        \n",
       "    \n",
       "            var circle_2be8bd4d0250196bd20495cd86594638 = L.circle(\n",
       "                [39.9042, 116.4074],\n",
       "                {&quot;bubblingMouseEvents&quot;: true, &quot;color&quot;: &quot;red&quot;, &quot;dashArray&quot;: null, &quot;dashOffset&quot;: null, &quot;fill&quot;: true, &quot;fillColor&quot;: &quot;indigo&quot;, &quot;fillOpacity&quot;: 0.2, &quot;fillRule&quot;: &quot;evenodd&quot;, &quot;lineCap&quot;: &quot;round&quot;, &quot;lineJoin&quot;: &quot;round&quot;, &quot;opacity&quot;: 1.0, &quot;radius&quot;: 310000.0, &quot;stroke&quot;: true, &quot;weight&quot;: 3}\n",
       "            ).addTo(map_6d1e22dda92088ca39d2cd125c89418f);\n",
       "        \n",
       "    \n",
       "            circle_2be8bd4d0250196bd20495cd86594638.bindTooltip(\n",
       "                `&lt;div&gt;\n",
       "                     &lt;div style=&#x27;margin: 0; background-color: black; color: white;&#x27;&gt;&lt;h4 style=&#x27;text-align:center;font-weight: bold&#x27;&gt;Winter Olympics 2022&lt;/h4&gt;&lt;hr style=&#x27;margin:10px;color: white;&#x27;&gt;&lt;ul style=&#x27;color: white;;list-style-type:circle;align-item:left;padding-left:20px;padding-right:20px&#x27;&gt;&lt;li&gt;Confirmed: 535&lt;/li&gt;&lt;li&gt;Deaths:   43186&lt;/li&gt;&lt;li&gt;Death Rate: 8057.09&lt;/li&gt;&lt;/ul&gt;&lt;/div&gt;\n",
       "                 &lt;/div&gt;`,\n",
       "                {&quot;sticky&quot;: true}\n",
       "            );\n",
       "        \n",
       "    \n",
       "            var circle_20bd185688ea12abad829f1196781928 = L.circle(\n",
       "                [15.552727, 48.516388],\n",
       "                {&quot;bubblingMouseEvents&quot;: true, &quot;color&quot;: &quot;red&quot;, &quot;dashArray&quot;: null, &quot;dashOffset&quot;: null, &quot;fill&quot;: true, &quot;fillColor&quot;: &quot;indigo&quot;, &quot;fillOpacity&quot;: 0.2, &quot;fillRule&quot;: &quot;evenodd&quot;, &quot;lineCap&quot;: &quot;round&quot;, &quot;lineJoin&quot;: &quot;round&quot;, &quot;opacity&quot;: 1.0, &quot;radius&quot;: 459999.99999999994, &quot;stroke&quot;: true, &quot;weight&quot;: 3}\n",
       "            ).addTo(map_6d1e22dda92088ca39d2cd125c89418f);\n",
       "        \n",
       "    \n",
       "            circle_20bd185688ea12abad829f1196781928.bindTooltip(\n",
       "                `&lt;div&gt;\n",
       "                     &lt;div style=&#x27;margin: 0; background-color: black; color: white;&#x27;&gt;&lt;h4 style=&#x27;text-align:center;font-weight: bold&#x27;&gt;Yemen&lt;/h4&gt;&lt;hr style=&#x27;margin:10px;color: white;&#x27;&gt;&lt;ul style=&#x27;color: white;;list-style-type:circle;align-item:left;padding-left:20px;padding-right:20px&#x27;&gt;&lt;li&gt;Confirmed: 11945&lt;/li&gt;&lt;li&gt;Deaths:   5708&lt;/li&gt;&lt;li&gt;Death Rate: 47.78&lt;/li&gt;&lt;/ul&gt;&lt;/div&gt;\n",
       "                 &lt;/div&gt;`,\n",
       "                {&quot;sticky&quot;: true}\n",
       "            );\n",
       "        \n",
       "    \n",
       "            var circle_5c2a14853bdb775f5d1d05e92ec4cf33 = L.circle(\n",
       "                [-13.133897, 27.849332],\n",
       "                {&quot;bubblingMouseEvents&quot;: true, &quot;color&quot;: &quot;red&quot;, &quot;dashArray&quot;: null, &quot;dashOffset&quot;: null, &quot;fill&quot;: true, &quot;fillColor&quot;: &quot;indigo&quot;, &quot;fillOpacity&quot;: 0.2, &quot;fillRule&quot;: &quot;evenodd&quot;, &quot;lineCap&quot;: &quot;round&quot;, &quot;lineJoin&quot;: &quot;round&quot;, &quot;opacity&quot;: 1.0, &quot;radius&quot;: 610000.0, &quot;stroke&quot;: true, &quot;weight&quot;: 3}\n",
       "            ).addTo(map_6d1e22dda92088ca39d2cd125c89418f);\n",
       "        \n",
       "    \n",
       "            circle_5c2a14853bdb775f5d1d05e92ec4cf33.bindTooltip(\n",
       "                `&lt;div&gt;\n",
       "                     &lt;div style=&#x27;margin: 0; background-color: black; color: white;&#x27;&gt;&lt;h4 style=&#x27;text-align:center;font-weight: bold&#x27;&gt;Zambia&lt;/h4&gt;&lt;hr style=&#x27;margin:10px;color: white;&#x27;&gt;&lt;ul style=&#x27;color: white;;list-style-type:circle;align-item:left;padding-left:20px;padding-right:20px&#x27;&gt;&lt;li&gt;Confirmed: 343135&lt;/li&gt;&lt;li&gt;Deaths:   0&lt;/li&gt;&lt;li&gt;Death Rate: 0.0&lt;/li&gt;&lt;/ul&gt;&lt;/div&gt;\n",
       "                 &lt;/div&gt;`,\n",
       "                {&quot;sticky&quot;: true}\n",
       "            );\n",
       "        \n",
       "    \n",
       "            var circle_23b78dd51bdb04b9c776d16a015eaf13 = L.circle(\n",
       "                [-19.015438, 29.154857],\n",
       "                {&quot;bubblingMouseEvents&quot;: true, &quot;color&quot;: &quot;red&quot;, &quot;dashArray&quot;: null, &quot;dashOffset&quot;: null, &quot;fill&quot;: true, &quot;fillColor&quot;: &quot;indigo&quot;, &quot;fillOpacity&quot;: 0.2, &quot;fillRule&quot;: &quot;evenodd&quot;, &quot;lineCap&quot;: &quot;round&quot;, &quot;lineJoin&quot;: &quot;round&quot;, &quot;opacity&quot;: 1.0, &quot;radius&quot;: 610000.0, &quot;stroke&quot;: true, &quot;weight&quot;: 3}\n",
       "            ).addTo(map_6d1e22dda92088ca39d2cd125c89418f);\n",
       "        \n",
       "    \n",
       "            circle_23b78dd51bdb04b9c776d16a015eaf13.bindTooltip(\n",
       "                `&lt;div&gt;\n",
       "                     &lt;div style=&#x27;margin: 0; background-color: black; color: white;&#x27;&gt;&lt;h4 style=&#x27;text-align:center;font-weight: bold&#x27;&gt;Zimbabwe&lt;/h4&gt;&lt;hr style=&#x27;margin:10px;color: white;&#x27;&gt;&lt;ul style=&#x27;color: white;;list-style-type:circle;align-item:left;padding-left:20px;padding-right:20px&#x27;&gt;&lt;li&gt;Confirmed: 264276&lt;/li&gt;&lt;li&gt;Deaths:   2159&lt;/li&gt;&lt;li&gt;Death Rate: 0.82&lt;/li&gt;&lt;/ul&gt;&lt;/div&gt;\n",
       "                 &lt;/div&gt;`,\n",
       "                {&quot;sticky&quot;: true}\n",
       "            );\n",
       "        \n",
       "&lt;/script&gt;\n",
       "&lt;/html&gt;\" style=\"position:absolute;width:100%;height:100%;left:0;top:0;border:none !important;\" allowfullscreen webkitallowfullscreen mozallowfullscreen></iframe></div></div>"
      ],
      "text/plain": [
       "<folium.folium.Map at 0x1c9da755750>"
      ]
     },
     "execution_count": 22,
     "metadata": {},
     "output_type": "execute_result"
    }
   ],
   "source": [
    "confirmed_df = confirmed_df.dropna(subset=['lat', 'long'])\n",
    "world_map = folium.Map(location=[11,0], tiles=\"cartodbpositron\", zoom_start=2, max_zoom = 6, min_zoom = 2)\n",
    "\n",
    "\n",
    "for i in range(0,len(confirmed_df)):\n",
    "    folium.Circle(\n",
    "        location=[confirmed_df.iloc[i]['lat'], confirmed_df.iloc[i]['long']],\n",
    "        fill=True,\n",
    "        radius=(int((np.log(confirmed_df.iloc[i,-1]+1.00001)))+0.2)*50000,\n",
    "        color='red',\n",
    "        fill_color='indigo',\n",
    "        tooltip = \"<div style='margin: 0; background-color: black; color: white;'>\"+\n",
    "                    \"<h4 style='text-align:center;font-weight: bold'>\"+confirmed_df.iloc[i]['country'] + \"</h4>\"\n",
    "                    \"<hr style='margin:10px;color: white;'>\"+\n",
    "                    \"<ul style='color: white;;list-style-type:circle;align-item:left;padding-left:20px;padding-right:20px'>\"+\n",
    "                        \"<li>Confirmed: \"+str(confirmed_df.iloc[i,-1])+\"</li>\"+\n",
    "                        \"<li>Deaths:   \"+str(death_df.iloc[i,-1])+\"</li>\"+\n",
    "                        \"<li>Death Rate: \"+ str(np.round(death_df.iloc[i,-1]/(confirmed_df.iloc[i,-1]+1.00001)*100,2))+ \"</li>\"+\n",
    "                    \"</ul></div>\",\n",
    "        ).add_to(world_map)\n",
    "\n",
    "world_map"
   ]
  },
  {
   "cell_type": "code",
   "execution_count": null,
   "id": "3f38fb3a-26f8-4e2a-a89f-e6c7eed3c415",
   "metadata": {},
   "outputs": [],
   "source": []
  },
  {
   "cell_type": "code",
   "execution_count": null,
   "id": "45e86659-483a-417d-9b63-fbcd9c05d429",
   "metadata": {},
   "outputs": [],
   "source": []
  },
  {
   "cell_type": "code",
   "execution_count": null,
   "id": "cb767a4c-5234-4ec8-984c-540ba580d1f5",
   "metadata": {},
   "outputs": [],
   "source": []
  }
 ],
 "metadata": {
  "kernelspec": {
   "display_name": "Python 3 (ipykernel)",
   "language": "python",
   "name": "python3"
  },
  "language_info": {
   "codemirror_mode": {
    "name": "ipython",
    "version": 3
   },
   "file_extension": ".py",
   "mimetype": "text/x-python",
   "name": "python",
   "nbconvert_exporter": "python",
   "pygments_lexer": "ipython3",
   "version": "3.10.11"
  }
 },
 "nbformat": 4,
 "nbformat_minor": 5
}
